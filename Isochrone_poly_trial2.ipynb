{
 "cells": [
  {
   "cell_type": "markdown",
   "id": "ee6fe95b",
   "metadata": {},
   "source": [
    "### Import Modules, Assign Data Path & Read into GDF"
   ]
  },
  {
   "cell_type": "code",
   "execution_count": 7,
   "id": "6d583d47",
   "metadata": {},
   "outputs": [
    {
     "name": "stdout",
     "output_type": "stream",
     "text": [
      "2022-02-23 15:07:29 Configured OSMnx 1.1.2\n",
      "2022-02-23 15:07:29 HTTP response caching is on\n"
     ]
    },
    {
     "name": "stderr",
     "output_type": "stream",
     "text": [
      "/var/folders/8v/6dq3dnld7rx4qv5wr7vx0w5m0000gn/T/ipykernel_58175/4099419668.py:16: DtypeWarning: Columns (41) have mixed types. Specify dtype option on import or set low_memory=False.\n",
      "  vax_df = pd.read_csv('/Users/zachary/Desktop/WINTER22/Geog490/COVID_VaccineClinics/Covid-19_Vaccination_Provider_Locations_in_the_United_States.csv')\n"
     ]
    }
   ],
   "source": [
    "#Modules\n",
    "import osmnx as ox \n",
    "import numpy as np\n",
    "import geopandas as gpd\n",
    "import pandas as pd\n",
    "from shapely.geometry.polygon import Polygon\n",
    "from shapely.geometry.multipolygon import MultiPolygon\n",
    "from shapely.geometry import LineString, MultiLineString\n",
    "from shapely.geometry import Point, LineString, Polygon\n",
    "import networkx as nx\n",
    "import matplotlib.pyplot as plt\n",
    "from descartes import PolygonPatch\n",
    "ox.config(log_console=True, use_cache=True)\n",
    "ox.__version__\n",
    "#Read Data into DataFrame\n",
    "vax_df = pd.read_csv('/Users/zachary/Desktop/WINTER22/Geog490/COVID_VaccineClinics/Covid-19_Vaccination_Provider_Locations_in_the_United_States.csv')\n",
    "# Convert DataFrame to GeoDataFrame\n",
    "vax_gdf = gpd.GeoDataFrame(vax_df, geometry=gpd.points_from_xy(vax_df['X'], vax_df['Y']))\n",
    "#Reproject to UTM 17\n",
    "vax_gdf.crs = 'EPSG:32617'"
   ]
  },
  {
   "cell_type": "markdown",
   "id": "a34ff563",
   "metadata": {},
   "source": [
    "### Limit to Detroit Metro Area (Which we are defining as Wayne, Oakland, and Macomb County)"
   ]
  },
  {
   "cell_type": "code",
   "execution_count": 8,
   "id": "231f5506",
   "metadata": {},
   "outputs": [
    {
     "name": "stderr",
     "output_type": "stream",
     "text": [
      "/var/folders/8v/6dq3dnld7rx4qv5wr7vx0w5m0000gn/T/ipykernel_58175/2395504573.py:9: FutureWarning: The frame.append method is deprecated and will be removed from pandas in a future version. Use pandas.concat instead.\n",
      "  vax_detr_metro = vax_detr_metro.append(vax_oakland)\n",
      "/var/folders/8v/6dq3dnld7rx4qv5wr7vx0w5m0000gn/T/ipykernel_58175/2395504573.py:10: FutureWarning: The frame.append method is deprecated and will be removed from pandas in a future version. Use pandas.concat instead.\n",
      "  vax_detr_metro = vax_detr_metro.append(vax_macomb)\n"
     ]
    }
   ],
   "source": [
    "#limit by state to Michigan\n",
    "vax_MI = vax_gdf[vax_gdf['State']== 'MI'] \n",
    "#Limit By County to Wayne, Oakland, and Macomb\n",
    "vax_wayne = vax_MI[vax_MI['county']== 'Wayne']\n",
    "vax_oakland = vax_MI[vax_MI['county']== 'Oakland'] \n",
    "vax_macomb = vax_MI[vax_MI['county']== 'Macomb']\n",
    "#Agglomerate to one GDF of Detroit Metro\n",
    "vax_detr_metro = vax_wayne \n",
    "vax_detr_metro = vax_detr_metro.append(vax_oakland)\n",
    "vax_detr_metro = vax_detr_metro.append(vax_macomb)"
   ]
  },
  {
   "cell_type": "code",
   "execution_count": 21,
   "id": "a5de47e0",
   "metadata": {},
   "outputs": [],
   "source": [
    "def make_iso_polys(G, center_node, edge_buff=25, node_buff=50, infill=False):\n",
    "    isochrone_polys = []\n",
    "    \n",
    "    subgraph = nx.ego_graph(G, center_node, radius=trip_time, distance='time')\n",
    "\n",
    "    node_points = [Point((data['x'], data['y'])) for node, data in subgraph.nodes(data=True)]\n",
    "    nodes_gdf = gpd.GeoDataFrame({'id': subgraph.nodes()}, geometry=node_points)\n",
    "    nodes_gdf = nodes_gdf.set_index('id')\n",
    "\n",
    "    edge_lines = []\n",
    "    for n_fr, n_to in subgraph.edges():\n",
    "        f = nodes_gdf.loc[n_fr].geometry\n",
    "        t = nodes_gdf.loc[n_to].geometry\n",
    "        edge_lookup = G.get_edge_data(n_fr, n_to)[0].get('geometry',  LineString([f,t]))\n",
    "        edge_lines.append(edge_lookup)\n",
    "\n",
    "    n = nodes_gdf.buffer(node_buff).geometry\n",
    "    e = gpd.GeoSeries(edge_lines).buffer(edge_buff).geometry\n",
    "    all_gs = list(n) + list(e)\n",
    "    new_iso = gpd.GeoSeries(all_gs).unary_union\n",
    "        \n",
    "    # try to fill in surrounded areas so shapes will appear solid and blocks without white space inside them\n",
    "    if infill:\n",
    "        new_iso = Polygon(new_iso.exterior)\n",
    "    isochrone_polys.append(new_iso)\n",
    "    return isochrone_polys"
   ]
  },
  {
   "cell_type": "code",
   "execution_count": 22,
   "id": "061dcbb0",
   "metadata": {},
   "outputs": [],
   "source": [
    "def isochrone_shape_generator(place, network_type, trip_time, travel_speed, meters_per_minute):\n",
    "    network_type = network_type\n",
    "    trip_time = trip_time\n",
    "    travel_speed = travel_speed\n",
    "    meters_per_minute = meters_per_minute\n",
    "    # download the street network\n",
    "    G = ox.graph_from_point(place, network_type=network_type)\n",
    "    # find the centermost node and then project the graph to UTM\n",
    "    gdf_nodes = ox.graph_to_gdfs(G, edges=False)\n",
    "    x, y = gdf_nodes['geometry'].unary_union.centroid.xy\n",
    "    center_node = ox.get_nearest_node(G, (y[0], x[0]))\n",
    "    G = ox.project_graph(G)\n",
    "    for u, v, k, data in G.edges(data=True, keys=True):\n",
    "        data['time'] = data['length'] / meters_per_minute\n",
    "    isochrone_polys = []\n",
    "    subgraph = nx.ego_graph(G, center_node, radius=trip_time, distance='time')\n",
    "    node_points = [Point((data['x'], data['y'])) for node, data in subgraph.nodes(data=True)]\n",
    "    bounding_poly = gpd.GeoSeries(node_points).unary_union.convex_hull\n",
    "    isochrone_polys.append(bounding_poly)\n",
    "    isochrone_polys = make_iso_polys(G, center_node, edge_buff=25, node_buff=0, infill=True)\n",
    "    gdf_iso_poly = gpd.GeoDataFrame(isochrone_polys)\n",
    "    return gdf_iso_poly"
   ]
  },
  {
   "cell_type": "code",
   "execution_count": 23,
   "id": "6f559e7c",
   "metadata": {},
   "outputs": [],
   "source": [
    "#Set Variables\n",
    "network_type = 'walk'\n",
    "trip_time = 20 #in minutes\n",
    "travel_speed = 4.5 #walking speed in km/hour\n",
    "meters_per_minute = travel_speed * 1000 / 60 #km per hour to m per minute\n",
    "detroit_polygons = gpd.GeoDataFrame() "
   ]
  },
  {
   "cell_type": "code",
   "execution_count": 25,
   "id": "372b702f",
   "metadata": {},
   "outputs": [
    {
     "name": "stdout",
     "output_type": "stream",
     "text": [
      "2022-02-23 15:15:19 Created bbox 1000 m from (42.3963769002206, -83.4806078996323): 42.40537010357553,42.387383696865676,-83.46843020434454,-83.49278559492006\n",
      "2022-02-23 15:15:19 Projected GeoDataFrame to +proj=utm +zone=17 +ellps=WGS84 +datum=WGS84 +units=m +no_defs +type=crs\n",
      "2022-02-23 15:15:19 Projected GeoDataFrame to epsg:4326\n",
      "2022-02-23 15:15:19 Projected GeoDataFrame to +proj=utm +zone=17 +ellps=WGS84 +datum=WGS84 +units=m +no_defs +type=crs\n",
      "2022-02-23 15:15:19 Projected GeoDataFrame to epsg:4326\n",
      "2022-02-23 15:15:19 Requesting data within polygon from API in 1 request(s)\n",
      "2022-02-23 15:15:20 Retrieved response from cache file \"cache/57002b79dcee13f1efd36a0e9f1512a90a7b4c00.json\"\n",
      "2022-02-23 15:15:20 Got all network data within polygon from API in 1 request(s)\n",
      "2022-02-23 15:15:20 Creating graph from downloaded OSM data...\n",
      "2022-02-23 15:15:20 Created graph with 4232 nodes and 9136 edges\n",
      "2022-02-23 15:15:20 Added length attributes to graph edges\n",
      "2022-02-23 15:15:20 Identifying all nodes that lie outside the polygon...\n",
      "2022-02-23 15:15:21 Created nodes GeoDataFrame from graph\n",
      "2022-02-23 15:15:22 Created r-tree spatial index for 4232 geometries\n",
      "2022-02-23 15:15:22 Identified 3756 geometries inside polygon\n",
      "2022-02-23 15:15:22 Removed 476 nodes outside polygon\n",
      "2022-02-23 15:15:22 Truncated graph by polygon\n",
      "2022-02-23 15:15:22 Begin topologically simplifying the graph...\n",
      "2022-02-23 15:15:23 Identified 1068 edge endpoints\n",
      "2022-02-23 15:15:25 Simplified graph: 3756 to 1068 nodes, 8124 to 2748 edges\n",
      "2022-02-23 15:15:25 Identifying all nodes that lie outside the polygon...\n",
      "2022-02-23 15:15:25 Created nodes GeoDataFrame from graph\n",
      "2022-02-23 15:15:25 Created r-tree spatial index for 1068 geometries\n",
      "2022-02-23 15:15:26 Identified 513 geometries inside polygon\n",
      "2022-02-23 15:15:26 Removed 555 nodes outside polygon\n",
      "2022-02-23 15:15:26 Removed 6 isolated nodes\n",
      "2022-02-23 15:15:26 Got largest weakly connected component (469 of 507 total nodes)\n",
      "2022-02-23 15:15:26 Truncated graph by polygon\n",
      "2022-02-23 15:15:26 Counted undirected street segments incident on each node\n",
      "2022-02-23 15:15:26 graph_from_polygon returned graph with 469 nodes and 1300 edges\n",
      "2022-02-23 15:15:26 graph_from_bbox returned graph with 469 nodes and 1300 edges\n",
      "2022-02-23 15:15:26 graph_from_point returned graph with 469 nodes and 1300 edges\n",
      "2022-02-23 15:15:26 Created nodes GeoDataFrame from graph\n",
      "2022-02-23 15:15:26 Created nodes GeoDataFrame from graph\n",
      "2022-02-23 15:15:26 Created nodes GeoDataFrame from graph\n"
     ]
    },
    {
     "name": "stderr",
     "output_type": "stream",
     "text": [
      "/Users/zachary/opt/anaconda3/envs/final_ML_LR/lib/python3.8/site-packages/osmnx/distance.py:356: UserWarning: The `get_nearest_node` function has been deprecated and will be removed in a future release. Use the more efficient `distance.nearest_nodes` instead.\n",
      "  warnings.warn(msg)\n"
     ]
    },
    {
     "name": "stdout",
     "output_type": "stream",
     "text": [
      "2022-02-23 15:15:27 Projected GeoDataFrame to +proj=utm +zone=17 +ellps=WGS84 +datum=WGS84 +units=m +no_defs +type=crs\n",
      "2022-02-23 15:15:27 Created edges GeoDataFrame from graph\n",
      "2022-02-23 15:15:28 Projected GeoDataFrame to +proj=utm +zone=17 +ellps=WGS84 +datum=WGS84 +units=m +no_defs +type=crs\n",
      "2022-02-23 15:15:28 Created graph from node/edge GeoDataFrames\n",
      "2022-02-23 15:15:28 Projected graph with 469 nodes and 1300 edges\n"
     ]
    },
    {
     "name": "stderr",
     "output_type": "stream",
     "text": [
      "/var/folders/8v/6dq3dnld7rx4qv5wr7vx0w5m0000gn/T/ipykernel_58175/3459140347.py:4: FutureWarning: The frame.append method is deprecated and will be removed from pandas in a future version. Use pandas.concat instead.\n",
      "  detroit_polygons = detroit_polygons.append(gdf_iso_poly)\n"
     ]
    },
    {
     "name": "stdout",
     "output_type": "stream",
     "text": [
      "2022-02-23 15:15:34 Created bbox 1000 m from (42.3903256997602, -82.9147948003165): 42.39931890311512,42.38133249640527,-82.90261827909424,-82.92697132153876\n",
      "2022-02-23 15:15:34 Projected GeoDataFrame to +proj=utm +zone=17 +ellps=WGS84 +datum=WGS84 +units=m +no_defs +type=crs\n",
      "2022-02-23 15:15:34 Projected GeoDataFrame to epsg:4326\n",
      "2022-02-23 15:15:34 Projected GeoDataFrame to +proj=utm +zone=17 +ellps=WGS84 +datum=WGS84 +units=m +no_defs +type=crs\n",
      "2022-02-23 15:15:34 Projected GeoDataFrame to epsg:4326\n",
      "2022-02-23 15:15:34 Requesting data within polygon from API in 1 request(s)\n",
      "2022-02-23 15:15:34 Retrieved response from cache file \"cache/76c1edeab297279db46d8b790aa123a27fd7a24b.json\"\n",
      "2022-02-23 15:15:34 Got all network data within polygon from API in 1 request(s)\n",
      "2022-02-23 15:15:34 Creating graph from downloaded OSM data...\n",
      "2022-02-23 15:15:34 Created graph with 2833 nodes and 6666 edges\n",
      "2022-02-23 15:15:34 Added length attributes to graph edges\n",
      "2022-02-23 15:15:35 Identifying all nodes that lie outside the polygon...\n",
      "2022-02-23 15:15:35 Created nodes GeoDataFrame from graph\n",
      "2022-02-23 15:15:35 Created r-tree spatial index for 2833 geometries\n",
      "2022-02-23 15:15:36 Identified 2261 geometries inside polygon\n",
      "2022-02-23 15:15:36 Removed 572 nodes outside polygon\n",
      "2022-02-23 15:15:36 Truncated graph by polygon\n",
      "2022-02-23 15:15:36 Begin topologically simplifying the graph...\n",
      "2022-02-23 15:15:36 Identified 891 edge endpoints\n",
      "2022-02-23 15:15:38 Simplified graph: 2261 to 891 nodes, 5418 to 2678 edges\n",
      "2022-02-23 15:15:38 Identifying all nodes that lie outside the polygon...\n",
      "2022-02-23 15:15:38 Created nodes GeoDataFrame from graph\n",
      "2022-02-23 15:15:38 Created r-tree spatial index for 891 geometries\n",
      "2022-02-23 15:15:38 Identified 525 geometries inside polygon\n",
      "2022-02-23 15:15:38 Removed 366 nodes outside polygon\n",
      "2022-02-23 15:15:38 Removed 1 isolated nodes\n",
      "2022-02-23 15:15:38 Got largest weakly connected component (522 of 524 total nodes)\n",
      "2022-02-23 15:15:38 Truncated graph by polygon\n",
      "2022-02-23 15:15:38 Counted undirected street segments incident on each node\n",
      "2022-02-23 15:15:38 graph_from_polygon returned graph with 522 nodes and 1588 edges\n",
      "2022-02-23 15:15:38 graph_from_bbox returned graph with 522 nodes and 1588 edges\n",
      "2022-02-23 15:15:38 graph_from_point returned graph with 522 nodes and 1588 edges\n",
      "2022-02-23 15:15:39 Created nodes GeoDataFrame from graph\n",
      "2022-02-23 15:15:39 Created nodes GeoDataFrame from graph\n",
      "2022-02-23 15:15:39 Created nodes GeoDataFrame from graph\n"
     ]
    },
    {
     "name": "stderr",
     "output_type": "stream",
     "text": [
      "/Users/zachary/opt/anaconda3/envs/final_ML_LR/lib/python3.8/site-packages/osmnx/distance.py:356: UserWarning: The `get_nearest_node` function has been deprecated and will be removed in a future release. Use the more efficient `distance.nearest_nodes` instead.\n",
      "  warnings.warn(msg)\n"
     ]
    },
    {
     "name": "stdout",
     "output_type": "stream",
     "text": [
      "2022-02-23 15:15:39 Projected GeoDataFrame to +proj=utm +zone=17 +ellps=WGS84 +datum=WGS84 +units=m +no_defs +type=crs\n",
      "2022-02-23 15:15:40 Created edges GeoDataFrame from graph\n",
      "2022-02-23 15:15:41 Projected GeoDataFrame to +proj=utm +zone=17 +ellps=WGS84 +datum=WGS84 +units=m +no_defs +type=crs\n",
      "2022-02-23 15:15:41 Created graph from node/edge GeoDataFrames\n",
      "2022-02-23 15:15:41 Projected graph with 522 nodes and 1588 edges\n"
     ]
    },
    {
     "name": "stderr",
     "output_type": "stream",
     "text": [
      "/var/folders/8v/6dq3dnld7rx4qv5wr7vx0w5m0000gn/T/ipykernel_58175/3459140347.py:4: FutureWarning: The frame.append method is deprecated and will be removed from pandas in a future version. Use pandas.concat instead.\n",
      "  detroit_polygons = detroit_polygons.append(gdf_iso_poly)\n"
     ]
    },
    {
     "name": "stdout",
     "output_type": "stream",
     "text": [
      "2022-02-23 15:15:50 Created bbox 1000 m from (42.4301069997635, -83.2004829001575): 42.43910020311843,42.42111379640858,-83.18829865384956,-83.21266714646544\n",
      "2022-02-23 15:15:50 Projected GeoDataFrame to +proj=utm +zone=17 +ellps=WGS84 +datum=WGS84 +units=m +no_defs +type=crs\n",
      "2022-02-23 15:15:50 Projected GeoDataFrame to epsg:4326\n",
      "2022-02-23 15:15:50 Projected GeoDataFrame to +proj=utm +zone=17 +ellps=WGS84 +datum=WGS84 +units=m +no_defs +type=crs\n",
      "2022-02-23 15:15:50 Projected GeoDataFrame to epsg:4326\n",
      "2022-02-23 15:15:50 Requesting data within polygon from API in 1 request(s)\n",
      "2022-02-23 15:15:50 Resolved overpass-api.de to 178.63.48.217\n",
      "2022-02-23 15:15:51 Pausing 0 seconds before making HTTP POST request\n",
      "2022-02-23 15:15:51 Post https://overpass-api.de/api/interpreter?data=%5Bout%3Ajson%5D%5Btimeout%3A180%5D%3B%28way%5B%22highway%22%5D%5B%22area%22%21~%22yes%22%5D%5B%22access%22%21~%22private%22%5D%5B%22highway%22%21~%22abandoned%7Cbus_guideway%7Cconstruction%7Ccycleway%7Cmotor%7Cplanned%7Cplatform%7Cproposed%7Craceway%22%5D%5B%22foot%22%21~%22no%22%5D%5B%22service%22%21~%22private%22%5D%28poly%3A%2742.421114+-83.218742+42.439100+-83.218744+42.439541+-83.218715+42.439978+-83.218627+42.440407+-83.218483+42.440822+-83.218282+42.441222+-83.218027+42.441601+-83.217720+42.441955+-83.217365+42.442283+-83.216965+42.442579+-83.216523+42.442842+-83.216044+42.443070+-83.215532+42.443259+-83.214993+42.443407+-83.214432+42.443515+-83.213854+42.443580+-83.213264+42.443601+-83.212668+42.443601+-83.188298+42.443580+-83.187702+42.443515+-83.187112+42.443407+-83.186534+42.443259+-83.185972+42.443070+-83.185433+42.442843+-83.184922+42.442579+-83.184443+42.442283+-83.184001+42.441955+-83.183601+42.441601+-83.183246+42.441222+-83.182939+42.440822+-83.182684+42.440407+-83.182483+42.439978+-83.182338+42.439541+-83.182251+42.439100+-83.182222+42.421114+-83.182223+42.420672+-83.182253+42.420235+-83.182340+42.419807+-83.182485+42.419391+-83.182686+42.418992+-83.182941+42.418613+-83.183248+42.418258+-83.183603+42.417931+-83.184003+42.417634+-83.184445+42.417371+-83.184924+42.417144+-83.185436+42.416955+-83.185975+42.416806+-83.186536+42.416699+-83.187114+42.416634+-83.187704+42.416613+-83.188300+42.416613+-83.212666+42.416634+-83.213262+42.416699+-83.213852+42.416806+-83.214430+42.416955+-83.214991+42.417144+-83.215530+42.417371+-83.216042+42.417634+-83.216521+42.417931+-83.216962+42.418258+-83.217363+42.418613+-83.217718+42.418992+-83.218025+42.419391+-83.218280+42.419807+-83.218481+42.420235+-83.218625+42.420672+-83.218713+42.421114+-83.218742%27%29%3B%3E%3B%29%3Bout%3B with timeout=180\n",
      "2022-02-23 15:15:51 Resolved overpass-api.de to 178.63.48.217\n",
      "2022-02-23 15:15:59 Downloaded 1,583.1kB from overpass-api.de\n",
      "2022-02-23 15:15:59 Saved response to cache file \"cache/c36381f9eb866786abd4af26fd5ee093a9ed6086.json\"\n",
      "2022-02-23 15:15:59 Got all network data within polygon from API in 1 request(s)\n",
      "2022-02-23 15:15:59 Creating graph from downloaded OSM data...\n",
      "2022-02-23 15:16:00 Created graph with 9619 nodes and 25194 edges\n",
      "2022-02-23 15:16:01 Added length attributes to graph edges\n",
      "2022-02-23 15:16:01 Identifying all nodes that lie outside the polygon...\n",
      "2022-02-23 15:16:04 Created nodes GeoDataFrame from graph\n",
      "2022-02-23 15:16:05 Created r-tree spatial index for 9619 geometries\n",
      "2022-02-23 15:16:06 Identified 8389 geometries inside polygon\n",
      "2022-02-23 15:16:07 Removed 1230 nodes outside polygon\n",
      "2022-02-23 15:16:07 Truncated graph by polygon\n",
      "2022-02-23 15:16:07 Begin topologically simplifying the graph...\n",
      "2022-02-23 15:16:09 Identified 3999 edge endpoints\n",
      "2022-02-23 15:16:14 Simplified graph: 8389 to 3999 nodes, 22662 to 13882 edges\n",
      "2022-02-23 15:16:14 Identifying all nodes that lie outside the polygon...\n",
      "2022-02-23 15:16:15 Created nodes GeoDataFrame from graph\n",
      "2022-02-23 15:16:15 Created r-tree spatial index for 3999 geometries\n",
      "2022-02-23 15:16:16 Identified 1862 geometries inside polygon\n",
      "2022-02-23 15:16:16 Removed 2137 nodes outside polygon\n",
      "2022-02-23 15:16:16 Removed 4 isolated nodes\n",
      "2022-02-23 15:16:16 Truncated graph by polygon\n",
      "2022-02-23 15:16:17 Counted undirected street segments incident on each node\n",
      "2022-02-23 15:16:17 graph_from_polygon returned graph with 1858 nodes and 6676 edges\n",
      "2022-02-23 15:16:17 graph_from_bbox returned graph with 1858 nodes and 6676 edges\n",
      "2022-02-23 15:16:17 graph_from_point returned graph with 1858 nodes and 6676 edges\n",
      "2022-02-23 15:16:17 Created nodes GeoDataFrame from graph\n",
      "2022-02-23 15:16:17 Created nodes GeoDataFrame from graph\n"
     ]
    },
    {
     "name": "stderr",
     "output_type": "stream",
     "text": [
      "/Users/zachary/opt/anaconda3/envs/final_ML_LR/lib/python3.8/site-packages/osmnx/distance.py:356: UserWarning: The `get_nearest_node` function has been deprecated and will be removed in a future release. Use the more efficient `distance.nearest_nodes` instead.\n",
      "  warnings.warn(msg)\n"
     ]
    },
    {
     "name": "stdout",
     "output_type": "stream",
     "text": [
      "2022-02-23 15:16:18 Created nodes GeoDataFrame from graph\n",
      "2022-02-23 15:16:19 Projected GeoDataFrame to +proj=utm +zone=17 +ellps=WGS84 +datum=WGS84 +units=m +no_defs +type=crs\n",
      "2022-02-23 15:16:21 Created edges GeoDataFrame from graph\n",
      "2022-02-23 15:16:23 Projected GeoDataFrame to +proj=utm +zone=17 +ellps=WGS84 +datum=WGS84 +units=m +no_defs +type=crs\n",
      "2022-02-23 15:16:24 Created graph from node/edge GeoDataFrames\n",
      "2022-02-23 15:16:24 Projected graph with 1858 nodes and 6676 edges\n"
     ]
    },
    {
     "name": "stderr",
     "output_type": "stream",
     "text": [
      "/var/folders/8v/6dq3dnld7rx4qv5wr7vx0w5m0000gn/T/ipykernel_58175/3459140347.py:4: FutureWarning: The frame.append method is deprecated and will be removed from pandas in a future version. Use pandas.concat instead.\n",
      "  detroit_polygons = detroit_polygons.append(gdf_iso_poly)\n"
     ]
    },
    {
     "name": "stdout",
     "output_type": "stream",
     "text": [
      "2022-02-23 15:16:55 Created bbox 1000 m from (42.3316883003051, -83.128836899595): 42.34068150366003,42.32269509695018,-83.11667173657489,-83.14100206261512\n",
      "2022-02-23 15:16:55 Projected GeoDataFrame to +proj=utm +zone=17 +ellps=WGS84 +datum=WGS84 +units=m +no_defs +type=crs\n",
      "2022-02-23 15:16:55 Projected GeoDataFrame to epsg:4326\n",
      "2022-02-23 15:16:55 Projected GeoDataFrame to +proj=utm +zone=17 +ellps=WGS84 +datum=WGS84 +units=m +no_defs +type=crs\n",
      "2022-02-23 15:16:56 Projected GeoDataFrame to epsg:4326\n",
      "2022-02-23 15:16:56 Requesting data within polygon from API in 1 request(s)\n",
      "2022-02-23 15:16:56 Resolved overpass-api.de to 178.63.48.217\n",
      "2022-02-23 15:16:56 Pausing 0 seconds before making HTTP POST request\n",
      "2022-02-23 15:16:56 Post https://overpass-api.de/api/interpreter?data=%5Bout%3Ajson%5D%5Btimeout%3A180%5D%3B%28way%5B%22highway%22%5D%5B%22area%22%21~%22yes%22%5D%5B%22access%22%21~%22private%22%5D%5B%22highway%22%21~%22abandoned%7Cbus_guideway%7Cconstruction%7Ccycleway%7Cmotor%7Cplanned%7Cplatform%7Cproposed%7Craceway%22%5D%5B%22foot%22%21~%22no%22%5D%5B%22service%22%21~%22private%22%5D%28poly%3A%2742.322695+-83.147068+42.340681+-83.147070+42.341122+-83.147040+42.341559+-83.146953+42.341988+-83.146808+42.342404+-83.146608+42.342803+-83.146353+42.343182+-83.146047+42.343537+-83.145693+42.343864+-83.145293+42.344161+-83.144852+42.344424+-83.144374+42.344651+-83.143863+42.344840+-83.143325+42.344989+-83.142764+42.345096+-83.142187+42.345161+-83.141598+42.345183+-83.141003+42.345183+-83.116671+42.345161+-83.116076+42.345096+-83.115487+42.344989+-83.114910+42.344840+-83.114349+42.344651+-83.113811+42.344424+-83.113300+42.344161+-83.112822+42.343864+-83.112381+42.343537+-83.111981+42.343182+-83.111626+42.342803+-83.111320+42.342404+-83.111066+42.341988+-83.110865+42.341559+-83.110721+42.341123+-83.110633+42.340681+-83.110604+42.322695+-83.110606+42.322254+-83.110635+42.321817+-83.110723+42.321388+-83.110867+42.320972+-83.111068+42.320573+-83.111322+42.320194+-83.111629+42.319839+-83.111983+42.319512+-83.112383+42.319215+-83.112824+42.318952+-83.113302+42.318725+-83.113813+42.318536+-83.114351+42.318387+-83.114912+42.318280+-83.115489+42.318215+-83.116078+42.318194+-83.116673+42.318194+-83.141001+42.318215+-83.141596+42.318280+-83.142185+42.318387+-83.142762+42.318536+-83.143323+42.318725+-83.143861+42.318952+-83.144371+42.319215+-83.144850+42.319512+-83.145291+42.319839+-83.145691+42.320194+-83.146045+42.320573+-83.146351+42.320972+-83.146606+42.321388+-83.146806+42.321817+-83.146951+42.322254+-83.147039+42.322695+-83.147068%27%29%3B%3E%3B%29%3Bout%3B with timeout=180\n",
      "2022-02-23 15:16:56 Resolved overpass-api.de to 178.63.48.217\n",
      "2022-02-23 15:17:03 Downloaded 762.0kB from overpass-api.de\n",
      "2022-02-23 15:17:03 Saved response to cache file \"cache/f9bf0d638619a5ccdd31aa18610dabbdac09d088.json\"\n",
      "2022-02-23 15:17:03 Got all network data within polygon from API in 1 request(s)\n",
      "2022-02-23 15:17:03 Creating graph from downloaded OSM data...\n",
      "2022-02-23 15:17:04 Created graph with 4178 nodes and 10678 edges\n",
      "2022-02-23 15:17:04 Added length attributes to graph edges\n",
      "2022-02-23 15:17:04 Identifying all nodes that lie outside the polygon...\n",
      "2022-02-23 15:17:05 Created nodes GeoDataFrame from graph\n",
      "2022-02-23 15:17:05 Created r-tree spatial index for 4178 geometries\n",
      "2022-02-23 15:17:06 Identified 3516 geometries inside polygon\n",
      "2022-02-23 15:17:07 Removed 662 nodes outside polygon\n",
      "2022-02-23 15:17:07 Truncated graph by polygon\n",
      "2022-02-23 15:17:07 Begin topologically simplifying the graph...\n",
      "2022-02-23 15:17:08 Identified 1740 edge endpoints\n",
      "2022-02-23 15:17:10 Simplified graph: 3516 to 1740 nodes, 9226 to 5674 edges\n",
      "2022-02-23 15:17:10 Identifying all nodes that lie outside the polygon...\n",
      "2022-02-23 15:17:10 Created nodes GeoDataFrame from graph\n",
      "2022-02-23 15:17:10 Created r-tree spatial index for 1740 geometries\n",
      "2022-02-23 15:17:10 Identified 777 geometries inside polygon\n",
      "2022-02-23 15:17:11 Removed 963 nodes outside polygon\n",
      "2022-02-23 15:17:11 Removed 3 isolated nodes\n",
      "2022-02-23 15:17:11 Got largest weakly connected component (767 of 774 total nodes)\n",
      "2022-02-23 15:17:11 Truncated graph by polygon\n",
      "2022-02-23 15:17:11 Counted undirected street segments incident on each node\n",
      "2022-02-23 15:17:11 graph_from_polygon returned graph with 767 nodes and 2474 edges\n",
      "2022-02-23 15:17:11 graph_from_bbox returned graph with 767 nodes and 2474 edges\n",
      "2022-02-23 15:17:11 graph_from_point returned graph with 767 nodes and 2474 edges\n",
      "2022-02-23 15:17:12 Created nodes GeoDataFrame from graph\n",
      "2022-02-23 15:17:12 Created nodes GeoDataFrame from graph\n"
     ]
    },
    {
     "name": "stderr",
     "output_type": "stream",
     "text": [
      "/Users/zachary/opt/anaconda3/envs/final_ML_LR/lib/python3.8/site-packages/osmnx/distance.py:356: UserWarning: The `get_nearest_node` function has been deprecated and will be removed in a future release. Use the more efficient `distance.nearest_nodes` instead.\n",
      "  warnings.warn(msg)\n"
     ]
    },
    {
     "name": "stdout",
     "output_type": "stream",
     "text": [
      "2022-02-23 15:17:12 Created nodes GeoDataFrame from graph\n",
      "2022-02-23 15:17:12 Projected GeoDataFrame to +proj=utm +zone=17 +ellps=WGS84 +datum=WGS84 +units=m +no_defs +type=crs\n",
      "2022-02-23 15:17:14 Created edges GeoDataFrame from graph\n",
      "2022-02-23 15:17:14 Projected GeoDataFrame to +proj=utm +zone=17 +ellps=WGS84 +datum=WGS84 +units=m +no_defs +type=crs\n",
      "2022-02-23 15:17:15 Created graph from node/edge GeoDataFrames\n",
      "2022-02-23 15:17:15 Projected graph with 767 nodes and 2474 edges\n"
     ]
    },
    {
     "name": "stderr",
     "output_type": "stream",
     "text": [
      "/var/folders/8v/6dq3dnld7rx4qv5wr7vx0w5m0000gn/T/ipykernel_58175/3459140347.py:4: FutureWarning: The frame.append method is deprecated and will be removed from pandas in a future version. Use pandas.concat instead.\n",
      "  detroit_polygons = detroit_polygons.append(gdf_iso_poly)\n"
     ]
    },
    {
     "name": "stdout",
     "output_type": "stream",
     "text": [
      "2022-02-23 15:17:27 Created bbox 1000 m from (42.4321669001533, -83.1606288003194): 42.441160103508224,42.42317369679837,-83.14844415357483,-83.17281344706397\n",
      "2022-02-23 15:17:27 Projected GeoDataFrame to +proj=utm +zone=17 +ellps=WGS84 +datum=WGS84 +units=m +no_defs +type=crs\n",
      "2022-02-23 15:17:27 Projected GeoDataFrame to epsg:4326\n",
      "2022-02-23 15:17:27 Projected GeoDataFrame to +proj=utm +zone=17 +ellps=WGS84 +datum=WGS84 +units=m +no_defs +type=crs\n",
      "2022-02-23 15:17:27 Projected GeoDataFrame to epsg:4326\n",
      "2022-02-23 15:17:27 Requesting data within polygon from API in 1 request(s)\n",
      "2022-02-23 15:17:27 Resolved overpass-api.de to 178.63.11.215\n",
      "2022-02-23 15:17:28 Pausing 0 seconds before making HTTP POST request\n",
      "2022-02-23 15:17:28 Post https://overpass-api.de/api/interpreter?data=%5Bout%3Ajson%5D%5Btimeout%3A180%5D%3B%28way%5B%22highway%22%5D%5B%22area%22%21~%22yes%22%5D%5B%22access%22%21~%22private%22%5D%5B%22highway%22%21~%22abandoned%7Cbus_guideway%7Cconstruction%7Ccycleway%7Cmotor%7Cplanned%7Cplatform%7Cproposed%7Craceway%22%5D%5B%22foot%22%21~%22no%22%5D%5B%22service%22%21~%22private%22%5D%28poly%3A%2742.423174+-83.178889+42.441160+-83.178891+42.441601+-83.178861+42.442038+-83.178774+42.442466+-83.178629+42.442882+-83.178428+42.443282+-83.178173+42.443661+-83.177867+42.444015+-83.177512+42.444343+-83.177111+42.444639+-83.176669+42.444902+-83.176190+42.445130+-83.175679+42.445318+-83.175140+42.445467+-83.174578+42.445575+-83.174000+42.445640+-83.173410+42.445661+-83.172814+42.445661+-83.148443+42.445640+-83.147848+42.445575+-83.147258+42.445467+-83.146679+42.445319+-83.146118+42.445130+-83.145579+42.444902+-83.145067+42.444639+-83.144588+42.444343+-83.144146+42.444015+-83.143746+42.443661+-83.143391+42.443282+-83.143084+42.442882+-83.142829+42.442467+-83.142628+42.442038+-83.142484+42.441601+-83.142396+42.441160+-83.142367+42.423174+-83.142369+42.422732+-83.142398+42.422295+-83.142486+42.421867+-83.142630+42.421451+-83.142831+42.421051+-83.143086+42.420673+-83.143393+42.420318+-83.143748+42.419990+-83.144149+42.419694+-83.144591+42.419431+-83.145069+42.419204+-83.145581+42.419015+-83.146120+42.418866+-83.146681+42.418759+-83.147260+42.418694+-83.147850+42.418672+-83.148445+42.418672+-83.172813+42.418694+-83.173408+42.418759+-83.173998+42.418866+-83.174576+42.419015+-83.175138+42.419204+-83.175677+42.419431+-83.176188+42.419694+-83.176667+42.419991+-83.177109+42.420318+-83.177509+42.420673+-83.177865+42.421052+-83.178171+42.421451+-83.178426+42.421867+-83.178627+42.422295+-83.178772+42.422732+-83.178860+42.423174+-83.178889%27%29%3B%3E%3B%29%3Bout%3B with timeout=180\n",
      "2022-02-23 15:17:28 Resolved overpass-api.de to 178.63.11.215\n",
      "2022-02-23 15:17:32 Downloaded 573.1kB from overpass-api.de\n",
      "2022-02-23 15:17:32 Saved response to cache file \"cache/32e7ea91d33a34524efe20eb9c077e27c86d1ed1.json\"\n",
      "2022-02-23 15:17:32 Got all network data within polygon from API in 1 request(s)\n",
      "2022-02-23 15:17:32 Creating graph from downloaded OSM data...\n",
      "2022-02-23 15:17:32 Created graph with 3524 nodes and 9304 edges\n",
      "2022-02-23 15:17:32 Added length attributes to graph edges\n",
      "2022-02-23 15:17:32 Identifying all nodes that lie outside the polygon...\n",
      "2022-02-23 15:17:33 Created nodes GeoDataFrame from graph\n",
      "2022-02-23 15:17:34 Created r-tree spatial index for 3524 geometries\n",
      "2022-02-23 15:17:34 Identified 2838 geometries inside polygon\n",
      "2022-02-23 15:17:34 Removed 686 nodes outside polygon\n",
      "2022-02-23 15:17:34 Truncated graph by polygon\n",
      "2022-02-23 15:17:34 Begin topologically simplifying the graph...\n",
      "2022-02-23 15:17:35 Identified 1580 edge endpoints\n",
      "2022-02-23 15:17:36 Simplified graph: 2838 to 1580 nodes, 7844 to 5328 edges\n",
      "2022-02-23 15:17:36 Identifying all nodes that lie outside the polygon...\n",
      "2022-02-23 15:17:36 Created nodes GeoDataFrame from graph\n",
      "2022-02-23 15:17:36 Created r-tree spatial index for 1580 geometries\n",
      "2022-02-23 15:17:36 Identified 785 geometries inside polygon\n",
      "2022-02-23 15:17:37 Removed 795 nodes outside polygon\n",
      "2022-02-23 15:17:37 Removed 1 isolated nodes\n",
      "2022-02-23 15:17:37 Got largest weakly connected component (778 of 784 total nodes)\n",
      "2022-02-23 15:17:37 Truncated graph by polygon\n",
      "2022-02-23 15:17:37 Counted undirected street segments incident on each node\n",
      "2022-02-23 15:17:37 graph_from_polygon returned graph with 778 nodes and 2624 edges\n",
      "2022-02-23 15:17:37 graph_from_bbox returned graph with 778 nodes and 2624 edges\n",
      "2022-02-23 15:17:37 graph_from_point returned graph with 778 nodes and 2624 edges\n",
      "2022-02-23 15:17:37 Created nodes GeoDataFrame from graph\n",
      "2022-02-23 15:17:37 Created nodes GeoDataFrame from graph\n"
     ]
    },
    {
     "name": "stderr",
     "output_type": "stream",
     "text": [
      "/Users/zachary/opt/anaconda3/envs/final_ML_LR/lib/python3.8/site-packages/osmnx/distance.py:356: UserWarning: The `get_nearest_node` function has been deprecated and will be removed in a future release. Use the more efficient `distance.nearest_nodes` instead.\n",
      "  warnings.warn(msg)\n"
     ]
    },
    {
     "name": "stdout",
     "output_type": "stream",
     "text": [
      "2022-02-23 15:17:37 Created nodes GeoDataFrame from graph\n",
      "2022-02-23 15:17:38 Projected GeoDataFrame to +proj=utm +zone=17 +ellps=WGS84 +datum=WGS84 +units=m +no_defs +type=crs\n",
      "2022-02-23 15:17:39 Created edges GeoDataFrame from graph\n",
      "2022-02-23 15:17:40 Projected GeoDataFrame to +proj=utm +zone=17 +ellps=WGS84 +datum=WGS84 +units=m +no_defs +type=crs\n",
      "2022-02-23 15:17:41 Created graph from node/edge GeoDataFrames\n",
      "2022-02-23 15:17:41 Projected graph with 778 nodes and 2624 edges\n"
     ]
    },
    {
     "name": "stderr",
     "output_type": "stream",
     "text": [
      "/var/folders/8v/6dq3dnld7rx4qv5wr7vx0w5m0000gn/T/ipykernel_58175/3459140347.py:4: FutureWarning: The frame.append method is deprecated and will be removed from pandas in a future version. Use pandas.concat instead.\n",
      "  detroit_polygons = detroit_polygons.append(gdf_iso_poly)\n"
     ]
    },
    {
     "name": "stdout",
     "output_type": "stream",
     "text": [
      "2022-02-23 15:17:54 Created bbox 1000 m from (42.1678242998755, -83.2678693995616): 42.176817503230424,42.15883109652057,-83.25573579808619,-83.28000300103702\n",
      "2022-02-23 15:17:54 Projected GeoDataFrame to +proj=utm +zone=17 +ellps=WGS84 +datum=WGS84 +units=m +no_defs +type=crs\n",
      "2022-02-23 15:17:54 Projected GeoDataFrame to epsg:4326\n",
      "2022-02-23 15:17:54 Projected GeoDataFrame to +proj=utm +zone=17 +ellps=WGS84 +datum=WGS84 +units=m +no_defs +type=crs\n",
      "2022-02-23 15:17:54 Projected GeoDataFrame to epsg:4326\n",
      "2022-02-23 15:17:54 Requesting data within polygon from API in 1 request(s)\n",
      "2022-02-23 15:17:54 Resolved overpass-api.de to 178.63.48.217\n",
      "2022-02-23 15:17:55 Pausing 0 seconds before making HTTP POST request\n",
      "2022-02-23 15:17:55 Post https://overpass-api.de/api/interpreter?data=%5Bout%3Ajson%5D%5Btimeout%3A180%5D%3B%28way%5B%22highway%22%5D%5B%22area%22%21~%22yes%22%5D%5B%22access%22%21~%22private%22%5D%5B%22highway%22%21~%22abandoned%7Cbus_guideway%7Cconstruction%7Ccycleway%7Cmotor%7Cplanned%7Cplatform%7Cproposed%7Craceway%22%5D%5B%22foot%22%21~%22no%22%5D%5B%22service%22%21~%22private%22%5D%28poly%3A%2742.158831+-83.286053+42.176817+-83.286055+42.177258+-83.286025+42.177695+-83.285938+42.178124+-83.285794+42.178540+-83.285594+42.178939+-83.285340+42.179318+-83.285035+42.179673+-83.284681+42.180000+-83.284283+42.180297+-83.283843+42.180560+-83.283366+42.180787+-83.282856+42.180976+-83.282320+42.181125+-83.281760+42.181232+-83.281184+42.181297+-83.280597+42.181319+-83.280004+42.181319+-83.255735+42.181297+-83.255142+42.181232+-83.254554+42.181125+-83.253978+42.180976+-83.253419+42.180787+-83.252882+42.180560+-83.252373+42.180297+-83.251896+42.180000+-83.251456+42.179673+-83.251057+42.179318+-83.250704+42.178939+-83.250398+42.178540+-83.250145+42.178124+-83.249945+42.177695+-83.249800+42.177259+-83.249713+42.176817+-83.249684+42.158831+-83.249686+42.158390+-83.249715+42.157953+-83.249802+42.157524+-83.249947+42.157108+-83.250147+42.156709+-83.250401+42.156330+-83.250706+42.155975+-83.251060+42.155648+-83.251458+42.155351+-83.251898+42.155088+-83.252375+42.154861+-83.252885+42.154672+-83.253421+42.154523+-83.253980+42.154416+-83.254556+42.154351+-83.255144+42.154330+-83.255737+42.154330+-83.280002+42.154351+-83.280595+42.154416+-83.281182+42.154524+-83.281758+42.154672+-83.282317+42.154861+-83.282854+42.155088+-83.283363+42.155351+-83.283840+42.155648+-83.284280+42.155975+-83.284679+42.156330+-83.285033+42.156709+-83.285338+42.157108+-83.285592+42.157524+-83.285792+42.157953+-83.285936+42.158390+-83.286024+42.158831+-83.286053%27%29%3B%3E%3B%29%3Bout%3B with timeout=180\n",
      "2022-02-23 15:17:55 Resolved overpass-api.de to 178.63.48.217\n",
      "2022-02-23 15:18:10 Downloaded 0.7kB from overpass-api.de\n",
      "2022-02-23 15:18:10 Resolved overpass-api.de to 178.63.48.217\n",
      "2022-02-23 15:18:11 overpass-api.de returned 504: retry in 60 secs\n",
      "2022-02-23 15:19:11 Resolved overpass-api.de to 178.63.11.215\n",
      "2022-02-23 15:19:11 Pausing 0 seconds before making HTTP POST request\n",
      "2022-02-23 15:19:11 Post https://overpass-api.de/api/interpreter?data=%5Bout%3Ajson%5D%5Btimeout%3A180%5D%3B%28way%5B%22highway%22%5D%5B%22area%22%21~%22yes%22%5D%5B%22access%22%21~%22private%22%5D%5B%22highway%22%21~%22abandoned%7Cbus_guideway%7Cconstruction%7Ccycleway%7Cmotor%7Cplanned%7Cplatform%7Cproposed%7Craceway%22%5D%5B%22foot%22%21~%22no%22%5D%5B%22service%22%21~%22private%22%5D%28poly%3A%2742.158831+-83.286053+42.176817+-83.286055+42.177258+-83.286025+42.177695+-83.285938+42.178124+-83.285794+42.178540+-83.285594+42.178939+-83.285340+42.179318+-83.285035+42.179673+-83.284681+42.180000+-83.284283+42.180297+-83.283843+42.180560+-83.283366+42.180787+-83.282856+42.180976+-83.282320+42.181125+-83.281760+42.181232+-83.281184+42.181297+-83.280597+42.181319+-83.280004+42.181319+-83.255735+42.181297+-83.255142+42.181232+-83.254554+42.181125+-83.253978+42.180976+-83.253419+42.180787+-83.252882+42.180560+-83.252373+42.180297+-83.251896+42.180000+-83.251456+42.179673+-83.251057+42.179318+-83.250704+42.178939+-83.250398+42.178540+-83.250145+42.178124+-83.249945+42.177695+-83.249800+42.177259+-83.249713+42.176817+-83.249684+42.158831+-83.249686+42.158390+-83.249715+42.157953+-83.249802+42.157524+-83.249947+42.157108+-83.250147+42.156709+-83.250401+42.156330+-83.250706+42.155975+-83.251060+42.155648+-83.251458+42.155351+-83.251898+42.155088+-83.252375+42.154861+-83.252885+42.154672+-83.253421+42.154523+-83.253980+42.154416+-83.254556+42.154351+-83.255144+42.154330+-83.255737+42.154330+-83.280002+42.154351+-83.280595+42.154416+-83.281182+42.154524+-83.281758+42.154672+-83.282317+42.154861+-83.282854+42.155088+-83.283363+42.155351+-83.283840+42.155648+-83.284280+42.155975+-83.284679+42.156330+-83.285033+42.156709+-83.285338+42.157108+-83.285592+42.157524+-83.285792+42.157953+-83.285936+42.158390+-83.286024+42.158831+-83.286053%27%29%3B%3E%3B%29%3Bout%3B with timeout=180\n",
      "2022-02-23 15:19:11 Resolved overpass-api.de to 178.63.11.215\n",
      "2022-02-23 15:19:14 Downloaded 446.7kB from overpass-api.de\n",
      "2022-02-23 15:19:14 Saved response to cache file \"cache/737a891c675b612d1f8f20176442349df7c48700.json\"\n",
      "2022-02-23 15:19:14 Did not save to cache because status code is 504\n",
      "2022-02-23 15:19:14 Got all network data within polygon from API in 1 request(s)\n",
      "2022-02-23 15:19:14 Creating graph from downloaded OSM data...\n",
      "2022-02-23 15:19:14 Created graph with 3304 nodes and 7172 edges\n",
      "2022-02-23 15:19:15 Added length attributes to graph edges\n",
      "2022-02-23 15:19:15 Identifying all nodes that lie outside the polygon...\n",
      "2022-02-23 15:19:15 Created nodes GeoDataFrame from graph\n",
      "2022-02-23 15:19:16 Created r-tree spatial index for 3304 geometries\n",
      "2022-02-23 15:19:16 Identified 3150 geometries inside polygon\n",
      "2022-02-23 15:19:16 Removed 154 nodes outside polygon\n",
      "2022-02-23 15:19:16 Truncated graph by polygon\n",
      "2022-02-23 15:19:16 Begin topologically simplifying the graph...\n",
      "2022-02-23 15:19:17 Identified 935 edge endpoints\n",
      "2022-02-23 15:19:18 Simplified graph: 3150 to 935 nodes, 6842 to 2412 edges\n",
      "2022-02-23 15:19:18 Identifying all nodes that lie outside the polygon...\n",
      "2022-02-23 15:19:18 Created nodes GeoDataFrame from graph\n",
      "2022-02-23 15:19:18 Created r-tree spatial index for 935 geometries\n",
      "2022-02-23 15:19:19 Identified 554 geometries inside polygon\n",
      "2022-02-23 15:19:19 Removed 381 nodes outside polygon\n",
      "2022-02-23 15:19:19 Removed 4 isolated nodes\n",
      "2022-02-23 15:19:19 Got largest weakly connected component (514 of 550 total nodes)\n",
      "2022-02-23 15:19:19 Truncated graph by polygon\n",
      "2022-02-23 15:19:19 Counted undirected street segments incident on each node\n",
      "2022-02-23 15:19:19 graph_from_polygon returned graph with 514 nodes and 1354 edges\n",
      "2022-02-23 15:19:19 graph_from_bbox returned graph with 514 nodes and 1354 edges\n",
      "2022-02-23 15:19:19 graph_from_point returned graph with 514 nodes and 1354 edges\n",
      "2022-02-23 15:19:19 Created nodes GeoDataFrame from graph\n",
      "2022-02-23 15:19:19 Created nodes GeoDataFrame from graph\n"
     ]
    },
    {
     "name": "stderr",
     "output_type": "stream",
     "text": [
      "/Users/zachary/opt/anaconda3/envs/final_ML_LR/lib/python3.8/site-packages/osmnx/distance.py:356: UserWarning: The `get_nearest_node` function has been deprecated and will be removed in a future release. Use the more efficient `distance.nearest_nodes` instead.\n",
      "  warnings.warn(msg)\n"
     ]
    },
    {
     "name": "stdout",
     "output_type": "stream",
     "text": [
      "2022-02-23 15:19:19 Created nodes GeoDataFrame from graph\n",
      "2022-02-23 15:19:20 Projected GeoDataFrame to +proj=utm +zone=17 +ellps=WGS84 +datum=WGS84 +units=m +no_defs +type=crs\n",
      "2022-02-23 15:19:20 Created edges GeoDataFrame from graph\n",
      "2022-02-23 15:19:21 Projected GeoDataFrame to +proj=utm +zone=17 +ellps=WGS84 +datum=WGS84 +units=m +no_defs +type=crs\n",
      "2022-02-23 15:19:21 Created graph from node/edge GeoDataFrames\n",
      "2022-02-23 15:19:21 Projected graph with 514 nodes and 1354 edges\n"
     ]
    },
    {
     "name": "stderr",
     "output_type": "stream",
     "text": [
      "/var/folders/8v/6dq3dnld7rx4qv5wr7vx0w5m0000gn/T/ipykernel_58175/3459140347.py:4: FutureWarning: The frame.append method is deprecated and will be removed from pandas in a future version. Use pandas.concat instead.\n",
      "  detroit_polygons = detroit_polygons.append(gdf_iso_poly)\n"
     ]
    },
    {
     "name": "stdout",
     "output_type": "stream",
     "text": [
      "2022-02-23 15:19:22 Created bbox 1000 m from (42.3100737000501, -83.4089390998278): 42.31906690340502,42.30108049669517,-83.39677811505224,-83.42110008460337\n",
      "2022-02-23 15:19:22 Projected GeoDataFrame to +proj=utm +zone=17 +ellps=WGS84 +datum=WGS84 +units=m +no_defs +type=crs\n",
      "2022-02-23 15:19:22 Projected GeoDataFrame to epsg:4326\n",
      "2022-02-23 15:19:22 Projected GeoDataFrame to +proj=utm +zone=17 +ellps=WGS84 +datum=WGS84 +units=m +no_defs +type=crs\n",
      "2022-02-23 15:19:22 Projected GeoDataFrame to epsg:4326\n",
      "2022-02-23 15:19:22 Requesting data within polygon from API in 1 request(s)\n",
      "2022-02-23 15:19:22 Resolved overpass-api.de to 178.63.48.217\n",
      "2022-02-23 15:19:23 Pausing 0 seconds before making HTTP POST request\n",
      "2022-02-23 15:19:23 Post https://overpass-api.de/api/interpreter?data=%5Bout%3Ajson%5D%5Btimeout%3A180%5D%3B%28way%5B%22highway%22%5D%5B%22area%22%21~%22yes%22%5D%5B%22access%22%21~%22private%22%5D%5B%22highway%22%21~%22abandoned%7Cbus_guideway%7Cconstruction%7Ccycleway%7Cmotor%7Cplanned%7Cplatform%7Cproposed%7Craceway%22%5D%5B%22foot%22%21~%22no%22%5D%5B%22service%22%21~%22private%22%5D%28poly%3A%2742.301080+-83.427163+42.319067+-83.427165+42.319508+-83.427136+42.319945+-83.427048+42.320373+-83.426904+42.320789+-83.426703+42.321188+-83.426449+42.321567+-83.426143+42.321922+-83.425789+42.322249+-83.425389+42.322546+-83.424948+42.322809+-83.424470+42.323036+-83.423960+42.323225+-83.423422+42.323374+-83.422861+42.323481+-83.422284+42.323546+-83.421695+42.323568+-83.421101+42.323568+-83.396777+42.323546+-83.396183+42.323481+-83.395594+42.323374+-83.395017+42.323225+-83.394456+42.323036+-83.393918+42.322809+-83.393408+42.322546+-83.392930+42.322249+-83.392489+42.321922+-83.392089+42.321567+-83.391735+42.321188+-83.391429+42.320789+-83.391175+42.320373+-83.390974+42.319945+-83.390830+42.319508+-83.390742+42.319067+-83.390713+42.301080+-83.390715+42.300639+-83.390744+42.300202+-83.390832+42.299774+-83.390976+42.299358+-83.391177+42.298958+-83.391431+42.298580+-83.391737+42.298225+-83.392092+42.297898+-83.392491+42.297601+-83.392932+42.297338+-83.393410+42.297111+-83.393921+42.296922+-83.394459+42.296773+-83.395019+42.296666+-83.395596+42.296601+-83.396185+42.296580+-83.396779+42.296580+-83.421099+42.296601+-83.421694+42.296666+-83.422282+42.296773+-83.422859+42.296922+-83.423420+42.297111+-83.423958+42.297338+-83.424468+42.297601+-83.424946+42.297898+-83.425387+42.298225+-83.425786+42.298580+-83.426141+42.298959+-83.426447+42.299358+-83.426701+42.299774+-83.426902+42.300202+-83.427047+42.300639+-83.427134+42.301080+-83.427163%27%29%3B%3E%3B%29%3Bout%3B with timeout=180\n",
      "2022-02-23 15:19:23 Resolved overpass-api.de to 178.63.48.217\n",
      "2022-02-23 15:19:29 Downloaded 853.0kB from overpass-api.de\n",
      "2022-02-23 15:19:29 Saved response to cache file \"cache/8bdb919688611354e9dc8ed76cf80c1d27e57b31.json\"\n",
      "2022-02-23 15:19:29 Got all network data within polygon from API in 1 request(s)\n",
      "2022-02-23 15:19:29 Creating graph from downloaded OSM data...\n",
      "2022-02-23 15:19:30 Created graph with 6446 nodes and 14014 edges\n",
      "2022-02-23 15:19:30 Added length attributes to graph edges\n",
      "2022-02-23 15:19:30 Identifying all nodes that lie outside the polygon...\n",
      "2022-02-23 15:19:31 Created nodes GeoDataFrame from graph\n",
      "2022-02-23 15:19:32 Created r-tree spatial index for 6446 geometries\n",
      "2022-02-23 15:19:33 Identified 5680 geometries inside polygon\n",
      "2022-02-23 15:19:33 Removed 766 nodes outside polygon\n",
      "2022-02-23 15:19:33 Truncated graph by polygon\n",
      "2022-02-23 15:19:33 Begin topologically simplifying the graph...\n",
      "2022-02-23 15:19:34 Identified 1513 edge endpoints\n",
      "2022-02-23 15:19:36 Simplified graph: 5680 to 1513 nodes, 12408 to 4074 edges\n",
      "2022-02-23 15:19:36 Identifying all nodes that lie outside the polygon...\n",
      "2022-02-23 15:19:37 Created nodes GeoDataFrame from graph\n",
      "2022-02-23 15:19:37 Created r-tree spatial index for 1513 geometries\n",
      "2022-02-23 15:19:37 Identified 657 geometries inside polygon\n",
      "2022-02-23 15:19:37 Removed 856 nodes outside polygon\n",
      "2022-02-23 15:19:37 Removed 5 isolated nodes\n",
      "2022-02-23 15:19:37 Got largest weakly connected component (557 of 652 total nodes)\n",
      "2022-02-23 15:19:37 Truncated graph by polygon\n",
      "2022-02-23 15:19:38 Counted undirected street segments incident on each node\n",
      "2022-02-23 15:19:38 graph_from_polygon returned graph with 557 nodes and 1484 edges\n",
      "2022-02-23 15:19:38 graph_from_bbox returned graph with 557 nodes and 1484 edges\n",
      "2022-02-23 15:19:38 graph_from_point returned graph with 557 nodes and 1484 edges\n",
      "2022-02-23 15:19:38 Created nodes GeoDataFrame from graph\n",
      "2022-02-23 15:19:38 Created nodes GeoDataFrame from graph\n"
     ]
    },
    {
     "name": "stderr",
     "output_type": "stream",
     "text": [
      "/Users/zachary/opt/anaconda3/envs/final_ML_LR/lib/python3.8/site-packages/osmnx/distance.py:356: UserWarning: The `get_nearest_node` function has been deprecated and will be removed in a future release. Use the more efficient `distance.nearest_nodes` instead.\n",
      "  warnings.warn(msg)\n"
     ]
    },
    {
     "name": "stdout",
     "output_type": "stream",
     "text": [
      "2022-02-23 15:19:38 Created nodes GeoDataFrame from graph\n",
      "2022-02-23 15:19:38 Projected GeoDataFrame to +proj=utm +zone=17 +ellps=WGS84 +datum=WGS84 +units=m +no_defs +type=crs\n",
      "2022-02-23 15:19:39 Created edges GeoDataFrame from graph\n",
      "2022-02-23 15:19:39 Projected GeoDataFrame to +proj=utm +zone=17 +ellps=WGS84 +datum=WGS84 +units=m +no_defs +type=crs\n",
      "2022-02-23 15:19:40 Created graph from node/edge GeoDataFrames\n",
      "2022-02-23 15:19:40 Projected graph with 557 nodes and 1484 edges\n"
     ]
    },
    {
     "name": "stderr",
     "output_type": "stream",
     "text": [
      "/var/folders/8v/6dq3dnld7rx4qv5wr7vx0w5m0000gn/T/ipykernel_58175/3459140347.py:4: FutureWarning: The frame.append method is deprecated and will be removed from pandas in a future version. Use pandas.concat instead.\n",
      "  detroit_polygons = detroit_polygons.append(gdf_iso_poly)\n"
     ]
    },
    {
     "name": "stdout",
     "output_type": "stream",
     "text": [
      "2022-02-23 15:19:45 Created bbox 1000 m from (42.432562699958, -83.4822083004132): 42.441555903312924,42.42356949660307,-83.47002357672187,-83.49439302410454\n",
      "2022-02-23 15:19:45 Projected GeoDataFrame to +proj=utm +zone=17 +ellps=WGS84 +datum=WGS84 +units=m +no_defs +type=crs\n",
      "2022-02-23 15:19:45 Projected GeoDataFrame to epsg:4326\n",
      "2022-02-23 15:19:45 Projected GeoDataFrame to +proj=utm +zone=17 +ellps=WGS84 +datum=WGS84 +units=m +no_defs +type=crs\n",
      "2022-02-23 15:19:45 Projected GeoDataFrame to epsg:4326\n",
      "2022-02-23 15:19:45 Requesting data within polygon from API in 1 request(s)\n",
      "2022-02-23 15:19:45 Resolved overpass-api.de to 178.63.48.217\n",
      "2022-02-23 15:19:46 Pausing 0 seconds before making HTTP POST request\n",
      "2022-02-23 15:19:46 Post https://overpass-api.de/api/interpreter?data=%5Bout%3Ajson%5D%5Btimeout%3A180%5D%3B%28way%5B%22highway%22%5D%5B%22area%22%21~%22yes%22%5D%5B%22access%22%21~%22private%22%5D%5B%22highway%22%21~%22abandoned%7Cbus_guideway%7Cconstruction%7Ccycleway%7Cmotor%7Cplanned%7Cplatform%7Cproposed%7Craceway%22%5D%5B%22foot%22%21~%22no%22%5D%5B%22service%22%21~%22private%22%5D%28poly%3A%2742.423569+-83.500468+42.441556+-83.500469+42.441997+-83.500440+42.442434+-83.500353+42.442862+-83.500208+42.443278+-83.500007+42.443677+-83.499752+42.444056+-83.499446+42.444411+-83.499091+42.444738+-83.498690+42.445035+-83.498248+42.445298+-83.497770+42.445525+-83.497258+42.445714+-83.496719+42.445863+-83.496158+42.445970+-83.495579+42.446035+-83.494989+42.446057+-83.494394+42.446057+-83.470023+42.446035+-83.469427+42.445970+-83.468837+42.445863+-83.468259+42.445714+-83.467697+42.445525+-83.467158+42.445298+-83.466647+42.445035+-83.466168+42.444738+-83.465726+42.444411+-83.465326+42.444056+-83.464971+42.443677+-83.464664+42.443278+-83.464409+42.442862+-83.464209+42.442434+-83.464064+42.441997+-83.463976+42.441556+-83.463947+42.423569+-83.463949+42.423128+-83.463978+42.422691+-83.464066+42.422263+-83.464211+42.421847+-83.464411+42.421448+-83.464666+42.421069+-83.464973+42.420714+-83.465328+42.420387+-83.465729+42.420090+-83.466170+42.419827+-83.466649+42.419600+-83.467161+42.419411+-83.467700+42.419262+-83.468261+42.419155+-83.468839+42.419090+-83.469429+42.419069+-83.470024+42.419069+-83.494392+42.419090+-83.494988+42.419155+-83.495577+42.419262+-83.496156+42.419411+-83.496717+42.419600+-83.497256+42.419827+-83.497767+42.420090+-83.498246+42.420387+-83.498688+42.420714+-83.499088+42.421069+-83.499444+42.421448+-83.499750+42.421847+-83.500005+42.422263+-83.500206+42.422691+-83.500351+42.423128+-83.500438+42.423569+-83.500468%27%29%3B%3E%3B%29%3Bout%3B with timeout=180\n",
      "2022-02-23 15:19:46 Resolved overpass-api.de to 178.63.48.217\n",
      "2022-02-23 15:19:51 Downloaded 1,708.4kB from overpass-api.de\n",
      "2022-02-23 15:19:52 Saved response to cache file \"cache/4ce4896de9b3f0f2bd48ba88eff975119a31ce1e.json\"\n",
      "2022-02-23 15:19:52 Got all network data within polygon from API in 1 request(s)\n",
      "2022-02-23 15:19:52 Creating graph from downloaded OSM data...\n",
      "2022-02-23 15:19:53 Created graph with 11876 nodes and 26084 edges\n",
      "2022-02-23 15:19:54 Added length attributes to graph edges\n",
      "2022-02-23 15:19:54 Identifying all nodes that lie outside the polygon...\n",
      "2022-02-23 15:19:56 Created nodes GeoDataFrame from graph\n",
      "2022-02-23 15:19:58 Created r-tree spatial index for 11876 geometries\n",
      "2022-02-23 15:20:00 Identified 10646 geometries inside polygon\n",
      "2022-02-23 15:20:01 Removed 1230 nodes outside polygon\n",
      "2022-02-23 15:20:01 Truncated graph by polygon\n",
      "2022-02-23 15:20:01 Begin topologically simplifying the graph...\n",
      "2022-02-23 15:20:03 Identified 2847 edge endpoints\n",
      "2022-02-23 15:20:07 Simplified graph: 10646 to 2847 nodes, 23552 to 7954 edges\n",
      "2022-02-23 15:20:07 Identifying all nodes that lie outside the polygon...\n",
      "2022-02-23 15:20:08 Created nodes GeoDataFrame from graph\n",
      "2022-02-23 15:20:08 Created r-tree spatial index for 2847 geometries\n",
      "2022-02-23 15:20:08 Identified 1721 geometries inside polygon\n",
      "2022-02-23 15:20:08 Removed 1126 nodes outside polygon\n",
      "2022-02-23 15:20:08 Removed 10 isolated nodes\n",
      "2022-02-23 15:20:09 Got largest weakly connected component (1659 of 1711 total nodes)\n",
      "2022-02-23 15:20:09 Truncated graph by polygon\n",
      "2022-02-23 15:20:09 Counted undirected street segments incident on each node\n",
      "2022-02-23 15:20:09 graph_from_polygon returned graph with 1659 nodes and 4968 edges\n",
      "2022-02-23 15:20:09 graph_from_bbox returned graph with 1659 nodes and 4968 edges\n",
      "2022-02-23 15:20:09 graph_from_point returned graph with 1659 nodes and 4968 edges\n",
      "2022-02-23 15:20:10 Created nodes GeoDataFrame from graph\n",
      "2022-02-23 15:20:10 Created nodes GeoDataFrame from graph\n"
     ]
    },
    {
     "name": "stderr",
     "output_type": "stream",
     "text": [
      "/Users/zachary/opt/anaconda3/envs/final_ML_LR/lib/python3.8/site-packages/osmnx/distance.py:356: UserWarning: The `get_nearest_node` function has been deprecated and will be removed in a future release. Use the more efficient `distance.nearest_nodes` instead.\n",
      "  warnings.warn(msg)\n"
     ]
    },
    {
     "name": "stdout",
     "output_type": "stream",
     "text": [
      "2022-02-23 15:20:10 Created nodes GeoDataFrame from graph\n",
      "2022-02-23 15:20:11 Projected GeoDataFrame to +proj=utm +zone=17 +ellps=WGS84 +datum=WGS84 +units=m +no_defs +type=crs\n",
      "2022-02-23 15:20:14 Created edges GeoDataFrame from graph\n",
      "2022-02-23 15:20:15 Projected GeoDataFrame to +proj=utm +zone=17 +ellps=WGS84 +datum=WGS84 +units=m +no_defs +type=crs\n",
      "2022-02-23 15:20:15 Created graph from node/edge GeoDataFrames\n",
      "2022-02-23 15:20:15 Projected graph with 1659 nodes and 4968 edges\n"
     ]
    },
    {
     "name": "stderr",
     "output_type": "stream",
     "text": [
      "/var/folders/8v/6dq3dnld7rx4qv5wr7vx0w5m0000gn/T/ipykernel_58175/3459140347.py:4: FutureWarning: The frame.append method is deprecated and will be removed from pandas in a future version. Use pandas.concat instead.\n",
      "  detroit_polygons = detroit_polygons.append(gdf_iso_poly)\n"
     ]
    },
    {
     "name": "stdout",
     "output_type": "stream",
     "text": [
      "2022-02-23 15:20:44 Created bbox 1000 m from (42.2565291997215, -83.2510189002767): 42.265522403076424,42.24753599636657,-83.238868246212,-83.26316955434142\n",
      "2022-02-23 15:20:44 Projected GeoDataFrame to +proj=utm +zone=17 +ellps=WGS84 +datum=WGS84 +units=m +no_defs +type=crs\n",
      "2022-02-23 15:20:44 Projected GeoDataFrame to epsg:4326\n",
      "2022-02-23 15:20:44 Projected GeoDataFrame to +proj=utm +zone=17 +ellps=WGS84 +datum=WGS84 +units=m +no_defs +type=crs\n",
      "2022-02-23 15:20:44 Projected GeoDataFrame to epsg:4326\n",
      "2022-02-23 15:20:44 Requesting data within polygon from API in 1 request(s)\n",
      "2022-02-23 15:20:44 Resolved overpass-api.de to 178.63.48.217\n",
      "2022-02-23 15:20:45 Pausing 0 seconds before making HTTP POST request\n",
      "2022-02-23 15:20:45 Post https://overpass-api.de/api/interpreter?data=%5Bout%3Ajson%5D%5Btimeout%3A180%5D%3B%28way%5B%22highway%22%5D%5B%22area%22%21~%22yes%22%5D%5B%22access%22%21~%22private%22%5D%5B%22highway%22%21~%22abandoned%7Cbus_guideway%7Cconstruction%7Ccycleway%7Cmotor%7Cplanned%7Cplatform%7Cproposed%7Craceway%22%5D%5B%22foot%22%21~%22no%22%5D%5B%22service%22%21~%22private%22%5D%28poly%3A%2742.247536+-83.269228+42.265522+-83.269230+42.265963+-83.269200+42.266400+-83.269113+42.266829+-83.268969+42.267245+-83.268769+42.267644+-83.268514+42.268023+-83.268209+42.268378+-83.267854+42.268705+-83.267455+42.269002+-83.267015+42.269265+-83.266537+42.269492+-83.266027+42.269681+-83.265489+42.269830+-83.264929+42.269937+-83.264353+42.270002+-83.263764+42.270024+-83.263170+42.270024+-83.238867+42.270002+-83.238273+42.269937+-83.237685+42.269830+-83.237108+42.269681+-83.236548+42.269492+-83.236011+42.269265+-83.235501+42.269002+-83.235023+42.268705+-83.234583+42.268378+-83.234183+42.268023+-83.233829+42.267644+-83.233523+42.267245+-83.233269+42.266829+-83.233069+42.266400+-83.232924+42.265963+-83.232837+42.265522+-83.232808+42.247536+-83.232810+42.247095+-83.232839+42.246658+-83.232926+42.246229+-83.233071+42.245813+-83.233271+42.245414+-83.233526+42.245035+-83.233831+42.244680+-83.234186+42.244353+-83.234585+42.244056+-83.235025+42.243793+-83.235503+42.243566+-83.236013+42.243377+-83.236551+42.243228+-83.237110+42.243121+-83.237687+42.243056+-83.238275+42.243035+-83.238869+42.243035+-83.263169+42.243056+-83.263763+42.243121+-83.264351+42.243228+-83.264927+42.243377+-83.265487+42.243566+-83.266025+42.243793+-83.266535+42.244056+-83.267012+42.244353+-83.267453+42.244680+-83.267852+42.245035+-83.268206+42.245414+-83.268512+42.245813+-83.268766+42.246229+-83.268967+42.246658+-83.269111+42.247095+-83.269199+42.247536+-83.269228%27%29%3B%3E%3B%29%3Bout%3B with timeout=180\n",
      "2022-02-23 15:20:45 Resolved overpass-api.de to 178.63.48.217\n",
      "2022-02-23 15:20:50 Downloaded 967.2kB from overpass-api.de\n",
      "2022-02-23 15:20:50 Saved response to cache file \"cache/4380c2210624e757e50bdf3eb8a9e78ee51ad2bc.json\"\n",
      "2022-02-23 15:20:50 Got all network data within polygon from API in 1 request(s)\n",
      "2022-02-23 15:20:50 Creating graph from downloaded OSM data...\n",
      "2022-02-23 15:20:51 Created graph with 6347 nodes and 15706 edges\n",
      "2022-02-23 15:20:51 Added length attributes to graph edges\n",
      "2022-02-23 15:20:51 Identifying all nodes that lie outside the polygon...\n",
      "2022-02-23 15:20:52 Created nodes GeoDataFrame from graph\n",
      "2022-02-23 15:20:53 Created r-tree spatial index for 6347 geometries\n",
      "2022-02-23 15:20:54 Identified 5529 geometries inside polygon\n",
      "2022-02-23 15:20:55 Removed 818 nodes outside polygon\n",
      "2022-02-23 15:20:55 Truncated graph by polygon\n",
      "2022-02-23 15:20:55 Begin topologically simplifying the graph...\n",
      "2022-02-23 15:20:55 Identified 2526 edge endpoints\n",
      "2022-02-23 15:21:01 Simplified graph: 5529 to 2526 nodes, 13986 to 7980 edges\n",
      "2022-02-23 15:21:01 Identifying all nodes that lie outside the polygon...\n",
      "2022-02-23 15:21:04 Created nodes GeoDataFrame from graph\n",
      "2022-02-23 15:21:05 Created r-tree spatial index for 2526 geometries\n",
      "2022-02-23 15:21:05 Identified 928 geometries inside polygon\n",
      "2022-02-23 15:21:06 Removed 1598 nodes outside polygon\n",
      "2022-02-23 15:21:06 Removed 1 isolated nodes\n",
      "2022-02-23 15:21:07 Got largest weakly connected component (911 of 927 total nodes)\n",
      "2022-02-23 15:21:07 Truncated graph by polygon\n",
      "2022-02-23 15:21:07 Counted undirected street segments incident on each node\n",
      "2022-02-23 15:21:07 graph_from_polygon returned graph with 911 nodes and 2904 edges\n",
      "2022-02-23 15:21:07 graph_from_bbox returned graph with 911 nodes and 2904 edges\n",
      "2022-02-23 15:21:07 graph_from_point returned graph with 911 nodes and 2904 edges\n",
      "2022-02-23 15:21:08 Created nodes GeoDataFrame from graph\n",
      "2022-02-23 15:21:08 Created nodes GeoDataFrame from graph\n"
     ]
    },
    {
     "name": "stderr",
     "output_type": "stream",
     "text": [
      "/Users/zachary/opt/anaconda3/envs/final_ML_LR/lib/python3.8/site-packages/osmnx/distance.py:356: UserWarning: The `get_nearest_node` function has been deprecated and will be removed in a future release. Use the more efficient `distance.nearest_nodes` instead.\n",
      "  warnings.warn(msg)\n"
     ]
    },
    {
     "name": "stdout",
     "output_type": "stream",
     "text": [
      "2022-02-23 15:21:08 Created nodes GeoDataFrame from graph\n",
      "2022-02-23 15:21:09 Projected GeoDataFrame to +proj=utm +zone=17 +ellps=WGS84 +datum=WGS84 +units=m +no_defs +type=crs\n",
      "2022-02-23 15:21:11 Created edges GeoDataFrame from graph\n",
      "2022-02-23 15:21:12 Projected GeoDataFrame to +proj=utm +zone=17 +ellps=WGS84 +datum=WGS84 +units=m +no_defs +type=crs\n",
      "2022-02-23 15:21:12 Created graph from node/edge GeoDataFrames\n",
      "2022-02-23 15:21:12 Projected graph with 911 nodes and 2904 edges\n"
     ]
    },
    {
     "name": "stderr",
     "output_type": "stream",
     "text": [
      "/var/folders/8v/6dq3dnld7rx4qv5wr7vx0w5m0000gn/T/ipykernel_58175/3459140347.py:4: FutureWarning: The frame.append method is deprecated and will be removed from pandas in a future version. Use pandas.concat instead.\n",
      "  detroit_polygons = detroit_polygons.append(gdf_iso_poly)\n"
     ]
    },
    {
     "name": "stdout",
     "output_type": "stream",
     "text": [
      "2022-02-23 15:21:25 Created bbox 1000 m from (42.2959925001068, -83.388704200405): 42.304985703461725,42.28699929675187,-83.37654593514395,-83.40086246566605\n",
      "2022-02-23 15:21:26 Projected GeoDataFrame to +proj=utm +zone=17 +ellps=WGS84 +datum=WGS84 +units=m +no_defs +type=crs\n",
      "2022-02-23 15:21:26 Projected GeoDataFrame to epsg:4326\n",
      "2022-02-23 15:21:26 Projected GeoDataFrame to +proj=utm +zone=17 +ellps=WGS84 +datum=WGS84 +units=m +no_defs +type=crs\n",
      "2022-02-23 15:21:26 Projected GeoDataFrame to epsg:4326\n",
      "2022-02-23 15:21:26 Requesting data within polygon from API in 1 request(s)\n",
      "2022-02-23 15:21:26 Resolved overpass-api.de to 178.63.48.217\n",
      "2022-02-23 15:21:26 Pausing 0 seconds before making HTTP POST request\n",
      "2022-02-23 15:21:26 Post https://overpass-api.de/api/interpreter?data=%5Bout%3Ajson%5D%5Btimeout%3A180%5D%3B%28way%5B%22highway%22%5D%5B%22area%22%21~%22yes%22%5D%5B%22access%22%21~%22private%22%5D%5B%22highway%22%21~%22abandoned%7Cbus_guideway%7Cconstruction%7Ccycleway%7Cmotor%7Cplanned%7Cplatform%7Cproposed%7Craceway%22%5D%5B%22foot%22%21~%22no%22%5D%5B%22service%22%21~%22private%22%5D%28poly%3A%2742.286999+-83.406924+42.304986+-83.406926+42.305427+-83.406897+42.305864+-83.406810+42.306292+-83.406665+42.306708+-83.406465+42.307107+-83.406210+42.307486+-83.405904+42.307841+-83.405550+42.308168+-83.405151+42.308465+-83.404710+42.308728+-83.404232+42.308955+-83.403721+42.309144+-83.403184+42.309293+-83.402623+42.309400+-83.402046+42.309465+-83.401458+42.309487+-83.400863+42.309487+-83.376545+42.309465+-83.375951+42.309400+-83.375362+42.309293+-83.374785+42.309144+-83.374225+42.308955+-83.373687+42.308728+-83.373177+42.308465+-83.372699+42.308168+-83.372258+42.307841+-83.371858+42.307486+-83.371504+42.307107+-83.371198+42.306708+-83.370944+42.306292+-83.370743+42.305864+-83.370599+42.305427+-83.370512+42.304986+-83.370482+42.286999+-83.370484+42.286558+-83.370513+42.286121+-83.370601+42.285692+-83.370745+42.285277+-83.370946+42.284877+-83.371200+42.284498+-83.371506+42.284144+-83.371861+42.283816+-83.372260+42.283520+-83.372701+42.283257+-83.373179+42.283030+-83.373689+42.282841+-83.374227+42.282692+-83.374787+42.282585+-83.375364+42.282520+-83.375953+42.282498+-83.376547+42.282498+-83.400862+42.282520+-83.401456+42.282585+-83.402044+42.282692+-83.402621+42.282841+-83.403181+42.283030+-83.403719+42.283257+-83.404230+42.283520+-83.404707+42.283816+-83.405148+42.284144+-83.405548+42.284498+-83.405902+42.284877+-83.406208+42.285277+-83.406463+42.285693+-83.406663+42.286121+-83.406808+42.286558+-83.406895+42.286999+-83.406924%27%29%3B%3E%3B%29%3Bout%3B with timeout=180\n",
      "2022-02-23 15:21:26 Resolved overpass-api.de to 178.63.48.217\n",
      "2022-02-23 15:21:34 Downloaded 940.3kB from overpass-api.de\n",
      "2022-02-23 15:21:34 Saved response to cache file \"cache/6552a5116bb4b4cfdb1b5c81557e515e87413b82.json\"\n",
      "2022-02-23 15:21:34 Got all network data within polygon from API in 1 request(s)\n",
      "2022-02-23 15:21:34 Creating graph from downloaded OSM data...\n",
      "2022-02-23 15:21:35 Created graph with 6826 nodes and 15336 edges\n",
      "2022-02-23 15:21:35 Added length attributes to graph edges\n",
      "2022-02-23 15:21:35 Identifying all nodes that lie outside the polygon...\n",
      "2022-02-23 15:21:37 Created nodes GeoDataFrame from graph\n",
      "2022-02-23 15:21:38 Created r-tree spatial index for 6826 geometries\n",
      "2022-02-23 15:21:39 Identified 6086 geometries inside polygon\n",
      "2022-02-23 15:21:39 Removed 740 nodes outside polygon\n",
      "2022-02-23 15:21:39 Truncated graph by polygon\n",
      "2022-02-23 15:21:39 Begin topologically simplifying the graph...\n",
      "2022-02-23 15:21:40 Identified 1834 edge endpoints\n",
      "2022-02-23 15:21:42 Simplified graph: 6086 to 1834 nodes, 13758 to 5254 edges\n",
      "2022-02-23 15:21:42 Identifying all nodes that lie outside the polygon...\n",
      "2022-02-23 15:21:43 Created nodes GeoDataFrame from graph\n",
      "2022-02-23 15:21:43 Created r-tree spatial index for 1834 geometries\n",
      "2022-02-23 15:21:43 Identified 926 geometries inside polygon\n",
      "2022-02-23 15:21:43 Removed 908 nodes outside polygon\n",
      "2022-02-23 15:21:43 Removed 6 isolated nodes\n",
      "2022-02-23 15:21:44 Got largest weakly connected component (823 of 920 total nodes)\n",
      "2022-02-23 15:21:44 Truncated graph by polygon\n",
      "2022-02-23 15:21:44 Counted undirected street segments incident on each node\n",
      "2022-02-23 15:21:44 graph_from_polygon returned graph with 823 nodes and 2480 edges\n",
      "2022-02-23 15:21:44 graph_from_bbox returned graph with 823 nodes and 2480 edges\n",
      "2022-02-23 15:21:44 graph_from_point returned graph with 823 nodes and 2480 edges\n",
      "2022-02-23 15:21:44 Created nodes GeoDataFrame from graph\n",
      "2022-02-23 15:21:44 Created nodes GeoDataFrame from graph\n"
     ]
    },
    {
     "name": "stderr",
     "output_type": "stream",
     "text": [
      "/Users/zachary/opt/anaconda3/envs/final_ML_LR/lib/python3.8/site-packages/osmnx/distance.py:356: UserWarning: The `get_nearest_node` function has been deprecated and will be removed in a future release. Use the more efficient `distance.nearest_nodes` instead.\n",
      "  warnings.warn(msg)\n"
     ]
    },
    {
     "name": "stdout",
     "output_type": "stream",
     "text": [
      "2022-02-23 15:21:44 Created nodes GeoDataFrame from graph\n",
      "2022-02-23 15:21:45 Projected GeoDataFrame to +proj=utm +zone=17 +ellps=WGS84 +datum=WGS84 +units=m +no_defs +type=crs\n",
      "2022-02-23 15:21:46 Created edges GeoDataFrame from graph\n",
      "2022-02-23 15:21:47 Projected GeoDataFrame to +proj=utm +zone=17 +ellps=WGS84 +datum=WGS84 +units=m +no_defs +type=crs\n",
      "2022-02-23 15:21:47 Created graph from node/edge GeoDataFrames\n",
      "2022-02-23 15:21:47 Projected graph with 823 nodes and 2480 edges\n"
     ]
    },
    {
     "name": "stderr",
     "output_type": "stream",
     "text": [
      "/var/folders/8v/6dq3dnld7rx4qv5wr7vx0w5m0000gn/T/ipykernel_58175/3459140347.py:4: FutureWarning: The frame.append method is deprecated and will be removed from pandas in a future version. Use pandas.concat instead.\n",
      "  detroit_polygons = detroit_polygons.append(gdf_iso_poly)\n"
     ]
    },
    {
     "name": "stdout",
     "output_type": "stream",
     "text": [
      "2022-02-23 15:22:04 Created bbox 1000 m from (42.3600888997249, -83.4455967001359): 42.369082103079826,42.351095696369974,-83.43342604009204,-83.45776736017974\n",
      "2022-02-23 15:22:04 Projected GeoDataFrame to +proj=utm +zone=17 +ellps=WGS84 +datum=WGS84 +units=m +no_defs +type=crs\n",
      "2022-02-23 15:22:04 Projected GeoDataFrame to epsg:4326\n",
      "2022-02-23 15:22:04 Projected GeoDataFrame to +proj=utm +zone=17 +ellps=WGS84 +datum=WGS84 +units=m +no_defs +type=crs\n",
      "2022-02-23 15:22:04 Projected GeoDataFrame to epsg:4326\n",
      "2022-02-23 15:22:04 Requesting data within polygon from API in 1 request(s)\n",
      "2022-02-23 15:22:04 Retrieved response from cache file \"cache/20498899b6666e377007a5dd4e713f7dae41127c.json\"\n",
      "2022-02-23 15:22:04 Got all network data within polygon from API in 1 request(s)\n",
      "2022-02-23 15:22:04 Creating graph from downloaded OSM data...\n",
      "2022-02-23 15:22:05 Created graph with 7174 nodes and 15730 edges\n",
      "2022-02-23 15:22:05 Added length attributes to graph edges\n",
      "2022-02-23 15:22:05 Identifying all nodes that lie outside the polygon...\n",
      "2022-02-23 15:22:07 Created nodes GeoDataFrame from graph\n",
      "2022-02-23 15:22:09 Created r-tree spatial index for 7174 geometries\n",
      "2022-02-23 15:22:10 Identified 6126 geometries inside polygon\n",
      "2022-02-23 15:22:10 Removed 1048 nodes outside polygon\n",
      "2022-02-23 15:22:10 Truncated graph by polygon\n",
      "2022-02-23 15:22:10 Begin topologically simplifying the graph...\n",
      "2022-02-23 15:22:11 Identified 1783 edge endpoints\n",
      "2022-02-23 15:22:14 Simplified graph: 6126 to 1783 nodes, 13552 to 4866 edges\n",
      "2022-02-23 15:22:14 Identifying all nodes that lie outside the polygon...\n",
      "2022-02-23 15:22:15 Created nodes GeoDataFrame from graph\n",
      "2022-02-23 15:22:15 Created r-tree spatial index for 1783 geometries\n",
      "2022-02-23 15:22:15 Identified 822 geometries inside polygon\n",
      "2022-02-23 15:22:16 Removed 961 nodes outside polygon\n",
      "2022-02-23 15:22:16 Removed 7 isolated nodes\n",
      "2022-02-23 15:22:16 Got largest weakly connected component (716 of 815 total nodes)\n",
      "2022-02-23 15:22:16 Truncated graph by polygon\n",
      "2022-02-23 15:22:16 Counted undirected street segments incident on each node\n",
      "2022-02-23 15:22:16 graph_from_polygon returned graph with 716 nodes and 1994 edges\n",
      "2022-02-23 15:22:16 graph_from_bbox returned graph with 716 nodes and 1994 edges\n",
      "2022-02-23 15:22:16 graph_from_point returned graph with 716 nodes and 1994 edges\n",
      "2022-02-23 15:22:16 Created nodes GeoDataFrame from graph\n",
      "2022-02-23 15:22:16 Created nodes GeoDataFrame from graph\n"
     ]
    },
    {
     "name": "stderr",
     "output_type": "stream",
     "text": [
      "/Users/zachary/opt/anaconda3/envs/final_ML_LR/lib/python3.8/site-packages/osmnx/distance.py:356: UserWarning: The `get_nearest_node` function has been deprecated and will be removed in a future release. Use the more efficient `distance.nearest_nodes` instead.\n",
      "  warnings.warn(msg)\n"
     ]
    },
    {
     "name": "stdout",
     "output_type": "stream",
     "text": [
      "2022-02-23 15:22:17 Created nodes GeoDataFrame from graph\n",
      "2022-02-23 15:22:17 Projected GeoDataFrame to +proj=utm +zone=17 +ellps=WGS84 +datum=WGS84 +units=m +no_defs +type=crs\n",
      "2022-02-23 15:22:18 Created edges GeoDataFrame from graph\n",
      "2022-02-23 15:22:19 Projected GeoDataFrame to +proj=utm +zone=17 +ellps=WGS84 +datum=WGS84 +units=m +no_defs +type=crs\n",
      "2022-02-23 15:22:19 Created graph from node/edge GeoDataFrames\n",
      "2022-02-23 15:22:19 Projected graph with 716 nodes and 1994 edges\n"
     ]
    },
    {
     "name": "stderr",
     "output_type": "stream",
     "text": [
      "/var/folders/8v/6dq3dnld7rx4qv5wr7vx0w5m0000gn/T/ipykernel_58175/3459140347.py:4: FutureWarning: The frame.append method is deprecated and will be removed from pandas in a future version. Use pandas.concat instead.\n",
      "  detroit_polygons = detroit_polygons.append(gdf_iso_poly)\n"
     ]
    },
    {
     "name": "stdout",
     "output_type": "stream",
     "text": [
      "2022-02-23 15:22:29 Created bbox 1000 m from (42.386497800033, -82.9478450997185): 42.395491003387924,42.37750459667807,-82.93566932100566,-82.96002087843135\n",
      "2022-02-23 15:22:29 Projected GeoDataFrame to +proj=utm +zone=17 +ellps=WGS84 +datum=WGS84 +units=m +no_defs +type=crs\n",
      "2022-02-23 15:22:29 Projected GeoDataFrame to epsg:4326\n",
      "2022-02-23 15:22:29 Projected GeoDataFrame to +proj=utm +zone=17 +ellps=WGS84 +datum=WGS84 +units=m +no_defs +type=crs\n",
      "2022-02-23 15:22:29 Projected GeoDataFrame to epsg:4326\n",
      "2022-02-23 15:22:29 Requesting data within polygon from API in 1 request(s)\n",
      "2022-02-23 15:22:29 Resolved overpass-api.de to 178.63.48.217\n",
      "2022-02-23 15:22:30 Pausing 0 seconds before making HTTP POST request\n",
      "2022-02-23 15:22:30 Post https://overpass-api.de/api/interpreter?data=%5Bout%3Ajson%5D%5Btimeout%3A180%5D%3B%28way%5B%22highway%22%5D%5B%22area%22%21~%22yes%22%5D%5B%22access%22%21~%22private%22%5D%5B%22highway%22%21~%22abandoned%7Cbus_guideway%7Cconstruction%7Ccycleway%7Cmotor%7Cplanned%7Cplatform%7Cproposed%7Craceway%22%5D%5B%22foot%22%21~%22no%22%5D%5B%22service%22%21~%22private%22%5D%28poly%3A%2742.377504+-82.966092+42.395491+-82.966094+42.395932+-82.966065+42.396369+-82.965977+42.396797+-82.965833+42.397213+-82.965632+42.397613+-82.965377+42.397992+-82.965071+42.398346+-82.964716+42.398674+-82.964316+42.398970+-82.963874+42.399234+-82.963396+42.399461+-82.962884+42.399650+-82.962346+42.399799+-82.961785+42.399906+-82.961207+42.399971+-82.960617+42.399993+-82.960022+42.399993+-82.935668+42.399971+-82.935073+42.399906+-82.934484+42.399799+-82.933906+42.399650+-82.933344+42.399461+-82.932806+42.399234+-82.932295+42.398971+-82.931816+42.398674+-82.931374+42.398346+-82.930974+42.397992+-82.930619+42.397613+-82.930313+42.397213+-82.930058+42.396798+-82.929857+42.396369+-82.929713+42.395932+-82.929625+42.395491+-82.929596+42.377504+-82.929598+42.377063+-82.929627+42.376626+-82.929715+42.376198+-82.929859+42.375782+-82.930060+42.375382+-82.930315+42.375003+-82.930621+42.374648+-82.930976+42.374321+-82.931377+42.374024+-82.931818+42.373761+-82.932297+42.373534+-82.932808+42.373345+-82.933347+42.373197+-82.933908+42.373089+-82.934486+42.373025+-82.935075+42.373003+-82.935670+42.373003+-82.960020+42.373025+-82.960615+42.373089+-82.961205+42.373197+-82.961783+42.373345+-82.962344+42.373534+-82.962882+42.373761+-82.963393+42.374025+-82.963872+42.374321+-82.964314+42.374649+-82.964714+42.375003+-82.965069+42.375382+-82.965375+42.375782+-82.965630+42.376198+-82.965831+42.376626+-82.965976+42.377063+-82.966063+42.377504+-82.966092%27%29%3B%3E%3B%29%3Bout%3B with timeout=180\n",
      "2022-02-23 15:22:30 Resolved overpass-api.de to 178.63.48.217\n",
      "2022-02-23 15:22:36 Downloaded 440.5kB from overpass-api.de\n",
      "2022-02-23 15:22:36 Saved response to cache file \"cache/5e6db57b51e0855e8e9241706efc52b2d6a93e5c.json\"\n",
      "2022-02-23 15:22:36 Got all network data within polygon from API in 1 request(s)\n",
      "2022-02-23 15:22:36 Creating graph from downloaded OSM data...\n",
      "2022-02-23 15:22:36 Created graph with 2651 nodes and 6986 edges\n",
      "2022-02-23 15:22:36 Added length attributes to graph edges\n",
      "2022-02-23 15:22:36 Identifying all nodes that lie outside the polygon...\n",
      "2022-02-23 15:22:37 Created nodes GeoDataFrame from graph\n",
      "2022-02-23 15:22:37 Created r-tree spatial index for 2651 geometries\n",
      "2022-02-23 15:22:38 Identified 1948 geometries inside polygon\n",
      "2022-02-23 15:22:38 Removed 703 nodes outside polygon\n",
      "2022-02-23 15:22:38 Truncated graph by polygon\n",
      "2022-02-23 15:22:38 Begin topologically simplifying the graph...\n",
      "2022-02-23 15:22:38 Identified 1168 edge endpoints\n",
      "2022-02-23 15:22:39 Simplified graph: 1948 to 1168 nodes, 5366 to 3806 edges\n",
      "2022-02-23 15:22:39 Identifying all nodes that lie outside the polygon...\n",
      "2022-02-23 15:22:40 Created nodes GeoDataFrame from graph\n",
      "2022-02-23 15:22:40 Created r-tree spatial index for 1168 geometries\n",
      "2022-02-23 15:22:40 Identified 583 geometries inside polygon\n",
      "2022-02-23 15:22:41 Removed 585 nodes outside polygon\n",
      "2022-02-23 15:22:41 Removed 1 isolated nodes\n",
      "2022-02-23 15:22:41 Got largest weakly connected component (568 of 582 total nodes)\n",
      "2022-02-23 15:22:41 Truncated graph by polygon\n",
      "2022-02-23 15:22:41 Counted undirected street segments incident on each node\n",
      "2022-02-23 15:22:41 graph_from_polygon returned graph with 568 nodes and 1834 edges\n",
      "2022-02-23 15:22:41 graph_from_bbox returned graph with 568 nodes and 1834 edges\n",
      "2022-02-23 15:22:41 graph_from_point returned graph with 568 nodes and 1834 edges\n",
      "2022-02-23 15:22:42 Created nodes GeoDataFrame from graph\n",
      "2022-02-23 15:22:42 Created nodes GeoDataFrame from graph\n"
     ]
    },
    {
     "name": "stderr",
     "output_type": "stream",
     "text": [
      "/Users/zachary/opt/anaconda3/envs/final_ML_LR/lib/python3.8/site-packages/osmnx/distance.py:356: UserWarning: The `get_nearest_node` function has been deprecated and will be removed in a future release. Use the more efficient `distance.nearest_nodes` instead.\n",
      "  warnings.warn(msg)\n"
     ]
    },
    {
     "name": "stdout",
     "output_type": "stream",
     "text": [
      "2022-02-23 15:22:42 Created nodes GeoDataFrame from graph\n",
      "2022-02-23 15:22:42 Projected GeoDataFrame to +proj=utm +zone=17 +ellps=WGS84 +datum=WGS84 +units=m +no_defs +type=crs\n",
      "2022-02-23 15:22:43 Created edges GeoDataFrame from graph\n",
      "2022-02-23 15:22:44 Projected GeoDataFrame to +proj=utm +zone=17 +ellps=WGS84 +datum=WGS84 +units=m +no_defs +type=crs\n",
      "2022-02-23 15:22:44 Created graph from node/edge GeoDataFrames\n",
      "2022-02-23 15:22:44 Projected graph with 568 nodes and 1834 edges\n"
     ]
    },
    {
     "name": "stderr",
     "output_type": "stream",
     "text": [
      "/var/folders/8v/6dq3dnld7rx4qv5wr7vx0w5m0000gn/T/ipykernel_58175/3459140347.py:4: FutureWarning: The frame.append method is deprecated and will be removed from pandas in a future version. Use pandas.concat instead.\n",
      "  detroit_polygons = detroit_polygons.append(gdf_iso_poly)\n"
     ]
    },
    {
     "name": "stdout",
     "output_type": "stream",
     "text": [
      "2022-02-23 15:22:53 Created bbox 1000 m from (42.2579800997193, -83.2055310996776): 42.266973303074224,42.24898689636437,-83.19338016605191,-83.21768203330329\n",
      "2022-02-23 15:22:53 Projected GeoDataFrame to +proj=utm +zone=17 +ellps=WGS84 +datum=WGS84 +units=m +no_defs +type=crs\n",
      "2022-02-23 15:22:53 Projected GeoDataFrame to epsg:4326\n",
      "2022-02-23 15:22:53 Projected GeoDataFrame to +proj=utm +zone=17 +ellps=WGS84 +datum=WGS84 +units=m +no_defs +type=crs\n",
      "2022-02-23 15:22:53 Projected GeoDataFrame to epsg:4326\n",
      "2022-02-23 15:22:53 Requesting data within polygon from API in 1 request(s)\n",
      "2022-02-23 15:22:53 Resolved overpass-api.de to 178.63.48.217\n",
      "2022-02-23 15:22:54 Pausing 0 seconds before making HTTP POST request\n",
      "2022-02-23 15:22:54 Post https://overpass-api.de/api/interpreter?data=%5Bout%3Ajson%5D%5Btimeout%3A180%5D%3B%28way%5B%22highway%22%5D%5B%22area%22%21~%22yes%22%5D%5B%22access%22%21~%22private%22%5D%5B%22highway%22%21~%22abandoned%7Cbus_guideway%7Cconstruction%7Ccycleway%7Cmotor%7Cplanned%7Cplatform%7Cproposed%7Craceway%22%5D%5B%22foot%22%21~%22no%22%5D%5B%22service%22%21~%22private%22%5D%28poly%3A%2742.248987+-83.223741+42.266973+-83.223742+42.267414+-83.223713+42.267851+-83.223626+42.268280+-83.223482+42.268696+-83.223281+42.269095+-83.223027+42.269474+-83.222721+42.269829+-83.222367+42.270156+-83.221968+42.270453+-83.221527+42.270716+-83.221050+42.270943+-83.220540+42.271132+-83.220002+42.271281+-83.219442+42.271388+-83.218865+42.271453+-83.218277+42.271475+-83.217683+42.271475+-83.193379+42.271453+-83.192785+42.271388+-83.192197+42.271281+-83.191620+42.271132+-83.191060+42.270943+-83.190523+42.270716+-83.190013+42.270453+-83.189535+42.270156+-83.189094+42.269829+-83.188695+42.269474+-83.188341+42.269095+-83.188035+42.268696+-83.187781+42.268280+-83.187581+42.267851+-83.187436+42.267414+-83.187349+42.266973+-83.187320+42.248987+-83.187322+42.248545+-83.187351+42.248108+-83.187438+42.247680+-83.187583+42.247264+-83.187783+42.246865+-83.188037+42.246486+-83.188343+42.246131+-83.188697+42.245804+-83.189097+42.245507+-83.189537+42.245244+-83.190015+42.245017+-83.190525+42.244828+-83.191062+42.244679+-83.191622+42.244572+-83.192199+42.244507+-83.192787+42.244486+-83.193381+42.244486+-83.217681+42.244507+-83.218275+42.244572+-83.218863+42.244679+-83.219440+42.244828+-83.220000+42.245017+-83.220537+42.245244+-83.221047+42.245507+-83.221525+42.245804+-83.221966+42.246131+-83.222365+42.246486+-83.222719+42.246865+-83.223025+42.247264+-83.223279+42.247680+-83.223480+42.248109+-83.223624+42.248546+-83.223711+42.248987+-83.223741%27%29%3B%3E%3B%29%3Bout%3B with timeout=180\n",
      "2022-02-23 15:22:54 Resolved overpass-api.de to 178.63.48.217\n",
      "2022-02-23 15:23:00 Downloaded 1,379.1kB from overpass-api.de\n",
      "2022-02-23 15:23:00 Saved response to cache file \"cache/b46af9e23c286af8a15006ef57919513a900626b.json\"\n",
      "2022-02-23 15:23:00 Got all network data within polygon from API in 1 request(s)\n",
      "2022-02-23 15:23:00 Creating graph from downloaded OSM data...\n"
     ]
    },
    {
     "ename": "KeyboardInterrupt",
     "evalue": "",
     "output_type": "error",
     "traceback": [
      "\u001b[0;31m---------------------------------------------------------------------------\u001b[0m",
      "\u001b[0;31mKeyboardInterrupt\u001b[0m                         Traceback (most recent call last)",
      "Input \u001b[0;32mIn [25]\u001b[0m, in \u001b[0;36m<module>\u001b[0;34m\u001b[0m\n\u001b[1;32m      1\u001b[0m \u001b[38;5;28;01mfor\u001b[39;00m i \u001b[38;5;129;01min\u001b[39;00m \u001b[38;5;28mrange\u001b[39m(\u001b[38;5;28mlen\u001b[39m(vax_detr_metro)):\n\u001b[1;32m      2\u001b[0m     place \u001b[38;5;241m=\u001b[39m vax_detr_metro[\u001b[38;5;124m'\u001b[39m\u001b[38;5;124mY\u001b[39m\u001b[38;5;124m'\u001b[39m]\u001b[38;5;241m.\u001b[39miloc[i],vax_detr_metro[\u001b[38;5;124m'\u001b[39m\u001b[38;5;124mX\u001b[39m\u001b[38;5;124m'\u001b[39m]\u001b[38;5;241m.\u001b[39miloc[i]\n\u001b[0;32m----> 3\u001b[0m     gdf_iso_poly\u001b[38;5;241m=\u001b[39m\u001b[43misochrone_shape_generator\u001b[49m\u001b[43m(\u001b[49m\u001b[43mplace\u001b[49m\u001b[43m,\u001b[49m\u001b[43m \u001b[49m\u001b[43mnetwork_type\u001b[49m\u001b[43m,\u001b[49m\u001b[43m \u001b[49m\u001b[43mtrip_time\u001b[49m\u001b[43m,\u001b[49m\u001b[43m \u001b[49m\u001b[43mtravel_speed\u001b[49m\u001b[43m,\u001b[49m\u001b[43m \u001b[49m\u001b[43mmeters_per_minute\u001b[49m\u001b[43m)\u001b[49m\n\u001b[1;32m      4\u001b[0m     detroit_polygons \u001b[38;5;241m=\u001b[39m detroit_polygons\u001b[38;5;241m.\u001b[39mappend(gdf_iso_poly)\n",
      "Input \u001b[0;32mIn [22]\u001b[0m, in \u001b[0;36misochrone_shape_generator\u001b[0;34m(place, network_type, trip_time, travel_speed, meters_per_minute)\u001b[0m\n\u001b[1;32m      5\u001b[0m meters_per_minute \u001b[38;5;241m=\u001b[39m meters_per_minute\n\u001b[1;32m      6\u001b[0m \u001b[38;5;66;03m# download the street network\u001b[39;00m\n\u001b[0;32m----> 7\u001b[0m G \u001b[38;5;241m=\u001b[39m \u001b[43mox\u001b[49m\u001b[38;5;241;43m.\u001b[39;49m\u001b[43mgraph_from_point\u001b[49m\u001b[43m(\u001b[49m\u001b[43mplace\u001b[49m\u001b[43m,\u001b[49m\u001b[43m \u001b[49m\u001b[43mnetwork_type\u001b[49m\u001b[38;5;241;43m=\u001b[39;49m\u001b[43mnetwork_type\u001b[49m\u001b[43m)\u001b[49m\n\u001b[1;32m      8\u001b[0m \u001b[38;5;66;03m# find the centermost node and then project the graph to UTM\u001b[39;00m\n\u001b[1;32m      9\u001b[0m gdf_nodes \u001b[38;5;241m=\u001b[39m ox\u001b[38;5;241m.\u001b[39mgraph_to_gdfs(G, edges\u001b[38;5;241m=\u001b[39m\u001b[38;5;28;01mFalse\u001b[39;00m)\n",
      "File \u001b[0;32m~/opt/anaconda3/envs/final_ML_LR/lib/python3.8/site-packages/osmnx/graph.py:158\u001b[0m, in \u001b[0;36mgraph_from_point\u001b[0;34m(center_point, dist, dist_type, network_type, simplify, retain_all, truncate_by_edge, clean_periphery, custom_filter)\u001b[0m\n\u001b[1;32m    155\u001b[0m north, south, east, west \u001b[38;5;241m=\u001b[39m utils_geo\u001b[38;5;241m.\u001b[39mbbox_from_point(center_point, dist)\n\u001b[1;32m    157\u001b[0m \u001b[38;5;66;03m# create a graph from the bounding box\u001b[39;00m\n\u001b[0;32m--> 158\u001b[0m G \u001b[38;5;241m=\u001b[39m \u001b[43mgraph_from_bbox\u001b[49m\u001b[43m(\u001b[49m\n\u001b[1;32m    159\u001b[0m \u001b[43m    \u001b[49m\u001b[43mnorth\u001b[49m\u001b[43m,\u001b[49m\n\u001b[1;32m    160\u001b[0m \u001b[43m    \u001b[49m\u001b[43msouth\u001b[49m\u001b[43m,\u001b[49m\n\u001b[1;32m    161\u001b[0m \u001b[43m    \u001b[49m\u001b[43meast\u001b[49m\u001b[43m,\u001b[49m\n\u001b[1;32m    162\u001b[0m \u001b[43m    \u001b[49m\u001b[43mwest\u001b[49m\u001b[43m,\u001b[49m\n\u001b[1;32m    163\u001b[0m \u001b[43m    \u001b[49m\u001b[43mnetwork_type\u001b[49m\u001b[38;5;241;43m=\u001b[39;49m\u001b[43mnetwork_type\u001b[49m\u001b[43m,\u001b[49m\n\u001b[1;32m    164\u001b[0m \u001b[43m    \u001b[49m\u001b[43msimplify\u001b[49m\u001b[38;5;241;43m=\u001b[39;49m\u001b[43msimplify\u001b[49m\u001b[43m,\u001b[49m\n\u001b[1;32m    165\u001b[0m \u001b[43m    \u001b[49m\u001b[43mretain_all\u001b[49m\u001b[38;5;241;43m=\u001b[39;49m\u001b[43mretain_all\u001b[49m\u001b[43m,\u001b[49m\n\u001b[1;32m    166\u001b[0m \u001b[43m    \u001b[49m\u001b[43mtruncate_by_edge\u001b[49m\u001b[38;5;241;43m=\u001b[39;49m\u001b[43mtruncate_by_edge\u001b[49m\u001b[43m,\u001b[49m\n\u001b[1;32m    167\u001b[0m \u001b[43m    \u001b[49m\u001b[43mclean_periphery\u001b[49m\u001b[38;5;241;43m=\u001b[39;49m\u001b[43mclean_periphery\u001b[49m\u001b[43m,\u001b[49m\n\u001b[1;32m    168\u001b[0m \u001b[43m    \u001b[49m\u001b[43mcustom_filter\u001b[49m\u001b[38;5;241;43m=\u001b[39;49m\u001b[43mcustom_filter\u001b[49m\u001b[43m,\u001b[49m\n\u001b[1;32m    169\u001b[0m \u001b[43m\u001b[49m\u001b[43m)\u001b[49m\n\u001b[1;32m    171\u001b[0m \u001b[38;5;28;01mif\u001b[39;00m dist_type \u001b[38;5;241m==\u001b[39m \u001b[38;5;124m\"\u001b[39m\u001b[38;5;124mnetwork\u001b[39m\u001b[38;5;124m\"\u001b[39m:\n\u001b[1;32m    172\u001b[0m     \u001b[38;5;66;03m# if dist_type is network, find node in graph nearest to center point\u001b[39;00m\n\u001b[1;32m    173\u001b[0m     \u001b[38;5;66;03m# then truncate graph by network dist from it\u001b[39;00m\n\u001b[1;32m    174\u001b[0m     node \u001b[38;5;241m=\u001b[39m distance\u001b[38;5;241m.\u001b[39mnearest_nodes(G, X\u001b[38;5;241m=\u001b[39m[center_point[\u001b[38;5;241m1\u001b[39m]], Y\u001b[38;5;241m=\u001b[39m[center_point[\u001b[38;5;241m0\u001b[39m]])[\u001b[38;5;241m0\u001b[39m]\n",
      "File \u001b[0;32m~/opt/anaconda3/envs/final_ML_LR/lib/python3.8/site-packages/osmnx/graph.py:83\u001b[0m, in \u001b[0;36mgraph_from_bbox\u001b[0;34m(north, south, east, west, network_type, simplify, retain_all, truncate_by_edge, clean_periphery, custom_filter)\u001b[0m\n\u001b[1;32m     80\u001b[0m polygon \u001b[38;5;241m=\u001b[39m utils_geo\u001b[38;5;241m.\u001b[39mbbox_to_poly(north, south, east, west)\n\u001b[1;32m     82\u001b[0m \u001b[38;5;66;03m# create graph using this polygon geometry\u001b[39;00m\n\u001b[0;32m---> 83\u001b[0m G \u001b[38;5;241m=\u001b[39m \u001b[43mgraph_from_polygon\u001b[49m\u001b[43m(\u001b[49m\n\u001b[1;32m     84\u001b[0m \u001b[43m    \u001b[49m\u001b[43mpolygon\u001b[49m\u001b[43m,\u001b[49m\n\u001b[1;32m     85\u001b[0m \u001b[43m    \u001b[49m\u001b[43mnetwork_type\u001b[49m\u001b[38;5;241;43m=\u001b[39;49m\u001b[43mnetwork_type\u001b[49m\u001b[43m,\u001b[49m\n\u001b[1;32m     86\u001b[0m \u001b[43m    \u001b[49m\u001b[43msimplify\u001b[49m\u001b[38;5;241;43m=\u001b[39;49m\u001b[43msimplify\u001b[49m\u001b[43m,\u001b[49m\n\u001b[1;32m     87\u001b[0m \u001b[43m    \u001b[49m\u001b[43mretain_all\u001b[49m\u001b[38;5;241;43m=\u001b[39;49m\u001b[43mretain_all\u001b[49m\u001b[43m,\u001b[49m\n\u001b[1;32m     88\u001b[0m \u001b[43m    \u001b[49m\u001b[43mtruncate_by_edge\u001b[49m\u001b[38;5;241;43m=\u001b[39;49m\u001b[43mtruncate_by_edge\u001b[49m\u001b[43m,\u001b[49m\n\u001b[1;32m     89\u001b[0m \u001b[43m    \u001b[49m\u001b[43mclean_periphery\u001b[49m\u001b[38;5;241;43m=\u001b[39;49m\u001b[43mclean_periphery\u001b[49m\u001b[43m,\u001b[49m\n\u001b[1;32m     90\u001b[0m \u001b[43m    \u001b[49m\u001b[43mcustom_filter\u001b[49m\u001b[38;5;241;43m=\u001b[39;49m\u001b[43mcustom_filter\u001b[49m\u001b[43m,\u001b[49m\n\u001b[1;32m     91\u001b[0m \u001b[43m\u001b[49m\u001b[43m)\u001b[49m\n\u001b[1;32m     93\u001b[0m utils\u001b[38;5;241m.\u001b[39mlog(\u001b[38;5;124mf\u001b[39m\u001b[38;5;124m\"\u001b[39m\u001b[38;5;124mgraph_from_bbox returned graph with \u001b[39m\u001b[38;5;132;01m{\u001b[39;00m\u001b[38;5;28mlen\u001b[39m(G)\u001b[38;5;132;01m}\u001b[39;00m\u001b[38;5;124m nodes and \u001b[39m\u001b[38;5;132;01m{\u001b[39;00m\u001b[38;5;28mlen\u001b[39m(G\u001b[38;5;241m.\u001b[39medges)\u001b[38;5;132;01m}\u001b[39;00m\u001b[38;5;124m edges\u001b[39m\u001b[38;5;124m\"\u001b[39m)\n\u001b[1;32m     94\u001b[0m \u001b[38;5;28;01mreturn\u001b[39;00m G\n",
      "File \u001b[0;32m~/opt/anaconda3/envs/final_ML_LR/lib/python3.8/site-packages/osmnx/graph.py:426\u001b[0m, in \u001b[0;36mgraph_from_polygon\u001b[0;34m(polygon, network_type, simplify, retain_all, truncate_by_edge, clean_periphery, custom_filter)\u001b[0m\n\u001b[1;32m    424\u001b[0m \u001b[38;5;66;03m# create buffered graph from the downloaded data\u001b[39;00m\n\u001b[1;32m    425\u001b[0m bidirectional \u001b[38;5;241m=\u001b[39m network_type \u001b[38;5;129;01min\u001b[39;00m settings\u001b[38;5;241m.\u001b[39mbidirectional_network_types\n\u001b[0;32m--> 426\u001b[0m G_buff \u001b[38;5;241m=\u001b[39m \u001b[43m_create_graph\u001b[49m\u001b[43m(\u001b[49m\u001b[43mresponse_jsons\u001b[49m\u001b[43m,\u001b[49m\u001b[43m \u001b[49m\u001b[43mretain_all\u001b[49m\u001b[38;5;241;43m=\u001b[39;49m\u001b[38;5;28;43;01mTrue\u001b[39;49;00m\u001b[43m,\u001b[49m\u001b[43m \u001b[49m\u001b[43mbidirectional\u001b[49m\u001b[38;5;241;43m=\u001b[39;49m\u001b[43mbidirectional\u001b[49m\u001b[43m)\u001b[49m\n\u001b[1;32m    428\u001b[0m \u001b[38;5;66;03m# truncate buffered graph to the buffered polygon and retain_all for\u001b[39;00m\n\u001b[1;32m    429\u001b[0m \u001b[38;5;66;03m# now. needed because overpass returns entire ways that also include\u001b[39;00m\n\u001b[1;32m    430\u001b[0m \u001b[38;5;66;03m# nodes outside the poly if the way (that is, a way with a single OSM\u001b[39;00m\n\u001b[1;32m    431\u001b[0m \u001b[38;5;66;03m# ID) has a node inside the poly at some point.\u001b[39;00m\n\u001b[1;32m    432\u001b[0m G_buff \u001b[38;5;241m=\u001b[39m truncate\u001b[38;5;241m.\u001b[39mtruncate_graph_polygon(G_buff, poly_buff, \u001b[38;5;28;01mTrue\u001b[39;00m, truncate_by_edge)\n",
      "File \u001b[0;32m~/opt/anaconda3/envs/final_ML_LR/lib/python3.8/site-packages/osmnx/graph.py:567\u001b[0m, in \u001b[0;36m_create_graph\u001b[0;34m(response_jsons, retain_all, bidirectional)\u001b[0m\n\u001b[1;32m    564\u001b[0m     G\u001b[38;5;241m.\u001b[39madd_node(node, \u001b[38;5;241m*\u001b[39m\u001b[38;5;241m*\u001b[39mdata)\n\u001b[1;32m    566\u001b[0m \u001b[38;5;66;03m# add each osm way (ie, a path of edges) to the graph\u001b[39;00m\n\u001b[0;32m--> 567\u001b[0m \u001b[43m_add_paths\u001b[49m\u001b[43m(\u001b[49m\u001b[43mG\u001b[49m\u001b[43m,\u001b[49m\u001b[43m \u001b[49m\u001b[43mpaths\u001b[49m\u001b[38;5;241;43m.\u001b[39;49m\u001b[43mvalues\u001b[49m\u001b[43m(\u001b[49m\u001b[43m)\u001b[49m\u001b[43m,\u001b[49m\u001b[43m \u001b[49m\u001b[43mbidirectional\u001b[49m\u001b[43m)\u001b[49m\n\u001b[1;32m    569\u001b[0m \u001b[38;5;66;03m# retain only the largest connected component if retain_all is False\u001b[39;00m\n\u001b[1;32m    570\u001b[0m \u001b[38;5;28;01mif\u001b[39;00m \u001b[38;5;129;01mnot\u001b[39;00m retain_all:\n",
      "File \u001b[0;32m~/opt/anaconda3/envs/final_ML_LR/lib/python3.8/site-packages/osmnx/graph.py:773\u001b[0m, in \u001b[0;36m_add_paths\u001b[0;34m(G, paths, bidirectional)\u001b[0m\n\u001b[1;32m    770\u001b[0m     edges\u001b[38;5;241m.\u001b[39mextend([(v, u) \u001b[38;5;28;01mfor\u001b[39;00m u, v \u001b[38;5;129;01min\u001b[39;00m edges])\n\u001b[1;32m    772\u001b[0m \u001b[38;5;66;03m# add all the edge tuples and give them the path's tag:value attrs\u001b[39;00m\n\u001b[0;32m--> 773\u001b[0m \u001b[43mG\u001b[49m\u001b[38;5;241;43m.\u001b[39;49m\u001b[43madd_edges_from\u001b[49m\u001b[43m(\u001b[49m\u001b[43medges\u001b[49m\u001b[43m,\u001b[49m\u001b[43m \u001b[49m\u001b[38;5;241;43m*\u001b[39;49m\u001b[38;5;241;43m*\u001b[39;49m\u001b[43mpath\u001b[49m\u001b[43m)\u001b[49m\n",
      "File \u001b[0;32m~/opt/anaconda3/envs/final_ML_LR/lib/python3.8/site-packages/networkx/classes/multigraph.py:573\u001b[0m, in \u001b[0;36mMultiGraph.add_edges_from\u001b[0;34m(self, ebunch_to_add, **attr)\u001b[0m\n\u001b[1;32m    571\u001b[0m         key \u001b[38;5;241m=\u001b[39m dd  \u001b[38;5;66;03m# ne == 3 with 3rd value not dict, must be a key\u001b[39;00m\n\u001b[1;32m    572\u001b[0m     key \u001b[38;5;241m=\u001b[39m \u001b[38;5;28mself\u001b[39m\u001b[38;5;241m.\u001b[39madd_edge(u, v, key)\n\u001b[0;32m--> 573\u001b[0m     \u001b[38;5;28;43mself\u001b[39;49m\u001b[43m[\u001b[49m\u001b[43mu\u001b[49m\u001b[43m]\u001b[49m[v][key]\u001b[38;5;241m.\u001b[39mupdate(ddd)\n\u001b[1;32m    574\u001b[0m     keylist\u001b[38;5;241m.\u001b[39mappend(key)\n\u001b[1;32m    575\u001b[0m \u001b[38;5;28;01mreturn\u001b[39;00m keylist\n",
      "File \u001b[0;32m~/opt/anaconda3/envs/final_ML_LR/lib/python3.8/site-packages/networkx/classes/graph.py:476\u001b[0m, in \u001b[0;36mGraph.__getitem__\u001b[0;34m(self, n)\u001b[0m\n\u001b[1;32m    452\u001b[0m \u001b[38;5;28;01mdef\u001b[39;00m \u001b[38;5;21m__getitem__\u001b[39m(\u001b[38;5;28mself\u001b[39m, n):\n\u001b[1;32m    453\u001b[0m     \u001b[38;5;124;03m\"\"\"Returns a dict of neighbors of node n.  Use: 'G[n]'.\u001b[39;00m\n\u001b[1;32m    454\u001b[0m \n\u001b[1;32m    455\u001b[0m \u001b[38;5;124;03m    Parameters\u001b[39;00m\n\u001b[0;32m   (...)\u001b[0m\n\u001b[1;32m    474\u001b[0m \u001b[38;5;124;03m    AtlasView({1: {}})\u001b[39;00m\n\u001b[1;32m    475\u001b[0m \u001b[38;5;124;03m    \"\"\"\u001b[39;00m\n\u001b[0;32m--> 476\u001b[0m     \u001b[38;5;28;01mreturn\u001b[39;00m \u001b[38;5;28;43mself\u001b[39;49m\u001b[38;5;241;43m.\u001b[39;49m\u001b[43madj\u001b[49m[n]\n",
      "File \u001b[0;32m~/opt/anaconda3/envs/final_ML_LR/lib/python3.8/site-packages/networkx/classes/multidigraph.py:363\u001b[0m, in \u001b[0;36mMultiDiGraph.adj\u001b[0;34m(self)\u001b[0m\n\u001b[1;32m    346\u001b[0m \u001b[38;5;129m@property\u001b[39m\n\u001b[1;32m    347\u001b[0m \u001b[38;5;28;01mdef\u001b[39;00m \u001b[38;5;21madj\u001b[39m(\u001b[38;5;28mself\u001b[39m):\n\u001b[1;32m    348\u001b[0m     \u001b[38;5;124;03m\"\"\"Graph adjacency object holding the neighbors of each node.\u001b[39;00m\n\u001b[1;32m    349\u001b[0m \n\u001b[1;32m    350\u001b[0m \u001b[38;5;124;03m    This object is a read-only dict-like structure with node keys\u001b[39;00m\n\u001b[0;32m   (...)\u001b[0m\n\u001b[1;32m    361\u001b[0m \u001b[38;5;124;03m    For directed graphs, `G.adj` holds outgoing (successor) info.\u001b[39;00m\n\u001b[1;32m    362\u001b[0m \u001b[38;5;124;03m    \"\"\"\u001b[39;00m\n\u001b[0;32m--> 363\u001b[0m     \u001b[38;5;28;01mreturn\u001b[39;00m \u001b[43mMultiAdjacencyView\u001b[49m\u001b[43m(\u001b[49m\u001b[38;5;28;43mself\u001b[39;49m\u001b[38;5;241;43m.\u001b[39;49m\u001b[43m_succ\u001b[49m\u001b[43m)\u001b[49m\n",
      "File \u001b[0;32m~/opt/anaconda3/envs/final_ML_LR/lib/python3.8/site-packages/networkx/classes/coreviews.py:44\u001b[0m, in \u001b[0;36mAtlasView.__init__\u001b[0;34m(self, d)\u001b[0m\n\u001b[1;32m     41\u001b[0m \u001b[38;5;28;01mdef\u001b[39;00m \u001b[38;5;21m__setstate__\u001b[39m(\u001b[38;5;28mself\u001b[39m, state):\n\u001b[1;32m     42\u001b[0m     \u001b[38;5;28mself\u001b[39m\u001b[38;5;241m.\u001b[39m_atlas \u001b[38;5;241m=\u001b[39m state[\u001b[38;5;124m\"\u001b[39m\u001b[38;5;124m_atlas\u001b[39m\u001b[38;5;124m\"\u001b[39m]\n\u001b[0;32m---> 44\u001b[0m \u001b[38;5;28;01mdef\u001b[39;00m \u001b[38;5;21m__init__\u001b[39m(\u001b[38;5;28mself\u001b[39m, d):\n\u001b[1;32m     45\u001b[0m     \u001b[38;5;28mself\u001b[39m\u001b[38;5;241m.\u001b[39m_atlas \u001b[38;5;241m=\u001b[39m d\n\u001b[1;32m     47\u001b[0m \u001b[38;5;28;01mdef\u001b[39;00m \u001b[38;5;21m__len__\u001b[39m(\u001b[38;5;28mself\u001b[39m):\n",
      "\u001b[0;31mKeyboardInterrupt\u001b[0m: "
     ]
    }
   ],
   "source": [
    "for i in range(len(vax_detr_metro)):\n",
    "    place = vax_detr_metro['Y'].iloc[i],vax_detr_metro['X'].iloc[i]\n",
    "    gdf_iso_poly=isochrone_shape_generator(place, network_type, trip_time, travel_speed, meters_per_minute)\n",
    "    detroit_polygons = detroit_polygons.append(gdf_iso_poly)"
   ]
  },
  {
   "cell_type": "code",
   "execution_count": 27,
   "id": "86cde40c",
   "metadata": {},
   "outputs": [
    {
     "data": {
      "text/html": [
       "<div>\n",
       "<style scoped>\n",
       "    .dataframe tbody tr th:only-of-type {\n",
       "        vertical-align: middle;\n",
       "    }\n",
       "\n",
       "    .dataframe tbody tr th {\n",
       "        vertical-align: top;\n",
       "    }\n",
       "\n",
       "    .dataframe thead th {\n",
       "        text-align: right;\n",
       "    }\n",
       "</style>\n",
       "<table border=\"1\" class=\"dataframe\">\n",
       "  <thead>\n",
       "    <tr style=\"text-align: right;\">\n",
       "      <th></th>\n",
       "      <th>0</th>\n",
       "    </tr>\n",
       "  </thead>\n",
       "  <tbody>\n",
       "    <tr>\n",
       "      <th>0</th>\n",
       "      <td>POLYGON ((294860.4613026406 4695961.132099903,...</td>\n",
       "    </tr>\n",
       "    <tr>\n",
       "      <th>0</th>\n",
       "      <td>POLYGON ((341502.0415138075 4694202.765720206,...</td>\n",
       "    </tr>\n",
       "    <tr>\n",
       "      <th>0</th>\n",
       "      <td>POLYGON ((318063.13724238676 4699273.635123259...</td>\n",
       "    </tr>\n",
       "    <tr>\n",
       "      <th>0</th>\n",
       "      <td>POLYGON ((323800.8485959251 4688184.412598591,...</td>\n",
       "    </tr>\n",
       "    <tr>\n",
       "      <th>0</th>\n",
       "      <td>POLYGON ((321421.9978007265 4699316.824453924,...</td>\n",
       "    </tr>\n",
       "    <tr>\n",
       "      <th>0</th>\n",
       "      <td>POLYGON ((312706.9652684526 4670811.079845155,...</td>\n",
       "    </tr>\n",
       "    <tr>\n",
       "      <th>0</th>\n",
       "      <td>POLYGON ((300634.9053449211 4686431.964118528,...</td>\n",
       "    </tr>\n",
       "    <tr>\n",
       "      <th>0</th>\n",
       "      <td>POLYGON ((294944.9174387326 4699953.680981675,...</td>\n",
       "    </tr>\n",
       "    <tr>\n",
       "      <th>0</th>\n",
       "      <td>POLYGON ((313353.0704268181 4680012.425938412,...</td>\n",
       "    </tr>\n",
       "    <tr>\n",
       "      <th>0</th>\n",
       "      <td>POLYGON ((302310.1485699231 4684977.210632092,...</td>\n",
       "    </tr>\n",
       "    <tr>\n",
       "      <th>0</th>\n",
       "      <td>POLYGON ((297868.38766489027 4692131.730654925...</td>\n",
       "    </tr>\n",
       "    <tr>\n",
       "      <th>0</th>\n",
       "      <td>POLYGON ((338769.65765645704 4693819.282333647...</td>\n",
       "    </tr>\n",
       "  </tbody>\n",
       "</table>\n",
       "</div>"
      ],
      "text/plain": [
       "                                                   0\n",
       "0  POLYGON ((294860.4613026406 4695961.132099903,...\n",
       "0  POLYGON ((341502.0415138075 4694202.765720206,...\n",
       "0  POLYGON ((318063.13724238676 4699273.635123259...\n",
       "0  POLYGON ((323800.8485959251 4688184.412598591,...\n",
       "0  POLYGON ((321421.9978007265 4699316.824453924,...\n",
       "0  POLYGON ((312706.9652684526 4670811.079845155,...\n",
       "0  POLYGON ((300634.9053449211 4686431.964118528,...\n",
       "0  POLYGON ((294944.9174387326 4699953.680981675,...\n",
       "0  POLYGON ((313353.0704268181 4680012.425938412,...\n",
       "0  POLYGON ((302310.1485699231 4684977.210632092,...\n",
       "0  POLYGON ((297868.38766489027 4692131.730654925...\n",
       "0  POLYGON ((338769.65765645704 4693819.282333647..."
      ]
     },
     "execution_count": 27,
     "metadata": {},
     "output_type": "execute_result"
    }
   ],
   "source": [
    "detroit_polygons.head(20)"
   ]
  },
  {
   "cell_type": "code",
   "execution_count": null,
   "id": "be3b504c",
   "metadata": {},
   "outputs": [],
   "source": []
  }
 ],
 "metadata": {
  "kernelspec": {
   "display_name": "Python 3 (ipykernel)",
   "language": "python",
   "name": "python3"
  },
  "language_info": {
   "codemirror_mode": {
    "name": "ipython",
    "version": 3
   },
   "file_extension": ".py",
   "mimetype": "text/x-python",
   "name": "python",
   "nbconvert_exporter": "python",
   "pygments_lexer": "ipython3",
   "version": "3.8.12"
  }
 },
 "nbformat": 4,
 "nbformat_minor": 5
}
