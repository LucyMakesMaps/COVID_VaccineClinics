{
 "cells": [
  {
   "cell_type": "markdown",
   "id": "46699867",
   "metadata": {},
   "source": [
    "### Import Modules, Assign Data Path & Read into GDF"
   ]
  },
  {
   "cell_type": "code",
   "execution_count": 4,
   "id": "409598c8",
   "metadata": {},
   "outputs": [
    {
     "name": "stdout",
     "output_type": "stream",
     "text": [
      "2022-02-23 07:49:15 Configured OSMnx 1.1.2\n",
      "2022-02-23 07:49:15 HTTP response caching is on\n"
     ]
    },
    {
     "name": "stderr",
     "output_type": "stream",
     "text": [
      "/var/folders/8v/6dq3dnld7rx4qv5wr7vx0w5m0000gn/T/ipykernel_54547/4099419668.py:16: DtypeWarning: Columns (41) have mixed types. Specify dtype option on import or set low_memory=False.\n",
      "  vax_df = pd.read_csv('/Users/zachary/Desktop/WINTER22/Geog490/COVID_VaccineClinics/Covid-19_Vaccination_Provider_Locations_in_the_United_States.csv')\n"
     ]
    }
   ],
   "source": [
    "#Modules\n",
    "import osmnx as ox \n",
    "import numpy as np\n",
    "import geopandas as gpd\n",
    "import pandas as pd\n",
    "from shapely.geometry.polygon import Polygon\n",
    "from shapely.geometry.multipolygon import MultiPolygon\n",
    "from shapely.geometry import LineString, MultiLineString\n",
    "from shapely.geometry import Point, LineString, Polygon\n",
    "import networkx as nx\n",
    "import matplotlib.pyplot as plt\n",
    "from descartes import PolygonPatch\n",
    "ox.config(log_console=True, use_cache=True)\n",
    "ox.__version__\n",
    "#Read Data into DataFrame\n",
    "vax_df = pd.read_csv('/Users/zachary/Desktop/WINTER22/Geog490/COVID_VaccineClinics/Covid-19_Vaccination_Provider_Locations_in_the_United_States.csv')\n",
    "# Convert DataFrame to GeoDataFrame\n",
    "vax_gdf = gpd.GeoDataFrame(vax_df, geometry=gpd.points_from_xy(vax_df['X'], vax_df['Y']))\n",
    "#Reproject to UTM 17\n",
    "vax_gdf.crs = 'EPSG:32617'"
   ]
  },
  {
   "cell_type": "markdown",
   "id": "33a6bcb5",
   "metadata": {},
   "source": [
    "### Limit to Detroit Metro Area (Which we are defining as Wayne, Oakland, and Macomb County)"
   ]
  },
  {
   "cell_type": "code",
   "execution_count": 9,
   "id": "3773330a",
   "metadata": {},
   "outputs": [
    {
     "name": "stderr",
     "output_type": "stream",
     "text": [
      "/var/folders/8v/6dq3dnld7rx4qv5wr7vx0w5m0000gn/T/ipykernel_54547/2395504573.py:9: FutureWarning: The frame.append method is deprecated and will be removed from pandas in a future version. Use pandas.concat instead.\n",
      "  vax_detr_metro = vax_detr_metro.append(vax_oakland)\n",
      "/var/folders/8v/6dq3dnld7rx4qv5wr7vx0w5m0000gn/T/ipykernel_54547/2395504573.py:10: FutureWarning: The frame.append method is deprecated and will be removed from pandas in a future version. Use pandas.concat instead.\n",
      "  vax_detr_metro = vax_detr_metro.append(vax_macomb)\n"
     ]
    }
   ],
   "source": [
    "#limit by state to Michigan\n",
    "vax_MI = vax_gdf[vax_gdf['State']== 'MI'] \n",
    "#Limit By County to Wayne, Oakland, and Macomb\n",
    "vax_wayne = vax_MI[vax_MI['county']== 'Wayne']\n",
    "vax_oakland = vax_MI[vax_MI['county']== 'Oakland'] \n",
    "vax_macomb = vax_MI[vax_MI['county']== 'Macomb']\n",
    "#Agglomerate to one GDF of Detroit Metro\n",
    "vax_detr_metro = vax_wayne \n",
    "vax_detr_metro = vax_detr_metro.append(vax_oakland)\n",
    "vax_detr_metro = vax_detr_metro.append(vax_macomb)"
   ]
  },
  {
   "cell_type": "markdown",
   "id": "1f7c0ec1",
   "metadata": {},
   "source": [
    "### Isochrone Loop"
   ]
  },
  {
   "cell_type": "code",
   "execution_count": 10,
   "id": "0e6cbfb9",
   "metadata": {},
   "outputs": [],
   "source": [
    "detroit_polygons = []"
   ]
  },
  {
   "cell_type": "code",
   "execution_count": 11,
   "id": "813dbf3a",
   "metadata": {},
   "outputs": [],
   "source": [
    "def make_iso_polys(G, edge_buff=25, node_buff=50, infill=False):\n",
    "    isochrone_polys = []\n",
    "    for trip_time in sorted(trip_times, reverse=True):\n",
    "        subgraph = nx.ego_graph(G, center_node, radius=trip_time, distance='time')\n",
    "\n",
    "        node_points = [Point((data['x'], data['y'])) for node, data in subgraph.nodes(data=True)]\n",
    "        nodes_gdf = gpd.GeoDataFrame({'id': subgraph.nodes()}, geometry=node_points)\n",
    "        nodes_gdf = nodes_gdf.set_index('id')\n",
    "\n",
    "        edge_lines = []\n",
    "        for n_fr, n_to in subgraph.edges():\n",
    "            f = nodes_gdf.loc[n_fr].geometry\n",
    "            t = nodes_gdf.loc[n_to].geometry\n",
    "            edge_lookup = G.get_edge_data(n_fr, n_to)[0].get('geometry',  LineString([f,t]))\n",
    "            edge_lines.append(edge_lookup)\n",
    "\n",
    "        n = nodes_gdf.buffer(node_buff).geometry\n",
    "        e = gpd.GeoSeries(edge_lines).buffer(edge_buff).geometry\n",
    "        all_gs = list(n) + list(e)\n",
    "        new_iso = gpd.GeoSeries(all_gs).unary_union\n",
    "        \n",
    "        # try to fill in surrounded areas so shapes will appear solid and blocks without white space inside them\n",
    "        if infill:\n",
    "            new_iso = Polygon(new_iso.exterior)\n",
    "        isochrone_polys.append(new_iso)\n",
    "    return isochrone_polys"
   ]
  },
  {
   "cell_type": "code",
   "execution_count": 15,
   "id": "6b2c673f",
   "metadata": {},
   "outputs": [
    {
     "name": "stdout",
     "output_type": "stream",
     "text": [
      "2022-02-23 08:37:05 Created bbox 1000 m from (42.1553136997277, -83.1895734997341): 42.164306903082625,42.14632049637277,-83.17744229710189,-83.2017047023663\n",
      "2022-02-23 08:37:05 Projected GeoDataFrame to +proj=utm +zone=17 +ellps=WGS84 +datum=WGS84 +units=m +no_defs +type=crs\n",
      "2022-02-23 08:37:05 Projected GeoDataFrame to epsg:4326\n",
      "2022-02-23 08:37:05 Projected GeoDataFrame to +proj=utm +zone=17 +ellps=WGS84 +datum=WGS84 +units=m +no_defs +type=crs\n",
      "2022-02-23 08:37:06 Projected GeoDataFrame to epsg:4326\n",
      "2022-02-23 08:37:06 Requesting data within polygon from API in 1 request(s)\n",
      "2022-02-23 08:37:06 Retrieved response from cache file \"cache/0d0975de1e807e7a1578817712c28dbc7f037d0f.json\"\n",
      "2022-02-23 08:37:06 Got all network data within polygon from API in 1 request(s)\n",
      "2022-02-23 08:37:06 Creating graph from downloaded OSM data...\n",
      "2022-02-23 08:37:07 Created graph with 6467 nodes and 14856 edges\n",
      "2022-02-23 08:37:07 Added length attributes to graph edges\n",
      "2022-02-23 08:37:07 Identifying all nodes that lie outside the polygon...\n",
      "2022-02-23 08:37:09 Created nodes GeoDataFrame from graph\n",
      "2022-02-23 08:37:10 Created r-tree spatial index for 6467 geometries\n",
      "2022-02-23 08:37:11 Identified 5962 geometries inside polygon\n",
      "2022-02-23 08:37:12 Removed 505 nodes outside polygon\n",
      "2022-02-23 08:37:12 Truncated graph by polygon\n",
      "2022-02-23 08:37:12 Begin topologically simplifying the graph...\n",
      "2022-02-23 08:37:13 Identified 1755 edge endpoints\n",
      "2022-02-23 08:37:17 Simplified graph: 5962 to 1755 nodes, 13784 to 5370 edges\n",
      "2022-02-23 08:37:17 Identifying all nodes that lie outside the polygon...\n",
      "2022-02-23 08:37:17 Created nodes GeoDataFrame from graph\n",
      "2022-02-23 08:37:17 Created r-tree spatial index for 1755 geometries\n",
      "2022-02-23 08:37:17 Identified 933 geometries inside polygon\n",
      "2022-02-23 08:37:18 Removed 822 nodes outside polygon\n",
      "2022-02-23 08:37:18 Removed 8 isolated nodes\n",
      "2022-02-23 08:37:18 Got largest weakly connected component (917 of 925 total nodes)\n",
      "2022-02-23 08:37:18 Truncated graph by polygon\n",
      "2022-02-23 08:37:18 Counted undirected street segments incident on each node\n",
      "2022-02-23 08:37:18 graph_from_polygon returned graph with 917 nodes and 2710 edges\n",
      "2022-02-23 08:37:18 graph_from_bbox returned graph with 917 nodes and 2710 edges\n",
      "2022-02-23 08:37:18 graph_from_point returned graph with 917 nodes and 2710 edges\n",
      "2022-02-23 08:37:19 Created nodes GeoDataFrame from graph\n",
      "2022-02-23 08:37:19 Created nodes GeoDataFrame from graph\n"
     ]
    },
    {
     "name": "stderr",
     "output_type": "stream",
     "text": [
      "/Users/zachary/opt/anaconda3/envs/final_ML_LR/lib/python3.8/site-packages/osmnx/distance.py:356: UserWarning: The `get_nearest_node` function has been deprecated and will be removed in a future release. Use the more efficient `distance.nearest_nodes` instead.\n",
      "  warnings.warn(msg)\n"
     ]
    },
    {
     "name": "stdout",
     "output_type": "stream",
     "text": [
      "2022-02-23 08:37:19 Created nodes GeoDataFrame from graph\n",
      "2022-02-23 08:37:20 Projected GeoDataFrame to +proj=utm +zone=17 +ellps=WGS84 +datum=WGS84 +units=m +no_defs +type=crs\n",
      "2022-02-23 08:37:21 Created edges GeoDataFrame from graph\n",
      "2022-02-23 08:37:22 Projected GeoDataFrame to +proj=utm +zone=17 +ellps=WGS84 +datum=WGS84 +units=m +no_defs +type=crs\n",
      "2022-02-23 08:37:22 Created graph from node/edge GeoDataFrames\n",
      "2022-02-23 08:37:22 Projected graph with 917 nodes and 2710 edges\n"
     ]
    }
   ],
   "source": [
    "#for i in len(vax_detr_metro): \n",
    "\n",
    "\n",
    "# configure the place, network type, trip times, and travel speed\n",
    "place = vax_detr_metro['Y'].iloc[20],vax_detr_metro['X'].iloc[20]\n",
    "network_type = 'walk'\n",
    "trip_times = [5, 10, 15, 20, 25] #in minutes\n",
    "travel_speed = 4.5 #walking speed in km/hour\n",
    "meters_per_minute = travel_speed * 1000 / 60 #km per hour to m per minutee\n",
    "\n",
    "\n",
    "# download the street network\n",
    "G = ox.graph_from_point(place, network_type=network_type)\n",
    "\n",
    "\n",
    "# find the centermost node and then project the graph to UTM\n",
    "gdf_nodes = ox.graph_to_gdfs(G, edges=False)\n",
    "x, y = gdf_nodes['geometry'].unary_union.centroid.xy\n",
    "center_node = ox.get_nearest_node(G, (y[0], x[0]))\n",
    "G = ox.project_graph(G)\n",
    "\n",
    "\n",
    "# add an edge attribute for time in minutes required to traverse each edge\n",
    "for u, v, k, data in G.edges(data=True, keys=True):\n",
    "    data['time'] = data['length'] / meters_per_minute\n",
    "\n",
    "# get one color for each isochrone\n",
    "iso_colors = ox.plot.get_colors(n=len(trip_times), cmap='plasma', start=0, return_hex=True)\n",
    "\n",
    "\n",
    "# color the nodes according to isochrone then plot the street network\n",
    "node_colors = {}\n",
    "for trip_time, color in zip(sorted(trip_times, reverse=True), iso_colors):\n",
    "    subgraph = nx.ego_graph(G, center_node, radius=trip_time, distance='time')\n",
    "    for node in subgraph.nodes():\n",
    "        node_colors[node] = color\n",
    "nc = [node_colors[node] if node in node_colors else 'none' for node in G.nodes()]\n",
    "ns = [15 if node in node_colors else 0 for node in G.nodes()]\n",
    "#fig, ax = ox.plot_graph(G, node_color=nc, node_size=ns, node_alpha=0.8, node_zorder=2,bgcolor='k', edge_linewidth=0.2, edge_color='#999999')\n",
    "\n",
    "\n",
    "# make the isochrone polygons\n",
    "isochrone_polys = []\n",
    "for trip_time in sorted(trip_times, reverse=True):\n",
    "    subgraph = nx.ego_graph(G, center_node, radius=trip_time, distance='time')\n",
    "    node_points = [Point((data['x'], data['y'])) for node, data in subgraph.nodes(data=True)]\n",
    "    bounding_poly = gpd.GeoSeries(node_points).unary_union.convex_hull\n",
    "    isochrone_polys.append(bounding_poly)\n",
    "\n",
    "    \n",
    "# plot the network then add isochrones as colored descartes polygon patches\n",
    "#fig, ax = ox.plot_graph(G, show=False, close=False, edge_color='#999999', edge_alpha=0.2, node_size=0, bgcolor='k')\n",
    "#for polygon, fc in zip(isochrone_polys, iso_colors):\n",
    "    #patch = PolygonPatch(polygon, fc=fc, ec='none', alpha=0.6, zorder=-1)\n",
    "    #ax.add_patch(patch)\n",
    "#plt.show()\n",
    "\n",
    "\n",
    "isochrone_polys = make_iso_polys(G, edge_buff=25, node_buff=0, infill=True)\n",
    "#fig, ax = ox.plot_graph(G, show=False, close=False, edge_color='#999999', edge_alpha=0.2,node_size=0, bgcolor='k')\n",
    "#for polygon, fc in zip(isochrone_polys, iso_colors):\n",
    "    #patch = PolygonPatch(polygon, fc=fc, ec='none', alpha=0.6, zorder=-1)\n",
    "    #ax.add_patch(patch)\n",
    "#plt.show()\n"
   ]
  },
  {
   "cell_type": "code",
   "execution_count": 20,
   "id": "11a394b2",
   "metadata": {},
   "outputs": [],
   "source": [
    "gdf_iso_polys = gpd.GeoDataFrame(isochrone_polys)"
   ]
  },
  {
   "cell_type": "code",
   "execution_count": 22,
   "id": "e3d6be79",
   "metadata": {},
   "outputs": [
    {
     "data": {
      "text/html": [
       "<div>\n",
       "<style scoped>\n",
       "    .dataframe tbody tr th:only-of-type {\n",
       "        vertical-align: middle;\n",
       "    }\n",
       "\n",
       "    .dataframe tbody tr th {\n",
       "        vertical-align: top;\n",
       "    }\n",
       "\n",
       "    .dataframe thead th {\n",
       "        text-align: right;\n",
       "    }\n",
       "</style>\n",
       "<table border=\"1\" class=\"dataframe\">\n",
       "  <thead>\n",
       "    <tr style=\"text-align: right;\">\n",
       "      <th></th>\n",
       "      <th>0</th>\n",
       "    </tr>\n",
       "  </thead>\n",
       "  <tbody>\n",
       "    <tr>\n",
       "      <th>0</th>\n",
       "      <td>POLYGON ((318078.84232644626 4668406.389600081...</td>\n",
       "    </tr>\n",
       "    <tr>\n",
       "      <th>1</th>\n",
       "      <td>POLYGON ((318218.61693326576 4668554.31765883,...</td>\n",
       "    </tr>\n",
       "    <tr>\n",
       "      <th>2</th>\n",
       "      <td>POLYGON ((318246.30282590626 4668876.491166547...</td>\n",
       "    </tr>\n",
       "    <tr>\n",
       "      <th>3</th>\n",
       "      <td>POLYGON ((318534.5520722948 4668966.859059164,...</td>\n",
       "    </tr>\n",
       "    <tr>\n",
       "      <th>4</th>\n",
       "      <td>POLYGON ((318691.79718468245 4669227.993494365...</td>\n",
       "    </tr>\n",
       "  </tbody>\n",
       "</table>\n",
       "</div>"
      ],
      "text/plain": [
       "                                                   0\n",
       "0  POLYGON ((318078.84232644626 4668406.389600081...\n",
       "1  POLYGON ((318218.61693326576 4668554.31765883,...\n",
       "2  POLYGON ((318246.30282590626 4668876.491166547...\n",
       "3  POLYGON ((318534.5520722948 4668966.859059164,...\n",
       "4  POLYGON ((318691.79718468245 4669227.993494365..."
      ]
     },
     "execution_count": 22,
     "metadata": {},
     "output_type": "execute_result"
    }
   ],
   "source": [
    "gdf_iso_polys.head()"
   ]
  },
  {
   "cell_type": "code",
   "execution_count": null,
   "id": "3315b66e",
   "metadata": {},
   "outputs": [],
   "source": []
  }
 ],
 "metadata": {
  "kernelspec": {
   "display_name": "Python 3 (ipykernel)",
   "language": "python",
   "name": "python3"
  },
  "language_info": {
   "codemirror_mode": {
    "name": "ipython",
    "version": 3
   },
   "file_extension": ".py",
   "mimetype": "text/x-python",
   "name": "python",
   "nbconvert_exporter": "python",
   "pygments_lexer": "ipython3",
   "version": "3.8.12"
  }
 },
 "nbformat": 4,
 "nbformat_minor": 5
}
