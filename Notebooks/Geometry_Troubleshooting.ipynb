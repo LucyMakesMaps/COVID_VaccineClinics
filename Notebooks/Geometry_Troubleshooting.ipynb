{
 "cells": [
  {
   "cell_type": "code",
   "execution_count": 1,
   "id": "fb9b8c83",
   "metadata": {},
   "outputs": [
    {
     "name": "stdout",
     "output_type": "stream",
     "text": [
      "2022-02-26 12:55:51 Configured OSMnx 1.1.2\n",
      "2022-02-26 12:55:51 HTTP response caching is on\n"
     ]
    },
    {
     "name": "stderr",
     "output_type": "stream",
     "text": [
      "/var/folders/8v/6dq3dnld7rx4qv5wr7vx0w5m0000gn/T/ipykernel_5380/4099419668.py:16: DtypeWarning: Columns (41) have mixed types. Specify dtype option on import or set low_memory=False.\n",
      "  vax_df = pd.read_csv('/Users/zachary/Desktop/WINTER22/Geog490/COVID_VaccineClinics/Covid-19_Vaccination_Provider_Locations_in_the_United_States.csv')\n"
     ]
    }
   ],
   "source": [
    "#Modules\n",
    "import osmnx as ox \n",
    "import numpy as np\n",
    "import geopandas as gpd\n",
    "import pandas as pd\n",
    "from shapely.geometry.polygon import Polygon\n",
    "from shapely.geometry.multipolygon import MultiPolygon\n",
    "from shapely.geometry import LineString, MultiLineString\n",
    "from shapely.geometry import Point, LineString, Polygon\n",
    "import networkx as nx\n",
    "import matplotlib.pyplot as plt\n",
    "from descartes import PolygonPatch\n",
    "ox.config(log_console=True, use_cache=True)\n",
    "ox.__version__\n",
    "#Read Data into DataFrame\n",
    "vax_df = pd.read_csv('/Users/zachary/Desktop/WINTER22/Geog490/COVID_VaccineClinics/Covid-19_Vaccination_Provider_Locations_in_the_United_States.csv')\n",
    "# Convert DataFrame to GeoDataFrame\n",
    "vax_gdf = gpd.GeoDataFrame(vax_df, geometry=gpd.points_from_xy(vax_df['X'], vax_df['Y']))\n",
    "#Reproject to UTM 17\n",
    "vax_gdf.crs = 'EPSG:32617'"
   ]
  },
  {
   "cell_type": "code",
   "execution_count": 2,
   "id": "9db5a659",
   "metadata": {},
   "outputs": [
    {
     "name": "stderr",
     "output_type": "stream",
     "text": [
      "/var/folders/8v/6dq3dnld7rx4qv5wr7vx0w5m0000gn/T/ipykernel_5380/2395504573.py:9: FutureWarning: The frame.append method is deprecated and will be removed from pandas in a future version. Use pandas.concat instead.\n",
      "  vax_detr_metro = vax_detr_metro.append(vax_oakland)\n",
      "/var/folders/8v/6dq3dnld7rx4qv5wr7vx0w5m0000gn/T/ipykernel_5380/2395504573.py:10: FutureWarning: The frame.append method is deprecated and will be removed from pandas in a future version. Use pandas.concat instead.\n",
      "  vax_detr_metro = vax_detr_metro.append(vax_macomb)\n"
     ]
    }
   ],
   "source": [
    "#limit by state to Michigan\n",
    "vax_MI = vax_gdf[vax_gdf['State']== 'MI'] \n",
    "#Limit By County to Wayne, Oakland, and Macomb\n",
    "vax_wayne = vax_MI[vax_MI['county']== 'Wayne']\n",
    "vax_oakland = vax_MI[vax_MI['county']== 'Oakland'] \n",
    "vax_macomb = vax_MI[vax_MI['county']== 'Macomb']\n",
    "#Agglomerate to one GDF of Detroit Metro\n",
    "vax_detr_metro = vax_wayne \n",
    "vax_detr_metro = vax_detr_metro.append(vax_oakland)\n",
    "vax_detr_metro = vax_detr_metro.append(vax_macomb)"
   ]
  },
  {
   "cell_type": "code",
   "execution_count": 6,
   "id": "fd94b844",
   "metadata": {},
   "outputs": [],
   "source": [
    "#Set Variables\n",
    "network_type = 'walk'\n",
    "trip_time = 20 #in minutes\n",
    "travel_speed = 4.5 #walking speed in km/hour\n",
    "meters_per_minute = travel_speed * 1000 / 60 #km per hour to m per minute\n",
    "detroit_polygons = gpd.GeoDataFrame()# add geometry column? "
   ]
  },
  {
   "cell_type": "code",
   "execution_count": 7,
   "id": "b9964eb0",
   "metadata": {},
   "outputs": [],
   "source": [
    "def make_iso_polys(G, center_node, edge_buff=25, node_buff=50, infill=False):\n",
    "    isochrone_polys = []\n",
    "    \n",
    "    subgraph = nx.ego_graph(G, center_node, radius=trip_time, distance='time')\n",
    "\n",
    "    node_points = [Point((data['x'], data['y'])) for node, data in subgraph.nodes(data=True)]\n",
    "    nodes_gdf = gpd.GeoDataFrame({'id': subgraph.nodes()}, geometry=node_points)\n",
    "    nodes_gdf = nodes_gdf.set_index('id') #could be here that somethign goes wrong\n",
    "\n",
    "    edge_lines = []\n",
    "    for n_fr, n_to in subgraph.edges():\n",
    "        f = nodes_gdf.loc[n_fr].geometry\n",
    "        t = nodes_gdf.loc[n_to].geometry\n",
    "        edge_lookup = G.get_edge_data(n_fr, n_to)[0].get('geometry',  LineString([f,t]))\n",
    "        edge_lines.append(edge_lookup)\n",
    "\n",
    "    n = nodes_gdf.buffer(node_buff).geometry\n",
    "    e = gpd.GeoSeries(edge_lines).buffer(edge_buff).geometry\n",
    "    all_gs = list(n) + list(e)\n",
    "    new_iso = gpd.GeoSeries(all_gs).unary_union\n",
    "        \n",
    "    # try to fill in surrounded areas so shapes will appear solid and blocks without white space inside them\n",
    "    if infill:\n",
    "        new_iso = Polygon(new_iso.exterior)\n",
    "    isochrone_polys.append(new_iso)\n",
    "    return isochrone_polys"
   ]
  },
  {
   "cell_type": "code",
   "execution_count": 12,
   "id": "d3a80f45",
   "metadata": {},
   "outputs": [
    {
     "name": "stdout",
     "output_type": "stream",
     "text": [
      "2022-02-26 13:02:58 Created bbox 1000 m from (42.3903256997602, -82.9147948003165): 42.39931890311512,42.38133249640527,-82.90261827909424,-82.92697132153876\n",
      "2022-02-26 13:02:58 Projected GeoDataFrame to +proj=utm +zone=17 +ellps=WGS84 +datum=WGS84 +units=m +no_defs +type=crs\n",
      "2022-02-26 13:02:58 Projected GeoDataFrame to epsg:4326\n",
      "2022-02-26 13:02:58 Projected GeoDataFrame to +proj=utm +zone=17 +ellps=WGS84 +datum=WGS84 +units=m +no_defs +type=crs\n",
      "2022-02-26 13:02:58 Projected GeoDataFrame to epsg:4326\n",
      "2022-02-26 13:02:58 Requesting data within polygon from API in 1 request(s)\n",
      "2022-02-26 13:02:58 Retrieved response from cache file \"cache/76c1edeab297279db46d8b790aa123a27fd7a24b.json\"\n",
      "2022-02-26 13:02:58 Got all network data within polygon from API in 1 request(s)\n",
      "2022-02-26 13:02:58 Creating graph from downloaded OSM data...\n",
      "2022-02-26 13:02:58 Created graph with 2833 nodes and 6666 edges\n",
      "2022-02-26 13:02:58 Added length attributes to graph edges\n",
      "2022-02-26 13:02:58 Identifying all nodes that lie outside the polygon...\n",
      "2022-02-26 13:02:58 Created nodes GeoDataFrame from graph\n",
      "2022-02-26 13:02:58 Created r-tree spatial index for 2833 geometries\n",
      "2022-02-26 13:02:58 Identified 2261 geometries inside polygon\n",
      "2022-02-26 13:02:58 Removed 572 nodes outside polygon\n",
      "2022-02-26 13:02:58 Truncated graph by polygon\n",
      "2022-02-26 13:02:58 Begin topologically simplifying the graph...\n",
      "2022-02-26 13:02:58 Identified 891 edge endpoints\n",
      "2022-02-26 13:02:59 Simplified graph: 2261 to 891 nodes, 5418 to 2678 edges\n",
      "2022-02-26 13:02:59 Identifying all nodes that lie outside the polygon...\n",
      "2022-02-26 13:02:59 Created nodes GeoDataFrame from graph\n",
      "2022-02-26 13:02:59 Created r-tree spatial index for 891 geometries\n",
      "2022-02-26 13:02:59 Identified 525 geometries inside polygon\n",
      "2022-02-26 13:02:59 Removed 366 nodes outside polygon\n",
      "2022-02-26 13:02:59 Removed 1 isolated nodes\n",
      "2022-02-26 13:02:59 Got largest weakly connected component (522 of 524 total nodes)\n",
      "2022-02-26 13:02:59 Truncated graph by polygon\n",
      "2022-02-26 13:02:59 Counted undirected street segments incident on each node\n",
      "2022-02-26 13:02:59 graph_from_polygon returned graph with 522 nodes and 1588 edges\n",
      "2022-02-26 13:02:59 graph_from_bbox returned graph with 522 nodes and 1588 edges\n",
      "2022-02-26 13:02:59 graph_from_point returned graph with 522 nodes and 1588 edges\n",
      "2022-02-26 13:02:59 Created nodes GeoDataFrame from graph\n",
      "2022-02-26 13:02:59 Created nodes GeoDataFrame from graph\n",
      "2022-02-26 13:02:59 Created nodes GeoDataFrame from graph\n",
      "2022-02-26 13:02:59 Projected GeoDataFrame to +proj=utm +zone=17 +ellps=WGS84 +datum=WGS84 +units=m +no_defs +type=crs\n"
     ]
    },
    {
     "name": "stderr",
     "output_type": "stream",
     "text": [
      "/Users/zachary/opt/anaconda3/envs/final_ML_LR/lib/python3.8/site-packages/osmnx/distance.py:356: UserWarning: The `get_nearest_node` function has been deprecated and will be removed in a future release. Use the more efficient `distance.nearest_nodes` instead.\n",
      "  warnings.warn(msg)\n"
     ]
    },
    {
     "name": "stdout",
     "output_type": "stream",
     "text": [
      "2022-02-26 13:02:59 Created edges GeoDataFrame from graph\n",
      "2022-02-26 13:03:00 Projected GeoDataFrame to +proj=utm +zone=17 +ellps=WGS84 +datum=WGS84 +units=m +no_defs +type=crs\n",
      "2022-02-26 13:03:00 Created graph from node/edge GeoDataFrames\n",
      "2022-02-26 13:03:00 Projected graph with 522 nodes and 1588 edges\n"
     ]
    },
    {
     "data": {
      "text/plain": [
       "'\\ngdf_iso_poly = gpd.GeoDataFrame(isochrone_polys)#add geometry column?\\ngdf_iso_poly\\n'"
      ]
     },
     "execution_count": 12,
     "metadata": {},
     "output_type": "execute_result"
    }
   ],
   "source": [
    "\n",
    "# download the street network\n",
    "G = ox.graph_from_point(place, network_type=network_type)\n",
    "# find the centermost node and then project the graph to UTM\n",
    "gdf_nodes = ox.graph_to_gdfs(G, edges=False)\n",
    "x, y = gdf_nodes['geometry'].unary_union.centroid.xy\n",
    "center_node = ox.get_nearest_node(G, (y[0], x[0]))\n",
    "G = ox.project_graph(G)\n",
    "for u, v, k, data in G.edges(data=True, keys=True):\n",
    "    data['time'] = data['length'] / meters_per_minute\n",
    "isochrone_polys = []\n",
    "subgraph = nx.ego_graph(G, center_node, radius=trip_time, distance='time')\n",
    "node_points = [Point((data['x'], data['y'])) for node, data in subgraph.nodes(data=True)]\n",
    "bounding_poly = gpd.GeoSeries(node_points).unary_union.convex_hull\n",
    "isochrone_polys.append(bounding_poly)\n",
    "isochrone_polys = make_iso_polys(G, center_node, edge_buff=25, node_buff=0, infill=True)\n",
    "\n",
    "gdf_iso_poly = gpd.GeoDataFrame(isochrone_polys)#add geometry column?\n",
    "gdf_iso_poly\n"
   ]
  },
  {
   "cell_type": "code",
   "execution_count": 9,
   "id": "85745a3a",
   "metadata": {},
   "outputs": [
    {
     "name": "stdout",
     "output_type": "stream",
     "text": [
      "2022-02-26 13:00:26 Created bbox 1000 m from (42.3903256997602, -82.9147948003165): 42.39931890311512,42.38133249640527,-82.90261827909424,-82.92697132153876\n",
      "2022-02-26 13:00:26 Projected GeoDataFrame to +proj=utm +zone=17 +ellps=WGS84 +datum=WGS84 +units=m +no_defs +type=crs\n",
      "2022-02-26 13:00:26 Projected GeoDataFrame to epsg:4326\n",
      "2022-02-26 13:00:26 Projected GeoDataFrame to +proj=utm +zone=17 +ellps=WGS84 +datum=WGS84 +units=m +no_defs +type=crs\n",
      "2022-02-26 13:00:26 Projected GeoDataFrame to epsg:4326\n",
      "2022-02-26 13:00:26 Requesting data within polygon from API in 1 request(s)\n",
      "2022-02-26 13:00:26 Resolved overpass-api.de to 178.63.11.215\n",
      "2022-02-26 13:00:27 Pausing 0 seconds before making HTTP POST request\n",
      "2022-02-26 13:00:27 Post https://overpass-api.de/api/interpreter?data=%5Bout%3Ajson%5D%5Btimeout%3A180%5D%3B%28way%5B%22highway%22%5D%5B%22area%22%21~%22yes%22%5D%5B%22access%22%21~%22private%22%5D%5B%22highway%22%21~%22abandoned%7Cbus_guideway%7Cconstruction%7Ccycleway%7Cmotor%7Cplanned%7Cplatform%7Cproposed%7Craceway%22%5D%5B%22foot%22%21~%22no%22%5D%5B%22service%22%21~%22private%22%5D%28poly%3A%2742.381332+-82.933043+42.399319+-82.933045+42.399760+-82.933016+42.400197+-82.932928+42.400625+-82.932784+42.401041+-82.932583+42.401441+-82.932328+42.401820+-82.932022+42.402174+-82.931667+42.402502+-82.931267+42.402798+-82.930825+42.403062+-82.930346+42.403289+-82.929835+42.403478+-82.929296+42.403627+-82.928735+42.403734+-82.928157+42.403799+-82.927568+42.403821+-82.926972+42.403821+-82.902617+42.403799+-82.902022+42.403734+-82.901433+42.403627+-82.900854+42.403478+-82.900293+42.403289+-82.899754+42.403062+-82.899243+42.402798+-82.898765+42.402502+-82.898323+42.402174+-82.897923+42.401820+-82.897568+42.401441+-82.897261+42.401041+-82.897007+42.400625+-82.896806+42.400197+-82.896661+42.399760+-82.896574+42.399319+-82.896545+42.381332+-82.896546+42.380891+-82.896576+42.380454+-82.896663+42.380025+-82.896808+42.379609+-82.897009+42.379210+-82.897264+42.378831+-82.897570+42.378476+-82.897925+42.378149+-82.898325+42.377852+-82.898767+42.377589+-82.899246+42.377362+-82.899757+42.377173+-82.900295+42.377024+-82.900856+42.376917+-82.901435+42.376852+-82.902024+42.376831+-82.902619+42.376831+-82.926970+42.376852+-82.927566+42.376917+-82.928155+42.377025+-82.928733+42.377173+-82.929294+42.377362+-82.929833+42.377589+-82.930344+42.377852+-82.930823+42.378149+-82.931264+42.378476+-82.931665+42.378831+-82.932020+42.379210+-82.932326+42.379610+-82.932581+42.380025+-82.932782+42.380454+-82.932926+42.380891+-82.933014+42.381332+-82.933043%27%29%3B%3E%3B%29%3Bout%3B with timeout=180\n",
      "2022-02-26 13:00:27 Resolved overpass-api.de to 178.63.11.215\n",
      "2022-02-26 13:00:30 Downloaded 435.1kB from overpass-api.de\n",
      "2022-02-26 13:00:30 Saved response to cache file \"cache/76c1edeab297279db46d8b790aa123a27fd7a24b.json\"\n",
      "2022-02-26 13:00:30 Got all network data within polygon from API in 1 request(s)\n",
      "2022-02-26 13:00:30 Creating graph from downloaded OSM data...\n",
      "2022-02-26 13:00:30 Created graph with 2833 nodes and 6666 edges\n",
      "2022-02-26 13:00:30 Added length attributes to graph edges\n",
      "2022-02-26 13:00:30 Identifying all nodes that lie outside the polygon...\n",
      "2022-02-26 13:00:30 Created nodes GeoDataFrame from graph\n",
      "2022-02-26 13:00:30 Created r-tree spatial index for 2833 geometries\n",
      "2022-02-26 13:00:30 Identified 2261 geometries inside polygon\n",
      "2022-02-26 13:00:31 Removed 572 nodes outside polygon\n",
      "2022-02-26 13:00:31 Truncated graph by polygon\n",
      "2022-02-26 13:00:31 Begin topologically simplifying the graph...\n",
      "2022-02-26 13:00:31 Identified 891 edge endpoints\n",
      "2022-02-26 13:00:31 Simplified graph: 2261 to 891 nodes, 5418 to 2678 edges\n",
      "2022-02-26 13:00:31 Identifying all nodes that lie outside the polygon...\n",
      "2022-02-26 13:00:31 Created nodes GeoDataFrame from graph\n",
      "2022-02-26 13:00:31 Created r-tree spatial index for 891 geometries\n",
      "2022-02-26 13:00:31 Identified 525 geometries inside polygon\n",
      "2022-02-26 13:00:31 Removed 366 nodes outside polygon\n",
      "2022-02-26 13:00:31 Removed 1 isolated nodes\n",
      "2022-02-26 13:00:31 Got largest weakly connected component (522 of 524 total nodes)\n",
      "2022-02-26 13:00:31 Truncated graph by polygon\n",
      "2022-02-26 13:00:31 Counted undirected street segments incident on each node\n",
      "2022-02-26 13:00:31 graph_from_polygon returned graph with 522 nodes and 1588 edges\n",
      "2022-02-26 13:00:31 graph_from_bbox returned graph with 522 nodes and 1588 edges\n",
      "2022-02-26 13:00:31 graph_from_point returned graph with 522 nodes and 1588 edges\n",
      "2022-02-26 13:00:31 Created nodes GeoDataFrame from graph\n",
      "2022-02-26 13:00:31 Created nodes GeoDataFrame from graph\n",
      "2022-02-26 13:00:31 Created nodes GeoDataFrame from graph\n",
      "2022-02-26 13:00:31 Projected GeoDataFrame to +proj=utm +zone=17 +ellps=WGS84 +datum=WGS84 +units=m +no_defs +type=crs\n"
     ]
    },
    {
     "name": "stderr",
     "output_type": "stream",
     "text": [
      "/Users/zachary/opt/anaconda3/envs/final_ML_LR/lib/python3.8/site-packages/osmnx/distance.py:356: UserWarning: The `get_nearest_node` function has been deprecated and will be removed in a future release. Use the more efficient `distance.nearest_nodes` instead.\n",
      "  warnings.warn(msg)\n"
     ]
    },
    {
     "name": "stdout",
     "output_type": "stream",
     "text": [
      "2022-02-26 13:00:31 Created edges GeoDataFrame from graph\n",
      "2022-02-26 13:00:31 Projected GeoDataFrame to +proj=utm +zone=17 +ellps=WGS84 +datum=WGS84 +units=m +no_defs +type=crs\n",
      "2022-02-26 13:00:31 Created graph from node/edge GeoDataFrames\n",
      "2022-02-26 13:00:31 Projected graph with 522 nodes and 1588 edges\n"
     ]
    },
    {
     "data": {
      "text/html": [
       "<div>\n",
       "<style scoped>\n",
       "    .dataframe tbody tr th:only-of-type {\n",
       "        vertical-align: middle;\n",
       "    }\n",
       "\n",
       "    .dataframe tbody tr th {\n",
       "        vertical-align: top;\n",
       "    }\n",
       "\n",
       "    .dataframe thead th {\n",
       "        text-align: right;\n",
       "    }\n",
       "</style>\n",
       "<table border=\"1\" class=\"dataframe\">\n",
       "  <thead>\n",
       "    <tr style=\"text-align: right;\">\n",
       "      <th></th>\n",
       "      <th>0</th>\n",
       "    </tr>\n",
       "  </thead>\n",
       "  <tbody>\n",
       "    <tr>\n",
       "      <th>0</th>\n",
       "      <td>POLYGON ((341502.0415138075 4694202.765720206,...</td>\n",
       "    </tr>\n",
       "  </tbody>\n",
       "</table>\n",
       "</div>"
      ],
      "text/plain": [
       "                                                   0\n",
       "0  POLYGON ((341502.0415138075 4694202.765720206,..."
      ]
     },
     "execution_count": 9,
     "metadata": {},
     "output_type": "execute_result"
    }
   ],
   "source": [
    "place = vax_detr_metro['Y'].iloc[1],vax_detr_metro['X'].iloc[1]\n",
    "isochrone_shape_generator(place, network_type, trip_time, travel_speed, meters_per_minute)"
   ]
  },
  {
   "cell_type": "code",
   "execution_count": 15,
   "id": "98f43f88",
   "metadata": {},
   "outputs": [],
   "source": [
    "\n",
    "gdf = gpd.GeoDataFrame(index=[0], crs='EPSG:32617', geometry=isochrone_polys)"
   ]
  },
  {
   "cell_type": "code",
   "execution_count": 16,
   "id": "e7415729",
   "metadata": {},
   "outputs": [
    {
     "data": {
      "text/html": [
       "<div>\n",
       "<style scoped>\n",
       "    .dataframe tbody tr th:only-of-type {\n",
       "        vertical-align: middle;\n",
       "    }\n",
       "\n",
       "    .dataframe tbody tr th {\n",
       "        vertical-align: top;\n",
       "    }\n",
       "\n",
       "    .dataframe thead th {\n",
       "        text-align: right;\n",
       "    }\n",
       "</style>\n",
       "<table border=\"1\" class=\"dataframe\">\n",
       "  <thead>\n",
       "    <tr style=\"text-align: right;\">\n",
       "      <th></th>\n",
       "      <th>geometry</th>\n",
       "    </tr>\n",
       "  </thead>\n",
       "  <tbody>\n",
       "    <tr>\n",
       "      <th>0</th>\n",
       "      <td>POLYGON ((341502.042 4694202.766, 341500.948 4...</td>\n",
       "    </tr>\n",
       "  </tbody>\n",
       "</table>\n",
       "</div>"
      ],
      "text/plain": [
       "                                            geometry\n",
       "0  POLYGON ((341502.042 4694202.766, 341500.948 4..."
      ]
     },
     "execution_count": 16,
     "metadata": {},
     "output_type": "execute_result"
    }
   ],
   "source": [
    "gdf"
   ]
  },
  {
   "cell_type": "code",
   "execution_count": null,
   "id": "189e33e4",
   "metadata": {},
   "outputs": [],
   "source": []
  }
 ],
 "metadata": {
  "kernelspec": {
   "display_name": "Python 3 (ipykernel)",
   "language": "python",
   "name": "python3"
  },
  "language_info": {
   "codemirror_mode": {
    "name": "ipython",
    "version": 3
   },
   "file_extension": ".py",
   "mimetype": "text/x-python",
   "name": "python",
   "nbconvert_exporter": "python",
   "pygments_lexer": "ipython3",
   "version": "3.8.12"
  }
 },
 "nbformat": 4,
 "nbformat_minor": 5
}
