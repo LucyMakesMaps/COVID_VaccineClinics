{
 "cells": [
  {
   "cell_type": "markdown",
   "id": "c5071744",
   "metadata": {},
   "source": [
    "### Import Modules, Assign Data Path & Read into GDF"
   ]
  },
  {
   "cell_type": "code",
   "execution_count": 28,
   "id": "31dab155",
   "metadata": {},
   "outputs": [
    {
     "name": "stdout",
     "output_type": "stream",
     "text": [
      "2022-02-23 14:20:02 Configured OSMnx 1.1.2\n",
      "2022-02-23 14:20:02 HTTP response caching is on\n"
     ]
    },
    {
     "name": "stderr",
     "output_type": "stream",
     "text": [
      "/var/folders/8v/6dq3dnld7rx4qv5wr7vx0w5m0000gn/T/ipykernel_54547/4099419668.py:16: DtypeWarning: Columns (41) have mixed types. Specify dtype option on import or set low_memory=False.\n",
      "  vax_df = pd.read_csv('/Users/zachary/Desktop/WINTER22/Geog490/COVID_VaccineClinics/Covid-19_Vaccination_Provider_Locations_in_the_United_States.csv')\n"
     ]
    }
   ],
   "source": [
    "#Modules\n",
    "import osmnx as ox \n",
    "import numpy as np\n",
    "import geopandas as gpd\n",
    "import pandas as pd\n",
    "from shapely.geometry.polygon import Polygon\n",
    "from shapely.geometry.multipolygon import MultiPolygon\n",
    "from shapely.geometry import LineString, MultiLineString\n",
    "from shapely.geometry import Point, LineString, Polygon\n",
    "import networkx as nx\n",
    "import matplotlib.pyplot as plt\n",
    "from descartes import PolygonPatch\n",
    "ox.config(log_console=True, use_cache=True)\n",
    "ox.__version__\n",
    "#Read Data into DataFrame\n",
    "vax_df = pd.read_csv('/Users/zachary/Desktop/WINTER22/Geog490/COVID_VaccineClinics/Covid-19_Vaccination_Provider_Locations_in_the_United_States.csv')\n",
    "# Convert DataFrame to GeoDataFrame\n",
    "vax_gdf = gpd.GeoDataFrame(vax_df, geometry=gpd.points_from_xy(vax_df['X'], vax_df['Y']))\n",
    "#Reproject to UTM 17\n",
    "vax_gdf.crs = 'EPSG:32617'"
   ]
  },
  {
   "cell_type": "markdown",
   "id": "48fdc52f",
   "metadata": {},
   "source": [
    "### Limit to Detroit Metro Area (Which we are defining as Wayne, Oakland, and Macomb County)"
   ]
  },
  {
   "cell_type": "code",
   "execution_count": 29,
   "id": "329d4049",
   "metadata": {},
   "outputs": [
    {
     "name": "stderr",
     "output_type": "stream",
     "text": [
      "/var/folders/8v/6dq3dnld7rx4qv5wr7vx0w5m0000gn/T/ipykernel_54547/2395504573.py:9: FutureWarning: The frame.append method is deprecated and will be removed from pandas in a future version. Use pandas.concat instead.\n",
      "  vax_detr_metro = vax_detr_metro.append(vax_oakland)\n",
      "/var/folders/8v/6dq3dnld7rx4qv5wr7vx0w5m0000gn/T/ipykernel_54547/2395504573.py:10: FutureWarning: The frame.append method is deprecated and will be removed from pandas in a future version. Use pandas.concat instead.\n",
      "  vax_detr_metro = vax_detr_metro.append(vax_macomb)\n"
     ]
    }
   ],
   "source": [
    "#limit by state to Michigan\n",
    "vax_MI = vax_gdf[vax_gdf['State']== 'MI'] \n",
    "#Limit By County to Wayne, Oakland, and Macomb\n",
    "vax_wayne = vax_MI[vax_MI['county']== 'Wayne']\n",
    "vax_oakland = vax_MI[vax_MI['county']== 'Oakland'] \n",
    "vax_macomb = vax_MI[vax_MI['county']== 'Macomb']\n",
    "#Agglomerate to one GDF of Detroit Metro\n",
    "vax_detr_metro = vax_wayne \n",
    "vax_detr_metro = vax_detr_metro.append(vax_oakland)\n",
    "vax_detr_metro = vax_detr_metro.append(vax_macomb)"
   ]
  },
  {
   "cell_type": "markdown",
   "id": "1c1e0d19",
   "metadata": {},
   "source": [
    "### Isochrone Loop"
   ]
  },
  {
   "cell_type": "code",
   "execution_count": 57,
   "id": "ae3e81ab",
   "metadata": {},
   "outputs": [],
   "source": [
    "def make_iso_polys(G, edge_buff=25, node_buff=50, infill=False):\n",
    "    isochrone_polys = []\n",
    "    for trip_time in sorted(trip_times, reverse=True):\n",
    "        subgraph = nx.ego_graph(G, center_node, radius=trip_time, distance='time')\n",
    "\n",
    "        node_points = [Point((data['x'], data['y'])) for node, data in subgraph.nodes(data=True)]\n",
    "        nodes_gdf = gpd.GeoDataFrame({'id': subgraph.nodes()}, geometry=node_points)\n",
    "        nodes_gdf = nodes_gdf.set_index('id')\n",
    "\n",
    "        edge_lines = []\n",
    "        for n_fr, n_to in subgraph.edges():\n",
    "            f = nodes_gdf.loc[n_fr].geometry\n",
    "            t = nodes_gdf.loc[n_to].geometry\n",
    "            edge_lookup = G.get_edge_data(n_fr, n_to)[0].get('geometry',  LineString([f,t]))\n",
    "            edge_lines.append(edge_lookup)\n",
    "\n",
    "        n = nodes_gdf.buffer(node_buff).geometry\n",
    "        e = gpd.GeoSeries(edge_lines).buffer(edge_buff).geometry\n",
    "        all_gs = list(n) + list(e)\n",
    "        new_iso = gpd.GeoSeries(all_gs).unary_union\n",
    "        \n",
    "        # try to fill in surrounded areas so shapes will appear solid and blocks without white space inside them\n",
    "        if infill:\n",
    "            new_iso = Polygon(new_iso.exterior)\n",
    "        isochrone_polys.append(new_iso)\n",
    "    return isochrone_polys"
   ]
  },
  {
   "cell_type": "code",
   "execution_count": 68,
   "id": "9034c324",
   "metadata": {},
   "outputs": [],
   "source": [
    "#set Variables\n",
    "\n",
    "network_type = 'walk'\n",
    "trip_time = 20 #in minutes\n",
    "travel_speed = 4.5 #walking speed in km/hour\n",
    "meters_per_minute = travel_speed * 1000 / 60 #km per hour to m per minute"
   ]
  },
  {
   "cell_type": "code",
   "execution_count": 71,
   "id": "29647778",
   "metadata": {},
   "outputs": [],
   "source": [
    "def isochrone_shape_generator(place, network_type, trip_time, travel_speed, meters_per_minute):\n",
    "    detroit_polygons = gpd.GeoDataFrame() \n",
    "    for i in range(len(vax_detr_metro)): \n",
    "        place = vax_detr_metro['Y'].iloc[i],vax_detr_metro['X'].iloc[i]\n",
    "        network_type = network_type\n",
    "        trip_time = trip_time\n",
    "        travel_speed = travel_speed\n",
    "        meters_per_minute = meters_per_minute\n",
    "        # download the street network\n",
    "        G = ox.graph_from_point(place, network_type=network_type)\n",
    "\n",
    "\n",
    "        # find the centermost node and then project the graph to UTM\n",
    "        gdf_nodes = ox.graph_to_gdfs(G, edges=False)\n",
    "        x, y = gdf_nodes['geometry'].unary_union.centroid.xy\n",
    "        center_node = ox.get_nearest_node(G, (y[0], x[0]))\n",
    "        G = ox.project_graph(G)\n",
    "\n",
    "\n",
    "        # add an edge attribute for time in minutes required to traverse each edge\n",
    "        for u, v, k, data in G.edges(data=True, keys=True):\n",
    "            data['time'] = data['length'] / meters_per_minute\n",
    "\n",
    "        # get one color for each isochrone\n",
    "        #iso_colors = ox.plot.get_colors(n=len(trip_time), cmap='plasma', start=0, return_hex=True)\n",
    "\n",
    "\n",
    "        # color the nodes according to isochrone then plot the street network\n",
    "        '''\n",
    "        node_colors = {}\n",
    "        for trip_time, color in zip(sorted(trip_times, reverse=True), iso_colors):\n",
    "            subgraph = nx.ego_graph(G, center_node, radius=trip_time, distance='time')\n",
    "            for node in subgraph.nodes():\n",
    "                node_colors[node] = color\n",
    "        nc = [node_colors[node] if node in node_colors else 'none' for node in G.nodes()]\n",
    "        ns = [15 if node in node_colors else 0 for node in G.nodes()]\n",
    "        #fig, ax = ox.plot_graph(G, node_color=nc, node_size=ns, node_alpha=0.8, node_zorder=2,bgcolor='k', edge_linewidth=0.2, edge_color='#999999')\n",
    "        '''\n",
    "\n",
    "        # make the isochrone polygons\n",
    "        \n",
    "        isochrone_polys = []\n",
    "        \n",
    "        subgraph = nx.ego_graph(G, center_node, radius=trip_time, distance='time')\n",
    "        node_points = [Point((data['x'], data['y'])) for node, data in subgraph.nodes(data=True)]\n",
    "        bounding_poly = gpd.GeoSeries(node_points).unary_union.convex_hull\n",
    "        isochrone_polys.append(bounding_poly)\n",
    "        \n",
    "\n",
    "        # plot the network then add isochrones as colored descartes polygon patches\n",
    "        #fig, ax = ox.plot_graph(G, show=False, close=False, edge_color='#999999', edge_alpha=0.2, node_size=0, bgcolor='k')\n",
    "        #for polygon, fc in zip(isochrone_polys, iso_colors):\n",
    "            #patch = PolygonPatch(polygon, fc=fc, ec='none', alpha=0.6, zorder=-1)\n",
    "            #ax.add_patch(patch)\n",
    "        #plt.show()\n",
    "\n",
    "\n",
    "        isochrone_polys = make_iso_polys(G, edge_buff=25, node_buff=0, infill=True)\n",
    "        #fig, ax = ox.plot_graph(G, show=False, close=False, edge_color='#999999', edge_alpha=0.2,node_size=0, bgcolor='k')\n",
    "        #for polygon, fc in zip(isochrone_polys, iso_colors):\n",
    "            #patch = PolygonPatch(polygon, fc=fc, ec='none', alpha=0.6, zorder=-1)\n",
    "            #ax.add_patch(patch)\n",
    "        #plt.show()\n",
    "        gdf_iso_polys = gpd.GeoDataFrame(isochrone_polys)\n",
    "        detroit_polygons = detroit_polygons.append(gdf_iso_polys)\n",
    "    return detroit_polygons"
   ]
  },
  {
   "cell_type": "code",
   "execution_count": 72,
   "id": "539d68c7",
   "metadata": {},
   "outputs": [
    {
     "name": "stdout",
     "output_type": "stream",
     "text": [
      "2022-02-23 14:55:34 Created bbox 1000 m from (42.3963769002206, -83.4806078996323): 42.40537010357553,42.387383696865676,-83.46843020434454,-83.49278559492006\n",
      "2022-02-23 14:55:34 Projected GeoDataFrame to +proj=utm +zone=17 +ellps=WGS84 +datum=WGS84 +units=m +no_defs +type=crs\n",
      "2022-02-23 14:55:34 Projected GeoDataFrame to epsg:4326\n",
      "2022-02-23 14:55:34 Projected GeoDataFrame to +proj=utm +zone=17 +ellps=WGS84 +datum=WGS84 +units=m +no_defs +type=crs\n",
      "2022-02-23 14:55:34 Projected GeoDataFrame to epsg:4326\n",
      "2022-02-23 14:55:34 Requesting data within polygon from API in 1 request(s)\n",
      "2022-02-23 14:55:34 Retrieved response from cache file \"cache/57002b79dcee13f1efd36a0e9f1512a90a7b4c00.json\"\n",
      "2022-02-23 14:55:34 Got all network data within polygon from API in 1 request(s)\n",
      "2022-02-23 14:55:34 Creating graph from downloaded OSM data...\n",
      "2022-02-23 14:55:35 Created graph with 4232 nodes and 9136 edges\n",
      "2022-02-23 14:55:35 Added length attributes to graph edges\n",
      "2022-02-23 14:55:35 Identifying all nodes that lie outside the polygon...\n",
      "2022-02-23 14:55:36 Created nodes GeoDataFrame from graph\n",
      "2022-02-23 14:55:37 Created r-tree spatial index for 4232 geometries\n",
      "2022-02-23 14:55:37 Identified 3756 geometries inside polygon\n",
      "2022-02-23 14:55:37 Removed 476 nodes outside polygon\n",
      "2022-02-23 14:55:37 Truncated graph by polygon\n",
      "2022-02-23 14:55:38 Begin topologically simplifying the graph...\n",
      "2022-02-23 14:55:38 Identified 1068 edge endpoints\n",
      "2022-02-23 14:55:40 Simplified graph: 3756 to 1068 nodes, 8124 to 2748 edges\n",
      "2022-02-23 14:55:40 Identifying all nodes that lie outside the polygon...\n",
      "2022-02-23 14:55:40 Created nodes GeoDataFrame from graph\n",
      "2022-02-23 14:55:40 Created r-tree spatial index for 1068 geometries\n",
      "2022-02-23 14:55:40 Identified 513 geometries inside polygon\n",
      "2022-02-23 14:55:40 Removed 555 nodes outside polygon\n",
      "2022-02-23 14:55:40 Removed 6 isolated nodes\n",
      "2022-02-23 14:55:41 Got largest weakly connected component (469 of 507 total nodes)\n",
      "2022-02-23 14:55:41 Truncated graph by polygon\n",
      "2022-02-23 14:55:41 Counted undirected street segments incident on each node\n",
      "2022-02-23 14:55:41 graph_from_polygon returned graph with 469 nodes and 1300 edges\n",
      "2022-02-23 14:55:41 graph_from_bbox returned graph with 469 nodes and 1300 edges\n",
      "2022-02-23 14:55:41 graph_from_point returned graph with 469 nodes and 1300 edges\n",
      "2022-02-23 14:55:41 Created nodes GeoDataFrame from graph\n"
     ]
    },
    {
     "name": "stderr",
     "output_type": "stream",
     "text": [
      "/Users/zachary/opt/anaconda3/envs/final_ML_LR/lib/python3.8/site-packages/osmnx/distance.py:356: UserWarning: The `get_nearest_node` function has been deprecated and will be removed in a future release. Use the more efficient `distance.nearest_nodes` instead.\n",
      "  warnings.warn(msg)\n"
     ]
    },
    {
     "name": "stdout",
     "output_type": "stream",
     "text": [
      "2022-02-23 14:55:41 Created nodes GeoDataFrame from graph\n",
      "2022-02-23 14:55:41 Created nodes GeoDataFrame from graph\n",
      "2022-02-23 14:55:41 Projected GeoDataFrame to +proj=utm +zone=17 +ellps=WGS84 +datum=WGS84 +units=m +no_defs +type=crs\n",
      "2022-02-23 14:55:42 Created edges GeoDataFrame from graph\n",
      "2022-02-23 14:55:42 Projected GeoDataFrame to +proj=utm +zone=17 +ellps=WGS84 +datum=WGS84 +units=m +no_defs +type=crs\n",
      "2022-02-23 14:55:42 Created graph from node/edge GeoDataFrames\n",
      "2022-02-23 14:55:42 Projected graph with 469 nodes and 1300 edges\n"
     ]
    },
    {
     "name": "stderr",
     "output_type": "stream",
     "text": [
      "/var/folders/8v/6dq3dnld7rx4qv5wr7vx0w5m0000gn/T/ipykernel_54547/514891206.py:65: FutureWarning: The frame.append method is deprecated and will be removed from pandas in a future version. Use pandas.concat instead.\n",
      "  detroit_polygons = detroit_polygons.append(gdf_iso_polys)\n"
     ]
    },
    {
     "name": "stdout",
     "output_type": "stream",
     "text": [
      "2022-02-23 14:55:48 Created bbox 1000 m from (42.3903256997602, -82.9147948003165): 42.39931890311512,42.38133249640527,-82.90261827909424,-82.92697132153876\n",
      "2022-02-23 14:55:48 Projected GeoDataFrame to +proj=utm +zone=17 +ellps=WGS84 +datum=WGS84 +units=m +no_defs +type=crs\n",
      "2022-02-23 14:55:48 Projected GeoDataFrame to epsg:4326\n",
      "2022-02-23 14:55:48 Projected GeoDataFrame to +proj=utm +zone=17 +ellps=WGS84 +datum=WGS84 +units=m +no_defs +type=crs\n",
      "2022-02-23 14:55:48 Projected GeoDataFrame to epsg:4326\n",
      "2022-02-23 14:55:48 Requesting data within polygon from API in 1 request(s)\n",
      "2022-02-23 14:55:48 Retrieved response from cache file \"cache/76c1edeab297279db46d8b790aa123a27fd7a24b.json\"\n",
      "2022-02-23 14:55:48 Got all network data within polygon from API in 1 request(s)\n",
      "2022-02-23 14:55:48 Creating graph from downloaded OSM data...\n",
      "2022-02-23 14:55:49 Created graph with 2833 nodes and 6666 edges\n",
      "2022-02-23 14:55:49 Added length attributes to graph edges\n",
      "2022-02-23 14:55:49 Identifying all nodes that lie outside the polygon...\n",
      "2022-02-23 14:55:50 Created nodes GeoDataFrame from graph\n",
      "2022-02-23 14:55:50 Created r-tree spatial index for 2833 geometries\n",
      "2022-02-23 14:55:51 Identified 2261 geometries inside polygon\n",
      "2022-02-23 14:55:51 Removed 572 nodes outside polygon\n",
      "2022-02-23 14:55:51 Truncated graph by polygon\n",
      "2022-02-23 14:55:51 Begin topologically simplifying the graph...\n",
      "2022-02-23 14:55:51 Identified 891 edge endpoints\n",
      "2022-02-23 14:55:52 Simplified graph: 2261 to 891 nodes, 5418 to 2678 edges\n",
      "2022-02-23 14:55:52 Identifying all nodes that lie outside the polygon...\n",
      "2022-02-23 14:55:52 Created nodes GeoDataFrame from graph\n",
      "2022-02-23 14:55:52 Created r-tree spatial index for 891 geometries\n",
      "2022-02-23 14:55:53 Identified 525 geometries inside polygon\n",
      "2022-02-23 14:55:53 Removed 366 nodes outside polygon\n",
      "2022-02-23 14:55:53 Removed 1 isolated nodes\n",
      "2022-02-23 14:55:53 Got largest weakly connected component (522 of 524 total nodes)\n",
      "2022-02-23 14:55:53 Truncated graph by polygon\n",
      "2022-02-23 14:55:53 Counted undirected street segments incident on each node\n",
      "2022-02-23 14:55:53 graph_from_polygon returned graph with 522 nodes and 1588 edges\n",
      "2022-02-23 14:55:53 graph_from_bbox returned graph with 522 nodes and 1588 edges\n",
      "2022-02-23 14:55:53 graph_from_point returned graph with 522 nodes and 1588 edges\n",
      "2022-02-23 14:55:53 Created nodes GeoDataFrame from graph\n",
      "2022-02-23 14:55:53 Created nodes GeoDataFrame from graph\n",
      "2022-02-23 14:55:53 Created nodes GeoDataFrame from graph\n"
     ]
    },
    {
     "name": "stderr",
     "output_type": "stream",
     "text": [
      "/Users/zachary/opt/anaconda3/envs/final_ML_LR/lib/python3.8/site-packages/osmnx/distance.py:356: UserWarning: The `get_nearest_node` function has been deprecated and will be removed in a future release. Use the more efficient `distance.nearest_nodes` instead.\n",
      "  warnings.warn(msg)\n"
     ]
    },
    {
     "name": "stdout",
     "output_type": "stream",
     "text": [
      "2022-02-23 14:55:54 Projected GeoDataFrame to +proj=utm +zone=17 +ellps=WGS84 +datum=WGS84 +units=m +no_defs +type=crs\n",
      "2022-02-23 14:55:55 Created edges GeoDataFrame from graph\n",
      "2022-02-23 14:55:55 Projected GeoDataFrame to +proj=utm +zone=17 +ellps=WGS84 +datum=WGS84 +units=m +no_defs +type=crs\n",
      "2022-02-23 14:55:55 Created graph from node/edge GeoDataFrames\n",
      "2022-02-23 14:55:55 Projected graph with 522 nodes and 1588 edges\n"
     ]
    },
    {
     "ename": "NodeNotFound",
     "evalue": "Source 2922302695 not in G",
     "output_type": "error",
     "traceback": [
      "\u001b[0;31m---------------------------------------------------------------------------\u001b[0m",
      "\u001b[0;31mNodeNotFound\u001b[0m                              Traceback (most recent call last)",
      "Input \u001b[0;32mIn [72]\u001b[0m, in \u001b[0;36m<module>\u001b[0;34m\u001b[0m\n\u001b[0;32m----> 1\u001b[0m \u001b[43misochrone_shape_generator\u001b[49m\u001b[43m(\u001b[49m\u001b[43mnetwork_type\u001b[49m\u001b[43m,\u001b[49m\u001b[43m \u001b[49m\u001b[43mtrip_time\u001b[49m\u001b[43m,\u001b[49m\u001b[43m \u001b[49m\u001b[43mtravel_speed\u001b[49m\u001b[43m,\u001b[49m\u001b[43m \u001b[49m\u001b[43mmeters_per_minute\u001b[49m\u001b[43m)\u001b[49m\n",
      "Input \u001b[0;32mIn [71]\u001b[0m, in \u001b[0;36misochrone_shape_generator\u001b[0;34m(network_type, trip_time, travel_speed, meters_per_minute)\u001b[0m\n\u001b[1;32m     47\u001b[0m isochrone_polys\u001b[38;5;241m.\u001b[39mappend(bounding_poly)\n\u001b[1;32m     50\u001b[0m \u001b[38;5;66;03m# plot the network then add isochrones as colored descartes polygon patches\u001b[39;00m\n\u001b[1;32m     51\u001b[0m \u001b[38;5;66;03m#fig, ax = ox.plot_graph(G, show=False, close=False, edge_color='#999999', edge_alpha=0.2, node_size=0, bgcolor='k')\u001b[39;00m\n\u001b[1;32m     52\u001b[0m \u001b[38;5;66;03m#for polygon, fc in zip(isochrone_polys, iso_colors):\u001b[39;00m\n\u001b[1;32m     53\u001b[0m     \u001b[38;5;66;03m#patch = PolygonPatch(polygon, fc=fc, ec='none', alpha=0.6, zorder=-1)\u001b[39;00m\n\u001b[1;32m     54\u001b[0m     \u001b[38;5;66;03m#ax.add_patch(patch)\u001b[39;00m\n\u001b[1;32m     55\u001b[0m \u001b[38;5;66;03m#plt.show()\u001b[39;00m\n\u001b[0;32m---> 58\u001b[0m isochrone_polys \u001b[38;5;241m=\u001b[39m \u001b[43mmake_iso_polys\u001b[49m\u001b[43m(\u001b[49m\u001b[43mG\u001b[49m\u001b[43m,\u001b[49m\u001b[43m \u001b[49m\u001b[43medge_buff\u001b[49m\u001b[38;5;241;43m=\u001b[39;49m\u001b[38;5;241;43m25\u001b[39;49m\u001b[43m,\u001b[49m\u001b[43m \u001b[49m\u001b[43mnode_buff\u001b[49m\u001b[38;5;241;43m=\u001b[39;49m\u001b[38;5;241;43m0\u001b[39;49m\u001b[43m,\u001b[49m\u001b[43m \u001b[49m\u001b[43minfill\u001b[49m\u001b[38;5;241;43m=\u001b[39;49m\u001b[38;5;28;43;01mTrue\u001b[39;49;00m\u001b[43m)\u001b[49m\n\u001b[1;32m     59\u001b[0m \u001b[38;5;66;03m#fig, ax = ox.plot_graph(G, show=False, close=False, edge_color='#999999', edge_alpha=0.2,node_size=0, bgcolor='k')\u001b[39;00m\n\u001b[1;32m     60\u001b[0m \u001b[38;5;66;03m#for polygon, fc in zip(isochrone_polys, iso_colors):\u001b[39;00m\n\u001b[1;32m     61\u001b[0m     \u001b[38;5;66;03m#patch = PolygonPatch(polygon, fc=fc, ec='none', alpha=0.6, zorder=-1)\u001b[39;00m\n\u001b[1;32m     62\u001b[0m     \u001b[38;5;66;03m#ax.add_patch(patch)\u001b[39;00m\n\u001b[1;32m     63\u001b[0m \u001b[38;5;66;03m#plt.show()\u001b[39;00m\n\u001b[1;32m     64\u001b[0m gdf_iso_polys \u001b[38;5;241m=\u001b[39m gpd\u001b[38;5;241m.\u001b[39mGeoDataFrame(isochrone_polys)\n",
      "Input \u001b[0;32mIn [57]\u001b[0m, in \u001b[0;36mmake_iso_polys\u001b[0;34m(G, edge_buff, node_buff, infill)\u001b[0m\n\u001b[1;32m      2\u001b[0m isochrone_polys \u001b[38;5;241m=\u001b[39m []\n\u001b[1;32m      3\u001b[0m \u001b[38;5;28;01mfor\u001b[39;00m trip_time \u001b[38;5;129;01min\u001b[39;00m \u001b[38;5;28msorted\u001b[39m(trip_times, reverse\u001b[38;5;241m=\u001b[39m\u001b[38;5;28;01mTrue\u001b[39;00m):\n\u001b[0;32m----> 4\u001b[0m     subgraph \u001b[38;5;241m=\u001b[39m \u001b[43mnx\u001b[49m\u001b[38;5;241;43m.\u001b[39;49m\u001b[43mego_graph\u001b[49m\u001b[43m(\u001b[49m\u001b[43mG\u001b[49m\u001b[43m,\u001b[49m\u001b[43m \u001b[49m\u001b[43mcenter_node\u001b[49m\u001b[43m,\u001b[49m\u001b[43m \u001b[49m\u001b[43mradius\u001b[49m\u001b[38;5;241;43m=\u001b[39;49m\u001b[43mtrip_time\u001b[49m\u001b[43m,\u001b[49m\u001b[43m \u001b[49m\u001b[43mdistance\u001b[49m\u001b[38;5;241;43m=\u001b[39;49m\u001b[38;5;124;43m'\u001b[39;49m\u001b[38;5;124;43mtime\u001b[39;49m\u001b[38;5;124;43m'\u001b[39;49m\u001b[43m)\u001b[49m\n\u001b[1;32m      6\u001b[0m     node_points \u001b[38;5;241m=\u001b[39m [Point((data[\u001b[38;5;124m'\u001b[39m\u001b[38;5;124mx\u001b[39m\u001b[38;5;124m'\u001b[39m], data[\u001b[38;5;124m'\u001b[39m\u001b[38;5;124my\u001b[39m\u001b[38;5;124m'\u001b[39m])) \u001b[38;5;28;01mfor\u001b[39;00m node, data \u001b[38;5;129;01min\u001b[39;00m subgraph\u001b[38;5;241m.\u001b[39mnodes(data\u001b[38;5;241m=\u001b[39m\u001b[38;5;28;01mTrue\u001b[39;00m)]\n\u001b[1;32m      7\u001b[0m     nodes_gdf \u001b[38;5;241m=\u001b[39m gpd\u001b[38;5;241m.\u001b[39mGeoDataFrame({\u001b[38;5;124m'\u001b[39m\u001b[38;5;124mid\u001b[39m\u001b[38;5;124m'\u001b[39m: subgraph\u001b[38;5;241m.\u001b[39mnodes()}, geometry\u001b[38;5;241m=\u001b[39mnode_points)\n",
      "File \u001b[0;32m~/opt/anaconda3/envs/final_ML_LR/lib/python3.8/site-packages/networkx/generators/ego.py:57\u001b[0m, in \u001b[0;36mego_graph\u001b[0;34m(G, n, radius, center, undirected, distance)\u001b[0m\n\u001b[1;32m     55\u001b[0m \u001b[38;5;28;01melse\u001b[39;00m:\n\u001b[1;32m     56\u001b[0m     \u001b[38;5;28;01mif\u001b[39;00m distance \u001b[38;5;129;01mis\u001b[39;00m \u001b[38;5;129;01mnot\u001b[39;00m \u001b[38;5;28;01mNone\u001b[39;00m:\n\u001b[0;32m---> 57\u001b[0m         sp, _ \u001b[38;5;241m=\u001b[39m \u001b[43mnx\u001b[49m\u001b[38;5;241;43m.\u001b[39;49m\u001b[43msingle_source_dijkstra\u001b[49m\u001b[43m(\u001b[49m\u001b[43mG\u001b[49m\u001b[43m,\u001b[49m\u001b[43m \u001b[49m\u001b[43mn\u001b[49m\u001b[43m,\u001b[49m\u001b[43m \u001b[49m\u001b[43mcutoff\u001b[49m\u001b[38;5;241;43m=\u001b[39;49m\u001b[43mradius\u001b[49m\u001b[43m,\u001b[49m\u001b[43m \u001b[49m\u001b[43mweight\u001b[49m\u001b[38;5;241;43m=\u001b[39;49m\u001b[43mdistance\u001b[49m\u001b[43m)\u001b[49m\n\u001b[1;32m     58\u001b[0m     \u001b[38;5;28;01melse\u001b[39;00m:\n\u001b[1;32m     59\u001b[0m         sp \u001b[38;5;241m=\u001b[39m \u001b[38;5;28mdict\u001b[39m(nx\u001b[38;5;241m.\u001b[39msingle_source_shortest_path_length(G, n, cutoff\u001b[38;5;241m=\u001b[39mradius))\n",
      "File \u001b[0;32m~/opt/anaconda3/envs/final_ML_LR/lib/python3.8/site-packages/networkx/algorithms/shortest_paths/weighted.py:469\u001b[0m, in \u001b[0;36msingle_source_dijkstra\u001b[0;34m(G, source, target, cutoff, weight)\u001b[0m\n\u001b[1;32m    373\u001b[0m \u001b[38;5;28;01mdef\u001b[39;00m \u001b[38;5;21msingle_source_dijkstra\u001b[39m(G, source, target\u001b[38;5;241m=\u001b[39m\u001b[38;5;28;01mNone\u001b[39;00m, cutoff\u001b[38;5;241m=\u001b[39m\u001b[38;5;28;01mNone\u001b[39;00m, weight\u001b[38;5;241m=\u001b[39m\u001b[38;5;124m\"\u001b[39m\u001b[38;5;124mweight\u001b[39m\u001b[38;5;124m\"\u001b[39m):\n\u001b[1;32m    374\u001b[0m     \u001b[38;5;124;03m\"\"\"Find shortest weighted paths and lengths from a source node.\u001b[39;00m\n\u001b[1;32m    375\u001b[0m \n\u001b[1;32m    376\u001b[0m \u001b[38;5;124;03m    Compute the shortest path length between source and all other\u001b[39;00m\n\u001b[0;32m   (...)\u001b[0m\n\u001b[1;32m    467\u001b[0m \u001b[38;5;124;03m    single_source_bellman_ford\u001b[39;00m\n\u001b[1;32m    468\u001b[0m \u001b[38;5;124;03m    \"\"\"\u001b[39;00m\n\u001b[0;32m--> 469\u001b[0m     \u001b[38;5;28;01mreturn\u001b[39;00m \u001b[43mmulti_source_dijkstra\u001b[49m\u001b[43m(\u001b[49m\n\u001b[1;32m    470\u001b[0m \u001b[43m        \u001b[49m\u001b[43mG\u001b[49m\u001b[43m,\u001b[49m\u001b[43m \u001b[49m\u001b[43m{\u001b[49m\u001b[43msource\u001b[49m\u001b[43m}\u001b[49m\u001b[43m,\u001b[49m\u001b[43m \u001b[49m\u001b[43mcutoff\u001b[49m\u001b[38;5;241;43m=\u001b[39;49m\u001b[43mcutoff\u001b[49m\u001b[43m,\u001b[49m\u001b[43m \u001b[49m\u001b[43mtarget\u001b[49m\u001b[38;5;241;43m=\u001b[39;49m\u001b[43mtarget\u001b[49m\u001b[43m,\u001b[49m\u001b[43m \u001b[49m\u001b[43mweight\u001b[49m\u001b[38;5;241;43m=\u001b[39;49m\u001b[43mweight\u001b[49m\n\u001b[1;32m    471\u001b[0m \u001b[43m    \u001b[49m\u001b[43m)\u001b[49m\n",
      "File \u001b[0;32m~/opt/anaconda3/envs/final_ML_LR/lib/python3.8/site-packages/networkx/algorithms/shortest_paths/weighted.py:730\u001b[0m, in \u001b[0;36mmulti_source_dijkstra\u001b[0;34m(G, sources, target, cutoff, weight)\u001b[0m\n\u001b[1;32m    728\u001b[0m weight \u001b[38;5;241m=\u001b[39m _weight_function(G, weight)\n\u001b[1;32m    729\u001b[0m paths \u001b[38;5;241m=\u001b[39m {source: [source] \u001b[38;5;28;01mfor\u001b[39;00m source \u001b[38;5;129;01min\u001b[39;00m sources}  \u001b[38;5;66;03m# dictionary of paths\u001b[39;00m\n\u001b[0;32m--> 730\u001b[0m dist \u001b[38;5;241m=\u001b[39m \u001b[43m_dijkstra_multisource\u001b[49m\u001b[43m(\u001b[49m\n\u001b[1;32m    731\u001b[0m \u001b[43m    \u001b[49m\u001b[43mG\u001b[49m\u001b[43m,\u001b[49m\u001b[43m \u001b[49m\u001b[43msources\u001b[49m\u001b[43m,\u001b[49m\u001b[43m \u001b[49m\u001b[43mweight\u001b[49m\u001b[43m,\u001b[49m\u001b[43m \u001b[49m\u001b[43mpaths\u001b[49m\u001b[38;5;241;43m=\u001b[39;49m\u001b[43mpaths\u001b[49m\u001b[43m,\u001b[49m\u001b[43m \u001b[49m\u001b[43mcutoff\u001b[49m\u001b[38;5;241;43m=\u001b[39;49m\u001b[43mcutoff\u001b[49m\u001b[43m,\u001b[49m\u001b[43m \u001b[49m\u001b[43mtarget\u001b[49m\u001b[38;5;241;43m=\u001b[39;49m\u001b[43mtarget\u001b[49m\n\u001b[1;32m    732\u001b[0m \u001b[43m\u001b[49m\u001b[43m)\u001b[49m\n\u001b[1;32m    733\u001b[0m \u001b[38;5;28;01mif\u001b[39;00m target \u001b[38;5;129;01mis\u001b[39;00m \u001b[38;5;28;01mNone\u001b[39;00m:\n\u001b[1;32m    734\u001b[0m     \u001b[38;5;28;01mreturn\u001b[39;00m (dist, paths)\n",
      "File \u001b[0;32m~/opt/anaconda3/envs/final_ML_LR/lib/python3.8/site-packages/networkx/algorithms/shortest_paths/weighted.py:819\u001b[0m, in \u001b[0;36m_dijkstra_multisource\u001b[0;34m(G, sources, weight, pred, paths, cutoff, target)\u001b[0m\n\u001b[1;32m    817\u001b[0m \u001b[38;5;28;01mfor\u001b[39;00m source \u001b[38;5;129;01min\u001b[39;00m sources:\n\u001b[1;32m    818\u001b[0m     \u001b[38;5;28;01mif\u001b[39;00m source \u001b[38;5;129;01mnot\u001b[39;00m \u001b[38;5;129;01min\u001b[39;00m G:\n\u001b[0;32m--> 819\u001b[0m         \u001b[38;5;28;01mraise\u001b[39;00m nx\u001b[38;5;241m.\u001b[39mNodeNotFound(\u001b[38;5;124mf\u001b[39m\u001b[38;5;124m\"\u001b[39m\u001b[38;5;124mSource \u001b[39m\u001b[38;5;132;01m{\u001b[39;00msource\u001b[38;5;132;01m}\u001b[39;00m\u001b[38;5;124m not in G\u001b[39m\u001b[38;5;124m\"\u001b[39m)\n\u001b[1;32m    820\u001b[0m     seen[source] \u001b[38;5;241m=\u001b[39m \u001b[38;5;241m0\u001b[39m\n\u001b[1;32m    821\u001b[0m     push(fringe, (\u001b[38;5;241m0\u001b[39m, \u001b[38;5;28mnext\u001b[39m(c), source))\n",
      "\u001b[0;31mNodeNotFound\u001b[0m: Source 2922302695 not in G"
     ]
    }
   ],
   "source": [
    "isochrone_shape_generator(network_type, trip_time, travel_speed, meters_per_minute)"
   ]
  },
  {
   "cell_type": "code",
   "execution_count": 49,
   "id": "bb3867b5",
   "metadata": {
    "scrolled": true
   },
   "outputs": [
    {
     "data": {
      "text/html": [
       "<div>\n",
       "<style scoped>\n",
       "    .dataframe tbody tr th:only-of-type {\n",
       "        vertical-align: middle;\n",
       "    }\n",
       "\n",
       "    .dataframe tbody tr th {\n",
       "        vertical-align: top;\n",
       "    }\n",
       "\n",
       "    .dataframe thead th {\n",
       "        text-align: right;\n",
       "    }\n",
       "</style>\n",
       "<table border=\"1\" class=\"dataframe\">\n",
       "  <thead>\n",
       "    <tr style=\"text-align: right;\">\n",
       "      <th></th>\n",
       "    </tr>\n",
       "  </thead>\n",
       "  <tbody>\n",
       "  </tbody>\n",
       "</table>\n",
       "</div>"
      ],
      "text/plain": [
       "Empty GeoDataFrame\n",
       "Columns: []\n",
       "Index: []"
      ]
     },
     "execution_count": 49,
     "metadata": {},
     "output_type": "execute_result"
    }
   ],
   "source": [
    "detroit_polygons.head()"
   ]
  },
  {
   "cell_type": "code",
   "execution_count": 73,
   "id": "9851f27b",
   "metadata": {},
   "outputs": [
    {
     "name": "stdout",
     "output_type": "stream",
     "text": [
      "2022-02-23 14:57:30 Created bbox 1000 m from (42.3903256997602, -82.9147948003165): 42.39931890311512,42.38133249640527,-82.90261827909424,-82.92697132153876\n",
      "2022-02-23 14:57:30 Projected GeoDataFrame to +proj=utm +zone=17 +ellps=WGS84 +datum=WGS84 +units=m +no_defs +type=crs\n",
      "2022-02-23 14:57:30 Projected GeoDataFrame to epsg:4326\n",
      "2022-02-23 14:57:30 Projected GeoDataFrame to +proj=utm +zone=17 +ellps=WGS84 +datum=WGS84 +units=m +no_defs +type=crs\n",
      "2022-02-23 14:57:30 Projected GeoDataFrame to epsg:4326\n",
      "2022-02-23 14:57:30 Requesting data within polygon from API in 1 request(s)\n",
      "2022-02-23 14:57:30 Retrieved response from cache file \"cache/76c1edeab297279db46d8b790aa123a27fd7a24b.json\"\n",
      "2022-02-23 14:57:30 Got all network data within polygon from API in 1 request(s)\n",
      "2022-02-23 14:57:30 Creating graph from downloaded OSM data...\n",
      "2022-02-23 14:57:30 Created graph with 2833 nodes and 6666 edges\n",
      "2022-02-23 14:57:31 Added length attributes to graph edges\n",
      "2022-02-23 14:57:31 Identifying all nodes that lie outside the polygon...\n",
      "2022-02-23 14:57:31 Created nodes GeoDataFrame from graph\n",
      "2022-02-23 14:57:32 Created r-tree spatial index for 2833 geometries\n",
      "2022-02-23 14:57:32 Identified 2261 geometries inside polygon\n",
      "2022-02-23 14:57:32 Removed 572 nodes outside polygon\n",
      "2022-02-23 14:57:32 Truncated graph by polygon\n",
      "2022-02-23 14:57:32 Begin topologically simplifying the graph...\n",
      "2022-02-23 14:57:33 Identified 891 edge endpoints\n",
      "2022-02-23 14:57:34 Simplified graph: 2261 to 891 nodes, 5418 to 2678 edges\n",
      "2022-02-23 14:57:34 Identifying all nodes that lie outside the polygon...\n",
      "2022-02-23 14:57:34 Created nodes GeoDataFrame from graph\n",
      "2022-02-23 14:57:34 Created r-tree spatial index for 891 geometries\n",
      "2022-02-23 14:57:34 Identified 525 geometries inside polygon\n",
      "2022-02-23 14:57:34 Removed 366 nodes outside polygon\n",
      "2022-02-23 14:57:34 Removed 1 isolated nodes\n",
      "2022-02-23 14:57:35 Got largest weakly connected component (522 of 524 total nodes)\n",
      "2022-02-23 14:57:35 Truncated graph by polygon\n",
      "2022-02-23 14:57:35 Counted undirected street segments incident on each node\n",
      "2022-02-23 14:57:35 graph_from_polygon returned graph with 522 nodes and 1588 edges\n",
      "2022-02-23 14:57:35 graph_from_bbox returned graph with 522 nodes and 1588 edges\n",
      "2022-02-23 14:57:35 graph_from_point returned graph with 522 nodes and 1588 edges\n",
      "2022-02-23 14:57:35 Created nodes GeoDataFrame from graph\n"
     ]
    },
    {
     "name": "stderr",
     "output_type": "stream",
     "text": [
      "/Users/zachary/opt/anaconda3/envs/final_ML_LR/lib/python3.8/site-packages/osmnx/distance.py:356: UserWarning: The `get_nearest_node` function has been deprecated and will be removed in a future release. Use the more efficient `distance.nearest_nodes` instead.\n",
      "  warnings.warn(msg)\n"
     ]
    },
    {
     "name": "stdout",
     "output_type": "stream",
     "text": [
      "2022-02-23 14:57:35 Created nodes GeoDataFrame from graph\n",
      "2022-02-23 14:57:35 Created nodes GeoDataFrame from graph\n",
      "2022-02-23 14:57:35 Projected GeoDataFrame to +proj=utm +zone=17 +ellps=WGS84 +datum=WGS84 +units=m +no_defs +type=crs\n",
      "2022-02-23 14:57:37 Created edges GeoDataFrame from graph\n",
      "2022-02-23 14:57:37 Projected GeoDataFrame to +proj=utm +zone=17 +ellps=WGS84 +datum=WGS84 +units=m +no_defs +type=crs\n",
      "2022-02-23 14:57:37 Created graph from node/edge GeoDataFrames\n",
      "2022-02-23 14:57:37 Projected graph with 522 nodes and 1588 edges\n"
     ]
    },
    {
     "name": "stderr",
     "output_type": "stream",
     "text": [
      "/var/folders/8v/6dq3dnld7rx4qv5wr7vx0w5m0000gn/T/ipykernel_54547/3961578979.py:61: FutureWarning: The frame.append method is deprecated and will be removed from pandas in a future version. Use pandas.concat instead.\n",
      "  detroit_polygons = detroit_polygons.append(gdf_iso_polys)\n"
     ]
    }
   ],
   "source": [
    "place = vax_detr_metro['Y'].iloc[1],vax_detr_metro['X'].iloc[1]\n",
    "network_type = network_type\n",
    "trip_times = trip_times\n",
    "travel_speed = travel_speed\n",
    "meters_per_minute = meters_per_minute\n",
    "\n",
    "# download the street network\n",
    "G = ox.graph_from_point(place, network_type=network_type)\n",
    "\n",
    "\n",
    "# find the centermost node and then project the graph to UTM\n",
    "gdf_nodes = ox.graph_to_gdfs(G, edges=False)\n",
    "x, y = gdf_nodes['geometry'].unary_union.centroid.xy\n",
    "center_node = ox.get_nearest_node(G, (y[0], x[0]))\n",
    "G = ox.project_graph(G)\n",
    "\n",
    "\n",
    "# add an edge attribute for time in minutes required to traverse each edge\n",
    "for u, v, k, data in G.edges(data=True, keys=True):\n",
    "    data['time'] = data['length'] / meters_per_minute\n",
    "\n",
    "# get one color for each isochrone\n",
    "iso_colors = ox.plot.get_colors(n=len(trip_times), cmap='plasma', start=0, return_hex=True)\n",
    "\n",
    "\n",
    "# color the nodes according to isochrone then plot the street network\n",
    "node_colors = {}\n",
    "for trip_time, color in zip(sorted(trip_times, reverse=True), iso_colors):\n",
    "    subgraph = nx.ego_graph(G, center_node, radius=trip_time, distance='time')\n",
    "    for node in subgraph.nodes():\n",
    "        node_colors[node] = color\n",
    "nc = [node_colors[node] if node in node_colors else 'none' for node in G.nodes()]\n",
    "ns = [15 if node in node_colors else 0 for node in G.nodes()]\n",
    "        #fig, ax = ox.plot_graph(G, node_color=nc, node_size=ns, node_alpha=0.8, node_zorder=2,bgcolor='k', edge_linewidth=0.2, edge_color='#999999')\n",
    "\n",
    "\n",
    "        # make the isochrone polygons\n",
    "isochrone_polys = []\n",
    "for trip_time in sorted(trip_times, reverse=True):\n",
    "    subgraph = nx.ego_graph(G, center_node, radius=trip_time, distance='time')\n",
    "    node_points = [Point((data['x'], data['y'])) for node, data in subgraph.nodes(data=True)]\n",
    "    bounding_poly = gpd.GeoSeries(node_points).unary_union.convex_hull\n",
    "    isochrone_polys.append(bounding_poly)\n",
    "\n",
    "\n",
    "        # plot the network then add isochrones as colored descartes polygon patches\n",
    "        #fig, ax = ox.plot_graph(G, show=False, close=False, edge_color='#999999', edge_alpha=0.2, node_size=0, bgcolor='k')\n",
    "        #for polygon, fc in zip(isochrone_polys, iso_colors):\n",
    "            #patch = PolygonPatch(polygon, fc=fc, ec='none', alpha=0.6, zorder=-1)\n",
    "            #ax.add_patch(patch)\n",
    "        #plt.show()\n",
    "\n",
    "\n",
    "isochrone_polys = make_iso_polys(G, edge_buff=25, node_buff=0, infill=True)\n",
    "        #fig, ax = ox.plot_graph(G, show=False, close=False, edge_color='#999999', edge_alpha=0.2,node_size=0, bgcolor='k')\n",
    "        #for polygon, fc in zip(isochrone_polys, iso_colors):\n",
    "            #patch = PolygonPatch(polygon, fc=fc, ec='none', alpha=0.6, zorder=-1)\n",
    "            #ax.add_patch(patch)\n",
    "        #plt.show()\n",
    "gdf_iso_polys = gpd.GeoDataFrame(isochrone_polys)\n",
    "detroit_polygons = detroit_polygons.append(gdf_iso_polys)"
   ]
  },
  {
   "cell_type": "code",
   "execution_count": 74,
   "id": "0afead8a",
   "metadata": {},
   "outputs": [
    {
     "data": {
      "text/html": [
       "<div>\n",
       "<style scoped>\n",
       "    .dataframe tbody tr th:only-of-type {\n",
       "        vertical-align: middle;\n",
       "    }\n",
       "\n",
       "    .dataframe tbody tr th {\n",
       "        vertical-align: top;\n",
       "    }\n",
       "\n",
       "    .dataframe thead th {\n",
       "        text-align: right;\n",
       "    }\n",
       "</style>\n",
       "<table border=\"1\" class=\"dataframe\">\n",
       "  <thead>\n",
       "    <tr style=\"text-align: right;\">\n",
       "      <th></th>\n",
       "      <th>0</th>\n",
       "    </tr>\n",
       "  </thead>\n",
       "  <tbody>\n",
       "    <tr>\n",
       "      <th>0</th>\n",
       "      <td>POLYGON ((341502.0415138075 4694202.765720206,...</td>\n",
       "    </tr>\n",
       "    <tr>\n",
       "      <th>0</th>\n",
       "      <td>POLYGON ((294860.4613026406 4695961.132099903,...</td>\n",
       "    </tr>\n",
       "    <tr>\n",
       "      <th>0</th>\n",
       "      <td>POLYGON ((341502.0415138075 4694202.765720206,...</td>\n",
       "    </tr>\n",
       "  </tbody>\n",
       "</table>\n",
       "</div>"
      ],
      "text/plain": [
       "                                                   0\n",
       "0  POLYGON ((341502.0415138075 4694202.765720206,...\n",
       "0  POLYGON ((294860.4613026406 4695961.132099903,...\n",
       "0  POLYGON ((341502.0415138075 4694202.765720206,..."
      ]
     },
     "execution_count": 74,
     "metadata": {},
     "output_type": "execute_result"
    }
   ],
   "source": [
    "detroit_polygons"
   ]
  },
  {
   "cell_type": "code",
   "execution_count": null,
   "id": "53a0f8ae",
   "metadata": {},
   "outputs": [],
   "source": []
  }
 ],
 "metadata": {
  "kernelspec": {
   "display_name": "Python 3 (ipykernel)",
   "language": "python",
   "name": "python3"
  },
  "language_info": {
   "codemirror_mode": {
    "name": "ipython",
    "version": 3
   },
   "file_extension": ".py",
   "mimetype": "text/x-python",
   "name": "python",
   "nbconvert_exporter": "python",
   "pygments_lexer": "ipython3",
   "version": "3.8.12"
  }
 },
 "nbformat": 4,
 "nbformat_minor": 5
}
