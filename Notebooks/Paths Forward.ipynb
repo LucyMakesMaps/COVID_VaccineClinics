{
 "cells": [
  {
   "cell_type": "markdown",
   "id": "c878405c",
   "metadata": {},
   "source": [
    "# Future research pathes"
   ]
  },
  {
   "cell_type": "markdown",
   "id": "c31626ca",
   "metadata": {},
   "source": [
    "### Spatial Dilemmas"
   ]
  },
  {
   "cell_type": "markdown",
   "id": "6289c1e8",
   "metadata": {},
   "source": [
    "1. **_Expanding vaccine clinics that we analyze_**- Some individuals may live closer to a vaccine that is just outside their county boundary\n",
    "\n",
    "2. **_Modifiable Areal Unit Problem_**- Artificial census tract boundaries might not be a great for racial analysis. Creatign a dot density map alleviates this to some degree."
   ]
  },
  {
   "cell_type": "markdown",
   "id": "cb8861de",
   "metadata": {},
   "source": [
    "### More data\n",
    "\n",
    "1. **_Cross reference against car accessibility_**- What percent of hhs have access to a car?\n",
    "2. **_Incorporating other geographies_**- What does this analysis look like in a rural environment? How does it look in a more conservative city? How do other cities look?"
   ]
  },
  {
   "cell_type": "markdown",
   "id": "89e0d981",
   "metadata": {},
   "source": [
    "### Challenging assumptions\n",
    "\n",
    "1. **_Temporal variability-_** are all the clinics running now? What times do we want to study? Were they all open for all people, or were some specific to healthcare providers?"
   ]
  },
  {
   "cell_type": "markdown",
   "id": "53c8e487",
   "metadata": {},
   "source": [
    "### Does anyone else have ideas for things we should consider?"
   ]
  },
  {
   "cell_type": "code",
   "execution_count": null,
   "id": "f18c2b17",
   "metadata": {},
   "outputs": [],
   "source": []
  }
 ],
 "metadata": {
  "kernelspec": {
   "display_name": "Python 3 (ipykernel)",
   "language": "python",
   "name": "python3"
  },
  "language_info": {
   "codemirror_mode": {
    "name": "ipython",
    "version": 3
   },
   "file_extension": ".py",
   "mimetype": "text/x-python",
   "name": "python",
   "nbconvert_exporter": "python",
   "pygments_lexer": "ipython3",
   "version": "3.8.12"
  }
 },
 "nbformat": 4,
 "nbformat_minor": 5
}
