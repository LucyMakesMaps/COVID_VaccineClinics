{
 "cells": [
  {
   "cell_type": "markdown",
   "id": "ee6fe95b",
   "metadata": {},
   "source": [
    "### Import Modules, Assign Data Path & Read into GDF"
   ]
  },
  {
   "cell_type": "code",
   "execution_count": 1,
   "id": "6d583d47",
   "metadata": {},
   "outputs": [
    {
     "name": "stdout",
     "output_type": "stream",
     "text": [
      "2022-03-09 11:32:17 Configured OSMnx 1.1.2\n",
      "2022-03-09 11:32:17 HTTP response caching is on\n"
     ]
    },
    {
     "name": "stderr",
     "output_type": "stream",
     "text": [
      "/var/folders/8v/6dq3dnld7rx4qv5wr7vx0w5m0000gn/T/ipykernel_63347/4099419668.py:16: DtypeWarning: Columns (41) have mixed types. Specify dtype option on import or set low_memory=False.\n",
      "  vax_df = pd.read_csv('/Users/zachary/Desktop/WINTER22/Geog490/COVID_VaccineClinics/Covid-19_Vaccination_Provider_Locations_in_the_United_States.csv')\n"
     ]
    }
   ],
   "source": [
    "#Modules\n",
    "import osmnx as ox \n",
    "import numpy as np\n",
    "import geopandas as gpd\n",
    "import pandas as pd\n",
    "from shapely.geometry.polygon import Polygon\n",
    "from shapely.geometry.multipolygon import MultiPolygon\n",
    "from shapely.geometry import LineString, MultiLineString\n",
    "from shapely.geometry import Point, LineString, Polygon\n",
    "import networkx as nx\n",
    "import matplotlib.pyplot as plt\n",
    "from descartes import PolygonPatch\n",
    "ox.config(log_console=True, use_cache=True)\n",
    "ox.__version__\n",
    "#Read Data into DataFrame\n",
    "vax_df = pd.read_csv('/Users/zachary/Desktop/WINTER22/Geog490/COVID_VaccineClinics/Covid-19_Vaccination_Provider_Locations_in_the_United_States.csv')\n",
    "# Convert DataFrame to GeoDataFrame\n",
    "vax_gdf = gpd.GeoDataFrame(vax_df, geometry=gpd.points_from_xy(vax_df['X'], vax_df['Y']))\n",
    "#Reproject to UTM 17\n",
    "vax_gdf.crs = 'EPSG:32617'"
   ]
  },
  {
   "cell_type": "markdown",
   "id": "a34ff563",
   "metadata": {},
   "source": [
    "### Limit to Detroit Metro Area (Which we are defining as Wayne, Oakland, and Macomb County)"
   ]
  },
  {
   "cell_type": "code",
   "execution_count": 2,
   "id": "231f5506",
   "metadata": {},
   "outputs": [
    {
     "name": "stderr",
     "output_type": "stream",
     "text": [
      "/var/folders/8v/6dq3dnld7rx4qv5wr7vx0w5m0000gn/T/ipykernel_63347/2395504573.py:9: FutureWarning: The frame.append method is deprecated and will be removed from pandas in a future version. Use pandas.concat instead.\n",
      "  vax_detr_metro = vax_detr_metro.append(vax_oakland)\n",
      "/var/folders/8v/6dq3dnld7rx4qv5wr7vx0w5m0000gn/T/ipykernel_63347/2395504573.py:10: FutureWarning: The frame.append method is deprecated and will be removed from pandas in a future version. Use pandas.concat instead.\n",
      "  vax_detr_metro = vax_detr_metro.append(vax_macomb)\n"
     ]
    }
   ],
   "source": [
    "#limit by state to Michigan\n",
    "vax_MI = vax_gdf[vax_gdf['State']== 'MI'] \n",
    "#Limit By County to Wayne, Oakland, and Macomb\n",
    "vax_wayne = vax_MI[vax_MI['county']== 'Wayne']\n",
    "vax_oakland = vax_MI[vax_MI['county']== 'Oakland'] \n",
    "vax_macomb = vax_MI[vax_MI['county']== 'Macomb']\n",
    "#Agglomerate to one GDF of Detroit Metro\n",
    "vax_detr_metro = vax_wayne \n",
    "vax_detr_metro = vax_detr_metro.append(vax_oakland)\n",
    "vax_detr_metro = vax_detr_metro.append(vax_macomb)"
   ]
  },
  {
   "cell_type": "code",
   "execution_count": 3,
   "id": "a5de47e0",
   "metadata": {},
   "outputs": [],
   "source": [
    "def make_iso_polys(G, center_node, edge_buff=25, node_buff=50, infill=False):\n",
    "    isochrone_polys = []\n",
    "    \n",
    "    subgraph = nx.ego_graph(G, center_node, radius=trip_time, distance='time')\n",
    "\n",
    "    node_points = [Point((data['x'], data['y'])) for node, data in subgraph.nodes(data=True)]\n",
    "    nodes_gdf = gpd.GeoDataFrame({'id': subgraph.nodes()}, geometry=node_points)\n",
    "    nodes_gdf = nodes_gdf.set_index('id') #could be here that somethign goes wrong\n",
    "\n",
    "    edge_lines = []\n",
    "    for n_fr, n_to in subgraph.edges():\n",
    "        f = nodes_gdf.loc[n_fr].geometry\n",
    "        t = nodes_gdf.loc[n_to].geometry\n",
    "        edge_lookup = G.get_edge_data(n_fr, n_to)[0].get('geometry',  LineString([f,t]))\n",
    "        edge_lines.append(edge_lookup)\n",
    "\n",
    "    n = nodes_gdf.buffer(node_buff).geometry\n",
    "    e = gpd.GeoSeries(edge_lines).buffer(edge_buff).geometry\n",
    "    all_gs = list(n) + list(e)\n",
    "    new_iso = gpd.GeoSeries(all_gs).unary_union\n",
    "        \n",
    "    # try to fill in surrounded areas so shapes will appear solid and blocks without white space inside them\n",
    "    if infill:\n",
    "        new_iso = Polygon(new_iso.exterior)\n",
    "    isochrone_polys.append(new_iso)\n",
    "    return isochrone_polys"
   ]
  },
  {
   "cell_type": "code",
   "execution_count": 4,
   "id": "061dcbb0",
   "metadata": {},
   "outputs": [],
   "source": [
    "def isochrone_shape_generator(place, network_type, trip_time, travel_speed, meters_per_minute, dist):\n",
    "    network_type = network_type\n",
    "    trip_time = trip_time\n",
    "    travel_speed = travel_speed\n",
    "    meters_per_minute = meters_per_minute\n",
    "    dist = dist\n",
    "    # download the street network\n",
    "    G = ox.graph_from_point(place, dist, network_type=network_type)\n",
    "    # find the centermost node and then project the graph to UTM\n",
    "    gdf_nodes = ox.graph_to_gdfs(G, edges=False)\n",
    "    x, y = gdf_nodes['geometry'].unary_union.centroid.xy\n",
    "    center_node = ox.get_nearest_node(G, (y[0], x[0]))\n",
    "    G = ox.project_graph(G)\n",
    "    for u, v, k, data in G.edges(data=True, keys=True):\n",
    "        data['time'] = data['length'] / meters_per_minute\n",
    "    isochrone_polys = []\n",
    "    subgraph = nx.ego_graph(G, center_node, radius=trip_time, distance='time')\n",
    "    node_points = [Point((data['x'], data['y'])) for node, data in subgraph.nodes(data=True)]\n",
    "    bounding_poly = gpd.GeoSeries(node_points).unary_union.convex_hull\n",
    "    isochrone_polys.append(bounding_poly)\n",
    "    isochrone_polys = make_iso_polys(G, center_node, edge_buff=25, node_buff=0, infill=True)\n",
    "    return isochrone_polys"
   ]
  },
  {
   "cell_type": "code",
   "execution_count": 5,
   "id": "6f559e7c",
   "metadata": {},
   "outputs": [
    {
     "name": "stderr",
     "output_type": "stream",
     "text": [
      "/var/folders/8v/6dq3dnld7rx4qv5wr7vx0w5m0000gn/T/ipykernel_63347/152029120.py:6: FutureWarning: Assigning CRS to a GeoDataFrame without a geometry column is now deprecated and will not be supported in the future.\n",
      "  detroit_polygons = gpd.GeoDataFrame(crs='EPSG:32617')\n"
     ]
    }
   ],
   "source": [
    "#Set Variables\n",
    "network_type = 'drive'\n",
    "trip_time = 15 #in minutes \n",
    "travel_speed = 48.3 #walking speed in km/hour '''was 4.5 for walking & 48.3 for driving'''\n",
    "meters_per_minute = travel_speed * 1000 / 60 #km per hour to m per minute\n",
    "detroit_polygons = gpd.GeoDataFrame(crs='EPSG:32617')\n",
    "dist = meters_per_minute * trip_time"
   ]
  },
  {
   "cell_type": "code",
   "execution_count": 6,
   "id": "4fdaae75",
   "metadata": {},
   "outputs": [
    {
     "data": {
      "text/plain": [
       "12075.0"
      ]
     },
     "execution_count": 6,
     "metadata": {},
     "output_type": "execute_result"
    }
   ],
   "source": [
    "dist"
   ]
  },
  {
   "cell_type": "code",
   "execution_count": null,
   "id": "372b702f",
   "metadata": {},
   "outputs": [
    {
     "name": "stdout",
     "output_type": "stream",
     "text": [
      "2022-03-03 10:46:47 Created bbox 12075.0 m from (42.3963769002206, -83.4806078996323): 42.50496983073137,42.287783969709835,-83.33356222903255,-83.62765357023206\n",
      "2022-03-03 10:46:47 Projected GeoDataFrame to +proj=utm +zone=17 +ellps=WGS84 +datum=WGS84 +units=m +no_defs +type=crs\n",
      "2022-03-03 10:46:47 Projected GeoDataFrame to epsg:4326\n",
      "2022-03-03 10:46:47 Projected GeoDataFrame to +proj=utm +zone=17 +ellps=WGS84 +datum=WGS84 +units=m +no_defs +type=crs\n",
      "2022-03-03 10:46:47 Projected GeoDataFrame to epsg:4326\n",
      "2022-03-03 10:46:47 Requesting data within polygon from API in 1 request(s)\n",
      "2022-03-03 10:46:47 Resolved overpass-api.de to 178.63.48.217\n",
      "2022-03-03 10:46:48 Pausing 0 seconds before making HTTP POST request\n",
      "2022-03-03 10:46:48 Post https://overpass-api.de/api/interpreter?data=%5Bout%3Ajson%5D%5Btimeout%3A180%5D%3B%28way%5B%22highway%22%5D%5B%22area%22%21~%22yes%22%5D%5B%22access%22%21~%22private%22%5D%5B%22highway%22%21~%22abandoned%7Cbus_guideway%7Cconstruction%7Ccycleway%7Cmotor%7Cplanned%7Cplatform%7Cproposed%7Craceway%22%5D%5B%22foot%22%21~%22no%22%5D%5B%22service%22%21~%22private%22%5D%28poly%3A%2742.287784+-83.633715+42.504969+-83.633736+42.505410+-83.633707+42.505846+-83.633619+42.506274+-83.633475+42.506690+-83.633274+42.507089+-83.633019+42.507467+-83.632713+42.507822+-83.632358+42.508149+-83.631958+42.508446+-83.631517+42.508709+-83.631038+42.508936+-83.630527+42.509125+-83.629989+42.509275+-83.629428+42.509382+-83.628849+42.509448+-83.628260+42.509470+-83.627664+42.509471+-83.333552+42.509448+-83.332956+42.509383+-83.332366+42.509275+-83.331788+42.509126+-83.331227+42.508937+-83.330688+42.508709+-83.330177+42.508446+-83.329699+42.508150+-83.329257+42.507823+-83.328857+42.507468+-83.328502+42.507089+-83.328196+42.506690+-83.327941+42.506275+-83.327741+42.505847+-83.327596+42.505411+-83.327508+42.504970+-83.327479+42.287784+-83.327500+42.287342+-83.327530+42.286905+-83.327617+42.286476+-83.327762+42.286059+-83.327963+42.285660+-83.328218+42.285281+-83.328524+42.284926+-83.328879+42.284598+-83.329280+42.284302+-83.329721+42.284039+-83.330200+42.283812+-83.330711+42.283623+-83.331250+42.283475+-83.331811+42.283368+-83.332389+42.283304+-83.332978+42.283283+-83.333573+42.283283+-83.627643+42.283304+-83.628238+42.283369+-83.628827+42.283475+-83.629405+42.283624+-83.629966+42.283812+-83.630504+42.284039+-83.631016+42.284302+-83.631494+42.284599+-83.631936+42.284926+-83.632336+42.285281+-83.632691+42.285660+-83.632998+42.286060+-83.633252+42.286476+-83.633453+42.286905+-83.633598+42.287342+-83.633686+42.287784+-83.633715%27%29%3B%3E%3B%29%3Bout%3B with timeout=180\n",
      "2022-03-03 10:46:48 Resolved overpass-api.de to 178.63.48.217\n",
      "2022-03-03 10:47:04 Downloaded 48,329.4kB from overpass-api.de\n",
      "2022-03-03 10:47:09 Saved response to cache file \"cache/79492afc07b8982db6f2abaa3d7cc847cb407bb6.json\"\n",
      "2022-03-03 10:47:09 Got all network data within polygon from API in 1 request(s)\n",
      "2022-03-03 10:47:09 Creating graph from downloaded OSM data...\n",
      "2022-03-03 10:47:23 Created graph with 354184 nodes and 783386 edges\n",
      "2022-03-03 10:47:28 Added length attributes to graph edges\n",
      "2022-03-03 10:47:29 Identifying all nodes that lie outside the polygon...\n",
      "2022-03-03 10:47:47 Created nodes GeoDataFrame from graph\n",
      "2022-03-03 10:48:03 Created r-tree spatial index for 354184 geometries\n",
      "2022-03-03 10:48:08 Identified 348911 geometries inside polygon\n",
      "2022-03-03 10:48:18 Removed 5273 nodes outside polygon\n",
      "2022-03-03 10:48:18 Truncated graph by polygon\n",
      "2022-03-03 10:48:20 Begin topologically simplifying the graph...\n",
      "2022-03-03 10:48:33 Identified 88262 edge endpoints\n",
      "2022-03-03 10:49:11 Simplified graph: 348911 to 88262 nodes, 772330 to 251032 edges\n",
      "2022-03-03 10:49:11 Identifying all nodes that lie outside the polygon...\n",
      "2022-03-03 10:49:15 Created nodes GeoDataFrame from graph\n",
      "2022-03-03 10:49:19 Created r-tree spatial index for 88262 geometries\n",
      "2022-03-03 10:49:19 Identified 82599 geometries inside polygon\n",
      "2022-03-03 10:49:22 Removed 5663 nodes outside polygon\n",
      "2022-03-03 10:49:25 Removed 44 isolated nodes\n",
      "2022-03-03 10:49:31 Got largest weakly connected component (78860 of 82555 total nodes)\n",
      "2022-03-03 10:49:31 Truncated graph by polygon\n",
      "2022-03-03 10:49:33 Counted undirected street segments incident on each node\n",
      "2022-03-03 10:49:33 graph_from_polygon returned graph with 78860 nodes and 229108 edges\n",
      "2022-03-03 10:49:34 graph_from_bbox returned graph with 78860 nodes and 229108 edges\n",
      "2022-03-03 10:49:34 graph_from_point returned graph with 78860 nodes and 229108 edges\n",
      "2022-03-03 10:49:38 Created nodes GeoDataFrame from graph\n"
     ]
    },
    {
     "name": "stderr",
     "output_type": "stream",
     "text": [
      "/Users/zachary/opt/anaconda3/envs/final_ML_LR/lib/python3.8/site-packages/osmnx/distance.py:356: UserWarning: The `get_nearest_node` function has been deprecated and will be removed in a future release. Use the more efficient `distance.nearest_nodes` instead.\n",
      "  warnings.warn(msg)\n"
     ]
    },
    {
     "name": "stdout",
     "output_type": "stream",
     "text": [
      "2022-03-03 10:49:38 Created nodes GeoDataFrame from graph\n",
      "2022-03-03 10:49:42 Created nodes GeoDataFrame from graph\n",
      "2022-03-03 10:49:53 Projected GeoDataFrame to +proj=utm +zone=17 +ellps=WGS84 +datum=WGS84 +units=m +no_defs +type=crs\n",
      "2022-03-03 10:50:15 Created edges GeoDataFrame from graph\n",
      "2022-03-03 10:50:28 Projected GeoDataFrame to +proj=utm +zone=17 +ellps=WGS84 +datum=WGS84 +units=m +no_defs +type=crs\n",
      "2022-03-03 10:50:37 Created graph from node/edge GeoDataFrames\n",
      "2022-03-03 10:50:37 Projected graph with 78860 nodes and 229108 edges\n"
     ]
    },
    {
     "name": "stderr",
     "output_type": "stream",
     "text": [
      "/var/folders/8v/6dq3dnld7rx4qv5wr7vx0w5m0000gn/T/ipykernel_30197/3347265067.py:5: FutureWarning: The frame.append method is deprecated and will be removed from pandas in a future version. Use pandas.concat instead.\n",
      "  detroit_polygons = detroit_polygons.append(gdf_iso_poly)\n"
     ]
    },
    {
     "name": "stdout",
     "output_type": "stream",
     "text": [
      "2022-03-03 10:53:57 Created bbox 12075.0 m from (42.3903256997602, -82.9147948003165): 42.498918630270964,42.28173276924943,-82.76776330655767,-83.06182629407533\n",
      "2022-03-03 10:53:57 Projected GeoDataFrame to +proj=utm +zone=17 +ellps=WGS84 +datum=WGS84 +units=m +no_defs +type=crs\n",
      "2022-03-03 10:53:57 Projected GeoDataFrame to epsg:4326\n",
      "2022-03-03 10:53:57 Projected GeoDataFrame to +proj=utm +zone=17 +ellps=WGS84 +datum=WGS84 +units=m +no_defs +type=crs\n",
      "2022-03-03 10:53:57 Projected GeoDataFrame to epsg:4326\n",
      "2022-03-03 10:53:57 Requesting data within polygon from API in 1 request(s)\n",
      "2022-03-03 10:53:57 Resolved overpass-api.de to 178.63.48.217\n",
      "2022-03-03 10:53:57 Pausing 0 seconds before making HTTP POST request\n",
      "2022-03-03 10:53:57 Post https://overpass-api.de/api/interpreter?data=%5Bout%3Ajson%5D%5Btimeout%3A180%5D%3B%28way%5B%22highway%22%5D%5B%22area%22%21~%22yes%22%5D%5B%22access%22%21~%22private%22%5D%5B%22highway%22%21~%22abandoned%7Cbus_guideway%7Cconstruction%7Ccycleway%7Cmotor%7Cplanned%7Cplatform%7Cproposed%7Craceway%22%5D%5B%22foot%22%21~%22no%22%5D%5B%22service%22%21~%22private%22%5D%28poly%3A%2742.281733+-83.067888+42.498918+-83.067909+42.499359+-83.067880+42.499795+-83.067793+42.500224+-83.067648+42.500639+-83.067447+42.501038+-83.067193+42.501417+-83.066887+42.501771+-83.066532+42.502099+-83.066132+42.502395+-83.065690+42.502659+-83.065212+42.502886+-83.064700+42.503075+-83.064162+42.503224+-83.063600+42.503332+-83.063022+42.503398+-83.062432+42.503420+-83.061837+42.503420+-82.767753+42.503398+-82.767157+42.503333+-82.766567+42.503225+-82.765989+42.503075+-82.765428+42.502886+-82.764889+42.502659+-82.764378+42.502396+-82.763899+42.502099+-82.763458+42.501772+-82.763058+42.501417+-82.762703+42.501039+-82.762396+42.500640+-82.762142+42.500224+-82.761941+42.499796+-82.761796+42.499359+-82.761709+42.498919+-82.761680+42.281732+-82.761701+42.281291+-82.761730+42.280853+-82.761818+42.280424+-82.761963+42.280008+-82.762163+42.279608+-82.762418+42.279229+-82.762725+42.278874+-82.763080+42.278547+-82.763480+42.278250+-82.763922+42.277987+-82.764401+42.277760+-82.764912+42.277571+-82.765451+42.277423+-82.766012+42.277316+-82.766590+42.277252+-82.767179+42.277231+-82.767774+42.277231+-83.061816+42.277252+-83.062411+42.277316+-83.063000+42.277423+-83.063578+42.277572+-83.064139+42.277760+-83.064677+42.277987+-83.065189+42.278250+-83.065667+42.278547+-83.066109+42.278874+-83.066509+42.279229+-83.066864+42.279609+-83.067171+42.280008+-83.067426+42.280425+-83.067627+42.280854+-83.067772+42.281291+-83.067859+42.281733+-83.067888%27%29%3B%3E%3B%29%3Bout%3B with timeout=180\n",
      "2022-03-03 10:53:57 Resolved overpass-api.de to 178.63.48.217\n",
      "2022-03-03 10:54:17 Downloaded 27,097.0kB from overpass-api.de\n",
      "2022-03-03 10:54:18 Saved response to cache file \"cache/53489ca9134311726295790cdd0b66fb431ac8c8.json\"\n",
      "2022-03-03 10:54:18 Got all network data within polygon from API in 1 request(s)\n",
      "2022-03-03 10:54:18 Creating graph from downloaded OSM data...\n",
      "2022-03-03 10:54:23 Created graph with 167757 nodes and 414896 edges\n",
      "2022-03-03 10:54:26 Added length attributes to graph edges\n",
      "2022-03-03 10:54:26 Identifying all nodes that lie outside the polygon...\n",
      "2022-03-03 10:54:36 Created nodes GeoDataFrame from graph\n",
      "2022-03-03 10:54:42 Created r-tree spatial index for 167757 geometries\n",
      "2022-03-03 10:54:45 Identified 164334 geometries inside polygon\n",
      "2022-03-03 10:54:49 Removed 3423 nodes outside polygon\n",
      "2022-03-03 10:54:49 Truncated graph by polygon\n",
      "2022-03-03 10:54:50 Begin topologically simplifying the graph...\n",
      "2022-03-03 10:54:57 Identified 69540 edge endpoints\n",
      "2022-03-03 10:55:15 Simplified graph: 164334 to 69540 nodes, 407464 to 217876 edges\n",
      "2022-03-03 10:55:15 Identifying all nodes that lie outside the polygon...\n",
      "2022-03-03 10:55:18 Created nodes GeoDataFrame from graph\n",
      "2022-03-03 10:55:20 Created r-tree spatial index for 69540 geometries\n",
      "2022-03-03 10:55:21 Identified 62152 geometries inside polygon\n",
      "2022-03-03 10:55:23 Removed 7388 nodes outside polygon\n",
      "2022-03-03 10:55:26 Removed 31 isolated nodes\n",
      "2022-03-03 10:55:30 Got largest weakly connected component (50858 of 62121 total nodes)\n",
      "2022-03-03 10:55:30 Truncated graph by polygon\n",
      "2022-03-03 10:55:32 Counted undirected street segments incident on each node\n",
      "2022-03-03 10:55:32 graph_from_polygon returned graph with 50858 nodes and 163554 edges\n",
      "2022-03-03 10:55:32 graph_from_bbox returned graph with 50858 nodes and 163554 edges\n",
      "2022-03-03 10:55:32 graph_from_point returned graph with 50858 nodes and 163554 edges\n",
      "2022-03-03 10:55:35 Created nodes GeoDataFrame from graph\n"
     ]
    },
    {
     "name": "stderr",
     "output_type": "stream",
     "text": [
      "/Users/zachary/opt/anaconda3/envs/final_ML_LR/lib/python3.8/site-packages/osmnx/distance.py:356: UserWarning: The `get_nearest_node` function has been deprecated and will be removed in a future release. Use the more efficient `distance.nearest_nodes` instead.\n",
      "  warnings.warn(msg)\n"
     ]
    },
    {
     "name": "stdout",
     "output_type": "stream",
     "text": [
      "2022-03-03 10:55:35 Created nodes GeoDataFrame from graph\n",
      "2022-03-03 10:55:38 Created nodes GeoDataFrame from graph\n",
      "2022-03-03 10:55:47 Projected GeoDataFrame to +proj=utm +zone=17 +ellps=WGS84 +datum=WGS84 +units=m +no_defs +type=crs\n",
      "2022-03-03 10:56:12 Created edges GeoDataFrame from graph\n",
      "2022-03-03 10:56:24 Projected GeoDataFrame to +proj=utm +zone=17 +ellps=WGS84 +datum=WGS84 +units=m +no_defs +type=crs\n",
      "2022-03-03 10:56:31 Created graph from node/edge GeoDataFrames\n",
      "2022-03-03 10:56:31 Projected graph with 50858 nodes and 163554 edges\n"
     ]
    },
    {
     "name": "stderr",
     "output_type": "stream",
     "text": [
      "/var/folders/8v/6dq3dnld7rx4qv5wr7vx0w5m0000gn/T/ipykernel_30197/3347265067.py:5: FutureWarning: The frame.append method is deprecated and will be removed from pandas in a future version. Use pandas.concat instead.\n",
      "  detroit_polygons = detroit_polygons.append(gdf_iso_poly)\n"
     ]
    },
    {
     "name": "stdout",
     "output_type": "stream",
     "text": [
      "2022-03-03 11:00:21 Created bbox 12075.0 m from (42.4301069997635, -83.2004829001575): 42.53869993027427,42.321514069252736,-83.05335812598919,-83.3476076743258\n",
      "2022-03-03 11:00:21 Projected GeoDataFrame to +proj=utm +zone=17 +ellps=WGS84 +datum=WGS84 +units=m +no_defs +type=crs\n",
      "2022-03-03 11:00:21 Projected GeoDataFrame to epsg:4326\n",
      "2022-03-03 11:00:21 Projected GeoDataFrame to +proj=utm +zone=17 +ellps=WGS84 +datum=WGS84 +units=m +no_defs +type=crs\n",
      "2022-03-03 11:00:21 Projected GeoDataFrame to epsg:4326\n",
      "2022-03-03 11:00:21 Requesting data within polygon from API in 1 request(s)\n",
      "2022-03-03 11:00:21 Resolved overpass-api.de to 178.63.48.217\n",
      "2022-03-03 11:00:21 Pausing 0 seconds before making HTTP POST request\n",
      "2022-03-03 11:00:21 Post https://overpass-api.de/api/interpreter?data=%5Bout%3Ajson%5D%5Btimeout%3A180%5D%3B%28way%5B%22highway%22%5D%5B%22area%22%21~%22yes%22%5D%5B%22access%22%21~%22private%22%5D%5B%22highway%22%21~%22abandoned%7Cbus_guideway%7Cconstruction%7Ccycleway%7Cmotor%7Cplanned%7Cplatform%7Cproposed%7Craceway%22%5D%5B%22foot%22%21~%22no%22%5D%5B%22service%22%21~%22private%22%5D%28poly%3A%2742.321514+-83.353673+42.538700+-83.353694+42.539140+-83.353665+42.539577+-83.353577+42.540005+-83.353433+42.540420+-83.353232+42.540819+-83.352977+42.541198+-83.352671+42.541552+-83.352316+42.541880+-83.351915+42.542176+-83.351474+42.542439+-83.350995+42.542667+-83.350483+42.542856+-83.349944+42.543005+-83.349383+42.543113+-83.348804+42.543178+-83.348214+42.543201+-83.347618+42.543201+-83.053348+42.543179+-83.052752+42.543113+-83.052162+42.543006+-83.051583+42.542856+-83.051021+42.542667+-83.050482+42.542440+-83.049971+42.542177+-83.049492+42.541880+-83.049050+42.541553+-83.048650+42.541198+-83.048295+42.540820+-83.047988+42.540421+-83.047734+42.540005+-83.047533+42.539577+-83.047388+42.539141+-83.047300+42.538700+-83.047271+42.321514+-83.047292+42.321072+-83.047322+42.320635+-83.047409+42.320206+-83.047554+42.319789+-83.047755+42.319390+-83.048010+42.319011+-83.048317+42.318656+-83.048672+42.318328+-83.049073+42.318031+-83.049515+42.317768+-83.049994+42.317542+-83.050505+42.317353+-83.051044+42.317205+-83.051606+42.317098+-83.052184+42.317034+-83.052773+42.317013+-83.053369+42.317013+-83.347597+42.317034+-83.348192+42.317098+-83.348782+42.317205+-83.349360+42.317353+-83.349921+42.317542+-83.350460+42.317769+-83.350972+42.318032+-83.351451+42.318329+-83.351893+42.318656+-83.352293+42.319011+-83.352648+42.319390+-83.352955+42.319790+-83.353210+42.320206+-83.353411+42.320635+-83.353556+42.321072+-83.353644+42.321514+-83.353673%27%29%3B%3E%3B%29%3Bout%3B with timeout=180\n",
      "2022-03-03 11:00:21 Resolved overpass-api.de to 178.63.48.217\n",
      "2022-03-03 11:00:48 Downloaded 76,615.8kB from overpass-api.de\n",
      "2022-03-03 11:00:52 Saved response to cache file \"cache/1055db3a58c308edcc6f69073e165e2d3b4e0795.json\"\n",
      "2022-03-03 11:00:52 Got all network data within polygon from API in 1 request(s)\n",
      "2022-03-03 11:00:52 Creating graph from downloaded OSM data...\n",
      "2022-03-03 11:01:11 Created graph with 472926 nodes and 1178782 edges\n",
      "2022-03-03 11:01:25 Added length attributes to graph edges\n",
      "2022-03-03 11:01:25 Identifying all nodes that lie outside the polygon...\n",
      "2022-03-03 11:01:54 Created nodes GeoDataFrame from graph\n",
      "2022-03-03 11:02:16 Created r-tree spatial index for 472926 geometries\n",
      "2022-03-03 11:02:24 Identified 465335 geometries inside polygon\n",
      "2022-03-03 11:02:39 Removed 7591 nodes outside polygon\n",
      "2022-03-03 11:02:39 Truncated graph by polygon\n",
      "2022-03-03 11:02:43 Begin topologically simplifying the graph...\n",
      "2022-03-03 11:03:04 Identified 187015 edge endpoints\n",
      "2022-03-03 11:04:30 Simplified graph: 465335 to 187015 nodes, 1162760 to 606120 edges\n",
      "2022-03-03 11:04:32 Identifying all nodes that lie outside the polygon...\n",
      "2022-03-03 11:04:48 Created nodes GeoDataFrame from graph\n",
      "2022-03-03 11:05:00 Created r-tree spatial index for 187015 geometries\n",
      "2022-03-03 11:05:02 Identified 174008 geometries inside polygon\n",
      "2022-03-03 11:05:10 Removed 13007 nodes outside polygon\n",
      "2022-03-03 11:05:20 Removed 43 isolated nodes\n",
      "2022-03-03 11:06:02 Got largest weakly connected component (171821 of 173965 total nodes)\n",
      "2022-03-03 11:06:03 Truncated graph by polygon\n",
      "2022-03-03 11:06:08 Counted undirected street segments incident on each node\n",
      "2022-03-03 11:06:08 graph_from_polygon returned graph with 171821 nodes and 562764 edges\n",
      "2022-03-03 11:06:09 graph_from_bbox returned graph with 171821 nodes and 562764 edges\n",
      "2022-03-03 11:06:09 graph_from_point returned graph with 171821 nodes and 562764 edges\n",
      "2022-03-03 11:06:18 Created nodes GeoDataFrame from graph\n"
     ]
    },
    {
     "name": "stderr",
     "output_type": "stream",
     "text": [
      "/Users/zachary/opt/anaconda3/envs/final_ML_LR/lib/python3.8/site-packages/osmnx/distance.py:356: UserWarning: The `get_nearest_node` function has been deprecated and will be removed in a future release. Use the more efficient `distance.nearest_nodes` instead.\n",
      "  warnings.warn(msg)\n"
     ]
    },
    {
     "name": "stdout",
     "output_type": "stream",
     "text": [
      "2022-03-03 11:06:20 Created nodes GeoDataFrame from graph\n",
      "2022-03-03 11:06:31 Created nodes GeoDataFrame from graph\n",
      "2022-03-03 11:06:58 Projected GeoDataFrame to +proj=utm +zone=17 +ellps=WGS84 +datum=WGS84 +units=m +no_defs +type=crs\n",
      "2022-03-03 11:08:04 Created edges GeoDataFrame from graph\n",
      "2022-03-03 11:08:37 Projected GeoDataFrame to +proj=utm +zone=17 +ellps=WGS84 +datum=WGS84 +units=m +no_defs +type=crs\n",
      "2022-03-03 11:09:01 Created graph from node/edge GeoDataFrames\n",
      "2022-03-03 11:09:01 Projected graph with 171821 nodes and 562764 edges\n"
     ]
    },
    {
     "name": "stderr",
     "output_type": "stream",
     "text": [
      "/var/folders/8v/6dq3dnld7rx4qv5wr7vx0w5m0000gn/T/ipykernel_30197/3347265067.py:5: FutureWarning: The frame.append method is deprecated and will be removed from pandas in a future version. Use pandas.concat instead.\n",
      "  detroit_polygons = detroit_polygons.append(gdf_iso_poly)\n"
     ]
    },
    {
     "name": "stdout",
     "output_type": "stream",
     "text": [
      "2022-03-03 11:17:01 Created bbox 12075.0 m from (42.3316883003051, -83.128836899595): 42.44028123081587,42.223095369794336,-82.98194255612712,-83.27573124306288\n",
      "2022-03-03 11:17:01 Projected GeoDataFrame to +proj=utm +zone=17 +ellps=WGS84 +datum=WGS84 +units=m +no_defs +type=crs\n",
      "2022-03-03 11:17:01 Projected GeoDataFrame to epsg:4326\n",
      "2022-03-03 11:17:01 Projected GeoDataFrame to +proj=utm +zone=17 +ellps=WGS84 +datum=WGS84 +units=m +no_defs +type=crs\n",
      "2022-03-03 11:17:01 Projected GeoDataFrame to epsg:4326\n",
      "2022-03-03 11:17:01 Requesting data within polygon from API in 1 request(s)\n",
      "2022-03-03 11:17:01 Resolved overpass-api.de to 178.63.48.217\n",
      "2022-03-03 11:17:02 Pausing 0 seconds before making HTTP POST request\n",
      "2022-03-03 11:17:02 Post https://overpass-api.de/api/interpreter?data=%5Bout%3Ajson%5D%5Btimeout%3A180%5D%3B%28way%5B%22highway%22%5D%5B%22area%22%21~%22yes%22%5D%5B%22access%22%21~%22private%22%5D%5B%22highway%22%21~%22abandoned%7Cbus_guideway%7Cconstruction%7Ccycleway%7Cmotor%7Cplanned%7Cplatform%7Cproposed%7Craceway%22%5D%5B%22foot%22%21~%22no%22%5D%5B%22service%22%21~%22private%22%5D%28poly%3A%2742.223095+-83.281787+42.440281+-83.281808+42.440722+-83.281779+42.441158+-83.281692+42.441586+-83.281547+42.442002+-83.281347+42.442401+-83.281092+42.442779+-83.280786+42.443134+-83.280432+42.443461+-83.280032+42.443758+-83.279591+42.444021+-83.279113+42.444248+-83.278602+42.444437+-83.278064+42.444587+-83.277504+42.444694+-83.276926+42.444760+-83.276337+42.444782+-83.275742+42.444783+-82.981932+42.444760+-82.981337+42.444695+-82.980748+42.444587+-82.980170+42.444438+-82.979609+42.444249+-82.979071+42.444021+-82.978561+42.443758+-82.978082+42.443462+-82.977641+42.443134+-82.977242+42.442780+-82.976887+42.442401+-82.976581+42.442002+-82.976327+42.441587+-82.976126+42.441159+-82.975982+42.440722+-82.975894+42.440281+-82.975865+42.223095+-82.975886+42.222653+-82.975915+42.222216+-82.976003+42.221787+-82.976148+42.221371+-82.976348+42.220971+-82.976603+42.220592+-82.976909+42.220237+-82.977264+42.219909+-82.977664+42.219613+-82.978105+42.219350+-82.978583+42.219123+-82.979094+42.218934+-82.979632+42.218786+-82.980193+42.218679+-82.980770+42.218615+-82.981359+42.218594+-82.981953+42.218594+-83.275721+42.218615+-83.276315+42.218679+-83.276904+42.218786+-83.277481+42.218935+-83.278041+42.219123+-83.278580+42.219350+-83.279090+42.219613+-83.279568+42.219910+-83.280010+42.220237+-83.280410+42.220592+-83.280764+42.220971+-83.281070+42.221371+-83.281325+42.221787+-83.281526+42.222216+-83.281671+42.222654+-83.281758+42.223095+-83.281787%27%29%3B%3E%3B%29%3Bout%3B with timeout=180\n",
      "2022-03-03 11:17:02 Resolved overpass-api.de to 178.63.48.217\n",
      "2022-03-03 11:17:31 Downloaded 66,035.8kB from overpass-api.de\n",
      "2022-03-03 11:17:37 Saved response to cache file \"cache/28f332dbe6c88b8ccd768e682402ce4f24abd4eb.json\"\n",
      "2022-03-03 11:17:37 Got all network data within polygon from API in 1 request(s)\n",
      "2022-03-03 11:17:37 Creating graph from downloaded OSM data...\n",
      "2022-03-03 11:17:51 Created graph with 402651 nodes and 1021778 edges\n",
      "2022-03-03 11:17:59 Added length attributes to graph edges\n",
      "2022-03-03 11:17:59 Identifying all nodes that lie outside the polygon...\n",
      "2022-03-03 11:18:19 Created nodes GeoDataFrame from graph\n",
      "2022-03-03 11:18:40 Created r-tree spatial index for 402651 geometries\n",
      "2022-03-03 11:18:46 Identified 395179 geometries inside polygon\n",
      "2022-03-03 11:18:59 Removed 7472 nodes outside polygon\n",
      "2022-03-03 11:18:59 Truncated graph by polygon\n",
      "2022-03-03 11:19:02 Begin topologically simplifying the graph...\n",
      "2022-03-03 11:19:24 Identified 167031 edge endpoints\n",
      "2022-03-03 11:20:34 Simplified graph: 395179 to 167031 nodes, 1005966 to 549670 edges\n",
      "2022-03-03 11:20:35 Identifying all nodes that lie outside the polygon...\n",
      "2022-03-03 11:20:45 Created nodes GeoDataFrame from graph\n",
      "2022-03-03 11:20:53 Created r-tree spatial index for 167031 geometries\n",
      "2022-03-03 11:20:54 Identified 157056 geometries inside polygon\n",
      "2022-03-03 11:21:02 Removed 9975 nodes outside polygon\n",
      "2022-03-03 11:21:10 Removed 40 isolated nodes\n",
      "2022-03-03 11:21:34 Got largest weakly connected component (144772 of 157016 total nodes)\n",
      "2022-03-03 11:21:35 Truncated graph by polygon\n",
      "2022-03-03 11:21:40 Counted undirected street segments incident on each node\n",
      "2022-03-03 11:21:40 graph_from_polygon returned graph with 144772 nodes and 484270 edges\n",
      "2022-03-03 11:21:42 graph_from_bbox returned graph with 144772 nodes and 484270 edges\n",
      "2022-03-03 11:21:42 graph_from_point returned graph with 144772 nodes and 484270 edges\n",
      "2022-03-03 11:21:50 Created nodes GeoDataFrame from graph\n"
     ]
    },
    {
     "name": "stderr",
     "output_type": "stream",
     "text": [
      "/Users/zachary/opt/anaconda3/envs/final_ML_LR/lib/python3.8/site-packages/osmnx/distance.py:356: UserWarning: The `get_nearest_node` function has been deprecated and will be removed in a future release. Use the more efficient `distance.nearest_nodes` instead.\n",
      "  warnings.warn(msg)\n"
     ]
    },
    {
     "name": "stdout",
     "output_type": "stream",
     "text": [
      "2022-03-03 11:21:52 Created nodes GeoDataFrame from graph\n",
      "2022-03-03 11:22:00 Created nodes GeoDataFrame from graph\n",
      "2022-03-03 11:22:26 Projected GeoDataFrame to +proj=utm +zone=17 +ellps=WGS84 +datum=WGS84 +units=m +no_defs +type=crs\n",
      "2022-03-03 11:23:38 Created edges GeoDataFrame from graph\n",
      "2022-03-03 11:24:13 Projected GeoDataFrame to +proj=utm +zone=17 +ellps=WGS84 +datum=WGS84 +units=m +no_defs +type=crs\n",
      "2022-03-03 11:24:40 Created graph from node/edge GeoDataFrames\n",
      "2022-03-03 11:24:40 Projected graph with 144772 nodes and 484270 edges\n"
     ]
    },
    {
     "name": "stderr",
     "output_type": "stream",
     "text": [
      "/var/folders/8v/6dq3dnld7rx4qv5wr7vx0w5m0000gn/T/ipykernel_30197/3347265067.py:5: FutureWarning: The frame.append method is deprecated and will be removed from pandas in a future version. Use pandas.concat instead.\n",
      "  detroit_polygons = detroit_polygons.append(gdf_iso_poly)\n"
     ]
    },
    {
     "name": "stdout",
     "output_type": "stream",
     "text": [
      "2022-03-03 11:33:40 Created bbox 12075.0 m from (42.4321669001533, -83.1606288003194): 42.540759830664065,42.32357396964253,-83.01349919087865,-83.30775840976015\n",
      "2022-03-03 11:33:40 Projected GeoDataFrame to +proj=utm +zone=17 +ellps=WGS84 +datum=WGS84 +units=m +no_defs +type=crs\n",
      "2022-03-03 11:33:40 Projected GeoDataFrame to epsg:4326\n",
      "2022-03-03 11:33:40 Projected GeoDataFrame to +proj=utm +zone=17 +ellps=WGS84 +datum=WGS84 +units=m +no_defs +type=crs\n",
      "2022-03-03 11:33:40 Projected GeoDataFrame to epsg:4326\n",
      "2022-03-03 11:33:40 Requesting data within polygon from API in 1 request(s)\n",
      "2022-03-03 11:33:40 Resolved overpass-api.de to 178.63.11.215\n",
      "2022-03-03 11:33:41 Pausing 0 seconds before making HTTP POST request\n",
      "2022-03-03 11:33:41 Post https://overpass-api.de/api/interpreter?data=%5Bout%3Ajson%5D%5Btimeout%3A180%5D%3B%28way%5B%22highway%22%5D%5B%22area%22%21~%22yes%22%5D%5B%22access%22%21~%22private%22%5D%5B%22highway%22%21~%22abandoned%7Cbus_guideway%7Cconstruction%7Ccycleway%7Cmotor%7Cplanned%7Cplatform%7Cproposed%7Craceway%22%5D%5B%22foot%22%21~%22no%22%5D%5B%22service%22%21~%22private%22%5D%28poly%3A%2742.323574+-83.313824+42.540759+-83.313845+42.541200+-83.313816+42.541637+-83.313728+42.542065+-83.313584+42.542480+-83.313383+42.542879+-83.313128+42.543258+-83.312822+42.543612+-83.312467+42.543940+-83.312066+42.544236+-83.311625+42.544499+-83.311146+42.544727+-83.310634+42.544916+-83.310095+42.545065+-83.309534+42.545173+-83.308955+42.545238+-83.308365+42.545261+-83.307769+42.545261+-83.013489+42.545239+-83.012893+42.545173+-83.012303+42.545066+-83.011724+42.544916+-83.011162+42.544727+-83.010623+42.544500+-83.010112+42.544237+-83.009633+42.543940+-83.009191+42.543613+-83.008791+42.543258+-83.008436+42.542880+-83.008129+42.542481+-83.007874+42.542065+-83.007674+42.541637+-83.007529+42.541201+-83.007441+42.540760+-83.007412+42.323574+-83.007433+42.323132+-83.007462+42.322694+-83.007550+42.322266+-83.007695+42.321849+-83.007896+42.321450+-83.008151+42.321070+-83.008458+42.320715+-83.008813+42.320388+-83.009214+42.320091+-83.009656+42.319828+-83.010135+42.319601+-83.010646+42.319413+-83.011185+42.319264+-83.011747+42.319158+-83.012325+42.319093+-83.012914+42.319072+-83.013510+42.319073+-83.307748+42.319094+-83.308343+42.319158+-83.308933+42.319265+-83.309511+42.319413+-83.310072+42.319602+-83.310611+42.319829+-83.311123+42.320092+-83.311602+42.320388+-83.312044+42.320716+-83.312444+42.321071+-83.312799+42.321450+-83.313106+42.321850+-83.313361+42.322266+-83.313562+42.322695+-83.313707+42.323132+-83.313795+42.323574+-83.313824%27%29%3B%3E%3B%29%3Bout%3B with timeout=180\n",
      "2022-03-03 11:33:41 Resolved overpass-api.de to 178.63.11.215\n",
      "2022-03-03 11:33:57 Downloaded 78,207.7kB from overpass-api.de\n",
      "2022-03-03 11:34:06 Saved response to cache file \"cache/25aac84a502ef5663d1d7c3469de47f52e62e99c.json\"\n",
      "2022-03-03 11:34:06 Got all network data within polygon from API in 1 request(s)\n",
      "2022-03-03 11:34:06 Creating graph from downloaded OSM data...\n",
      "2022-03-03 11:34:43 Created graph with 475485 nodes and 1191778 edges\n",
      "2022-03-03 11:34:55 Added length attributes to graph edges\n",
      "2022-03-03 11:34:56 Identifying all nodes that lie outside the polygon...\n",
      "2022-03-03 11:35:37 Created nodes GeoDataFrame from graph\n",
      "2022-03-03 11:36:04 Created r-tree spatial index for 475485 geometries\n",
      "2022-03-03 11:36:16 Identified 468929 geometries inside polygon\n",
      "2022-03-03 11:36:37 Removed 6556 nodes outside polygon\n",
      "2022-03-03 11:36:37 Truncated graph by polygon\n",
      "2022-03-03 11:36:40 Begin topologically simplifying the graph...\n",
      "2022-03-03 11:36:57 Identified 192414 edge endpoints\n",
      "2022-03-03 11:37:53 Simplified graph: 468929 to 192414 nodes, 1177728 to 624698 edges\n",
      "2022-03-03 11:37:54 Identifying all nodes that lie outside the polygon...\n",
      "2022-03-03 11:38:04 Created nodes GeoDataFrame from graph\n",
      "2022-03-03 11:38:13 Created r-tree spatial index for 192414 geometries\n",
      "2022-03-03 11:38:14 Identified 181267 geometries inside polygon\n",
      "2022-03-03 11:38:24 Removed 11147 nodes outside polygon\n",
      "2022-03-03 11:38:31 Removed 41 isolated nodes\n",
      "2022-03-03 11:38:51 Got largest weakly connected component (178830 of 181226 total nodes)\n",
      "2022-03-03 11:38:52 Truncated graph by polygon\n",
      "2022-03-03 11:38:57 Counted undirected street segments incident on each node\n",
      "2022-03-03 11:38:58 graph_from_polygon returned graph with 178830 nodes and 585932 edges\n",
      "2022-03-03 11:38:59 graph_from_bbox returned graph with 178830 nodes and 585932 edges\n",
      "2022-03-03 11:38:59 graph_from_point returned graph with 178830 nodes and 585932 edges\n",
      "2022-03-03 11:39:09 Created nodes GeoDataFrame from graph\n"
     ]
    },
    {
     "name": "stderr",
     "output_type": "stream",
     "text": [
      "/Users/zachary/opt/anaconda3/envs/final_ML_LR/lib/python3.8/site-packages/osmnx/distance.py:356: UserWarning: The `get_nearest_node` function has been deprecated and will be removed in a future release. Use the more efficient `distance.nearest_nodes` instead.\n",
      "  warnings.warn(msg)\n"
     ]
    },
    {
     "name": "stdout",
     "output_type": "stream",
     "text": [
      "2022-03-03 11:39:12 Created nodes GeoDataFrame from graph\n",
      "2022-03-03 11:39:22 Created nodes GeoDataFrame from graph\n",
      "2022-03-03 11:39:51 Projected GeoDataFrame to +proj=utm +zone=17 +ellps=WGS84 +datum=WGS84 +units=m +no_defs +type=crs\n",
      "2022-03-03 11:40:55 Created edges GeoDataFrame from graph\n",
      "2022-03-03 11:41:25 Projected GeoDataFrame to +proj=utm +zone=17 +ellps=WGS84 +datum=WGS84 +units=m +no_defs +type=crs\n",
      "2022-03-03 11:41:48 Created graph from node/edge GeoDataFrames\n",
      "2022-03-03 11:41:49 Projected graph with 178830 nodes and 585932 edges\n"
     ]
    },
    {
     "name": "stderr",
     "output_type": "stream",
     "text": [
      "/var/folders/8v/6dq3dnld7rx4qv5wr7vx0w5m0000gn/T/ipykernel_30197/3347265067.py:5: FutureWarning: The frame.append method is deprecated and will be removed from pandas in a future version. Use pandas.concat instead.\n",
      "  detroit_polygons = detroit_polygons.append(gdf_iso_poly)\n"
     ]
    },
    {
     "name": "stdout",
     "output_type": "stream",
     "text": [
      "2022-03-03 11:49:12 Created bbox 12075.0 m from (42.1678242998755, -83.2678693995616): 42.276417230386265,42.05923136936473,-83.121356161746,-83.41438263737722\n",
      "2022-03-03 11:49:12 Projected GeoDataFrame to +proj=utm +zone=17 +ellps=WGS84 +datum=WGS84 +units=m +no_defs +type=crs\n",
      "2022-03-03 11:49:12 Projected GeoDataFrame to epsg:4326\n",
      "2022-03-03 11:49:12 Projected GeoDataFrame to +proj=utm +zone=17 +ellps=WGS84 +datum=WGS84 +units=m +no_defs +type=crs\n",
      "2022-03-03 11:49:12 Projected GeoDataFrame to epsg:4326\n",
      "2022-03-03 11:49:12 Requesting data within polygon from API in 1 request(s)\n",
      "2022-03-03 11:49:12 Resolved overpass-api.de to 178.63.11.215\n",
      "2022-03-03 11:49:13 Pausing 0 seconds before making HTTP POST request\n",
      "2022-03-03 11:49:13 Post https://overpass-api.de/api/interpreter?data=%5Bout%3Ajson%5D%5Btimeout%3A180%5D%3B%28way%5B%22highway%22%5D%5B%22area%22%21~%22yes%22%5D%5B%22access%22%21~%22private%22%5D%5B%22highway%22%21~%22abandoned%7Cbus_guideway%7Cconstruction%7Ccycleway%7Cmotor%7Cplanned%7Cplatform%7Cproposed%7Craceway%22%5D%5B%22foot%22%21~%22no%22%5D%5B%22service%22%21~%22private%22%5D%28poly%3A%2742.059231+-83.420423+42.276417+-83.420443+42.276858+-83.420414+42.277294+-83.420327+42.277722+-83.420183+42.278138+-83.419983+42.278537+-83.419730+42.278915+-83.419424+42.279270+-83.419071+42.279597+-83.418672+42.279894+-83.418232+42.280157+-83.417756+42.280384+-83.417246+42.280573+-83.416709+42.280722+-83.416150+42.280830+-83.415574+42.280896+-83.414986+42.280918+-83.414393+42.280919+-83.121346+42.280896+-83.120752+42.280831+-83.120165+42.280723+-83.119588+42.280574+-83.119029+42.280385+-83.118492+42.280157+-83.117983+42.279894+-83.117506+42.279597+-83.117066+42.279270+-83.116668+42.278916+-83.116314+42.278537+-83.116009+42.278138+-83.115755+42.277723+-83.115555+42.277295+-83.115411+42.276858+-83.115324+42.276417+-83.115295+42.059231+-83.115315+42.058789+-83.115345+42.058352+-83.115432+42.057923+-83.115576+42.057507+-83.115777+42.057107+-83.116031+42.056728+-83.116336+42.056373+-83.116690+42.056045+-83.117089+42.055749+-83.117529+42.055486+-83.118006+42.055259+-83.118515+42.055070+-83.119052+42.054922+-83.119611+42.054815+-83.120187+42.054751+-83.120774+42.054730+-83.121367+42.054730+-83.414372+42.054751+-83.414965+42.054815+-83.415552+42.054922+-83.416128+42.055071+-83.416687+42.055259+-83.417224+42.055486+-83.417733+42.055749+-83.418210+42.056046+-83.418650+42.056373+-83.419049+42.056728+-83.419402+42.057107+-83.419708+42.057507+-83.419962+42.057923+-83.420162+42.058352+-83.420306+42.058790+-83.420393+42.059231+-83.420423%27%29%3B%3E%3B%29%3Bout%3B with timeout=180\n",
      "2022-03-03 11:49:13 Resolved overpass-api.de to 178.63.11.215\n",
      "2022-03-03 11:49:31 Downloaded 35,101.3kB from overpass-api.de\n",
      "2022-03-03 11:49:33 Saved response to cache file \"cache/bfd98b078dd9594818ef35e765dc9b07aff70d78.json\"\n",
      "2022-03-03 11:49:33 Got all network data within polygon from API in 1 request(s)\n",
      "2022-03-03 11:49:33 Creating graph from downloaded OSM data...\n",
      "2022-03-03 11:49:38 Created graph with 240993 nodes and 566588 edges\n",
      "2022-03-03 11:49:41 Added length attributes to graph edges\n",
      "2022-03-03 11:49:41 Identifying all nodes that lie outside the polygon...\n",
      "2022-03-03 11:49:54 Created nodes GeoDataFrame from graph\n",
      "2022-03-03 11:50:03 Created r-tree spatial index for 240993 geometries\n",
      "2022-03-03 11:50:06 Identified 236756 geometries inside polygon\n",
      "2022-03-03 11:50:11 Removed 4237 nodes outside polygon\n",
      "2022-03-03 11:50:11 Truncated graph by polygon\n",
      "2022-03-03 11:50:12 Begin topologically simplifying the graph...\n",
      "2022-03-03 11:50:20 Identified 83234 edge endpoints\n",
      "2022-03-03 11:50:44 Simplified graph: 236756 to 83234 nodes, 557824 to 250780 edges\n",
      "2022-03-03 11:50:44 Identifying all nodes that lie outside the polygon...\n",
      "2022-03-03 11:50:48 Created nodes GeoDataFrame from graph\n",
      "2022-03-03 11:50:51 Created r-tree spatial index for 83234 geometries\n",
      "2022-03-03 11:50:52 Identified 78655 geometries inside polygon\n",
      "2022-03-03 11:50:54 Removed 4579 nodes outside polygon\n",
      "2022-03-03 11:50:57 Removed 33 isolated nodes\n",
      "2022-03-03 11:51:03 Got largest weakly connected component (76269 of 78622 total nodes)\n",
      "2022-03-03 11:51:03 Truncated graph by polygon\n",
      "2022-03-03 11:51:04 Counted undirected street segments incident on each node\n",
      "2022-03-03 11:51:05 graph_from_polygon returned graph with 76269 nodes and 232292 edges\n",
      "2022-03-03 11:51:05 graph_from_bbox returned graph with 76269 nodes and 232292 edges\n",
      "2022-03-03 11:51:05 graph_from_point returned graph with 76269 nodes and 232292 edges\n",
      "2022-03-03 11:51:09 Created nodes GeoDataFrame from graph\n"
     ]
    },
    {
     "name": "stderr",
     "output_type": "stream",
     "text": [
      "/Users/zachary/opt/anaconda3/envs/final_ML_LR/lib/python3.8/site-packages/osmnx/distance.py:356: UserWarning: The `get_nearest_node` function has been deprecated and will be removed in a future release. Use the more efficient `distance.nearest_nodes` instead.\n",
      "  warnings.warn(msg)\n"
     ]
    },
    {
     "name": "stdout",
     "output_type": "stream",
     "text": [
      "2022-03-03 11:51:09 Created nodes GeoDataFrame from graph\n",
      "2022-03-03 11:51:14 Created nodes GeoDataFrame from graph\n",
      "2022-03-03 11:51:23 Projected GeoDataFrame to +proj=utm +zone=17 +ellps=WGS84 +datum=WGS84 +units=m +no_defs +type=crs\n",
      "2022-03-03 11:51:47 Created edges GeoDataFrame from graph\n",
      "2022-03-03 11:51:59 Projected GeoDataFrame to +proj=utm +zone=17 +ellps=WGS84 +datum=WGS84 +units=m +no_defs +type=crs\n",
      "2022-03-03 11:52:09 Created graph from node/edge GeoDataFrames\n",
      "2022-03-03 11:52:09 Projected graph with 76269 nodes and 232292 edges\n"
     ]
    },
    {
     "name": "stderr",
     "output_type": "stream",
     "text": [
      "/var/folders/8v/6dq3dnld7rx4qv5wr7vx0w5m0000gn/T/ipykernel_30197/3347265067.py:5: FutureWarning: The frame.append method is deprecated and will be removed from pandas in a future version. Use pandas.concat instead.\n",
      "  detroit_polygons = detroit_polygons.append(gdf_iso_poly)\n"
     ]
    },
    {
     "name": "stdout",
     "output_type": "stream",
     "text": [
      "2022-03-03 11:57:16 Created bbox 12075.0 m from (42.3100737000501, -83.4089390998278): 42.418666630560864,42.20148076953933,-83.26209520866281,-83.5557829909928\n",
      "2022-03-03 11:57:16 Projected GeoDataFrame to +proj=utm +zone=17 +ellps=WGS84 +datum=WGS84 +units=m +no_defs +type=crs\n",
      "2022-03-03 11:57:16 Projected GeoDataFrame to epsg:4326\n",
      "2022-03-03 11:57:16 Projected GeoDataFrame to +proj=utm +zone=17 +ellps=WGS84 +datum=WGS84 +units=m +no_defs +type=crs\n",
      "2022-03-03 11:57:16 Projected GeoDataFrame to epsg:4326\n",
      "2022-03-03 11:57:16 Requesting data within polygon from API in 1 request(s)\n",
      "2022-03-03 11:57:16 Resolved overpass-api.de to 178.63.11.215\n",
      "2022-03-03 11:57:17 Pausing 0 seconds before making HTTP POST request\n",
      "2022-03-03 11:57:17 Post https://overpass-api.de/api/interpreter?data=%5Bout%3Ajson%5D%5Btimeout%3A180%5D%3B%28way%5B%22highway%22%5D%5B%22area%22%21~%22yes%22%5D%5B%22access%22%21~%22private%22%5D%5B%22highway%22%21~%22abandoned%7Cbus_guideway%7Cconstruction%7Ccycleway%7Cmotor%7Cplanned%7Cplatform%7Cproposed%7Craceway%22%5D%5B%22foot%22%21~%22no%22%5D%5B%22service%22%21~%22private%22%5D%28poly%3A%2742.201481+-83.561836+42.418666+-83.561857+42.419107+-83.561828+42.419543+-83.561741+42.419971+-83.561596+42.420387+-83.561396+42.420786+-83.561142+42.421164+-83.560836+42.421519+-83.560482+42.421846+-83.560082+42.422143+-83.559641+42.422406+-83.559163+42.422633+-83.558653+42.422822+-83.558115+42.422972+-83.557555+42.423079+-83.556977+42.423145+-83.556388+42.423167+-83.555794+42.423168+-83.262085+42.423145+-83.261490+42.423080+-83.260901+42.422972+-83.260324+42.422823+-83.259763+42.422634+-83.259225+42.422406+-83.258715+42.422143+-83.258237+42.421847+-83.257796+42.421519+-83.257396+42.421165+-83.257042+42.420786+-83.256736+42.420387+-83.256482+42.419972+-83.256281+42.419544+-83.256137+42.419107+-83.256050+42.418667+-83.256020+42.201480+-83.256041+42.201039+-83.256071+42.200601+-83.256158+42.200172+-83.256303+42.199756+-83.256503+42.199356+-83.256758+42.198977+-83.257064+42.198622+-83.257419+42.198295+-83.257818+42.197998+-83.258260+42.197735+-83.258738+42.197508+-83.259248+42.197320+-83.259786+42.197171+-83.260346+42.197065+-83.260923+42.197000+-83.261512+42.196980+-83.262106+42.196980+-83.555773+42.197001+-83.556367+42.197065+-83.556955+42.197172+-83.557532+42.197320+-83.558092+42.197509+-83.558630+42.197736+-83.559140+42.197999+-83.559618+42.198296+-83.560059+42.198623+-83.560459+42.198978+-83.560814+42.199357+-83.561120+42.199757+-83.561374+42.200173+-83.561575+42.200602+-83.561720+42.201039+-83.561807+42.201481+-83.561836%27%29%3B%3E%3B%29%3Bout%3B with timeout=180\n",
      "2022-03-03 11:57:17 Resolved overpass-api.de to 178.63.11.215\n",
      "2022-03-03 11:57:30 Downloaded 53,464.3kB from overpass-api.de\n",
      "2022-03-03 11:57:32 Saved response to cache file \"cache/645bf93574c55ed27b67ce64b223d9f4d57c8793.json\"\n",
      "2022-03-03 11:57:32 Got all network data within polygon from API in 1 request(s)\n",
      "2022-03-03 11:57:32 Creating graph from downloaded OSM data...\n",
      "2022-03-03 11:57:43 Created graph with 375487 nodes and 857474 edges\n",
      "2022-03-03 11:57:48 Added length attributes to graph edges\n",
      "2022-03-03 11:57:49 Identifying all nodes that lie outside the polygon...\n",
      "2022-03-03 11:58:06 Created nodes GeoDataFrame from graph\n",
      "2022-03-03 11:58:20 Created r-tree spatial index for 375487 geometries\n",
      "2022-03-03 11:58:25 Identified 367371 geometries inside polygon\n",
      "2022-03-03 11:58:34 Removed 8116 nodes outside polygon\n",
      "2022-03-03 11:58:34 Truncated graph by polygon\n",
      "2022-03-03 11:58:36 Begin topologically simplifying the graph...\n",
      "2022-03-03 11:58:49 Identified 107515 edge endpoints\n",
      "2022-03-03 11:59:26 Simplified graph: 367371 to 107515 nodes, 840666 to 320954 edges\n",
      "2022-03-03 11:59:26 Identifying all nodes that lie outside the polygon...\n",
      "2022-03-03 11:59:31 Created nodes GeoDataFrame from graph\n",
      "2022-03-03 11:59:35 Created r-tree spatial index for 107515 geometries\n",
      "2022-03-03 11:59:35 Identified 99117 geometries inside polygon\n",
      "2022-03-03 11:59:39 Removed 8398 nodes outside polygon\n",
      "2022-03-03 11:59:43 Removed 46 isolated nodes\n",
      "2022-03-03 11:59:50 Got largest weakly connected component (96091 of 99071 total nodes)\n",
      "2022-03-03 11:59:50 Truncated graph by polygon\n",
      "2022-03-03 11:59:52 Counted undirected street segments incident on each node\n",
      "2022-03-03 11:59:52 graph_from_polygon returned graph with 96091 nodes and 291108 edges\n",
      "2022-03-03 11:59:53 graph_from_bbox returned graph with 96091 nodes and 291108 edges\n",
      "2022-03-03 11:59:53 graph_from_point returned graph with 96091 nodes and 291108 edges\n",
      "2022-03-03 11:59:57 Created nodes GeoDataFrame from graph\n"
     ]
    },
    {
     "name": "stderr",
     "output_type": "stream",
     "text": [
      "/Users/zachary/opt/anaconda3/envs/final_ML_LR/lib/python3.8/site-packages/osmnx/distance.py:356: UserWarning: The `get_nearest_node` function has been deprecated and will be removed in a future release. Use the more efficient `distance.nearest_nodes` instead.\n",
      "  warnings.warn(msg)\n"
     ]
    },
    {
     "name": "stdout",
     "output_type": "stream",
     "text": [
      "2022-03-03 11:59:57 Created nodes GeoDataFrame from graph\n",
      "2022-03-03 12:00:03 Created nodes GeoDataFrame from graph\n",
      "2022-03-03 12:00:15 Projected GeoDataFrame to +proj=utm +zone=17 +ellps=WGS84 +datum=WGS84 +units=m +no_defs +type=crs\n",
      "2022-03-03 12:00:43 Created edges GeoDataFrame from graph\n",
      "2022-03-03 12:00:58 Projected GeoDataFrame to +proj=utm +zone=17 +ellps=WGS84 +datum=WGS84 +units=m +no_defs +type=crs\n",
      "2022-03-03 12:01:09 Created graph from node/edge GeoDataFrames\n",
      "2022-03-03 12:01:09 Projected graph with 96091 nodes and 291108 edges\n"
     ]
    },
    {
     "name": "stderr",
     "output_type": "stream",
     "text": [
      "/var/folders/8v/6dq3dnld7rx4qv5wr7vx0w5m0000gn/T/ipykernel_30197/3347265067.py:5: FutureWarning: The frame.append method is deprecated and will be removed from pandas in a future version. Use pandas.concat instead.\n",
      "  detroit_polygons = detroit_polygons.append(gdf_iso_poly)\n"
     ]
    },
    {
     "name": "stdout",
     "output_type": "stream",
     "text": [
      "2022-03-03 12:05:02 Created bbox 12075.0 m from (42.432562699958, -83.4822083004132): 42.541155630468765,42.32396976944723,-83.33507776184027,-83.62933883898614\n",
      "2022-03-03 12:05:02 Projected GeoDataFrame to +proj=utm +zone=17 +ellps=WGS84 +datum=WGS84 +units=m +no_defs +type=crs\n",
      "2022-03-03 12:05:02 Projected GeoDataFrame to epsg:4326\n",
      "2022-03-03 12:05:02 Projected GeoDataFrame to +proj=utm +zone=17 +ellps=WGS84 +datum=WGS84 +units=m +no_defs +type=crs\n",
      "2022-03-03 12:05:02 Projected GeoDataFrame to epsg:4326\n",
      "2022-03-03 12:05:02 Requesting data within polygon from API in 1 request(s)\n",
      "2022-03-03 12:05:02 Resolved overpass-api.de to 178.63.11.215\n",
      "2022-03-03 12:05:03 Pausing 0 seconds before making HTTP POST request\n",
      "2022-03-03 12:05:03 Post https://overpass-api.de/api/interpreter?data=%5Bout%3Ajson%5D%5Btimeout%3A180%5D%3B%28way%5B%22highway%22%5D%5B%22area%22%21~%22yes%22%5D%5B%22access%22%21~%22private%22%5D%5B%22highway%22%21~%22abandoned%7Cbus_guideway%7Cconstruction%7Ccycleway%7Cmotor%7Cplanned%7Cplatform%7Cproposed%7Craceway%22%5D%5B%22foot%22%21~%22no%22%5D%5B%22service%22%21~%22private%22%5D%28poly%3A%2742.323970+-83.635404+42.541155+-83.635425+42.541596+-83.635395+42.542032+-83.635308+42.542460+-83.635163+42.542876+-83.634963+42.543275+-83.634708+42.543653+-83.634401+42.544008+-83.634046+42.544335+-83.633646+42.544631+-83.633205+42.544895+-83.632726+42.545122+-83.632214+42.545311+-83.631675+42.545460+-83.631114+42.545568+-83.630535+42.545634+-83.629945+42.545656+-83.629349+42.545656+-83.335067+42.545634+-83.334471+42.545569+-83.333881+42.545461+-83.333303+42.545312+-83.332741+42.545123+-83.332202+42.544895+-83.331691+42.544632+-83.331212+42.544335+-83.330770+42.544008+-83.330370+42.543654+-83.330015+42.543275+-83.329708+42.542876+-83.329454+42.542461+-83.329253+42.542033+-83.329108+42.541596+-83.329021+42.541156+-83.328991+42.323969+-83.329012+42.323528+-83.329042+42.323090+-83.329129+42.322661+-83.329274+42.322245+-83.329475+42.321846+-83.329730+42.321466+-83.330037+42.321112+-83.330392+42.320784+-83.330793+42.320488+-83.331235+42.320224+-83.331714+42.319998+-83.332225+42.319809+-83.332764+42.319661+-83.333325+42.319554+-83.333904+42.319490+-83.334493+42.319469+-83.335088+42.319469+-83.629328+42.319490+-83.629923+42.319554+-83.630513+42.319661+-83.631091+42.319810+-83.631652+42.319998+-83.632191+42.320225+-83.632703+42.320488+-83.633182+42.320785+-83.633623+42.321112+-83.634024+42.321467+-83.634379+42.321846+-83.634686+42.322246+-83.634941+42.322662+-83.635142+42.323091+-83.635287+42.323528+-83.635374+42.323970+-83.635404%27%29%3B%3E%3B%29%3Bout%3B with timeout=180\n",
      "2022-03-03 12:05:03 Resolved overpass-api.de to 178.63.11.215\n",
      "2022-03-03 12:05:15 Downloaded 47,208.4kB from overpass-api.de\n",
      "2022-03-03 12:05:17 Saved response to cache file \"cache/f913ca299fa7dc4ec461d7ea89c56b1746f35e18.json\"\n",
      "2022-03-03 12:05:17 Got all network data within polygon from API in 1 request(s)\n",
      "2022-03-03 12:05:17 Creating graph from downloaded OSM data...\n",
      "2022-03-03 12:05:28 Created graph with 345412 nodes and 760914 edges\n",
      "2022-03-03 12:05:34 Added length attributes to graph edges\n",
      "2022-03-03 12:05:34 Identifying all nodes that lie outside the polygon...\n",
      "2022-03-03 12:05:54 Created nodes GeoDataFrame from graph\n",
      "2022-03-03 12:06:07 Created r-tree spatial index for 345412 geometries\n",
      "2022-03-03 12:06:11 Identified 339786 geometries inside polygon\n",
      "2022-03-03 12:06:20 Removed 5626 nodes outside polygon\n",
      "2022-03-03 12:06:20 Truncated graph by polygon\n",
      "2022-03-03 12:06:22 Begin topologically simplifying the graph...\n",
      "2022-03-03 12:06:34 Identified 87065 edge endpoints\n",
      "2022-03-03 12:07:09 Simplified graph: 339786 to 87065 nodes, 749254 to 243812 edges\n",
      "2022-03-03 12:07:10 Identifying all nodes that lie outside the polygon...\n",
      "2022-03-03 12:07:14 Created nodes GeoDataFrame from graph\n",
      "2022-03-03 12:07:18 Created r-tree spatial index for 87065 geometries\n",
      "2022-03-03 12:07:19 Identified 80200 geometries inside polygon\n",
      "2022-03-03 12:07:30 Removed 6865 nodes outside polygon\n",
      "2022-03-03 12:07:39 Removed 56 isolated nodes\n",
      "2022-03-03 12:07:50 Got largest weakly connected component (75478 of 80144 total nodes)\n",
      "2022-03-03 12:07:50 Truncated graph by polygon\n",
      "2022-03-03 12:07:52 Counted undirected street segments incident on each node\n",
      "2022-03-03 12:07:53 graph_from_polygon returned graph with 75478 nodes and 216486 edges\n",
      "2022-03-03 12:07:53 graph_from_bbox returned graph with 75478 nodes and 216486 edges\n",
      "2022-03-03 12:07:53 graph_from_point returned graph with 75478 nodes and 216486 edges\n",
      "2022-03-03 12:07:58 Created nodes GeoDataFrame from graph\n"
     ]
    },
    {
     "name": "stderr",
     "output_type": "stream",
     "text": [
      "/Users/zachary/opt/anaconda3/envs/final_ML_LR/lib/python3.8/site-packages/osmnx/distance.py:356: UserWarning: The `get_nearest_node` function has been deprecated and will be removed in a future release. Use the more efficient `distance.nearest_nodes` instead.\n",
      "  warnings.warn(msg)\n"
     ]
    },
    {
     "name": "stdout",
     "output_type": "stream",
     "text": [
      "2022-03-03 12:07:58 Created nodes GeoDataFrame from graph\n",
      "2022-03-03 12:08:03 Created nodes GeoDataFrame from graph\n",
      "2022-03-03 12:08:13 Projected GeoDataFrame to +proj=utm +zone=17 +ellps=WGS84 +datum=WGS84 +units=m +no_defs +type=crs\n",
      "2022-03-03 12:08:42 Created edges GeoDataFrame from graph\n",
      "2022-03-03 12:09:06 Projected GeoDataFrame to +proj=utm +zone=17 +ellps=WGS84 +datum=WGS84 +units=m +no_defs +type=crs\n",
      "2022-03-03 12:09:18 Created graph from node/edge GeoDataFrames\n",
      "2022-03-03 12:09:18 Projected graph with 75478 nodes and 216486 edges\n"
     ]
    },
    {
     "name": "stderr",
     "output_type": "stream",
     "text": [
      "/var/folders/8v/6dq3dnld7rx4qv5wr7vx0w5m0000gn/T/ipykernel_30197/3347265067.py:5: FutureWarning: The frame.append method is deprecated and will be removed from pandas in a future version. Use pandas.concat instead.\n",
      "  detroit_polygons = detroit_polygons.append(gdf_iso_poly)\n"
     ]
    },
    {
     "name": "stdout",
     "output_type": "stream",
     "text": [
      "2022-03-03 12:12:51 Created bbox 12075.0 m from (42.2565291997215, -83.2510189002767): 42.365122130232265,42.14793626921073,-83.10429975244526,-83.39773804810815\n",
      "2022-03-03 12:12:51 Projected GeoDataFrame to +proj=utm +zone=17 +ellps=WGS84 +datum=WGS84 +units=m +no_defs +type=crs\n",
      "2022-03-03 12:12:51 Projected GeoDataFrame to epsg:4326\n",
      "2022-03-03 12:12:51 Projected GeoDataFrame to +proj=utm +zone=17 +ellps=WGS84 +datum=WGS84 +units=m +no_defs +type=crs\n",
      "2022-03-03 12:12:51 Projected GeoDataFrame to epsg:4326\n",
      "2022-03-03 12:12:51 Requesting data within polygon from API in 1 request(s)\n",
      "2022-03-03 12:12:51 Resolved overpass-api.de to 178.63.11.215\n",
      "2022-03-03 12:12:52 Pausing 0 seconds before making HTTP POST request\n",
      "2022-03-03 12:12:52 Post https://overpass-api.de/api/interpreter?data=%5Bout%3Ajson%5D%5Btimeout%3A180%5D%3B%28way%5B%22highway%22%5D%5B%22area%22%21~%22yes%22%5D%5B%22access%22%21~%22private%22%5D%5B%22highway%22%21~%22abandoned%7Cbus_guideway%7Cconstruction%7Ccycleway%7Cmotor%7Cplanned%7Cplatform%7Cproposed%7Craceway%22%5D%5B%22foot%22%21~%22no%22%5D%5B%22service%22%21~%22private%22%5D%28poly%3A%2742.147936+-83.403787+42.365122+-83.403807+42.365562+-83.403778+42.365999+-83.403691+42.366427+-83.403547+42.366842+-83.403347+42.367241+-83.403093+42.367620+-83.402787+42.367975+-83.402433+42.368302+-83.402034+42.368598+-83.401593+42.368862+-83.401116+42.369089+-83.400606+42.369278+-83.400068+42.369427+-83.399508+42.369535+-83.398931+42.369601+-83.398343+42.369623+-83.397749+42.369624+-83.104289+42.369601+-83.103695+42.369536+-83.103107+42.369428+-83.102530+42.369279+-83.101970+42.369089+-83.101432+42.368862+-83.100922+42.368599+-83.100444+42.368302+-83.100004+42.367975+-83.099605+42.367621+-83.099250+42.367242+-83.098945+42.366843+-83.098691+42.366427+-83.098491+42.365999+-83.098346+42.365563+-83.098259+42.365122+-83.098230+42.147936+-83.098251+42.147494+-83.098280+42.147057+-83.098367+42.146628+-83.098512+42.146212+-83.098712+42.145812+-83.098967+42.145433+-83.099273+42.145078+-83.099627+42.144750+-83.100026+42.144454+-83.100467+42.144191+-83.100945+42.143964+-83.101455+42.143775+-83.101992+42.143627+-83.102552+42.143520+-83.103129+42.143456+-83.103717+42.143435+-83.104310+42.143435+-83.397728+42.143456+-83.398321+42.143520+-83.398909+42.143627+-83.399486+42.143776+-83.400045+42.143964+-83.400583+42.144191+-83.401093+42.144454+-83.401571+42.144751+-83.402011+42.145078+-83.402411+42.145433+-83.402765+42.145812+-83.403071+42.146212+-83.403325+42.146628+-83.403525+42.147057+-83.403670+42.147495+-83.403757+42.147936+-83.403787%27%29%3B%3E%3B%29%3Bout%3B with timeout=180\n",
      "2022-03-03 12:12:52 Resolved overpass-api.de to 178.63.11.215\n",
      "2022-03-03 12:13:10 Downloaded 55,602.2kB from overpass-api.de\n",
      "2022-03-03 12:13:13 Saved response to cache file \"cache/35a7446c3c44ee0af8411eca3614cf95efe50b0a.json\"\n",
      "2022-03-03 12:13:13 Got all network data within polygon from API in 1 request(s)\n",
      "2022-03-03 12:13:13 Creating graph from downloaded OSM data...\n",
      "2022-03-03 12:13:28 Created graph with 362020 nodes and 883492 edges\n",
      "2022-03-03 12:13:36 Added length attributes to graph edges\n",
      "2022-03-03 12:13:36 Identifying all nodes that lie outside the polygon...\n",
      "2022-03-03 12:13:58 Created nodes GeoDataFrame from graph\n",
      "2022-03-03 12:14:15 Created r-tree spatial index for 362020 geometries\n",
      "2022-03-03 12:14:21 Identified 355831 geometries inside polygon\n",
      "2022-03-03 12:14:39 Removed 6189 nodes outside polygon\n",
      "2022-03-03 12:14:39 Truncated graph by polygon\n",
      "2022-03-03 12:14:42 Begin topologically simplifying the graph...\n",
      "2022-03-03 12:14:56 Identified 134379 edge endpoints\n",
      "2022-03-03 12:15:57 Simplified graph: 355831 to 134379 nodes, 870208 to 427304 edges\n",
      "2022-03-03 12:15:58 Identifying all nodes that lie outside the polygon...\n",
      "2022-03-03 12:16:05 Created nodes GeoDataFrame from graph\n",
      "2022-03-03 12:16:11 Created r-tree spatial index for 134379 geometries\n",
      "2022-03-03 12:16:13 Identified 126089 geometries inside polygon\n",
      "2022-03-03 12:16:20 Removed 8290 nodes outside polygon\n",
      "2022-03-03 12:16:27 Removed 43 isolated nodes\n",
      "2022-03-03 12:16:39 Got largest weakly connected component (122394 of 126046 total nodes)\n",
      "2022-03-03 12:16:39 Truncated graph by polygon\n",
      "2022-03-03 12:16:42 Counted undirected street segments incident on each node\n",
      "2022-03-03 12:16:42 graph_from_polygon returned graph with 122394 nodes and 395458 edges\n",
      "2022-03-03 12:16:43 graph_from_bbox returned graph with 122394 nodes and 395458 edges\n",
      "2022-03-03 12:16:43 graph_from_point returned graph with 122394 nodes and 395458 edges\n",
      "2022-03-03 12:16:49 Created nodes GeoDataFrame from graph\n"
     ]
    },
    {
     "name": "stderr",
     "output_type": "stream",
     "text": [
      "/Users/zachary/opt/anaconda3/envs/final_ML_LR/lib/python3.8/site-packages/osmnx/distance.py:356: UserWarning: The `get_nearest_node` function has been deprecated and will be removed in a future release. Use the more efficient `distance.nearest_nodes` instead.\n",
      "  warnings.warn(msg)\n"
     ]
    },
    {
     "name": "stdout",
     "output_type": "stream",
     "text": [
      "2022-03-03 12:16:50 Created nodes GeoDataFrame from graph\n",
      "2022-03-03 12:16:57 Created nodes GeoDataFrame from graph\n",
      "2022-03-03 12:17:15 Projected GeoDataFrame to +proj=utm +zone=17 +ellps=WGS84 +datum=WGS84 +units=m +no_defs +type=crs\n",
      "2022-03-03 12:18:01 Created edges GeoDataFrame from graph\n",
      "2022-03-03 12:18:25 Projected GeoDataFrame to +proj=utm +zone=17 +ellps=WGS84 +datum=WGS84 +units=m +no_defs +type=crs\n",
      "2022-03-03 12:18:47 Created graph from node/edge GeoDataFrames\n",
      "2022-03-03 12:18:47 Projected graph with 122394 nodes and 395458 edges\n"
     ]
    },
    {
     "name": "stderr",
     "output_type": "stream",
     "text": [
      "/var/folders/8v/6dq3dnld7rx4qv5wr7vx0w5m0000gn/T/ipykernel_30197/3347265067.py:5: FutureWarning: The frame.append method is deprecated and will be removed from pandas in a future version. Use pandas.concat instead.\n",
      "  detroit_polygons = detroit_polygons.append(gdf_iso_poly)\n"
     ]
    },
    {
     "name": "stdout",
     "output_type": "stream",
     "text": [
      "2022-03-03 12:25:03 Created bbox 12075.0 m from (42.2959925001068, -83.388704200405): 42.404585430617566,42.18739956959603,-83.24189314737778,-83.53551525343222\n",
      "2022-03-03 12:25:03 Projected GeoDataFrame to +proj=utm +zone=17 +ellps=WGS84 +datum=WGS84 +units=m +no_defs +type=crs\n",
      "2022-03-03 12:25:03 Projected GeoDataFrame to epsg:4326\n",
      "2022-03-03 12:25:03 Projected GeoDataFrame to +proj=utm +zone=17 +ellps=WGS84 +datum=WGS84 +units=m +no_defs +type=crs\n",
      "2022-03-03 12:25:03 Projected GeoDataFrame to epsg:4326\n",
      "2022-03-03 12:25:03 Requesting data within polygon from API in 1 request(s)\n",
      "2022-03-03 12:25:03 Resolved overpass-api.de to 178.63.11.215\n",
      "2022-03-03 12:25:04 Pausing 0 seconds before making HTTP POST request\n",
      "2022-03-03 12:25:04 Post https://overpass-api.de/api/interpreter?data=%5Bout%3Ajson%5D%5Btimeout%3A180%5D%3B%28way%5B%22highway%22%5D%5B%22area%22%21~%22yes%22%5D%5B%22access%22%21~%22private%22%5D%5B%22highway%22%21~%22abandoned%7Cbus_guideway%7Cconstruction%7Ccycleway%7Cmotor%7Cplanned%7Cplatform%7Cproposed%7Craceway%22%5D%5B%22foot%22%21~%22no%22%5D%5B%22service%22%21~%22private%22%5D%28poly%3A%2742.187400+-83.541567+42.404585+-83.541588+42.405026+-83.541559+42.405462+-83.541472+42.405890+-83.541327+42.406306+-83.541127+42.406705+-83.540873+42.407083+-83.540567+42.407438+-83.540213+42.407765+-83.539813+42.408062+-83.539373+42.408325+-83.538895+42.408552+-83.538385+42.408741+-83.537847+42.408890+-83.537286+42.408998+-83.536709+42.409064+-83.536120+42.409086+-83.535526+42.409087+-83.241883+42.409064+-83.241288+42.408999+-83.240699+42.408891+-83.240122+42.408742+-83.239562+42.408553+-83.239024+42.408325+-83.238513+42.408062+-83.238036+42.407765+-83.237595+42.407438+-83.237195+42.407084+-83.236841+42.406705+-83.236535+42.406306+-83.236281+42.405891+-83.236081+42.405463+-83.235936+42.405026+-83.235849+42.404586+-83.235820+42.187399+-83.235841+42.186957+-83.235870+42.186520+-83.235957+42.186091+-83.236102+42.185675+-83.236303+42.185275+-83.236557+42.184896+-83.236863+42.184541+-83.237218+42.184214+-83.237617+42.183917+-83.238058+42.183654+-83.238536+42.183427+-83.239047+42.183239+-83.239584+42.183090+-83.240144+42.182983+-83.240721+42.182919+-83.241310+42.182898+-83.241904+42.182899+-83.535505+42.182920+-83.536099+42.182984+-83.536687+42.183091+-83.537264+42.183239+-83.537824+42.183428+-83.538362+42.183655+-83.538872+42.183918+-83.539350+42.184214+-83.539791+42.184542+-83.540190+42.184897+-83.540545+42.185276+-83.540851+42.185675+-83.541105+42.186092+-83.541306+42.186521+-83.541451+42.186958+-83.541538+42.187400+-83.541567%27%29%3B%3E%3B%29%3Bout%3B with timeout=180\n",
      "2022-03-03 12:25:04 Resolved overpass-api.de to 178.63.11.215\n",
      "2022-03-03 12:25:16 Downloaded 54,631.6kB from overpass-api.de\n",
      "2022-03-03 12:25:19 Saved response to cache file \"cache/6d214105c1b16d7c399618b65c0aeb90fb04d0a8.json\"\n",
      "2022-03-03 12:25:19 Got all network data within polygon from API in 1 request(s)\n",
      "2022-03-03 12:25:19 Creating graph from downloaded OSM data...\n",
      "2022-03-03 12:25:28 Created graph with 378730 nodes and 872828 edges\n",
      "2022-03-03 12:25:33 Added length attributes to graph edges\n",
      "2022-03-03 12:25:33 Identifying all nodes that lie outside the polygon...\n",
      "2022-03-03 12:25:51 Created nodes GeoDataFrame from graph\n",
      "2022-03-03 12:26:05 Created r-tree spatial index for 378730 geometries\n",
      "2022-03-03 12:26:10 Identified 372895 geometries inside polygon\n",
      "2022-03-03 12:26:21 Removed 5835 nodes outside polygon\n",
      "2022-03-03 12:26:21 Truncated graph by polygon\n",
      "2022-03-03 12:26:23 Begin topologically simplifying the graph...\n",
      "2022-03-03 12:26:36 Identified 112862 edge endpoints\n",
      "2022-03-03 12:27:13 Simplified graph: 372895 to 112862 nodes, 860804 to 340738 edges\n",
      "2022-03-03 12:27:13 Identifying all nodes that lie outside the polygon...\n",
      "2022-03-03 12:27:18 Created nodes GeoDataFrame from graph\n",
      "2022-03-03 12:27:22 Created r-tree spatial index for 112862 geometries\n",
      "2022-03-03 12:27:22 Identified 105353 geometries inside polygon\n",
      "2022-03-03 12:27:26 Removed 7509 nodes outside polygon\n",
      "2022-03-03 12:27:30 Removed 25 isolated nodes\n",
      "2022-03-03 12:27:37 Got largest weakly connected component (102120 of 105328 total nodes)\n",
      "2022-03-03 12:27:38 Truncated graph by polygon\n",
      "2022-03-03 12:27:40 Counted undirected street segments incident on each node\n",
      "2022-03-03 12:27:40 graph_from_polygon returned graph with 102120 nodes and 312972 edges\n",
      "2022-03-03 12:27:40 graph_from_bbox returned graph with 102120 nodes and 312972 edges\n",
      "2022-03-03 12:27:40 graph_from_point returned graph with 102120 nodes and 312972 edges\n",
      "2022-03-03 12:27:46 Created nodes GeoDataFrame from graph\n"
     ]
    },
    {
     "name": "stderr",
     "output_type": "stream",
     "text": [
      "/Users/zachary/opt/anaconda3/envs/final_ML_LR/lib/python3.8/site-packages/osmnx/distance.py:356: UserWarning: The `get_nearest_node` function has been deprecated and will be removed in a future release. Use the more efficient `distance.nearest_nodes` instead.\n",
      "  warnings.warn(msg)\n"
     ]
    },
    {
     "name": "stdout",
     "output_type": "stream",
     "text": [
      "2022-03-03 12:27:46 Created nodes GeoDataFrame from graph\n",
      "2022-03-03 12:27:52 Created nodes GeoDataFrame from graph\n",
      "2022-03-03 12:28:06 Projected GeoDataFrame to +proj=utm +zone=17 +ellps=WGS84 +datum=WGS84 +units=m +no_defs +type=crs\n",
      "2022-03-03 12:28:36 Created edges GeoDataFrame from graph\n",
      "2022-03-03 12:28:52 Projected GeoDataFrame to +proj=utm +zone=17 +ellps=WGS84 +datum=WGS84 +units=m +no_defs +type=crs\n",
      "2022-03-03 12:29:04 Created graph from node/edge GeoDataFrames\n",
      "2022-03-03 12:29:04 Projected graph with 102120 nodes and 312972 edges\n"
     ]
    },
    {
     "name": "stderr",
     "output_type": "stream",
     "text": [
      "/var/folders/8v/6dq3dnld7rx4qv5wr7vx0w5m0000gn/T/ipykernel_30197/3347265067.py:5: FutureWarning: The frame.append method is deprecated and will be removed from pandas in a future version. Use pandas.concat instead.\n",
      "  detroit_polygons = detroit_polygons.append(gdf_iso_poly)\n"
     ]
    },
    {
     "name": "stdout",
     "output_type": "stream",
     "text": [
      "2022-03-03 12:33:08 Created bbox 12075.0 m from (42.3600888997249, -83.4455967001359): 42.46868183023567,42.25149596921413,-83.29863598010644,-83.59255742016535\n",
      "2022-03-03 12:33:08 Projected GeoDataFrame to +proj=utm +zone=17 +ellps=WGS84 +datum=WGS84 +units=m +no_defs +type=crs\n",
      "2022-03-03 12:33:08 Projected GeoDataFrame to epsg:4326\n",
      "2022-03-03 12:33:08 Projected GeoDataFrame to +proj=utm +zone=17 +ellps=WGS84 +datum=WGS84 +units=m +no_defs +type=crs\n",
      "2022-03-03 12:33:08 Projected GeoDataFrame to epsg:4326\n",
      "2022-03-03 12:33:08 Requesting data within polygon from API in 1 request(s)\n",
      "2022-03-03 12:33:08 Resolved overpass-api.de to 178.63.11.215\n",
      "2022-03-03 12:33:09 Pausing 0 seconds before making HTTP POST request\n",
      "2022-03-03 12:33:09 Post https://overpass-api.de/api/interpreter?data=%5Bout%3Ajson%5D%5Btimeout%3A180%5D%3B%28way%5B%22highway%22%5D%5B%22area%22%21~%22yes%22%5D%5B%22access%22%21~%22private%22%5D%5B%22highway%22%21~%22abandoned%7Cbus_guideway%7Cconstruction%7Ccycleway%7Cmotor%7Cplanned%7Cplatform%7Cproposed%7Craceway%22%5D%5B%22foot%22%21~%22no%22%5D%5B%22service%22%21~%22private%22%5D%28poly%3A%2742.251496+-83.598615+42.468681+-83.598636+42.469122+-83.598607+42.469558+-83.598520+42.469986+-83.598375+42.470402+-83.598175+42.470801+-83.597920+42.471179+-83.597614+42.471534+-83.597260+42.471861+-83.596860+42.472158+-83.596419+42.472421+-83.595940+42.472648+-83.595430+42.472837+-83.594891+42.472987+-83.594330+42.473094+-83.593753+42.473160+-83.593163+42.473182+-83.592568+42.473183+-83.298625+42.473160+-83.298030+42.473095+-83.297441+42.472987+-83.296863+42.472838+-83.296302+42.472649+-83.295764+42.472422+-83.295253+42.472158+-83.294774+42.471862+-83.294333+42.471535+-83.293933+42.471180+-83.293579+42.470801+-83.293273+42.470403+-83.293018+42.469987+-83.292818+42.469559+-83.292673+42.469123+-83.292586+42.468682+-83.292556+42.251496+-83.292577+42.251054+-83.292607+42.250617+-83.292694+42.250188+-83.292839+42.249771+-83.293040+42.249372+-83.293295+42.248993+-83.293601+42.248638+-83.293956+42.248310+-83.294356+42.248014+-83.294797+42.247751+-83.295276+42.247524+-83.295787+42.247335+-83.296325+42.247187+-83.296886+42.247080+-83.297463+42.247016+-83.298052+42.246995+-83.298646+42.246995+-83.592547+42.247016+-83.593141+42.247081+-83.593730+42.247187+-83.594308+42.247336+-83.594868+42.247524+-83.595407+42.247751+-83.595917+42.248014+-83.596396+42.248311+-83.596837+42.248638+-83.597237+42.248993+-83.597592+42.249372+-83.597898+42.249772+-83.598153+42.250188+-83.598354+42.250617+-83.598499+42.251054+-83.598586+42.251496+-83.598615%27%29%3B%3E%3B%29%3Bout%3B with timeout=180\n",
      "2022-03-03 12:33:09 Resolved overpass-api.de to 178.63.11.215\n",
      "2022-03-03 12:33:52 Downloaded 51,517.4kB from overpass-api.de\n",
      "2022-03-03 12:33:55 Saved response to cache file \"cache/ade571919392b02ea418ac73319fa98c756f2696.json\"\n",
      "2022-03-03 12:33:55 Got all network data within polygon from API in 1 request(s)\n",
      "2022-03-03 12:33:55 Creating graph from downloaded OSM data...\n",
      "2022-03-03 12:34:10 Created graph with 371093 nodes and 833240 edges\n",
      "2022-03-03 12:34:16 Added length attributes to graph edges\n",
      "2022-03-03 12:34:16 Identifying all nodes that lie outside the polygon...\n",
      "2022-03-03 12:34:35 Created nodes GeoDataFrame from graph\n",
      "2022-03-03 12:34:49 Created r-tree spatial index for 371093 geometries\n",
      "2022-03-03 12:34:54 Identified 365950 geometries inside polygon\n",
      "2022-03-03 12:35:04 Removed 5143 nodes outside polygon\n",
      "2022-03-03 12:35:04 Truncated graph by polygon\n",
      "2022-03-03 12:35:06 Begin topologically simplifying the graph...\n",
      "2022-03-03 12:35:18 Identified 98716 edge endpoints\n",
      "2022-03-03 12:35:55 Simplified graph: 365950 to 98716 nodes, 822568 to 288100 edges\n",
      "2022-03-03 12:35:56 Identifying all nodes that lie outside the polygon...\n",
      "2022-03-03 12:36:00 Created nodes GeoDataFrame from graph\n",
      "2022-03-03 12:36:04 Created r-tree spatial index for 98716 geometries\n",
      "2022-03-03 12:36:04 Identified 92659 geometries inside polygon\n",
      "2022-03-03 12:36:08 Removed 6057 nodes outside polygon\n",
      "2022-03-03 12:36:11 Removed 26 isolated nodes\n",
      "2022-03-03 12:36:16 Got largest weakly connected component (89103 of 92633 total nodes)\n",
      "2022-03-03 12:36:16 Truncated graph by polygon\n",
      "2022-03-03 12:36:18 Counted undirected street segments incident on each node\n",
      "2022-03-03 12:36:18 graph_from_polygon returned graph with 89103 nodes and 264502 edges\n",
      "2022-03-03 12:36:19 graph_from_bbox returned graph with 89103 nodes and 264502 edges\n",
      "2022-03-03 12:36:19 graph_from_point returned graph with 89103 nodes and 264502 edges\n",
      "2022-03-03 12:36:24 Created nodes GeoDataFrame from graph\n"
     ]
    },
    {
     "name": "stderr",
     "output_type": "stream",
     "text": [
      "/Users/zachary/opt/anaconda3/envs/final_ML_LR/lib/python3.8/site-packages/osmnx/distance.py:356: UserWarning: The `get_nearest_node` function has been deprecated and will be removed in a future release. Use the more efficient `distance.nearest_nodes` instead.\n",
      "  warnings.warn(msg)\n"
     ]
    },
    {
     "name": "stdout",
     "output_type": "stream",
     "text": [
      "2022-03-03 12:36:25 Created nodes GeoDataFrame from graph\n",
      "2022-03-03 12:36:29 Created nodes GeoDataFrame from graph\n",
      "2022-03-03 12:36:45 Projected GeoDataFrame to +proj=utm +zone=17 +ellps=WGS84 +datum=WGS84 +units=m +no_defs +type=crs\n",
      "2022-03-03 12:37:18 Created edges GeoDataFrame from graph\n",
      "2022-03-03 12:37:37 Projected GeoDataFrame to +proj=utm +zone=17 +ellps=WGS84 +datum=WGS84 +units=m +no_defs +type=crs\n",
      "2022-03-03 12:37:49 Created graph from node/edge GeoDataFrames\n",
      "2022-03-03 12:37:49 Projected graph with 89103 nodes and 264502 edges\n"
     ]
    },
    {
     "name": "stderr",
     "output_type": "stream",
     "text": [
      "/var/folders/8v/6dq3dnld7rx4qv5wr7vx0w5m0000gn/T/ipykernel_30197/3347265067.py:5: FutureWarning: The frame.append method is deprecated and will be removed from pandas in a future version. Use pandas.concat instead.\n",
      "  detroit_polygons = detroit_polygons.append(gdf_iso_poly)\n"
     ]
    },
    {
     "name": "stdout",
     "output_type": "stream",
     "text": [
      "2022-03-03 12:41:20 Created bbox 12075.0 m from (42.386497800033, -82.9478450997185): 42.495090730543765,42.27790486952223,-82.8008225717609,-83.09486762767611\n",
      "2022-03-03 12:41:20 Projected GeoDataFrame to +proj=utm +zone=17 +ellps=WGS84 +datum=WGS84 +units=m +no_defs +type=crs\n",
      "2022-03-03 12:41:20 Projected GeoDataFrame to epsg:4326\n",
      "2022-03-03 12:41:20 Projected GeoDataFrame to +proj=utm +zone=17 +ellps=WGS84 +datum=WGS84 +units=m +no_defs +type=crs\n",
      "2022-03-03 12:41:20 Projected GeoDataFrame to epsg:4326\n",
      "2022-03-03 12:41:20 Requesting data within polygon from API in 1 request(s)\n",
      "2022-03-03 12:41:21 Resolved overpass-api.de to 178.63.11.215\n",
      "2022-03-03 12:41:21 Pausing 0 seconds before making HTTP POST request\n",
      "2022-03-03 12:41:21 Post https://overpass-api.de/api/interpreter?data=%5Bout%3Ajson%5D%5Btimeout%3A180%5D%3B%28way%5B%22highway%22%5D%5B%22area%22%21~%22yes%22%5D%5B%22access%22%21~%22private%22%5D%5B%22highway%22%21~%22abandoned%7Cbus_guideway%7Cconstruction%7Ccycleway%7Cmotor%7Cplanned%7Cplatform%7Cproposed%7Craceway%22%5D%5B%22foot%22%21~%22no%22%5D%5B%22service%22%21~%22private%22%5D%28poly%3A%2742.277905+-83.100929+42.495090+-83.100950+42.495531+-83.100921+42.495968+-83.100834+42.496396+-83.100689+42.496811+-83.100488+42.497210+-83.100234+42.497589+-83.099928+42.497943+-83.099573+42.498271+-83.099173+42.498567+-83.098731+42.498831+-83.098253+42.499058+-83.097742+42.499247+-83.097203+42.499396+-83.096642+42.499504+-83.096063+42.499570+-83.095474+42.499592+-83.094878+42.499592+-82.800812+42.499570+-82.800216+42.499505+-82.799627+42.499397+-82.799048+42.499248+-82.798487+42.499058+-82.797949+42.498831+-82.797437+42.498568+-82.796959+42.498271+-82.796517+42.497944+-82.796117+42.497589+-82.795762+42.497211+-82.795456+42.496812+-82.795201+42.496396+-82.795001+42.495968+-82.794856+42.495532+-82.794769+42.495091+-82.794739+42.277905+-82.794760+42.277463+-82.794790+42.277025+-82.794877+42.276596+-82.795022+42.276180+-82.795223+42.275780+-82.795478+42.275401+-82.795785+42.275046+-82.796140+42.274719+-82.796540+42.274422+-82.796982+42.274159+-82.797460+42.273932+-82.797971+42.273743+-82.798510+42.273595+-82.799071+42.273488+-82.799649+42.273424+-82.800238+42.273403+-82.800833+42.273403+-83.094857+42.273424+-83.095452+42.273489+-83.096041+42.273595+-83.096619+42.273744+-83.097180+42.273932+-83.097719+42.274159+-83.098230+42.274422+-83.098708+42.274719+-83.099150+42.275047+-83.099550+42.275402+-83.099905+42.275781+-83.100212+42.276180+-83.100467+42.276597+-83.100668+42.277026+-83.100812+42.277463+-83.100900+42.277905+-83.100929%27%29%3B%3E%3B%29%3Bout%3B with timeout=180\n",
      "2022-03-03 12:41:21 Resolved overpass-api.de to 178.63.11.215\n",
      "2022-03-03 12:41:32 Downloaded 34,133.2kB from overpass-api.de\n",
      "2022-03-03 12:41:33 Saved response to cache file \"cache/c69c488e1328d56c8138deffc4778c35402e4ed1.json\"\n",
      "2022-03-03 12:41:33 Got all network data within polygon from API in 1 request(s)\n",
      "2022-03-03 12:41:33 Creating graph from downloaded OSM data...\n",
      "2022-03-03 12:41:39 Created graph with 207818 nodes and 519156 edges\n",
      "2022-03-03 12:41:43 Added length attributes to graph edges\n",
      "2022-03-03 12:41:43 Identifying all nodes that lie outside the polygon...\n",
      "2022-03-03 12:41:53 Created nodes GeoDataFrame from graph\n",
      "2022-03-03 12:42:00 Created r-tree spatial index for 207818 geometries\n",
      "2022-03-03 12:42:03 Identified 204594 geometries inside polygon\n",
      "2022-03-03 12:42:09 Removed 3224 nodes outside polygon\n",
      "2022-03-03 12:42:09 Truncated graph by polygon\n",
      "2022-03-03 12:42:10 Begin topologically simplifying the graph...\n",
      "2022-03-03 12:42:17 Identified 88356 edge endpoints\n",
      "2022-03-03 12:42:36 Simplified graph: 204594 to 88356 nodes, 511964 to 279488 edges\n",
      "2022-03-03 12:42:36 Identifying all nodes that lie outside the polygon...\n",
      "2022-03-03 12:42:40 Created nodes GeoDataFrame from graph\n",
      "2022-03-03 12:42:43 Created r-tree spatial index for 88356 geometries\n",
      "2022-03-03 12:42:44 Identified 82603 geometries inside polygon\n",
      "2022-03-03 12:42:47 Removed 5753 nodes outside polygon\n",
      "2022-03-03 12:42:50 Removed 13 isolated nodes\n",
      "2022-03-03 12:42:55 Got largest weakly connected component (69374 of 82590 total nodes)\n",
      "2022-03-03 12:42:55 Truncated graph by polygon\n",
      "2022-03-03 12:42:57 Counted undirected street segments incident on each node\n",
      "2022-03-03 12:42:57 graph_from_polygon returned graph with 69374 nodes and 224778 edges\n",
      "2022-03-03 12:42:58 graph_from_bbox returned graph with 69374 nodes and 224778 edges\n",
      "2022-03-03 12:42:58 graph_from_point returned graph with 69374 nodes and 224778 edges\n",
      "2022-03-03 12:43:00 Created nodes GeoDataFrame from graph\n"
     ]
    },
    {
     "name": "stderr",
     "output_type": "stream",
     "text": [
      "/Users/zachary/opt/anaconda3/envs/final_ML_LR/lib/python3.8/site-packages/osmnx/distance.py:356: UserWarning: The `get_nearest_node` function has been deprecated and will be removed in a future release. Use the more efficient `distance.nearest_nodes` instead.\n",
      "  warnings.warn(msg)\n"
     ]
    },
    {
     "name": "stdout",
     "output_type": "stream",
     "text": [
      "2022-03-03 12:43:01 Created nodes GeoDataFrame from graph\n",
      "2022-03-03 12:43:05 Created nodes GeoDataFrame from graph\n",
      "2022-03-03 12:43:13 Projected GeoDataFrame to +proj=utm +zone=17 +ellps=WGS84 +datum=WGS84 +units=m +no_defs +type=crs\n",
      "2022-03-03 12:43:37 Created edges GeoDataFrame from graph\n",
      "2022-03-03 12:43:49 Projected GeoDataFrame to +proj=utm +zone=17 +ellps=WGS84 +datum=WGS84 +units=m +no_defs +type=crs\n",
      "2022-03-03 12:43:57 Created graph from node/edge GeoDataFrames\n",
      "2022-03-03 12:43:57 Projected graph with 69374 nodes and 224778 edges\n"
     ]
    },
    {
     "name": "stderr",
     "output_type": "stream",
     "text": [
      "/var/folders/8v/6dq3dnld7rx4qv5wr7vx0w5m0000gn/T/ipykernel_30197/3347265067.py:5: FutureWarning: The frame.append method is deprecated and will be removed from pandas in a future version. Use pandas.concat instead.\n",
      "  detroit_polygons = detroit_polygons.append(gdf_iso_poly)\n"
     ]
    },
    {
     "name": "stdout",
     "output_type": "stream",
     "text": [
      "2022-03-03 12:48:02 Created bbox 12075.0 m from (42.2579800997193, -83.2055310996776): 42.366573030230064,42.14938716920853,-83.05880857614746,-83.35225362320774\n",
      "2022-03-03 12:48:02 Projected GeoDataFrame to +proj=utm +zone=17 +ellps=WGS84 +datum=WGS84 +units=m +no_defs +type=crs\n",
      "2022-03-03 12:48:02 Projected GeoDataFrame to epsg:4326\n",
      "2022-03-03 12:48:02 Projected GeoDataFrame to +proj=utm +zone=17 +ellps=WGS84 +datum=WGS84 +units=m +no_defs +type=crs\n",
      "2022-03-03 12:48:02 Projected GeoDataFrame to epsg:4326\n",
      "2022-03-03 12:48:02 Requesting data within polygon from API in 1 request(s)\n",
      "2022-03-03 12:48:02 Resolved overpass-api.de to 178.63.11.215\n",
      "2022-03-03 12:48:03 Pausing 0 seconds before making HTTP POST request\n",
      "2022-03-03 12:48:03 Post https://overpass-api.de/api/interpreter?data=%5Bout%3Ajson%5D%5Btimeout%3A180%5D%3B%28way%5B%22highway%22%5D%5B%22area%22%21~%22yes%22%5D%5B%22access%22%21~%22private%22%5D%5B%22highway%22%21~%22abandoned%7Cbus_guideway%7Cconstruction%7Ccycleway%7Cmotor%7Cplanned%7Cplatform%7Cproposed%7Craceway%22%5D%5B%22foot%22%21~%22no%22%5D%5B%22service%22%21~%22private%22%5D%28poly%3A%2742.149387+-83.358302+42.366573+-83.358323+42.367013+-83.358294+42.367450+-83.358207+42.367878+-83.358063+42.368293+-83.357862+42.368692+-83.357608+42.369071+-83.357303+42.369426+-83.356949+42.369753+-83.356549+42.370049+-83.356109+42.370313+-83.355631+42.370540+-83.355121+42.370729+-83.354584+42.370878+-83.354024+42.370986+-83.353447+42.371052+-83.352858+42.371074+-83.352264+42.371074+-83.058798+42.371052+-83.058204+42.370987+-83.057615+42.370879+-83.057038+42.370730+-83.056478+42.370540+-83.055941+42.370313+-83.055431+42.370050+-83.054953+42.369753+-83.054512+42.369426+-83.054113+42.369071+-83.053759+42.368693+-83.053454+42.368294+-83.053199+42.367878+-83.052999+42.367450+-83.052855+42.367014+-83.052768+42.366573+-83.052738+42.149387+-83.052759+42.148945+-83.052788+42.148508+-83.052876+42.148079+-83.053020+42.147662+-83.053221+42.147263+-83.053475+42.146884+-83.053781+42.146529+-83.054136+42.146201+-83.054535+42.145904+-83.054976+42.145641+-83.055453+42.145415+-83.055963+42.145226+-83.056501+42.145078+-83.057061+42.144971+-83.057637+42.144907+-83.058225+42.144886+-83.058819+42.144886+-83.352243+42.144907+-83.352837+42.144971+-83.353425+42.145078+-83.354001+42.145226+-83.354561+42.145415+-83.355099+42.145642+-83.355609+42.145905+-83.356086+42.146202+-83.356527+42.146529+-83.356926+42.146884+-83.357281+42.147263+-83.357587+42.147663+-83.357841+42.148079+-83.358041+42.148508+-83.358186+42.148946+-83.358273+42.149387+-83.358302%27%29%3B%3E%3B%29%3Bout%3B with timeout=180\n",
      "2022-03-03 12:48:03 Resolved overpass-api.de to 178.63.11.215\n",
      "2022-03-03 12:48:22 Downloaded 56,745.0kB from overpass-api.de\n",
      "2022-03-03 12:48:25 Saved response to cache file \"cache/905ed2b58e70f6fbf885aa106349c622b9e10ad0.json\"\n",
      "2022-03-03 12:48:25 Got all network data within polygon from API in 1 request(s)\n",
      "2022-03-03 12:48:25 Creating graph from downloaded OSM data...\n",
      "2022-03-03 12:48:36 Created graph with 362179 nodes and 893450 edges\n",
      "2022-03-03 12:48:42 Added length attributes to graph edges\n",
      "2022-03-03 12:48:43 Identifying all nodes that lie outside the polygon...\n",
      "2022-03-03 12:49:00 Created nodes GeoDataFrame from graph\n",
      "2022-03-03 12:49:13 Created r-tree spatial index for 362179 geometries\n",
      "2022-03-03 12:49:18 Identified 355664 geometries inside polygon\n",
      "2022-03-03 12:49:28 Removed 6515 nodes outside polygon\n",
      "2022-03-03 12:49:28 Truncated graph by polygon\n",
      "2022-03-03 12:49:30 Begin topologically simplifying the graph...\n",
      "2022-03-03 12:49:43 Identified 139350 edge endpoints\n",
      "2022-03-03 12:50:20 Simplified graph: 355664 to 139350 nodes, 879494 to 446866 edges\n",
      "2022-03-03 12:50:20 Identifying all nodes that lie outside the polygon...\n",
      "2022-03-03 12:50:26 Created nodes GeoDataFrame from graph\n",
      "2022-03-03 12:50:31 Created r-tree spatial index for 139350 geometries\n",
      "2022-03-03 12:50:32 Identified 129324 geometries inside polygon\n",
      "2022-03-03 12:50:37 Removed 10026 nodes outside polygon\n",
      "2022-03-03 12:50:42 Removed 40 isolated nodes\n",
      "2022-03-03 12:50:52 Got largest weakly connected component (123426 of 129284 total nodes)\n",
      "2022-03-03 12:50:52 Truncated graph by polygon\n",
      "2022-03-03 12:50:55 Counted undirected street segments incident on each node\n",
      "2022-03-03 12:50:55 graph_from_polygon returned graph with 123426 nodes and 402104 edges\n",
      "2022-03-03 12:50:55 graph_from_bbox returned graph with 123426 nodes and 402104 edges\n",
      "2022-03-03 12:50:56 graph_from_point returned graph with 123426 nodes and 402104 edges\n",
      "2022-03-03 12:51:00 Created nodes GeoDataFrame from graph\n"
     ]
    },
    {
     "name": "stderr",
     "output_type": "stream",
     "text": [
      "/Users/zachary/opt/anaconda3/envs/final_ML_LR/lib/python3.8/site-packages/osmnx/distance.py:356: UserWarning: The `get_nearest_node` function has been deprecated and will be removed in a future release. Use the more efficient `distance.nearest_nodes` instead.\n",
      "  warnings.warn(msg)\n"
     ]
    },
    {
     "name": "stdout",
     "output_type": "stream",
     "text": [
      "2022-03-03 12:51:02 Created nodes GeoDataFrame from graph\n",
      "2022-03-03 12:51:08 Created nodes GeoDataFrame from graph\n",
      "2022-03-03 12:51:23 Projected GeoDataFrame to +proj=utm +zone=17 +ellps=WGS84 +datum=WGS84 +units=m +no_defs +type=crs\n",
      "2022-03-03 12:52:03 Created edges GeoDataFrame from graph\n",
      "2022-03-03 12:52:24 Projected GeoDataFrame to +proj=utm +zone=17 +ellps=WGS84 +datum=WGS84 +units=m +no_defs +type=crs\n",
      "2022-03-03 12:52:39 Created graph from node/edge GeoDataFrames\n",
      "2022-03-03 12:52:39 Projected graph with 123426 nodes and 402104 edges\n"
     ]
    },
    {
     "name": "stderr",
     "output_type": "stream",
     "text": [
      "/var/folders/8v/6dq3dnld7rx4qv5wr7vx0w5m0000gn/T/ipykernel_30197/3347265067.py:5: FutureWarning: The frame.append method is deprecated and will be removed from pandas in a future version. Use pandas.concat instead.\n",
      "  detroit_polygons = detroit_polygons.append(gdf_iso_poly)\n"
     ]
    },
    {
     "name": "stdout",
     "output_type": "stream",
     "text": [
      "2022-03-03 12:58:13 Created bbox 12075.0 m from (42.3080169001431, -83.486252699977): 42.41660983065387,42.199423969632335,-83.33941360685255,-83.63309179310146\n",
      "2022-03-03 12:58:13 Projected GeoDataFrame to +proj=utm +zone=17 +ellps=WGS84 +datum=WGS84 +units=m +no_defs +type=crs\n",
      "2022-03-03 12:58:13 Projected GeoDataFrame to epsg:4326\n",
      "2022-03-03 12:58:13 Projected GeoDataFrame to +proj=utm +zone=17 +ellps=WGS84 +datum=WGS84 +units=m +no_defs +type=crs\n",
      "2022-03-03 12:58:13 Projected GeoDataFrame to epsg:4326\n",
      "2022-03-03 12:58:13 Requesting data within polygon from API in 1 request(s)\n",
      "2022-03-03 12:58:14 Resolved overpass-api.de to 178.63.48.217\n",
      "2022-03-03 12:58:14 Pausing 0 seconds before making HTTP POST request\n",
      "2022-03-03 12:58:14 Post https://overpass-api.de/api/interpreter?data=%5Bout%3Ajson%5D%5Btimeout%3A180%5D%3B%28way%5B%22highway%22%5D%5B%22area%22%21~%22yes%22%5D%5B%22access%22%21~%22private%22%5D%5B%22highway%22%21~%22abandoned%7Cbus_guideway%7Cconstruction%7Ccycleway%7Cmotor%7Cplanned%7Cplatform%7Cproposed%7Craceway%22%5D%5B%22foot%22%21~%22no%22%5D%5B%22service%22%21~%22private%22%5D%28poly%3A%2742.199424+-83.639145+42.416609+-83.639165+42.417050+-83.639136+42.417486+-83.639049+42.417914+-83.638905+42.418330+-83.638704+42.418729+-83.638450+42.419107+-83.638144+42.419462+-83.637790+42.419789+-83.637391+42.420086+-83.636950+42.420349+-83.636472+42.420576+-83.635962+42.420765+-83.635424+42.420915+-83.634863+42.421022+-83.634286+42.421088+-83.633697+42.421110+-83.633102+42.421111+-83.339403+42.421088+-83.338808+42.421023+-83.338219+42.420915+-83.337642+42.420766+-83.337082+42.420577+-83.336544+42.420350+-83.336033+42.420086+-83.335555+42.419790+-83.335115+42.419463+-83.334715+42.419108+-83.334361+42.418729+-83.334055+42.418331+-83.333801+42.417915+-83.333600+42.417487+-83.333456+42.417051+-83.333368+42.416610+-83.333339+42.199424+-83.333360+42.198982+-83.333389+42.198545+-83.333477+42.198116+-83.333622+42.197699+-83.333822+42.197300+-83.334077+42.196921+-83.334383+42.196566+-83.334737+42.196238+-83.335137+42.195942+-83.335578+42.195679+-83.336056+42.195452+-83.336567+42.195263+-83.337104+42.195115+-83.337665+42.195008+-83.338242+42.194944+-83.338830+42.194923+-83.339424+42.194923+-83.633081+42.194944+-83.633675+42.195009+-83.634264+42.195115+-83.634841+42.195264+-83.635401+42.195452+-83.635939+42.195679+-83.636449+42.195942+-83.636927+42.196239+-83.637368+42.196566+-83.637768+42.196921+-83.638122+42.197300+-83.638428+42.197700+-83.638683+42.198116+-83.638883+42.198545+-83.639028+42.198982+-83.639115+42.199424+-83.639145%27%29%3B%3E%3B%29%3Bout%3B with timeout=180\n",
      "2022-03-03 12:58:14 Resolved overpass-api.de to 178.63.48.217\n",
      "2022-03-03 12:58:29 Downloaded 42,707.4kB from overpass-api.de\n",
      "2022-03-03 12:58:31 Saved response to cache file \"cache/6a40a9e50315905cafd7d8f35b530957e39ced2d.json\"\n",
      "2022-03-03 12:58:31 Got all network data within polygon from API in 1 request(s)\n",
      "2022-03-03 12:58:31 Creating graph from downloaded OSM data...\n",
      "2022-03-03 12:58:38 Created graph with 308738 nodes and 687772 edges\n",
      "2022-03-03 12:58:42 Added length attributes to graph edges\n",
      "2022-03-03 12:58:42 Identifying all nodes that lie outside the polygon...\n",
      "2022-03-03 12:58:57 Created nodes GeoDataFrame from graph\n",
      "2022-03-03 12:59:08 Created r-tree spatial index for 308738 geometries\n",
      "2022-03-03 12:59:12 Identified 303122 geometries inside polygon\n",
      "2022-03-03 12:59:20 Removed 5616 nodes outside polygon\n",
      "2022-03-03 12:59:20 Truncated graph by polygon\n",
      "2022-03-03 12:59:21 Begin topologically simplifying the graph...\n",
      "2022-03-03 12:59:31 Identified 81296 edge endpoints\n",
      "2022-03-03 13:00:01 Simplified graph: 303122 to 81296 nodes, 676154 to 232502 edges\n",
      "2022-03-03 13:00:01 Identifying all nodes that lie outside the polygon...\n",
      "2022-03-03 13:00:05 Created nodes GeoDataFrame from graph\n",
      "2022-03-03 13:00:08 Created r-tree spatial index for 81296 geometries\n",
      "2022-03-03 13:00:08 Identified 75954 geometries inside polygon\n",
      "2022-03-03 13:00:11 Removed 5342 nodes outside polygon\n",
      "2022-03-03 13:00:13 Removed 47 isolated nodes\n",
      "2022-03-03 13:00:19 Got largest weakly connected component (73039 of 75907 total nodes)\n",
      "2022-03-03 13:00:19 Truncated graph by polygon\n",
      "2022-03-03 13:00:20 Counted undirected street segments incident on each node\n",
      "2022-03-03 13:00:20 graph_from_polygon returned graph with 73039 nodes and 213334 edges\n",
      "2022-03-03 13:00:21 graph_from_bbox returned graph with 73039 nodes and 213334 edges\n",
      "2022-03-03 13:00:21 graph_from_point returned graph with 73039 nodes and 213334 edges\n",
      "2022-03-03 13:00:24 Created nodes GeoDataFrame from graph\n"
     ]
    },
    {
     "name": "stderr",
     "output_type": "stream",
     "text": [
      "/Users/zachary/opt/anaconda3/envs/final_ML_LR/lib/python3.8/site-packages/osmnx/distance.py:356: UserWarning: The `get_nearest_node` function has been deprecated and will be removed in a future release. Use the more efficient `distance.nearest_nodes` instead.\n",
      "  warnings.warn(msg)\n"
     ]
    },
    {
     "name": "stdout",
     "output_type": "stream",
     "text": [
      "2022-03-03 13:00:25 Created nodes GeoDataFrame from graph\n",
      "2022-03-03 13:00:29 Created nodes GeoDataFrame from graph\n",
      "2022-03-03 13:00:37 Projected GeoDataFrame to +proj=utm +zone=17 +ellps=WGS84 +datum=WGS84 +units=m +no_defs +type=crs\n",
      "2022-03-03 13:00:57 Created edges GeoDataFrame from graph\n",
      "2022-03-03 13:01:08 Projected GeoDataFrame to +proj=utm +zone=17 +ellps=WGS84 +datum=WGS84 +units=m +no_defs +type=crs\n",
      "2022-03-03 13:01:16 Created graph from node/edge GeoDataFrames\n",
      "2022-03-03 13:01:16 Projected graph with 73039 nodes and 213334 edges\n"
     ]
    },
    {
     "name": "stderr",
     "output_type": "stream",
     "text": [
      "/var/folders/8v/6dq3dnld7rx4qv5wr7vx0w5m0000gn/T/ipykernel_30197/3347265067.py:5: FutureWarning: The frame.append method is deprecated and will be removed from pandas in a future version. Use pandas.concat instead.\n",
      "  detroit_polygons = detroit_polygons.append(gdf_iso_poly)\n"
     ]
    },
    {
     "name": "stdout",
     "output_type": "stream",
     "text": [
      "2022-03-03 13:03:36 Created bbox 12075.0 m from (42.3407286996814, -83.3315944000035): 42.449321630192166,42.23213576917063,-83.18467893815668,-83.47850986185031\n",
      "2022-03-03 13:03:36 Projected GeoDataFrame to +proj=utm +zone=17 +ellps=WGS84 +datum=WGS84 +units=m +no_defs +type=crs\n",
      "2022-03-03 13:03:36 Projected GeoDataFrame to epsg:4326\n",
      "2022-03-03 13:03:36 Projected GeoDataFrame to +proj=utm +zone=17 +ellps=WGS84 +datum=WGS84 +units=m +no_defs +type=crs\n",
      "2022-03-03 13:03:36 Projected GeoDataFrame to epsg:4326\n",
      "2022-03-03 13:03:36 Requesting data within polygon from API in 1 request(s)\n",
      "2022-03-03 13:03:36 Resolved overpass-api.de to 178.63.48.217\n",
      "2022-03-03 13:03:36 Pausing 0 seconds before making HTTP POST request\n",
      "2022-03-03 13:03:36 Post https://overpass-api.de/api/interpreter?data=%5Bout%3Ajson%5D%5Btimeout%3A180%5D%3B%28way%5B%22highway%22%5D%5B%22area%22%21~%22yes%22%5D%5B%22access%22%21~%22private%22%5D%5B%22highway%22%21~%22abandoned%7Cbus_guideway%7Cconstruction%7Ccycleway%7Cmotor%7Cplanned%7Cplatform%7Cproposed%7Craceway%22%5D%5B%22foot%22%21~%22no%22%5D%5B%22service%22%21~%22private%22%5D%28poly%3A%2742.232136+-83.484566+42.449321+-83.484587+42.449762+-83.484558+42.450198+-83.484471+42.450626+-83.484326+42.451042+-83.484126+42.451441+-83.483871+42.451819+-83.483565+42.452174+-83.483211+42.452501+-83.482811+42.452798+-83.482370+42.453061+-83.481892+42.453288+-83.481381+42.453477+-83.480843+42.453627+-83.480282+42.453734+-83.479705+42.453800+-83.479115+42.453822+-83.478520+42.453823+-83.184668+42.453800+-83.184073+42.453735+-83.183484+42.453627+-83.182906+42.453478+-83.182346+42.453289+-83.181807+42.453062+-83.181297+42.452798+-83.180818+42.452502+-83.180377+42.452175+-83.179978+42.451820+-83.179623+42.451441+-83.179317+42.451042+-83.179063+42.450627+-83.178862+42.450199+-83.178718+42.449762+-83.178630+42.449322+-83.178601+42.232135+-83.178622+42.231694+-83.178651+42.231256+-83.178739+42.230827+-83.178883+42.230411+-83.179084+42.230011+-83.179339+42.229632+-83.179645+42.229277+-83.180000+42.228950+-83.180400+42.228653+-83.180841+42.228390+-83.181320+42.228163+-83.181830+42.227975+-83.182368+42.227826+-83.182929+42.227720+-83.183506+42.227655+-83.184095+42.227634+-83.184689+42.227635+-83.478499+42.227656+-83.479094+42.227720+-83.479682+42.227827+-83.480260+42.227975+-83.480820+42.228164+-83.481358+42.228391+-83.481869+42.228654+-83.482347+42.228950+-83.482789+42.229278+-83.483188+42.229633+-83.483543+42.230012+-83.483849+42.230412+-83.484104+42.230828+-83.484305+42.231257+-83.484450+42.231694+-83.484537+42.232136+-83.484566%27%29%3B%3E%3B%29%3Bout%3B with timeout=180\n",
      "2022-03-03 13:03:36 Resolved overpass-api.de to 178.63.48.217\n",
      "2022-03-03 13:04:09 Downloaded 70,299.2kB from overpass-api.de\n",
      "2022-03-03 13:04:12 Saved response to cache file \"cache/fa6d1c4116e049fa60881c6fb600c6fd4fdc01eb.json\"\n",
      "2022-03-03 13:04:12 Got all network data within polygon from API in 1 request(s)\n",
      "2022-03-03 13:04:12 Creating graph from downloaded OSM data...\n",
      "2022-03-03 13:04:25 Created graph with 469391 nodes and 1120332 edges\n",
      "2022-03-03 13:04:34 Added length attributes to graph edges\n",
      "2022-03-03 13:04:35 Identifying all nodes that lie outside the polygon...\n",
      "2022-03-03 13:04:58 Created nodes GeoDataFrame from graph\n",
      "2022-03-03 13:05:15 Created r-tree spatial index for 469391 geometries\n",
      "2022-03-03 13:05:22 Identified 461946 geometries inside polygon\n",
      "2022-03-03 13:05:34 Removed 7445 nodes outside polygon\n",
      "2022-03-03 13:05:34 Truncated graph by polygon\n",
      "2022-03-03 13:05:37 Begin topologically simplifying the graph...\n",
      "2022-03-03 13:05:53 Identified 157141 edge endpoints\n",
      "2022-03-03 13:06:43 Simplified graph: 461946 to 157141 nodes, 1104640 to 495030 edges\n",
      "2022-03-03 13:06:43 Identifying all nodes that lie outside the polygon...\n",
      "2022-03-03 13:06:51 Created nodes GeoDataFrame from graph\n",
      "2022-03-03 13:06:56 Created r-tree spatial index for 157141 geometries\n",
      "2022-03-03 13:06:57 Identified 147159 geometries inside polygon\n",
      "2022-03-03 13:07:04 Removed 9982 nodes outside polygon\n",
      "2022-03-03 13:07:09 Removed 46 isolated nodes\n",
      "2022-03-03 13:07:21 Got largest weakly connected component (143402 of 147113 total nodes)\n",
      "2022-03-03 13:07:21 Truncated graph by polygon\n",
      "2022-03-03 13:07:24 Counted undirected street segments incident on each node\n",
      "2022-03-03 13:07:24 graph_from_polygon returned graph with 143402 nodes and 458512 edges\n",
      "2022-03-03 13:07:25 graph_from_bbox returned graph with 143402 nodes and 458512 edges\n",
      "2022-03-03 13:07:25 graph_from_point returned graph with 143402 nodes and 458512 edges\n",
      "2022-03-03 13:07:31 Created nodes GeoDataFrame from graph\n"
     ]
    },
    {
     "name": "stderr",
     "output_type": "stream",
     "text": [
      "/Users/zachary/opt/anaconda3/envs/final_ML_LR/lib/python3.8/site-packages/osmnx/distance.py:356: UserWarning: The `get_nearest_node` function has been deprecated and will be removed in a future release. Use the more efficient `distance.nearest_nodes` instead.\n",
      "  warnings.warn(msg)\n"
     ]
    },
    {
     "name": "stdout",
     "output_type": "stream",
     "text": [
      "2022-03-03 13:07:32 Created nodes GeoDataFrame from graph\n",
      "2022-03-03 13:07:39 Created nodes GeoDataFrame from graph\n",
      "2022-03-03 13:07:58 Projected GeoDataFrame to +proj=utm +zone=17 +ellps=WGS84 +datum=WGS84 +units=m +no_defs +type=crs\n",
      "2022-03-03 13:08:43 Created edges GeoDataFrame from graph\n",
      "2022-03-03 13:09:07 Projected GeoDataFrame to +proj=utm +zone=17 +ellps=WGS84 +datum=WGS84 +units=m +no_defs +type=crs\n",
      "2022-03-03 13:09:24 Created graph from node/edge GeoDataFrames\n",
      "2022-03-03 13:09:24 Projected graph with 143402 nodes and 458512 edges\n"
     ]
    },
    {
     "name": "stderr",
     "output_type": "stream",
     "text": [
      "/var/folders/8v/6dq3dnld7rx4qv5wr7vx0w5m0000gn/T/ipykernel_30197/3347265067.py:5: FutureWarning: The frame.append method is deprecated and will be removed from pandas in a future version. Use pandas.concat instead.\n",
      "  detroit_polygons = detroit_polygons.append(gdf_iso_poly)\n"
     ]
    },
    {
     "name": "stdout",
     "output_type": "stream",
     "text": [
      "2022-03-03 13:14:22 Created bbox 12075.0 m from (42.3101716001655, -83.3503022999872): 42.41876453067627,42.20157866965474,-83.20345818043126,-83.49714641954316\n",
      "2022-03-03 13:14:22 Projected GeoDataFrame to +proj=utm +zone=17 +ellps=WGS84 +datum=WGS84 +units=m +no_defs +type=crs\n",
      "2022-03-03 13:14:22 Projected GeoDataFrame to epsg:4326\n",
      "2022-03-03 13:14:22 Projected GeoDataFrame to +proj=utm +zone=17 +ellps=WGS84 +datum=WGS84 +units=m +no_defs +type=crs\n",
      "2022-03-03 13:14:22 Projected GeoDataFrame to epsg:4326\n",
      "2022-03-03 13:14:22 Requesting data within polygon from API in 1 request(s)\n",
      "2022-03-03 13:14:22 Resolved overpass-api.de to 178.63.48.217\n",
      "2022-03-03 13:14:23 Pausing 0 seconds before making HTTP POST request\n",
      "2022-03-03 13:14:23 Post https://overpass-api.de/api/interpreter?data=%5Bout%3Ajson%5D%5Btimeout%3A180%5D%3B%28way%5B%22highway%22%5D%5B%22area%22%21~%22yes%22%5D%5B%22access%22%21~%22private%22%5D%5B%22highway%22%21~%22abandoned%7Cbus_guideway%7Cconstruction%7Ccycleway%7Cmotor%7Cplanned%7Cplatform%7Cproposed%7Craceway%22%5D%5B%22foot%22%21~%22no%22%5D%5B%22service%22%21~%22private%22%5D%28poly%3A%2742.201579+-83.503200+42.418764+-83.503221+42.419205+-83.503192+42.419641+-83.503104+42.420069+-83.502960+42.420485+-83.502760+42.420884+-83.502505+42.421262+-83.502199+42.421617+-83.501845+42.421944+-83.501446+42.422241+-83.501005+42.422504+-83.500527+42.422731+-83.500016+42.422920+-83.499478+42.423070+-83.498918+42.423177+-83.498341+42.423243+-83.497752+42.423265+-83.497157+42.423266+-83.203448+42.423243+-83.202853+42.423178+-83.202264+42.423070+-83.201686+42.422921+-83.201126+42.422732+-83.200588+42.422504+-83.200078+42.422241+-83.199600+42.421945+-83.199159+42.421617+-83.198759+42.421263+-83.198405+42.420884+-83.198099+42.420485+-83.197845+42.420070+-83.197644+42.419642+-83.197500+42.419205+-83.197412+42.418765+-83.197383+42.201578+-83.197404+42.201137+-83.197433+42.200699+-83.197521+42.200270+-83.197666+42.199854+-83.197866+42.199454+-83.198121+42.199075+-83.198427+42.198720+-83.198782+42.198393+-83.199181+42.198096+-83.199622+42.197833+-83.200100+42.197606+-83.200611+42.197418+-83.201149+42.197269+-83.201709+42.197162+-83.202286+42.197098+-83.202875+42.197077+-83.203469+42.197078+-83.497136+42.197099+-83.497730+42.197163+-83.498318+42.197270+-83.498895+42.197418+-83.499456+42.197607+-83.499994+42.197834+-83.500504+42.198097+-83.500982+42.198393+-83.501423+42.198721+-83.501823+42.199076+-83.502177+42.199455+-83.502483+42.199855+-83.502738+42.200271+-83.502939+42.200700+-83.503083+42.201137+-83.503171+42.201579+-83.503200%27%29%3B%3E%3B%29%3Bout%3B with timeout=180\n",
      "2022-03-03 13:14:23 Resolved overpass-api.de to 178.63.48.217\n",
      "2022-03-03 13:14:50 Downloaded 64,780.8kB from overpass-api.de\n",
      "2022-03-03 13:14:54 Saved response to cache file \"cache/fd150ee7a6a85d5cffb69c87e91c5f9dc6628df2.json\"\n",
      "2022-03-03 13:14:54 Got all network data within polygon from API in 1 request(s)\n",
      "2022-03-03 13:14:54 Creating graph from downloaded OSM data...\n",
      "2022-03-03 13:15:05 Created graph with 438559 nodes and 1032262 edges\n",
      "2022-03-03 13:15:12 Added length attributes to graph edges\n",
      "2022-03-03 13:15:12 Identifying all nodes that lie outside the polygon...\n",
      "2022-03-03 13:15:32 Created nodes GeoDataFrame from graph\n",
      "2022-03-03 13:15:48 Created r-tree spatial index for 438559 geometries\n",
      "2022-03-03 13:15:54 Identified 429028 geometries inside polygon\n",
      "2022-03-03 13:16:06 Removed 9531 nodes outside polygon\n",
      "2022-03-03 13:16:06 Truncated graph by polygon\n",
      "2022-03-03 13:16:09 Begin topologically simplifying the graph...\n",
      "2022-03-03 13:16:24 Identified 141135 edge endpoints\n",
      "2022-03-03 13:17:09 Simplified graph: 429028 to 141135 nodes, 1012206 to 436420 edges\n",
      "2022-03-03 13:17:09 Identifying all nodes that lie outside the polygon...\n",
      "2022-03-03 13:17:14 Created nodes GeoDataFrame from graph\n",
      "2022-03-03 13:17:19 Created r-tree spatial index for 141135 geometries\n",
      "2022-03-03 13:17:20 Identified 129460 geometries inside polygon\n",
      "2022-03-03 13:17:25 Removed 11675 nodes outside polygon\n",
      "2022-03-03 13:17:29 Removed 57 isolated nodes\n",
      "2022-03-03 13:17:40 Got largest weakly connected component (125807 of 129403 total nodes)\n",
      "2022-03-03 13:17:41 Truncated graph by polygon\n",
      "2022-03-03 13:17:43 Counted undirected street segments incident on each node\n",
      "2022-03-03 13:17:43 graph_from_polygon returned graph with 125807 nodes and 394570 edges\n",
      "2022-03-03 13:17:44 graph_from_bbox returned graph with 125807 nodes and 394570 edges\n",
      "2022-03-03 13:17:44 graph_from_point returned graph with 125807 nodes and 394570 edges\n",
      "2022-03-03 13:17:49 Created nodes GeoDataFrame from graph\n"
     ]
    },
    {
     "name": "stderr",
     "output_type": "stream",
     "text": [
      "/Users/zachary/opt/anaconda3/envs/final_ML_LR/lib/python3.8/site-packages/osmnx/distance.py:356: UserWarning: The `get_nearest_node` function has been deprecated and will be removed in a future release. Use the more efficient `distance.nearest_nodes` instead.\n",
      "  warnings.warn(msg)\n"
     ]
    },
    {
     "name": "stdout",
     "output_type": "stream",
     "text": [
      "2022-03-03 13:17:50 Created nodes GeoDataFrame from graph\n",
      "2022-03-03 13:17:57 Created nodes GeoDataFrame from graph\n",
      "2022-03-03 13:18:12 Projected GeoDataFrame to +proj=utm +zone=17 +ellps=WGS84 +datum=WGS84 +units=m +no_defs +type=crs\n",
      "2022-03-03 13:18:50 Created edges GeoDataFrame from graph\n",
      "2022-03-03 13:19:10 Projected GeoDataFrame to +proj=utm +zone=17 +ellps=WGS84 +datum=WGS84 +units=m +no_defs +type=crs\n",
      "2022-03-03 13:19:24 Created graph from node/edge GeoDataFrames\n",
      "2022-03-03 13:19:24 Projected graph with 125807 nodes and 394570 edges\n"
     ]
    },
    {
     "name": "stderr",
     "output_type": "stream",
     "text": [
      "/var/folders/8v/6dq3dnld7rx4qv5wr7vx0w5m0000gn/T/ipykernel_30197/3347265067.py:5: FutureWarning: The frame.append method is deprecated and will be removed from pandas in a future version. Use pandas.concat instead.\n",
      "  detroit_polygons = detroit_polygons.append(gdf_iso_poly)\n"
     ]
    },
    {
     "name": "stdout",
     "output_type": "stream",
     "text": [
      "2022-03-03 13:23:53 Created bbox 12075.0 m from (42.3987634998963, -83.3359373995677): 42.507356430407064,42.29017056938553,-83.18888613640449,-83.4829886627309\n",
      "2022-03-03 13:23:53 Projected GeoDataFrame to +proj=utm +zone=17 +ellps=WGS84 +datum=WGS84 +units=m +no_defs +type=crs\n",
      "2022-03-03 13:23:53 Projected GeoDataFrame to epsg:4326\n",
      "2022-03-03 13:23:53 Projected GeoDataFrame to +proj=utm +zone=17 +ellps=WGS84 +datum=WGS84 +units=m +no_defs +type=crs\n",
      "2022-03-03 13:23:53 Projected GeoDataFrame to epsg:4326\n",
      "2022-03-03 13:23:53 Requesting data within polygon from API in 1 request(s)\n",
      "2022-03-03 13:23:53 Resolved overpass-api.de to 178.63.48.217\n",
      "2022-03-03 13:23:54 Pausing 0 seconds before making HTTP POST request\n",
      "2022-03-03 13:23:54 Post https://overpass-api.de/api/interpreter?data=%5Bout%3Ajson%5D%5Btimeout%3A180%5D%3B%28way%5B%22highway%22%5D%5B%22area%22%21~%22yes%22%5D%5B%22access%22%21~%22private%22%5D%5B%22highway%22%21~%22abandoned%7Cbus_guideway%7Cconstruction%7Ccycleway%7Cmotor%7Cplanned%7Cplatform%7Cproposed%7Craceway%22%5D%5B%22foot%22%21~%22no%22%5D%5B%22service%22%21~%22private%22%5D%28poly%3A%2742.290171+-83.489051+42.507356+-83.489071+42.507797+-83.489042+42.508233+-83.488955+42.508661+-83.488810+42.509077+-83.488610+42.509476+-83.488355+42.509854+-83.488049+42.510209+-83.487694+42.510536+-83.487294+42.510833+-83.486852+42.511096+-83.486374+42.511323+-83.485863+42.511512+-83.485324+42.511661+-83.484763+42.511769+-83.484185+42.511835+-83.483595+42.511857+-83.482999+42.511858+-83.188876+42.511835+-83.188280+42.511770+-83.187690+42.511662+-83.187112+42.511513+-83.186551+42.511324+-83.186012+42.511096+-83.185501+42.510833+-83.185022+42.510536+-83.184581+42.510209+-83.184180+42.509855+-83.183826+42.509476+-83.183519+42.509077+-83.183265+42.508662+-83.183064+42.508234+-83.182919+42.507797+-83.182832+42.507357+-83.182803+42.290170+-83.182824+42.289728+-83.182853+42.289291+-83.182940+42.288862+-83.183085+42.288446+-83.183286+42.288046+-83.183541+42.287667+-83.183848+42.287312+-83.184203+42.286985+-83.184603+42.286688+-83.185045+42.286425+-83.185524+42.286198+-83.186035+42.286010+-83.186574+42.285861+-83.187135+42.285754+-83.187713+42.285690+-83.188302+42.285669+-83.188897+42.285670+-83.482978+42.285691+-83.483573+42.285755+-83.484162+42.285862+-83.484740+42.286010+-83.485301+42.286199+-83.485840+42.286426+-83.486351+42.286689+-83.486830+42.286985+-83.487271+42.287313+-83.487672+42.287668+-83.488027+42.288047+-83.488333+42.288446+-83.488588+42.288863+-83.488789+42.289292+-83.488934+42.289729+-83.489021+42.290171+-83.489051%27%29%3B%3E%3B%29%3Bout%3B with timeout=180\n",
      "2022-03-03 13:23:54 Resolved overpass-api.de to 178.63.48.217\n",
      "2022-03-03 13:24:25 Downloaded 73,217.6kB from overpass-api.de\n",
      "2022-03-03 13:24:28 Saved response to cache file \"cache/451b657dc04da710ca1f88c552b889c26b2f8495.json\"\n",
      "2022-03-03 13:24:28 Got all network data within polygon from API in 1 request(s)\n",
      "2022-03-03 13:24:28 Creating graph from downloaded OSM data...\n",
      "2022-03-03 13:24:40 Created graph with 495960 nodes and 1163728 edges\n",
      "2022-03-03 13:24:49 Added length attributes to graph edges\n",
      "2022-03-03 13:24:49 Identifying all nodes that lie outside the polygon...\n",
      "2022-03-03 13:25:12 Created nodes GeoDataFrame from graph\n",
      "2022-03-03 13:25:31 Created r-tree spatial index for 495960 geometries\n",
      "2022-03-03 13:25:39 Identified 487196 geometries inside polygon\n",
      "2022-03-03 13:25:52 Removed 8764 nodes outside polygon\n",
      "2022-03-03 13:25:52 Truncated graph by polygon\n",
      "2022-03-03 13:25:55 Begin topologically simplifying the graph...\n",
      "2022-03-03 13:26:11 Identified 157666 edge endpoints\n",
      "2022-03-03 13:27:02 Simplified graph: 487196 to 157666 nodes, 1145324 to 486264 edges\n",
      "2022-03-03 13:27:03 Identifying all nodes that lie outside the polygon...\n",
      "2022-03-03 13:27:09 Created nodes GeoDataFrame from graph\n",
      "2022-03-03 13:27:15 Created r-tree spatial index for 157666 geometries\n",
      "2022-03-03 13:27:15 Identified 145379 geometries inside polygon\n",
      "2022-03-03 13:27:20 Removed 12287 nodes outside polygon\n",
      "2022-03-03 13:27:26 Removed 35 isolated nodes\n",
      "2022-03-03 13:27:36 Got largest weakly connected component (141326 of 145344 total nodes)\n",
      "2022-03-03 13:27:37 Truncated graph by polygon\n",
      "2022-03-03 13:27:40 Counted undirected street segments incident on each node\n",
      "2022-03-03 13:27:40 graph_from_polygon returned graph with 141326 nodes and 441540 edges\n",
      "2022-03-03 13:27:41 graph_from_bbox returned graph with 141326 nodes and 441540 edges\n",
      "2022-03-03 13:27:41 graph_from_point returned graph with 141326 nodes and 441540 edges\n",
      "2022-03-03 13:27:47 Created nodes GeoDataFrame from graph\n"
     ]
    },
    {
     "name": "stderr",
     "output_type": "stream",
     "text": [
      "/Users/zachary/opt/anaconda3/envs/final_ML_LR/lib/python3.8/site-packages/osmnx/distance.py:356: UserWarning: The `get_nearest_node` function has been deprecated and will be removed in a future release. Use the more efficient `distance.nearest_nodes` instead.\n",
      "  warnings.warn(msg)\n"
     ]
    },
    {
     "name": "stdout",
     "output_type": "stream",
     "text": [
      "2022-03-03 13:27:49 Created nodes GeoDataFrame from graph\n",
      "2022-03-03 13:27:56 Created nodes GeoDataFrame from graph\n",
      "2022-03-03 13:28:13 Projected GeoDataFrame to +proj=utm +zone=17 +ellps=WGS84 +datum=WGS84 +units=m +no_defs +type=crs\n",
      "2022-03-03 13:28:55 Created edges GeoDataFrame from graph\n",
      "2022-03-03 13:29:18 Projected GeoDataFrame to +proj=utm +zone=17 +ellps=WGS84 +datum=WGS84 +units=m +no_defs +type=crs\n",
      "2022-03-03 13:29:34 Created graph from node/edge GeoDataFrames\n",
      "2022-03-03 13:29:34 Projected graph with 141326 nodes and 441540 edges\n"
     ]
    },
    {
     "name": "stderr",
     "output_type": "stream",
     "text": [
      "/var/folders/8v/6dq3dnld7rx4qv5wr7vx0w5m0000gn/T/ipykernel_30197/3347265067.py:5: FutureWarning: The frame.append method is deprecated and will be removed from pandas in a future version. Use pandas.concat instead.\n",
      "  detroit_polygons = detroit_polygons.append(gdf_iso_poly)\n"
     ]
    },
    {
     "name": "stdout",
     "output_type": "stream",
     "text": [
      "2022-03-03 13:34:13 Created bbox 12075.0 m from (42.3439394996786, -83.1614664002701): 42.452532430189365,42.23534656916783,-83.01454343565068,-83.30838936488952\n",
      "2022-03-03 13:34:13 Projected GeoDataFrame to +proj=utm +zone=17 +ellps=WGS84 +datum=WGS84 +units=m +no_defs +type=crs\n",
      "2022-03-03 13:34:13 Projected GeoDataFrame to epsg:4326\n",
      "2022-03-03 13:34:13 Projected GeoDataFrame to +proj=utm +zone=17 +ellps=WGS84 +datum=WGS84 +units=m +no_defs +type=crs\n",
      "2022-03-03 13:34:14 Projected GeoDataFrame to epsg:4326\n",
      "2022-03-03 13:34:14 Requesting data within polygon from API in 1 request(s)\n",
      "2022-03-03 13:34:14 Resolved overpass-api.de to 178.63.48.217\n",
      "2022-03-03 13:34:14 Pausing 0 seconds before making HTTP POST request\n",
      "2022-03-03 13:34:14 Post https://overpass-api.de/api/interpreter?data=%5Bout%3Ajson%5D%5Btimeout%3A180%5D%3B%28way%5B%22highway%22%5D%5B%22area%22%21~%22yes%22%5D%5B%22access%22%21~%22private%22%5D%5B%22highway%22%21~%22abandoned%7Cbus_guideway%7Cconstruction%7Ccycleway%7Cmotor%7Cplanned%7Cplatform%7Cproposed%7Craceway%22%5D%5B%22foot%22%21~%22no%22%5D%5B%22service%22%21~%22private%22%5D%28poly%3A%2742.235347+-83.314446+42.452532+-83.314467+42.452973+-83.314438+42.453409+-83.314351+42.453837+-83.314206+42.454253+-83.314006+42.454652+-83.313751+42.455030+-83.313445+42.455385+-83.313091+42.455712+-83.312691+42.456009+-83.312250+42.456272+-83.311772+42.456499+-83.311261+42.456688+-83.310723+42.456838+-83.310162+42.456946+-83.309584+42.457011+-83.308995+42.457033+-83.308400+42.457034+-83.014533+42.457011+-83.013938+42.456946+-83.013348+42.456838+-83.012771+42.456689+-83.012210+42.456500+-83.011672+42.456273+-83.011161+42.456009+-83.010683+42.455713+-83.010241+42.455385+-83.009842+42.455031+-83.009487+42.454652+-83.009181+42.454253+-83.008926+42.453838+-83.008726+42.453410+-83.008581+42.452973+-83.008494+42.452532+-83.008465+42.235346+-83.008486+42.234904+-83.008515+42.234467+-83.008603+42.234038+-83.008747+42.233622+-83.008948+42.233222+-83.009203+42.232843+-83.009509+42.232488+-83.009864+42.232161+-83.010264+42.231864+-83.010705+42.231601+-83.011184+42.231374+-83.011694+42.231185+-83.012233+42.231037+-83.012793+42.230930+-83.013371+42.230866+-83.013959+42.230845+-83.014554+42.230845+-83.308379+42.230866+-83.308973+42.230931+-83.309562+42.231037+-83.310139+42.231186+-83.310700+42.231374+-83.311238+42.231601+-83.311749+42.231864+-83.312227+42.232161+-83.312669+42.232488+-83.313069+42.232843+-83.313423+42.233223+-83.313730+42.233622+-83.313984+42.234039+-83.314185+42.234468+-83.314330+42.234905+-83.314417+42.235347+-83.314446%27%29%3B%3E%3B%29%3Bout%3B with timeout=180\n",
      "2022-03-03 13:34:14 Resolved overpass-api.de to 178.63.48.217\n",
      "2022-03-03 13:34:43 Downloaded 69,738.3kB from overpass-api.de\n",
      "2022-03-03 13:34:47 Saved response to cache file \"cache/96a6065fb4332300122f3dffbc87009b09007c68.json\"\n",
      "2022-03-03 13:34:47 Got all network data within polygon from API in 1 request(s)\n",
      "2022-03-03 13:34:47 Creating graph from downloaded OSM data...\n",
      "2022-03-03 13:34:59 Created graph with 426120 nodes and 1079596 edges\n",
      "2022-03-03 13:35:06 Added length attributes to graph edges\n",
      "2022-03-03 13:35:06 Identifying all nodes that lie outside the polygon...\n",
      "2022-03-03 13:35:26 Created nodes GeoDataFrame from graph\n",
      "2022-03-03 13:35:41 Created r-tree spatial index for 426120 geometries\n",
      "2022-03-03 13:35:46 Identified 419010 geometries inside polygon\n",
      "2022-03-03 13:35:59 Removed 7110 nodes outside polygon\n",
      "2022-03-03 13:35:59 Truncated graph by polygon\n",
      "2022-03-03 13:36:01 Begin topologically simplifying the graph...\n",
      "2022-03-03 13:36:16 Identified 175088 edge endpoints\n",
      "2022-03-03 13:37:01 Simplified graph: 419010 to 175088 nodes, 1064272 to 576428 edges\n",
      "2022-03-03 13:37:01 Identifying all nodes that lie outside the polygon...\n",
      "2022-03-03 13:37:09 Created nodes GeoDataFrame from graph\n",
      "2022-03-03 13:37:15 Created r-tree spatial index for 175088 geometries\n",
      "2022-03-03 13:37:16 Identified 166118 geometries inside polygon\n",
      "2022-03-03 13:37:22 Removed 8970 nodes outside polygon\n",
      "2022-03-03 13:37:28 Removed 34 isolated nodes\n",
      "2022-03-03 13:37:43 Got largest weakly connected component (157121 of 166084 total nodes)\n",
      "2022-03-03 13:37:43 Truncated graph by polygon\n",
      "2022-03-03 13:37:46 Counted undirected street segments incident on each node\n",
      "2022-03-03 13:37:47 graph_from_polygon returned graph with 157121 nodes and 525360 edges\n",
      "2022-03-03 13:37:47 graph_from_bbox returned graph with 157121 nodes and 525360 edges\n",
      "2022-03-03 13:37:47 graph_from_point returned graph with 157121 nodes and 525360 edges\n",
      "2022-03-03 13:37:54 Created nodes GeoDataFrame from graph\n"
     ]
    },
    {
     "name": "stderr",
     "output_type": "stream",
     "text": [
      "/Users/zachary/opt/anaconda3/envs/final_ML_LR/lib/python3.8/site-packages/osmnx/distance.py:356: UserWarning: The `get_nearest_node` function has been deprecated and will be removed in a future release. Use the more efficient `distance.nearest_nodes` instead.\n",
      "  warnings.warn(msg)\n"
     ]
    },
    {
     "name": "stdout",
     "output_type": "stream",
     "text": [
      "2022-03-03 13:37:55 Created nodes GeoDataFrame from graph\n",
      "2022-03-03 13:38:03 Created nodes GeoDataFrame from graph\n",
      "2022-03-03 13:38:22 Projected GeoDataFrame to +proj=utm +zone=17 +ellps=WGS84 +datum=WGS84 +units=m +no_defs +type=crs\n",
      "2022-03-03 13:39:15 Created edges GeoDataFrame from graph\n",
      "2022-03-03 13:39:43 Projected GeoDataFrame to +proj=utm +zone=17 +ellps=WGS84 +datum=WGS84 +units=m +no_defs +type=crs\n",
      "2022-03-03 13:40:02 Created graph from node/edge GeoDataFrames\n",
      "2022-03-03 13:40:02 Projected graph with 157121 nodes and 525360 edges\n"
     ]
    },
    {
     "name": "stderr",
     "output_type": "stream",
     "text": [
      "/var/folders/8v/6dq3dnld7rx4qv5wr7vx0w5m0000gn/T/ipykernel_30197/3347265067.py:5: FutureWarning: The frame.append method is deprecated and will be removed from pandas in a future version. Use pandas.concat instead.\n",
      "  detroit_polygons = detroit_polygons.append(gdf_iso_poly)\n"
     ]
    },
    {
     "name": "stdout",
     "output_type": "stream",
     "text": [
      "2022-03-03 13:47:20 Created bbox 12075.0 m from (42.441574299741, -82.9470915003318): 42.550167230251766,42.33298136923023,-82.79993980213142,-83.09424319853217\n",
      "2022-03-03 13:47:20 Projected GeoDataFrame to +proj=utm +zone=17 +ellps=WGS84 +datum=WGS84 +units=m +no_defs +type=crs\n",
      "2022-03-03 13:47:20 Projected GeoDataFrame to epsg:4326\n",
      "2022-03-03 13:47:20 Projected GeoDataFrame to +proj=utm +zone=17 +ellps=WGS84 +datum=WGS84 +units=m +no_defs +type=crs\n",
      "2022-03-03 13:47:20 Projected GeoDataFrame to epsg:4326\n",
      "2022-03-03 13:47:20 Requesting data within polygon from API in 1 request(s)\n",
      "2022-03-03 13:47:20 Resolved overpass-api.de to 178.63.48.217\n",
      "2022-03-03 13:47:21 Pausing 0 seconds before making HTTP POST request\n",
      "2022-03-03 13:47:21 Post https://overpass-api.de/api/interpreter?data=%5Bout%3Ajson%5D%5Btimeout%3A180%5D%3B%28way%5B%22highway%22%5D%5B%22area%22%21~%22yes%22%5D%5B%22access%22%21~%22private%22%5D%5B%22highway%22%21~%22abandoned%7Cbus_guideway%7Cconstruction%7Ccycleway%7Cmotor%7Cplanned%7Cplatform%7Cproposed%7Craceway%22%5D%5B%22foot%22%21~%22no%22%5D%5B%22service%22%21~%22private%22%5D%28poly%3A%2742.332981+-83.100310+42.550167+-83.100331+42.550608+-83.100302+42.551044+-83.100214+42.551472+-83.100070+42.551888+-83.099869+42.552287+-83.099614+42.552665+-83.099308+42.553020+-83.098952+42.553347+-83.098552+42.553644+-83.098110+42.553907+-83.097631+42.554134+-83.097120+42.554324+-83.096580+42.554473+-83.096019+42.554581+-83.095440+42.554646+-83.094850+42.554668+-83.094254+42.554669+-82.799929+42.554647+-82.799333+42.554581+-82.798743+42.554473+-82.798164+42.554324+-82.797602+42.554135+-82.797063+42.553908+-82.796552+42.553644+-82.796073+42.553348+-82.795631+42.553020+-82.795230+42.552666+-82.794875+42.552287+-82.794569+42.551888+-82.794314+42.551473+-82.794113+42.551045+-82.793968+42.550608+-82.793881+42.550167+-82.793851+42.332981+-82.793872+42.332539+-82.793902+42.332102+-82.793989+42.331673+-82.794134+42.331257+-82.794335+42.330857+-82.794591+42.330478+-82.794897+42.330123+-82.795253+42.329795+-82.795653+42.329498+-82.796096+42.329235+-82.796575+42.329008+-82.797086+42.328820+-82.797625+42.328672+-82.798187+42.328565+-82.798765+42.328500+-82.799355+42.328480+-82.799950+42.328480+-83.094233+42.328501+-83.094828+42.328565+-83.095418+42.328672+-83.095996+42.328820+-83.096558+42.329009+-83.097097+42.329236+-83.097608+42.329499+-83.098087+42.329796+-83.098529+42.330123+-83.098930+42.330478+-83.099285+42.330857+-83.099592+42.331257+-83.099847+42.331673+-83.100048+42.332102+-83.100193+42.332540+-83.100281+42.332981+-83.100310%27%29%3B%3E%3B%29%3Bout%3B with timeout=180\n",
      "2022-03-03 13:47:21 Resolved overpass-api.de to 178.63.48.217\n",
      "2022-03-03 13:47:35 Downloaded 39,639.2kB from overpass-api.de\n",
      "2022-03-03 13:47:37 Saved response to cache file \"cache/a1611b6c8d03b2ad63f991d865439f877d0ae370.json\"\n",
      "2022-03-03 13:47:37 Got all network data within polygon from API in 1 request(s)\n",
      "2022-03-03 13:47:37 Creating graph from downloaded OSM data...\n",
      "2022-03-03 13:47:43 Created graph with 243251 nodes and 597880 edges\n",
      "2022-03-03 13:47:47 Added length attributes to graph edges\n",
      "2022-03-03 13:47:47 Identifying all nodes that lie outside the polygon...\n",
      "2022-03-03 13:47:57 Created nodes GeoDataFrame from graph\n",
      "2022-03-03 13:48:06 Created r-tree spatial index for 243251 geometries\n",
      "2022-03-03 13:48:10 Identified 238988 geometries inside polygon\n",
      "2022-03-03 13:48:16 Removed 4263 nodes outside polygon\n",
      "2022-03-03 13:48:16 Truncated graph by polygon\n",
      "2022-03-03 13:48:17 Begin topologically simplifying the graph...\n",
      "2022-03-03 13:48:26 Identified 97165 edge endpoints\n",
      "2022-03-03 13:48:48 Simplified graph: 238988 to 97165 nodes, 588530 to 304884 edges\n",
      "2022-03-03 13:48:48 Identifying all nodes that lie outside the polygon...\n",
      "2022-03-03 13:48:53 Created nodes GeoDataFrame from graph\n",
      "2022-03-03 13:48:56 Created r-tree spatial index for 97165 geometries\n",
      "2022-03-03 13:48:57 Identified 88416 geometries inside polygon\n",
      "2022-03-03 13:49:00 Removed 8749 nodes outside polygon\n",
      "2022-03-03 13:49:03 Removed 35 isolated nodes\n",
      "2022-03-03 13:49:10 Got largest weakly connected component (86126 of 88381 total nodes)\n",
      "2022-03-03 13:49:10 Truncated graph by polygon\n",
      "2022-03-03 13:49:12 Counted undirected street segments incident on each node\n",
      "2022-03-03 13:49:12 graph_from_polygon returned graph with 86126 nodes and 272980 edges\n",
      "2022-03-03 13:49:13 graph_from_bbox returned graph with 86126 nodes and 272980 edges\n",
      "2022-03-03 13:49:13 graph_from_point returned graph with 86126 nodes and 272980 edges\n",
      "2022-03-03 13:49:16 Created nodes GeoDataFrame from graph\n"
     ]
    },
    {
     "name": "stderr",
     "output_type": "stream",
     "text": [
      "/Users/zachary/opt/anaconda3/envs/final_ML_LR/lib/python3.8/site-packages/osmnx/distance.py:356: UserWarning: The `get_nearest_node` function has been deprecated and will be removed in a future release. Use the more efficient `distance.nearest_nodes` instead.\n",
      "  warnings.warn(msg)\n"
     ]
    },
    {
     "name": "stdout",
     "output_type": "stream",
     "text": [
      "2022-03-03 13:49:17 Created nodes GeoDataFrame from graph\n",
      "2022-03-03 13:49:21 Created nodes GeoDataFrame from graph\n",
      "2022-03-03 13:49:32 Projected GeoDataFrame to +proj=utm +zone=17 +ellps=WGS84 +datum=WGS84 +units=m +no_defs +type=crs\n",
      "2022-03-03 13:50:00 Created edges GeoDataFrame from graph\n",
      "2022-03-03 13:50:15 Projected GeoDataFrame to +proj=utm +zone=17 +ellps=WGS84 +datum=WGS84 +units=m +no_defs +type=crs\n",
      "2022-03-03 13:50:25 Created graph from node/edge GeoDataFrames\n",
      "2022-03-03 13:50:25 Projected graph with 86126 nodes and 272980 edges\n"
     ]
    },
    {
     "name": "stderr",
     "output_type": "stream",
     "text": [
      "/var/folders/8v/6dq3dnld7rx4qv5wr7vx0w5m0000gn/T/ipykernel_30197/3347265067.py:5: FutureWarning: The frame.append method is deprecated and will be removed from pandas in a future version. Use pandas.concat instead.\n",
      "  detroit_polygons = detroit_polygons.append(gdf_iso_poly)\n"
     ]
    },
    {
     "name": "stdout",
     "output_type": "stream",
     "text": [
      "2022-03-03 13:54:47 Created bbox 12075.0 m from (42.3557265001322, -83.2934922000224): 42.464319430642966,42.24713356962143,-83.14654168183704,-83.44044271820776\n",
      "2022-03-03 13:54:47 Projected GeoDataFrame to +proj=utm +zone=17 +ellps=WGS84 +datum=WGS84 +units=m +no_defs +type=crs\n",
      "2022-03-03 13:54:47 Projected GeoDataFrame to epsg:4326\n",
      "2022-03-03 13:54:47 Projected GeoDataFrame to +proj=utm +zone=17 +ellps=WGS84 +datum=WGS84 +units=m +no_defs +type=crs\n",
      "2022-03-03 13:54:47 Projected GeoDataFrame to epsg:4326\n",
      "2022-03-03 13:54:47 Requesting data within polygon from API in 1 request(s)\n",
      "2022-03-03 13:54:47 Resolved overpass-api.de to 178.63.48.217\n",
      "2022-03-03 13:54:48 Pausing 0 seconds before making HTTP POST request\n",
      "2022-03-03 13:54:48 Post https://overpass-api.de/api/interpreter?data=%5Bout%3Ajson%5D%5Btimeout%3A180%5D%3B%28way%5B%22highway%22%5D%5B%22area%22%21~%22yes%22%5D%5B%22access%22%21~%22private%22%5D%5B%22highway%22%21~%22abandoned%7Cbus_guideway%7Cconstruction%7Ccycleway%7Cmotor%7Cplanned%7Cplatform%7Cproposed%7Craceway%22%5D%5B%22foot%22%21~%22no%22%5D%5B%22service%22%21~%22private%22%5D%28poly%3A%2742.247134+-83.446501+42.464319+-83.446521+42.464760+-83.446492+42.465196+-83.446405+42.465624+-83.446261+42.466040+-83.446060+42.466439+-83.445806+42.466817+-83.445500+42.467172+-83.445145+42.467499+-83.444745+42.467796+-83.444304+42.468059+-83.443826+42.468286+-83.443315+42.468475+-83.442777+42.468624+-83.442216+42.468732+-83.441638+42.468798+-83.441048+42.468820+-83.440453+42.468821+-83.146531+42.468798+-83.145936+42.468733+-83.145347+42.468625+-83.144769+42.468476+-83.144208+42.468287+-83.143669+42.468059+-83.143159+42.467796+-83.142680+42.467500+-83.142239+42.467172+-83.141839+42.466818+-83.141485+42.466439+-83.141178+42.466040+-83.140924+42.465625+-83.140723+42.465197+-83.140579+42.464760+-83.140491+42.464320+-83.140462+42.247133+-83.140483+42.246691+-83.140512+42.246254+-83.140600+42.245825+-83.140745+42.245409+-83.140946+42.245009+-83.141200+42.244630+-83.141507+42.244275+-83.141862+42.243948+-83.142262+42.243651+-83.142703+42.243388+-83.143181+42.243161+-83.143692+42.242973+-83.144231+42.242824+-83.144791+42.242717+-83.145369+42.242653+-83.145958+42.242632+-83.146552+42.242633+-83.440432+42.242654+-83.441027+42.242718+-83.441616+42.242825+-83.442193+42.242973+-83.442754+42.243162+-83.443292+42.243389+-83.443803+42.243652+-83.444281+42.243948+-83.444722+42.244276+-83.445123+42.244631+-83.445477+42.245010+-83.445784+42.245409+-83.446038+42.245826+-83.446239+42.246255+-83.446384+42.246692+-83.446471+42.247134+-83.446501%27%29%3B%3E%3B%29%3Bout%3B with timeout=180\n",
      "2022-03-03 13:54:48 Resolved overpass-api.de to 178.63.48.217\n",
      "2022-03-03 13:55:19 Downloaded 69,714.0kB from overpass-api.de\n",
      "2022-03-03 13:55:22 Saved response to cache file \"cache/19bf66ec93773c11a598bbb0f154258ceb419780.json\"\n",
      "2022-03-03 13:55:22 Got all network data within polygon from API in 1 request(s)\n",
      "2022-03-03 13:55:22 Creating graph from downloaded OSM data...\n",
      "2022-03-03 13:55:35 Created graph with 456203 nodes and 1106740 edges\n",
      "2022-03-03 13:55:43 Added length attributes to graph edges\n",
      "2022-03-03 13:55:43 Identifying all nodes that lie outside the polygon...\n",
      "2022-03-03 13:56:04 Created nodes GeoDataFrame from graph\n",
      "2022-03-03 13:56:22 Created r-tree spatial index for 456203 geometries\n",
      "2022-03-03 13:56:28 Identified 449543 geometries inside polygon\n",
      "2022-03-03 13:56:40 Removed 6660 nodes outside polygon\n",
      "2022-03-03 13:56:40 Truncated graph by polygon\n",
      "2022-03-03 13:56:43 Begin topologically simplifying the graph...\n",
      "2022-03-03 13:56:58 Identified 162052 edge endpoints\n",
      "2022-03-03 13:57:47 Simplified graph: 449543 to 162052 nodes, 1092528 to 517546 edges\n",
      "2022-03-03 13:57:47 Identifying all nodes that lie outside the polygon...\n",
      "2022-03-03 13:57:55 Created nodes GeoDataFrame from graph\n",
      "2022-03-03 13:58:01 Created r-tree spatial index for 162052 geometries\n",
      "2022-03-03 13:58:02 Identified 152122 geometries inside polygon\n",
      "2022-03-03 13:58:08 Removed 9930 nodes outside polygon\n",
      "2022-03-03 13:58:14 Removed 43 isolated nodes\n",
      "2022-03-03 13:58:25 Got largest weakly connected component (149175 of 152079 total nodes)\n",
      "2022-03-03 13:58:26 Truncated graph by polygon\n",
      "2022-03-03 13:58:29 Counted undirected street segments incident on each node\n",
      "2022-03-03 13:58:29 graph_from_polygon returned graph with 149175 nodes and 482508 edges\n",
      "2022-03-03 13:58:30 graph_from_bbox returned graph with 149175 nodes and 482508 edges\n",
      "2022-03-03 13:58:30 graph_from_point returned graph with 149175 nodes and 482508 edges\n",
      "2022-03-03 13:58:37 Created nodes GeoDataFrame from graph\n"
     ]
    },
    {
     "name": "stderr",
     "output_type": "stream",
     "text": [
      "/Users/zachary/opt/anaconda3/envs/final_ML_LR/lib/python3.8/site-packages/osmnx/distance.py:356: UserWarning: The `get_nearest_node` function has been deprecated and will be removed in a future release. Use the more efficient `distance.nearest_nodes` instead.\n",
      "  warnings.warn(msg)\n"
     ]
    },
    {
     "name": "stdout",
     "output_type": "stream",
     "text": [
      "2022-03-03 13:58:38 Created nodes GeoDataFrame from graph\n",
      "2022-03-03 13:58:46 Created nodes GeoDataFrame from graph\n",
      "2022-03-03 13:59:04 Projected GeoDataFrame to +proj=utm +zone=17 +ellps=WGS84 +datum=WGS84 +units=m +no_defs +type=crs\n",
      "2022-03-03 13:59:51 Created edges GeoDataFrame from graph\n",
      "2022-03-03 14:00:17 Projected GeoDataFrame to +proj=utm +zone=17 +ellps=WGS84 +datum=WGS84 +units=m +no_defs +type=crs\n",
      "2022-03-03 14:00:35 Created graph from node/edge GeoDataFrames\n",
      "2022-03-03 14:00:35 Projected graph with 149175 nodes and 482508 edges\n"
     ]
    },
    {
     "name": "stderr",
     "output_type": "stream",
     "text": [
      "/var/folders/8v/6dq3dnld7rx4qv5wr7vx0w5m0000gn/T/ipykernel_30197/3347265067.py:5: FutureWarning: The frame.append method is deprecated and will be removed from pandas in a future version. Use pandas.concat instead.\n",
      "  detroit_polygons = detroit_polygons.append(gdf_iso_poly)\n"
     ]
    },
    {
     "name": "stdout",
     "output_type": "stream",
     "text": [
      "2022-03-03 14:06:39 Created bbox 12075.0 m from (42.1553136997277, -83.1895734997341): 42.263906630238466,42.04672076921693,-83.04308922795022,-83.33605777151797\n",
      "2022-03-03 14:06:39 Projected GeoDataFrame to +proj=utm +zone=17 +ellps=WGS84 +datum=WGS84 +units=m +no_defs +type=crs\n",
      "2022-03-03 14:06:39 Projected GeoDataFrame to epsg:4326\n",
      "2022-03-03 14:06:39 Projected GeoDataFrame to +proj=utm +zone=17 +ellps=WGS84 +datum=WGS84 +units=m +no_defs +type=crs\n",
      "2022-03-03 14:06:39 Projected GeoDataFrame to epsg:4326\n",
      "2022-03-03 14:06:39 Requesting data within polygon from API in 1 request(s)\n",
      "2022-03-03 14:06:39 Resolved overpass-api.de to 178.63.48.217\n",
      "2022-03-03 14:06:40 Pausing 0 seconds before making HTTP POST request\n",
      "2022-03-03 14:06:40 Post https://overpass-api.de/api/interpreter?data=%5Bout%3Ajson%5D%5Btimeout%3A180%5D%3B%28way%5B%22highway%22%5D%5B%22area%22%21~%22yes%22%5D%5B%22access%22%21~%22private%22%5D%5B%22highway%22%21~%22abandoned%7Cbus_guideway%7Cconstruction%7Ccycleway%7Cmotor%7Cplanned%7Cplatform%7Cproposed%7Craceway%22%5D%5B%22foot%22%21~%22no%22%5D%5B%22service%22%21~%22private%22%5D%28poly%3A%2742.046721+-83.342097+42.263906+-83.342117+42.264347+-83.342088+42.264783+-83.342001+42.265211+-83.341857+42.265627+-83.341657+42.266026+-83.341404+42.266405+-83.341099+42.266759+-83.340745+42.267086+-83.340347+42.267383+-83.339907+42.267646+-83.339430+42.267874+-83.338921+42.268063+-83.338384+42.268212+-83.337825+42.268320+-83.337249+42.268385+-83.336662+42.268408+-83.336068+42.268408+-83.043079+42.268386+-83.042485+42.268320+-83.041898+42.268213+-83.041322+42.268063+-83.040763+42.267874+-83.040226+42.267647+-83.039717+42.267384+-83.039240+42.267087+-83.038800+42.266760+-83.038402+42.266405+-83.038048+42.266027+-83.037743+42.265628+-83.037489+42.265212+-83.037289+42.264784+-83.037145+42.264347+-83.037058+42.263907+-83.037029+42.046720+-83.037050+42.046279+-83.037079+42.045841+-83.037166+42.045412+-83.037310+42.044996+-83.037511+42.044596+-83.037765+42.044217+-83.038070+42.043862+-83.038424+42.043535+-83.038823+42.043238+-83.039263+42.042975+-83.039739+42.042748+-83.040249+42.042559+-83.040785+42.042411+-83.041344+42.042304+-83.041920+42.042240+-83.042507+42.042219+-83.043100+42.042220+-83.336047+42.042241+-83.336640+42.042305+-83.337227+42.042412+-83.337803+42.042560+-83.338362+42.042749+-83.338898+42.042975+-83.339407+42.043239+-83.339884+42.043535+-83.340324+42.043863+-83.340723+42.044218+-83.341077+42.044597+-83.341382+42.044996+-83.341636+42.045413+-83.341836+42.045842+-83.341980+42.046279+-83.342068+42.046721+-83.342097%27%29%3B%3E%3B%29%3Bout%3B with timeout=180\n",
      "2022-03-03 14:06:40 Resolved overpass-api.de to 178.63.48.217\n",
      "2022-03-03 14:06:48 Downloaded 28,774.4kB from overpass-api.de\n",
      "2022-03-03 14:06:50 Saved response to cache file \"cache/df62ab7e84395cafa906f2439bde868ec3f9f402.json\"\n",
      "2022-03-03 14:06:50 Got all network data within polygon from API in 1 request(s)\n",
      "2022-03-03 14:06:50 Creating graph from downloaded OSM data...\n",
      "2022-03-03 14:06:54 Created graph with 198959 nodes and 466626 edges\n",
      "2022-03-03 14:06:57 Added length attributes to graph edges\n",
      "2022-03-03 14:06:57 Identifying all nodes that lie outside the polygon...\n",
      "2022-03-03 14:07:06 Created nodes GeoDataFrame from graph\n",
      "2022-03-03 14:07:13 Created r-tree spatial index for 198959 geometries\n",
      "2022-03-03 14:07:16 Identified 196417 geometries inside polygon\n",
      "2022-03-03 14:07:21 Removed 2542 nodes outside polygon\n",
      "2022-03-03 14:07:21 Truncated graph by polygon\n",
      "2022-03-03 14:07:22 Begin topologically simplifying the graph...\n",
      "2022-03-03 14:07:28 Identified 68117 edge endpoints\n",
      "2022-03-03 14:07:48 Simplified graph: 196417 to 68117 nodes, 461104 to 204504 edges\n",
      "2022-03-03 14:07:48 Identifying all nodes that lie outside the polygon...\n",
      "2022-03-03 14:07:52 Created nodes GeoDataFrame from graph\n",
      "2022-03-03 14:07:54 Created r-tree spatial index for 68117 geometries\n",
      "2022-03-03 14:07:55 Identified 65090 geometries inside polygon\n",
      "2022-03-03 14:07:57 Removed 3027 nodes outside polygon\n",
      "2022-03-03 14:08:00 Removed 28 isolated nodes\n",
      "2022-03-03 14:08:04 Got largest weakly connected component (61128 of 65062 total nodes)\n",
      "2022-03-03 14:08:04 Truncated graph by polygon\n",
      "2022-03-03 14:08:05 Counted undirected street segments incident on each node\n",
      "2022-03-03 14:08:05 graph_from_polygon returned graph with 61128 nodes and 186512 edges\n",
      "2022-03-03 14:08:05 graph_from_bbox returned graph with 61128 nodes and 186512 edges\n",
      "2022-03-03 14:08:06 graph_from_point returned graph with 61128 nodes and 186512 edges\n",
      "2022-03-03 14:08:08 Created nodes GeoDataFrame from graph\n"
     ]
    },
    {
     "name": "stderr",
     "output_type": "stream",
     "text": [
      "/Users/zachary/opt/anaconda3/envs/final_ML_LR/lib/python3.8/site-packages/osmnx/distance.py:356: UserWarning: The `get_nearest_node` function has been deprecated and will be removed in a future release. Use the more efficient `distance.nearest_nodes` instead.\n",
      "  warnings.warn(msg)\n"
     ]
    },
    {
     "name": "stdout",
     "output_type": "stream",
     "text": [
      "2022-03-03 14:08:09 Created nodes GeoDataFrame from graph\n",
      "2022-03-03 14:08:12 Created nodes GeoDataFrame from graph\n",
      "2022-03-03 14:08:20 Projected GeoDataFrame to +proj=utm +zone=17 +ellps=WGS84 +datum=WGS84 +units=m +no_defs +type=crs\n",
      "2022-03-03 14:08:39 Created edges GeoDataFrame from graph\n",
      "2022-03-03 14:08:49 Projected GeoDataFrame to +proj=utm +zone=17 +ellps=WGS84 +datum=WGS84 +units=m +no_defs +type=crs\n",
      "2022-03-03 14:08:56 Created graph from node/edge GeoDataFrames\n",
      "2022-03-03 14:08:56 Projected graph with 61128 nodes and 186512 edges\n"
     ]
    },
    {
     "name": "stderr",
     "output_type": "stream",
     "text": [
      "/var/folders/8v/6dq3dnld7rx4qv5wr7vx0w5m0000gn/T/ipykernel_30197/3347265067.py:5: FutureWarning: The frame.append method is deprecated and will be removed from pandas in a future version. Use pandas.concat instead.\n",
      "  detroit_polygons = detroit_polygons.append(gdf_iso_poly)\n"
     ]
    },
    {
     "name": "stdout",
     "output_type": "stream",
     "text": [
      "2022-03-03 14:12:07 Created bbox 12075.0 m from (42.3322245997652, -83.3868786997802): 42.440817530275964,42.22363166925443,-83.23998310378786,-83.53377429577253\n",
      "2022-03-03 14:12:07 Projected GeoDataFrame to +proj=utm +zone=17 +ellps=WGS84 +datum=WGS84 +units=m +no_defs +type=crs\n",
      "2022-03-03 14:12:07 Projected GeoDataFrame to epsg:4326\n",
      "2022-03-03 14:12:07 Projected GeoDataFrame to +proj=utm +zone=17 +ellps=WGS84 +datum=WGS84 +units=m +no_defs +type=crs\n",
      "2022-03-03 14:12:07 Projected GeoDataFrame to epsg:4326\n",
      "2022-03-03 14:12:07 Requesting data within polygon from API in 1 request(s)\n",
      "2022-03-03 14:12:07 Resolved overpass-api.de to 178.63.48.217\n",
      "2022-03-03 14:12:10 Pausing 0 seconds before making HTTP POST request\n",
      "2022-03-03 14:12:10 Post https://overpass-api.de/api/interpreter?data=%5Bout%3Ajson%5D%5Btimeout%3A180%5D%3B%28way%5B%22highway%22%5D%5B%22area%22%21~%22yes%22%5D%5B%22access%22%21~%22private%22%5D%5B%22highway%22%21~%22abandoned%7Cbus_guideway%7Cconstruction%7Ccycleway%7Cmotor%7Cplanned%7Cplatform%7Cproposed%7Craceway%22%5D%5B%22foot%22%21~%22no%22%5D%5B%22service%22%21~%22private%22%5D%28poly%3A%2742.223632+-83.539830+42.440817+-83.539851+42.441258+-83.539821+42.441694+-83.539734+42.442122+-83.539590+42.442538+-83.539389+42.442937+-83.539135+42.443315+-83.538829+42.443670+-83.538475+42.443997+-83.538075+42.444294+-83.537634+42.444557+-83.537156+42.444784+-83.536645+42.444973+-83.536107+42.445122+-83.535547+42.445230+-83.534969+42.445296+-83.534380+42.445318+-83.533785+42.445319+-83.239973+42.445296+-83.239378+42.445231+-83.238788+42.445123+-83.238211+42.444974+-83.237650+42.444785+-83.237112+42.444557+-83.236601+42.444294+-83.236123+42.443998+-83.235682+42.443670+-83.235283+42.443316+-83.234928+42.442937+-83.234622+42.442538+-83.234368+42.442123+-83.234167+42.441695+-83.234023+42.441258+-83.233935+42.440818+-83.233906+42.223631+-83.233927+42.223190+-83.233956+42.222752+-83.234044+42.222323+-83.234189+42.221907+-83.234389+42.221507+-83.234644+42.221128+-83.234950+42.220773+-83.235305+42.220446+-83.235705+42.220149+-83.236146+42.219886+-83.236624+42.219659+-83.237135+42.219471+-83.237673+42.219322+-83.238233+42.219216+-83.238811+42.219151+-83.239399+42.219130+-83.239994+42.219131+-83.533764+42.219152+-83.534358+42.219216+-83.534947+42.219323+-83.535524+42.219471+-83.536084+42.219660+-83.536622+42.219887+-83.537133+42.220150+-83.537611+42.220446+-83.538052+42.220774+-83.538452+42.221129+-83.538807+42.221508+-83.539113+42.221908+-83.539368+42.222324+-83.539568+42.222753+-83.539713+42.223190+-83.539800+42.223632+-83.539830%27%29%3B%3E%3B%29%3Bout%3B with timeout=180\n",
      "2022-03-03 14:12:10 Resolved overpass-api.de to 178.63.48.217\n",
      "2022-03-03 14:12:42 Downloaded 62,893.3kB from overpass-api.de\n",
      "2022-03-03 14:12:47 Saved response to cache file \"cache/f1918291deb47dbfb269ed6bb318270e2a37d0da.json\"\n",
      "2022-03-03 14:12:47 Got all network data within polygon from API in 1 request(s)\n",
      "2022-03-03 14:12:47 Creating graph from downloaded OSM data...\n",
      "2022-03-03 14:12:59 Created graph with 434963 nodes and 1006654 edges\n",
      "2022-03-03 14:13:06 Added length attributes to graph edges\n",
      "2022-03-03 14:13:06 Identifying all nodes that lie outside the polygon...\n",
      "2022-03-03 14:13:29 Created nodes GeoDataFrame from graph\n",
      "2022-03-03 14:13:52 Created r-tree spatial index for 434963 geometries\n",
      "2022-03-03 14:13:58 Identified 428099 geometries inside polygon\n",
      "2022-03-03 14:14:12 Removed 6864 nodes outside polygon\n",
      "2022-03-03 14:14:12 Truncated graph by polygon\n",
      "2022-03-03 14:14:16 Begin topologically simplifying the graph...\n",
      "2022-03-03 14:14:45 Identified 130000 edge endpoints\n",
      "2022-03-03 14:15:46 Simplified graph: 428099 to 130000 nodes, 992362 to 396164 edges\n",
      "2022-03-03 14:15:47 Identifying all nodes that lie outside the polygon...\n",
      "2022-03-03 14:15:55 Created nodes GeoDataFrame from graph\n",
      "2022-03-03 14:16:01 Created r-tree spatial index for 130000 geometries\n",
      "2022-03-03 14:16:02 Identified 119606 geometries inside polygon\n",
      "2022-03-03 14:16:07 Removed 10394 nodes outside polygon\n",
      "2022-03-03 14:16:11 Removed 56 isolated nodes\n",
      "2022-03-03 14:16:21 Got largest weakly connected component (115987 of 119550 total nodes)\n",
      "2022-03-03 14:16:21 Truncated graph by polygon\n",
      "2022-03-03 14:16:24 Counted undirected street segments incident on each node\n",
      "2022-03-03 14:16:24 graph_from_polygon returned graph with 115987 nodes and 358066 edges\n",
      "2022-03-03 14:16:25 graph_from_bbox returned graph with 115987 nodes and 358066 edges\n",
      "2022-03-03 14:16:25 graph_from_point returned graph with 115987 nodes and 358066 edges\n",
      "2022-03-03 14:16:33 Created nodes GeoDataFrame from graph\n"
     ]
    },
    {
     "name": "stderr",
     "output_type": "stream",
     "text": [
      "/Users/zachary/opt/anaconda3/envs/final_ML_LR/lib/python3.8/site-packages/osmnx/distance.py:356: UserWarning: The `get_nearest_node` function has been deprecated and will be removed in a future release. Use the more efficient `distance.nearest_nodes` instead.\n",
      "  warnings.warn(msg)\n"
     ]
    },
    {
     "name": "stdout",
     "output_type": "stream",
     "text": [
      "2022-03-03 14:16:35 Created nodes GeoDataFrame from graph\n",
      "2022-03-03 14:16:42 Created nodes GeoDataFrame from graph\n",
      "2022-03-03 14:17:00 Projected GeoDataFrame to +proj=utm +zone=17 +ellps=WGS84 +datum=WGS84 +units=m +no_defs +type=crs\n",
      "2022-03-03 14:17:46 Created edges GeoDataFrame from graph\n",
      "2022-03-03 14:18:10 Projected GeoDataFrame to +proj=utm +zone=17 +ellps=WGS84 +datum=WGS84 +units=m +no_defs +type=crs\n",
      "2022-03-03 14:18:29 Created graph from node/edge GeoDataFrames\n",
      "2022-03-03 14:18:29 Projected graph with 115987 nodes and 358066 edges\n"
     ]
    },
    {
     "name": "stderr",
     "output_type": "stream",
     "text": [
      "/var/folders/8v/6dq3dnld7rx4qv5wr7vx0w5m0000gn/T/ipykernel_30197/3347265067.py:5: FutureWarning: The frame.append method is deprecated and will be removed from pandas in a future version. Use pandas.concat instead.\n",
      "  detroit_polygons = detroit_polygons.append(gdf_iso_poly)\n"
     ]
    },
    {
     "name": "stdout",
     "output_type": "stream",
     "text": [
      "2022-03-03 14:23:30 Created bbox 12075.0 m from (42.1099315999194, -83.2842377999829): 42.218524530430166,42.00133866940863,-83.13785844763935,-83.43061715232646\n",
      "2022-03-03 14:23:30 Projected GeoDataFrame to +proj=utm +zone=17 +ellps=WGS84 +datum=WGS84 +units=m +no_defs +type=crs\n",
      "2022-03-03 14:23:30 Projected GeoDataFrame to epsg:4326\n",
      "2022-03-03 14:23:30 Projected GeoDataFrame to +proj=utm +zone=17 +ellps=WGS84 +datum=WGS84 +units=m +no_defs +type=crs\n",
      "2022-03-03 14:23:30 Projected GeoDataFrame to epsg:4326\n",
      "2022-03-03 14:23:30 Requesting data within polygon from API in 1 request(s)\n",
      "2022-03-03 14:23:31 Resolved overpass-api.de to 178.63.11.215\n",
      "2022-03-03 14:23:32 Pausing 0 seconds before making HTTP POST request\n",
      "2022-03-03 14:23:32 Post https://overpass-api.de/api/interpreter?data=%5Bout%3Ajson%5D%5Btimeout%3A180%5D%3B%28way%5B%22highway%22%5D%5B%22area%22%21~%22yes%22%5D%5B%22access%22%21~%22private%22%5D%5B%22highway%22%21~%22abandoned%7Cbus_guideway%7Cconstruction%7Ccycleway%7Cmotor%7Cplanned%7Cplatform%7Cproposed%7Craceway%22%5D%5B%22foot%22%21~%22no%22%5D%5B%22service%22%21~%22private%22%5D%28poly%3A%2742.001339+-83.436652+42.218524+-83.436672+42.218965+-83.436643+42.219401+-83.436556+42.219829+-83.436412+42.220245+-83.436213+42.220644+-83.435959+42.221022+-83.435654+42.221377+-83.435301+42.221704+-83.434903+42.222001+-83.434463+42.222264+-83.433987+42.222491+-83.433478+42.222681+-83.432942+42.222830+-83.432383+42.222938+-83.431808+42.223003+-83.431220+42.223025+-83.430628+42.223026+-83.137848+42.223004+-83.137255+42.222938+-83.136668+42.222830+-83.136092+42.222681+-83.135534+42.222492+-83.134997+42.222265+-83.134489+42.222001+-83.134012+42.221705+-83.133573+42.221378+-83.133174+42.221023+-83.132821+42.220644+-83.132516+42.220245+-83.132263+42.219830+-83.132063+42.219402+-83.131919+42.218965+-83.131832+42.218525+-83.131803+42.001338+-83.131823+42.000897+-83.131852+42.000459+-83.131940+42.000030+-83.132084+41.999614+-83.132284+41.999214+-83.132538+41.998835+-83.132843+41.998480+-83.133196+41.998153+-83.133595+41.997856+-83.134035+41.997593+-83.134511+41.997366+-83.135020+41.997177+-83.135556+41.997029+-83.136115+41.996922+-83.136690+41.996858+-83.137277+41.996837+-83.137869+41.996838+-83.430607+41.996859+-83.431199+41.996923+-83.431786+41.997030+-83.432361+41.997178+-83.432919+41.997367+-83.433455+41.997593+-83.433964+41.997857+-83.434441+41.998153+-83.434880+41.998481+-83.435279+41.998836+-83.435632+41.999215+-83.435938+41.999614+-83.436191+42.000031+-83.436391+42.000460+-83.436535+42.000897+-83.436622+42.001339+-83.436652%27%29%3B%3E%3B%29%3Bout%3B with timeout=180\n",
      "2022-03-03 14:23:32 Resolved overpass-api.de to 178.63.11.215\n",
      "2022-03-03 14:23:43 Downloaded 22,919.0kB from overpass-api.de\n",
      "2022-03-03 14:23:44 Saved response to cache file \"cache/2a541d547c5a7eca3834e7d781c0ceffc9d88e99.json\"\n",
      "2022-03-03 14:23:44 Got all network data within polygon from API in 1 request(s)\n",
      "2022-03-03 14:23:44 Creating graph from downloaded OSM data...\n",
      "2022-03-03 14:23:48 Created graph with 164221 nodes and 370990 edges\n",
      "2022-03-03 14:23:51 Added length attributes to graph edges\n",
      "2022-03-03 14:23:51 Identifying all nodes that lie outside the polygon...\n",
      "2022-03-03 14:23:59 Created nodes GeoDataFrame from graph\n",
      "2022-03-03 14:24:05 Created r-tree spatial index for 164221 geometries\n",
      "2022-03-03 14:24:07 Identified 161224 geometries inside polygon\n",
      "2022-03-03 14:24:10 Removed 2997 nodes outside polygon\n",
      "2022-03-03 14:24:10 Truncated graph by polygon\n",
      "2022-03-03 14:24:11 Begin topologically simplifying the graph...\n",
      "2022-03-03 14:24:16 Identified 50505 edge endpoints\n",
      "2022-03-03 14:24:37 Simplified graph: 161224 to 50505 nodes, 364740 to 143302 edges\n",
      "2022-03-03 14:24:37 Identifying all nodes that lie outside the polygon...\n",
      "2022-03-03 14:24:41 Created nodes GeoDataFrame from graph\n",
      "2022-03-03 14:24:43 Created r-tree spatial index for 50505 geometries\n",
      "2022-03-03 14:24:44 Identified 48061 geometries inside polygon\n",
      "2022-03-03 14:24:46 Removed 2444 nodes outside polygon\n",
      "2022-03-03 14:24:49 Removed 39 isolated nodes\n",
      "2022-03-03 14:24:52 Got largest weakly connected component (46365 of 48022 total nodes)\n",
      "2022-03-03 14:24:52 Truncated graph by polygon\n",
      "2022-03-03 14:24:53 Counted undirected street segments incident on each node\n",
      "2022-03-03 14:24:53 graph_from_polygon returned graph with 46365 nodes and 133482 edges\n",
      "2022-03-03 14:24:53 graph_from_bbox returned graph with 46365 nodes and 133482 edges\n",
      "2022-03-03 14:24:54 graph_from_point returned graph with 46365 nodes and 133482 edges\n",
      "2022-03-03 14:24:57 Created nodes GeoDataFrame from graph\n"
     ]
    },
    {
     "name": "stderr",
     "output_type": "stream",
     "text": [
      "/Users/zachary/opt/anaconda3/envs/final_ML_LR/lib/python3.8/site-packages/osmnx/distance.py:356: UserWarning: The `get_nearest_node` function has been deprecated and will be removed in a future release. Use the more efficient `distance.nearest_nodes` instead.\n",
      "  warnings.warn(msg)\n"
     ]
    },
    {
     "name": "stdout",
     "output_type": "stream",
     "text": [
      "2022-03-03 14:24:57 Created nodes GeoDataFrame from graph\n",
      "2022-03-03 14:25:00 Created nodes GeoDataFrame from graph\n",
      "2022-03-03 14:25:07 Projected GeoDataFrame to +proj=utm +zone=17 +ellps=WGS84 +datum=WGS84 +units=m +no_defs +type=crs\n",
      "2022-03-03 14:25:25 Created edges GeoDataFrame from graph\n",
      "2022-03-03 14:25:32 Projected GeoDataFrame to +proj=utm +zone=17 +ellps=WGS84 +datum=WGS84 +units=m +no_defs +type=crs\n",
      "2022-03-03 14:25:38 Created graph from node/edge GeoDataFrames\n",
      "2022-03-03 14:25:38 Projected graph with 46365 nodes and 133482 edges\n"
     ]
    },
    {
     "name": "stderr",
     "output_type": "stream",
     "text": [
      "/var/folders/8v/6dq3dnld7rx4qv5wr7vx0w5m0000gn/T/ipykernel_30197/3347265067.py:5: FutureWarning: The frame.append method is deprecated and will be removed from pandas in a future version. Use pandas.concat instead.\n",
      "  detroit_polygons = detroit_polygons.append(gdf_iso_poly)\n"
     ]
    },
    {
     "name": "stdout",
     "output_type": "stream",
     "text": [
      "2022-03-03 14:28:57 Created bbox 12075.0 m from (42.4125876001079, -82.9134703997201): 42.521180530618665,42.30399466959713,-82.76638672889406,-83.06055407054613\n",
      "2022-03-03 14:28:57 Projected GeoDataFrame to +proj=utm +zone=17 +ellps=WGS84 +datum=WGS84 +units=m +no_defs +type=crs\n",
      "2022-03-03 14:28:57 Projected GeoDataFrame to epsg:4326\n",
      "2022-03-03 14:28:57 Projected GeoDataFrame to +proj=utm +zone=17 +ellps=WGS84 +datum=WGS84 +units=m +no_defs +type=crs\n",
      "2022-03-03 14:28:57 Projected GeoDataFrame to epsg:4326\n",
      "2022-03-03 14:28:57 Requesting data within polygon from API in 1 request(s)\n",
      "2022-03-03 14:28:57 Resolved overpass-api.de to 178.63.11.215\n",
      "2022-03-03 14:28:58 Pausing 0 seconds before making HTTP POST request\n",
      "2022-03-03 14:28:58 Post https://overpass-api.de/api/interpreter?data=%5Bout%3Ajson%5D%5Btimeout%3A180%5D%3B%28way%5B%22highway%22%5D%5B%22area%22%21~%22yes%22%5D%5B%22access%22%21~%22private%22%5D%5B%22highway%22%21~%22abandoned%7Cbus_guideway%7Cconstruction%7Ccycleway%7Cmotor%7Cplanned%7Cplatform%7Cproposed%7Craceway%22%5D%5B%22foot%22%21~%22no%22%5D%5B%22service%22%21~%22private%22%5D%28poly%3A%2742.303995+-83.066618+42.521180+-83.066639+42.521621+-83.066610+42.522057+-83.066523+42.522485+-83.066378+42.522901+-83.066177+42.523300+-83.065923+42.523679+-83.065616+42.524033+-83.065261+42.524361+-83.064861+42.524657+-83.064419+42.524920+-83.063941+42.525148+-83.063429+42.525337+-83.062890+42.525486+-83.062329+42.525594+-83.061750+42.525659+-83.061160+42.525682+-83.060565+42.525682+-82.766376+42.525660+-82.765780+42.525594+-82.765190+42.525487+-82.764612+42.525337+-82.764050+42.525148+-82.763511+42.524921+-82.763000+42.524658+-82.762521+42.524361+-82.762080+42.524034+-82.761679+42.523679+-82.761324+42.523300+-82.761018+42.522901+-82.760763+42.522486+-82.760562+42.522058+-82.760418+42.521621+-82.760330+42.521181+-82.760301+42.303994+-82.760322+42.303553+-82.760351+42.303115+-82.760439+42.302686+-82.760584+42.302270+-82.760785+42.301870+-82.761040+42.301491+-82.761347+42.301136+-82.761702+42.300808+-82.762102+42.300512+-82.762544+42.300249+-82.763023+42.300022+-82.763534+42.299833+-82.764073+42.299685+-82.764635+42.299578+-82.765213+42.299514+-82.765802+42.299493+-82.766397+42.299493+-83.060544+42.299514+-83.061139+42.299578+-83.061728+42.299685+-83.062306+42.299834+-83.062867+42.300022+-83.063406+42.300249+-83.063918+42.300512+-83.064396+42.300809+-83.064838+42.301136+-83.065239+42.301491+-83.065594+42.301871+-83.065901+42.302270+-83.066156+42.302687+-83.066356+42.303116+-83.066501+42.303553+-83.066589+42.303995+-83.066618%27%29%3B%3E%3B%29%3Bout%3B with timeout=180\n",
      "2022-03-03 14:28:58 Resolved overpass-api.de to 178.63.11.215\n",
      "2022-03-03 14:29:04 Downloaded 29,985.9kB from overpass-api.de\n",
      "2022-03-03 14:29:05 Saved response to cache file \"cache/18b52a4f0bad4c3edb0ce288696c7f91e31672a3.json\"\n",
      "2022-03-03 14:29:05 Got all network data within polygon from API in 1 request(s)\n",
      "2022-03-03 14:29:05 Creating graph from downloaded OSM data...\n",
      "2022-03-03 14:29:11 Created graph with 185619 nodes and 456134 edges\n",
      "2022-03-03 14:29:14 Added length attributes to graph edges\n",
      "2022-03-03 14:29:14 Identifying all nodes that lie outside the polygon...\n",
      "2022-03-03 14:29:22 Created nodes GeoDataFrame from graph\n",
      "2022-03-03 14:29:30 Created r-tree spatial index for 185619 geometries\n",
      "2022-03-03 14:29:34 Identified 181885 geometries inside polygon\n",
      "2022-03-03 14:29:39 Removed 3734 nodes outside polygon\n",
      "2022-03-03 14:29:39 Truncated graph by polygon\n",
      "2022-03-03 14:29:40 Begin topologically simplifying the graph...\n",
      "2022-03-03 14:29:46 Identified 75060 edge endpoints\n",
      "2022-03-03 14:30:05 Simplified graph: 181885 to 75060 nodes, 447832 to 234182 edges\n",
      "2022-03-03 14:30:05 Identifying all nodes that lie outside the polygon...\n",
      "2022-03-03 14:30:08 Created nodes GeoDataFrame from graph\n",
      "2022-03-03 14:30:11 Created r-tree spatial index for 75060 geometries\n",
      "2022-03-03 14:30:11 Identified 66462 geometries inside polygon\n",
      "2022-03-03 14:30:14 Removed 8598 nodes outside polygon\n",
      "2022-03-03 14:30:16 Removed 24 isolated nodes\n",
      "2022-03-03 14:30:21 Got largest weakly connected component (58490 of 66438 total nodes)\n",
      "2022-03-03 14:30:21 Truncated graph by polygon\n",
      "2022-03-03 14:30:23 Counted undirected street segments incident on each node\n",
      "2022-03-03 14:30:23 graph_from_polygon returned graph with 58490 nodes and 186300 edges\n",
      "2022-03-03 14:30:23 graph_from_bbox returned graph with 58490 nodes and 186300 edges\n",
      "2022-03-03 14:30:23 graph_from_point returned graph with 58490 nodes and 186300 edges\n",
      "2022-03-03 14:30:26 Created nodes GeoDataFrame from graph\n"
     ]
    },
    {
     "name": "stderr",
     "output_type": "stream",
     "text": [
      "/Users/zachary/opt/anaconda3/envs/final_ML_LR/lib/python3.8/site-packages/osmnx/distance.py:356: UserWarning: The `get_nearest_node` function has been deprecated and will be removed in a future release. Use the more efficient `distance.nearest_nodes` instead.\n",
      "  warnings.warn(msg)\n"
     ]
    },
    {
     "name": "stdout",
     "output_type": "stream",
     "text": [
      "2022-03-03 14:30:27 Created nodes GeoDataFrame from graph\n",
      "2022-03-03 14:30:29 Created nodes GeoDataFrame from graph\n",
      "2022-03-03 14:30:37 Projected GeoDataFrame to +proj=utm +zone=17 +ellps=WGS84 +datum=WGS84 +units=m +no_defs +type=crs\n",
      "2022-03-03 14:30:57 Created edges GeoDataFrame from graph\n",
      "2022-03-03 14:31:07 Projected GeoDataFrame to +proj=utm +zone=17 +ellps=WGS84 +datum=WGS84 +units=m +no_defs +type=crs\n",
      "2022-03-03 14:31:14 Created graph from node/edge GeoDataFrames\n",
      "2022-03-03 14:31:14 Projected graph with 58490 nodes and 186300 edges\n"
     ]
    },
    {
     "name": "stderr",
     "output_type": "stream",
     "text": [
      "/var/folders/8v/6dq3dnld7rx4qv5wr7vx0w5m0000gn/T/ipykernel_30197/3347265067.py:5: FutureWarning: The frame.append method is deprecated and will be removed from pandas in a future version. Use pandas.concat instead.\n",
      "  detroit_polygons = detroit_polygons.append(gdf_iso_poly)\n"
     ]
    },
    {
     "name": "stdout",
     "output_type": "stream",
     "text": [
      "2022-03-03 14:36:34 Created bbox 12075.0 m from (42.3255860003008, -83.312378700356): 42.43417893081157,42.216993069790036,-83.16549860636613,-83.45925879434589\n",
      "2022-03-03 14:36:34 Projected GeoDataFrame to +proj=utm +zone=17 +ellps=WGS84 +datum=WGS84 +units=m +no_defs +type=crs\n",
      "2022-03-03 14:36:34 Projected GeoDataFrame to epsg:4326\n",
      "2022-03-03 14:36:34 Projected GeoDataFrame to +proj=utm +zone=17 +ellps=WGS84 +datum=WGS84 +units=m +no_defs +type=crs\n",
      "2022-03-03 14:36:34 Projected GeoDataFrame to epsg:4326\n",
      "2022-03-03 14:36:34 Requesting data within polygon from API in 1 request(s)\n",
      "2022-03-03 14:36:34 Resolved overpass-api.de to 178.63.11.215\n",
      "2022-03-03 14:36:35 Pausing 0 seconds before making HTTP POST request\n",
      "2022-03-03 14:36:35 Post https://overpass-api.de/api/interpreter?data=%5Bout%3Ajson%5D%5Btimeout%3A180%5D%3B%28way%5B%22highway%22%5D%5B%22area%22%21~%22yes%22%5D%5B%22access%22%21~%22private%22%5D%5B%22highway%22%21~%22abandoned%7Cbus_guideway%7Cconstruction%7Ccycleway%7Cmotor%7Cplanned%7Cplatform%7Cproposed%7Craceway%22%5D%5B%22foot%22%21~%22no%22%5D%5B%22service%22%21~%22private%22%5D%28poly%3A%2742.216993+-83.465314+42.434178+-83.465335+42.434619+-83.465305+42.435056+-83.465218+42.435484+-83.465074+42.435899+-83.464873+42.436298+-83.464619+42.436677+-83.464313+42.437031+-83.463959+42.437358+-83.463559+42.437655+-83.463118+42.437918+-83.462640+42.438146+-83.462130+42.438335+-83.461591+42.438484+-83.461031+42.438592+-83.460453+42.438657+-83.459864+42.438680+-83.459269+42.438680+-83.165488+42.438658+-83.164893+42.438592+-83.164304+42.438485+-83.163726+42.438335+-83.163166+42.438146+-83.162628+42.437919+-83.162117+42.437656+-83.161639+42.437359+-83.161198+42.437032+-83.160798+42.436677+-83.160444+42.436299+-83.160138+42.435900+-83.159884+42.435484+-83.159683+42.435056+-83.159539+42.434620+-83.159451+42.434179+-83.159422+42.216993+-83.159443+42.216551+-83.159472+42.216114+-83.159560+42.215685+-83.159705+42.215268+-83.159905+42.214869+-83.160160+42.214490+-83.160466+42.214135+-83.160821+42.213807+-83.161221+42.213511+-83.161662+42.213248+-83.162140+42.213021+-83.162651+42.212832+-83.163189+42.212684+-83.163749+42.212577+-83.164326+42.212513+-83.164915+42.212492+-83.165509+42.212492+-83.459248+42.212513+-83.459843+42.212577+-83.460431+42.212684+-83.461008+42.212833+-83.461569+42.213021+-83.462107+42.213248+-83.462617+42.213511+-83.463095+42.213808+-83.463536+42.214135+-83.463936+42.214490+-83.464291+42.214869+-83.464597+42.215269+-83.464852+42.215685+-83.465052+42.216114+-83.465197+42.216552+-83.465284+42.216993+-83.465314%27%29%3B%3E%3B%29%3Bout%3B with timeout=180\n",
      "2022-03-03 14:36:35 Resolved overpass-api.de to 178.63.11.215\n",
      "2022-03-03 14:36:54 Downloaded 68,714.3kB from overpass-api.de\n",
      "2022-03-03 14:37:00 Saved response to cache file \"cache/cf1572e1eea88db3de4e041a1a7370651717e35e.json\"\n",
      "2022-03-03 14:37:00 Got all network data within polygon from API in 1 request(s)\n",
      "2022-03-03 14:37:00 Creating graph from downloaded OSM data...\n",
      "2022-03-03 14:37:23 Created graph with 454447 nodes and 1096212 edges\n",
      "2022-03-03 14:37:30 Added length attributes to graph edges\n",
      "2022-03-03 14:37:30 Identifying all nodes that lie outside the polygon...\n",
      "2022-03-03 14:38:00 Created nodes GeoDataFrame from graph\n",
      "2022-03-03 14:38:26 Created r-tree spatial index for 454447 geometries\n",
      "2022-03-03 14:38:35 Identified 446354 geometries inside polygon\n",
      "2022-03-03 14:38:53 Removed 8093 nodes outside polygon\n",
      "2022-03-03 14:38:53 Truncated graph by polygon\n",
      "2022-03-03 14:38:57 Begin topologically simplifying the graph...\n",
      "2022-03-03 14:39:13 Identified 158666 edge endpoints\n",
      "2022-03-03 14:40:02 Simplified graph: 446354 to 158666 nodes, 1079264 to 503888 edges\n",
      "2022-03-03 14:40:02 Identifying all nodes that lie outside the polygon...\n",
      "2022-03-03 14:40:09 Created nodes GeoDataFrame from graph\n",
      "2022-03-03 14:40:15 Created r-tree spatial index for 158666 geometries\n",
      "2022-03-03 14:40:16 Identified 147425 geometries inside polygon\n",
      "2022-03-03 14:40:21 Removed 11241 nodes outside polygon\n",
      "2022-03-03 14:40:26 Removed 58 isolated nodes\n",
      "2022-03-03 14:40:40 Got largest weakly connected component (144152 of 147367 total nodes)\n",
      "2022-03-03 14:40:40 Truncated graph by polygon\n",
      "2022-03-03 14:40:43 Counted undirected street segments incident on each node\n",
      "2022-03-03 14:40:43 graph_from_polygon returned graph with 144152 nodes and 463818 edges\n",
      "2022-03-03 14:40:44 graph_from_bbox returned graph with 144152 nodes and 463818 edges\n",
      "2022-03-03 14:40:44 graph_from_point returned graph with 144152 nodes and 463818 edges\n",
      "2022-03-03 14:40:50 Created nodes GeoDataFrame from graph\n"
     ]
    },
    {
     "name": "stderr",
     "output_type": "stream",
     "text": [
      "/Users/zachary/opt/anaconda3/envs/final_ML_LR/lib/python3.8/site-packages/osmnx/distance.py:356: UserWarning: The `get_nearest_node` function has been deprecated and will be removed in a future release. Use the more efficient `distance.nearest_nodes` instead.\n",
      "  warnings.warn(msg)\n"
     ]
    },
    {
     "name": "stdout",
     "output_type": "stream",
     "text": [
      "2022-03-03 14:40:51 Created nodes GeoDataFrame from graph\n",
      "2022-03-03 14:40:59 Created nodes GeoDataFrame from graph\n",
      "2022-03-03 14:41:18 Projected GeoDataFrame to +proj=utm +zone=17 +ellps=WGS84 +datum=WGS84 +units=m +no_defs +type=crs\n",
      "2022-03-03 14:42:03 Created edges GeoDataFrame from graph\n",
      "2022-03-03 14:42:29 Projected GeoDataFrame to +proj=utm +zone=17 +ellps=WGS84 +datum=WGS84 +units=m +no_defs +type=crs\n",
      "2022-03-03 14:42:47 Created graph from node/edge GeoDataFrames\n",
      "2022-03-03 14:42:47 Projected graph with 144152 nodes and 463818 edges\n"
     ]
    },
    {
     "name": "stderr",
     "output_type": "stream",
     "text": [
      "/var/folders/8v/6dq3dnld7rx4qv5wr7vx0w5m0000gn/T/ipykernel_30197/3347265067.py:5: FutureWarning: The frame.append method is deprecated and will be removed from pandas in a future version. Use pandas.concat instead.\n",
      "  detroit_polygons = detroit_polygons.append(gdf_iso_poly)\n"
     ]
    },
    {
     "name": "stdout",
     "output_type": "stream",
     "text": [
      "2022-03-03 14:48:37 Created bbox 12075.0 m from (42.4416306000336, -83.0236334997541): 42.550223530544365,42.33303766952283,-82.87648166932762,-83.17078533018058\n",
      "2022-03-03 14:48:37 Projected GeoDataFrame to +proj=utm +zone=17 +ellps=WGS84 +datum=WGS84 +units=m +no_defs +type=crs\n",
      "2022-03-03 14:48:37 Projected GeoDataFrame to epsg:4326\n",
      "2022-03-03 14:48:37 Projected GeoDataFrame to +proj=utm +zone=17 +ellps=WGS84 +datum=WGS84 +units=m +no_defs +type=crs\n",
      "2022-03-03 14:48:37 Projected GeoDataFrame to epsg:4326\n",
      "2022-03-03 14:48:37 Requesting data within polygon from API in 1 request(s)\n",
      "2022-03-03 14:48:37 Resolved overpass-api.de to 178.63.11.215\n",
      "2022-03-03 14:48:38 Pausing 0 seconds before making HTTP POST request\n",
      "2022-03-03 14:48:38 Post https://overpass-api.de/api/interpreter?data=%5Bout%3Ajson%5D%5Btimeout%3A180%5D%3B%28way%5B%22highway%22%5D%5B%22area%22%21~%22yes%22%5D%5B%22access%22%21~%22private%22%5D%5B%22highway%22%21~%22abandoned%7Cbus_guideway%7Cconstruction%7Ccycleway%7Cmotor%7Cplanned%7Cplatform%7Cproposed%7Craceway%22%5D%5B%22foot%22%21~%22no%22%5D%5B%22service%22%21~%22private%22%5D%28poly%3A%2742.333038+-83.176852+42.550223+-83.176873+42.550664+-83.176844+42.551100+-83.176756+42.551528+-83.176612+42.551944+-83.176411+42.552343+-83.176156+42.552722+-83.175850+42.553076+-83.175494+42.553403+-83.175094+42.553700+-83.174652+42.553963+-83.174173+42.554191+-83.173662+42.554380+-83.173123+42.554529+-83.172561+42.554637+-83.171982+42.554702+-83.171392+42.554725+-83.170796+42.554725+-82.876471+42.554703+-82.875875+42.554637+-82.875285+42.554529+-82.874706+42.554380+-82.874144+42.554191+-82.873605+42.553964+-82.873094+42.553701+-82.872615+42.553404+-82.872173+42.553077+-82.871772+42.552722+-82.871417+42.552343+-82.871111+42.551944+-82.870856+42.551529+-82.870655+42.551101+-82.870510+42.550664+-82.870423+42.550224+-82.870393+42.333037+-82.870414+42.332596+-82.870444+42.332158+-82.870531+42.331729+-82.870676+42.331313+-82.870877+42.330913+-82.871133+42.330534+-82.871439+42.330179+-82.871795+42.329852+-82.872195+42.329555+-82.872637+42.329292+-82.873117+42.329065+-82.873628+42.328876+-82.874167+42.328728+-82.874729+42.328621+-82.875307+42.328557+-82.875897+42.328536+-82.876492+42.328536+-83.170775+42.328557+-83.171370+42.328622+-83.171960+42.328728+-83.172538+42.328877+-83.173100+42.329065+-83.173639+42.329292+-83.174150+42.329555+-83.174629+42.329852+-83.175071+42.330179+-83.175472+42.330534+-83.175827+42.330914+-83.176134+42.331313+-83.176389+42.331730+-83.176590+42.332159+-83.176735+42.332596+-83.176823+42.333038+-83.176852%27%29%3B%3E%3B%29%3Bout%3B with timeout=180\n",
      "2022-03-03 14:48:38 Resolved overpass-api.de to 178.63.11.215\n",
      "2022-03-03 14:48:48 Downloaded 60,221.2kB from overpass-api.de\n",
      "2022-03-03 14:48:50 Saved response to cache file \"cache/3a4f4f530938b5a4a5ef0a577aace5646c878135.json\"\n",
      "2022-03-03 14:48:50 Got all network data within polygon from API in 1 request(s)\n",
      "2022-03-03 14:48:50 Creating graph from downloaded OSM data...\n",
      "2022-03-03 14:49:00 Created graph with 363050 nodes and 908040 edges\n",
      "2022-03-03 14:49:07 Added length attributes to graph edges\n",
      "2022-03-03 14:49:07 Identifying all nodes that lie outside the polygon...\n",
      "2022-03-03 14:49:24 Created nodes GeoDataFrame from graph\n",
      "2022-03-03 14:49:39 Created r-tree spatial index for 363050 geometries\n",
      "2022-03-03 14:49:44 Identified 357993 geometries inside polygon\n",
      "2022-03-03 14:49:54 Removed 5057 nodes outside polygon\n",
      "2022-03-03 14:49:54 Truncated graph by polygon\n",
      "2022-03-03 14:49:56 Begin topologically simplifying the graph...\n",
      "2022-03-03 14:50:09 Identified 151234 edge endpoints\n",
      "2022-03-03 14:50:46 Simplified graph: 357993 to 151234 nodes, 897194 to 483676 edges\n",
      "2022-03-03 14:50:47 Identifying all nodes that lie outside the polygon...\n",
      "2022-03-03 14:50:53 Created nodes GeoDataFrame from graph\n",
      "2022-03-03 14:50:58 Created r-tree spatial index for 151234 geometries\n",
      "2022-03-03 14:50:59 Identified 140809 geometries inside polygon\n",
      "2022-03-03 14:51:05 Removed 10425 nodes outside polygon\n",
      "2022-03-03 14:51:10 Removed 32 isolated nodes\n",
      "2022-03-03 14:51:21 Got largest weakly connected component (138167 of 140777 total nodes)\n",
      "2022-03-03 14:51:21 Truncated graph by polygon\n",
      "2022-03-03 14:51:24 Counted undirected street segments incident on each node\n",
      "2022-03-03 14:51:24 graph_from_polygon returned graph with 138167 nodes and 445936 edges\n",
      "2022-03-03 14:51:25 graph_from_bbox returned graph with 138167 nodes and 445936 edges\n",
      "2022-03-03 14:51:25 graph_from_point returned graph with 138167 nodes and 445936 edges\n",
      "2022-03-03 14:51:32 Created nodes GeoDataFrame from graph\n"
     ]
    },
    {
     "name": "stderr",
     "output_type": "stream",
     "text": [
      "/Users/zachary/opt/anaconda3/envs/final_ML_LR/lib/python3.8/site-packages/osmnx/distance.py:356: UserWarning: The `get_nearest_node` function has been deprecated and will be removed in a future release. Use the more efficient `distance.nearest_nodes` instead.\n",
      "  warnings.warn(msg)\n"
     ]
    },
    {
     "name": "stdout",
     "output_type": "stream",
     "text": [
      "2022-03-03 14:51:33 Created nodes GeoDataFrame from graph\n",
      "2022-03-03 14:51:40 Created nodes GeoDataFrame from graph\n",
      "2022-03-03 14:51:58 Projected GeoDataFrame to +proj=utm +zone=17 +ellps=WGS84 +datum=WGS84 +units=m +no_defs +type=crs\n",
      "2022-03-03 14:52:44 Created edges GeoDataFrame from graph\n",
      "2022-03-03 14:53:08 Projected GeoDataFrame to +proj=utm +zone=17 +ellps=WGS84 +datum=WGS84 +units=m +no_defs +type=crs\n",
      "2022-03-03 14:53:25 Created graph from node/edge GeoDataFrames\n",
      "2022-03-03 14:53:25 Projected graph with 138167 nodes and 445936 edges\n"
     ]
    },
    {
     "name": "stderr",
     "output_type": "stream",
     "text": [
      "/var/folders/8v/6dq3dnld7rx4qv5wr7vx0w5m0000gn/T/ipykernel_30197/3347265067.py:5: FutureWarning: The frame.append method is deprecated and will be removed from pandas in a future version. Use pandas.concat instead.\n",
      "  detroit_polygons = detroit_polygons.append(gdf_iso_poly)\n"
     ]
    },
    {
     "name": "stdout",
     "output_type": "stream",
     "text": [
      "2022-03-03 14:58:38 Created bbox 12075.0 m from (42.3172742999617, -83.1049932996909): 42.42586723047247,42.208681369450936,-82.95813260722271,-83.2518539921591\n",
      "2022-03-03 14:58:38 Projected GeoDataFrame to +proj=utm +zone=17 +ellps=WGS84 +datum=WGS84 +units=m +no_defs +type=crs\n",
      "2022-03-03 14:58:38 Projected GeoDataFrame to epsg:4326\n",
      "2022-03-03 14:58:38 Projected GeoDataFrame to +proj=utm +zone=17 +ellps=WGS84 +datum=WGS84 +units=m +no_defs +type=crs\n",
      "2022-03-03 14:58:38 Projected GeoDataFrame to epsg:4326\n",
      "2022-03-03 14:58:38 Requesting data within polygon from API in 1 request(s)\n",
      "2022-03-03 14:58:38 Resolved overpass-api.de to 178.63.11.215\n",
      "2022-03-03 14:58:39 Pausing 0 seconds before making HTTP POST request\n",
      "2022-03-03 14:58:39 Post https://overpass-api.de/api/interpreter?data=%5Bout%3Ajson%5D%5Btimeout%3A180%5D%3B%28way%5B%22highway%22%5D%5B%22area%22%21~%22yes%22%5D%5B%22access%22%21~%22private%22%5D%5B%22highway%22%21~%22abandoned%7Cbus_guideway%7Cconstruction%7Ccycleway%7Cmotor%7Cplanned%7Cplatform%7Cproposed%7Craceway%22%5D%5B%22foot%22%21~%22no%22%5D%5B%22service%22%21~%22private%22%5D%28poly%3A%2742.208681+-83.257909+42.425867+-83.257929+42.426308+-83.257900+42.426744+-83.257813+42.427172+-83.257669+42.427588+-83.257468+42.427987+-83.257214+42.428365+-83.256908+42.428720+-83.256554+42.429047+-83.256154+42.429344+-83.255713+42.429607+-83.255235+42.429834+-83.254725+42.430023+-83.254187+42.430173+-83.253626+42.430280+-83.253048+42.430346+-83.252459+42.430368+-83.251865+42.430369+-82.958122+42.430346+-82.957527+42.430281+-82.956938+42.430173+-82.956361+42.430024+-82.955800+42.429835+-82.955262+42.429607+-82.954751+42.429344+-82.954273+42.429048+-82.953832+42.428720+-82.953433+42.428366+-82.953078+42.427987+-82.952772+42.427588+-82.952518+42.427173+-82.952317+42.426745+-82.952173+42.426308+-82.952086+42.425867+-82.952056+42.208681+-82.952077+42.208239+-82.952107+42.207802+-82.952194+42.207373+-82.952339+42.206957+-82.952540+42.206557+-82.952794+42.206178+-82.953100+42.205823+-82.953455+42.205495+-82.953855+42.205199+-82.954296+42.204936+-82.954774+42.204709+-82.955285+42.204520+-82.955823+42.204372+-82.956383+42.204265+-82.956960+42.204201+-82.957549+42.204180+-82.958143+42.204180+-83.251844+42.204201+-83.252438+42.204265+-83.253026+42.204372+-83.253603+42.204521+-83.254164+42.204709+-83.254702+42.204936+-83.255212+42.205199+-83.255690+42.205496+-83.256131+42.205823+-83.256531+42.206178+-83.256886+42.206557+-83.257192+42.206957+-83.257447+42.207373+-83.257647+42.207802+-83.257792+42.208240+-83.257879+42.208681+-83.257909%27%29%3B%3E%3B%29%3Bout%3B with timeout=180\n",
      "2022-03-03 14:58:39 Resolved overpass-api.de to 178.63.11.215\n",
      "2022-03-03 14:58:50 Downloaded 59,140.8kB from overpass-api.de\n",
      "2022-03-03 14:58:52 Saved response to cache file \"cache/74b400b7ab851f47eb51c67a9e75bd2851c51bd4.json\"\n",
      "2022-03-03 14:58:52 Got all network data within polygon from API in 1 request(s)\n",
      "2022-03-03 14:58:52 Creating graph from downloaded OSM data...\n",
      "2022-03-03 14:59:03 Created graph with 361936 nodes and 916668 edges\n",
      "2022-03-03 14:59:10 Added length attributes to graph edges\n",
      "2022-03-03 14:59:10 Identifying all nodes that lie outside the polygon...\n",
      "2022-03-03 14:59:26 Created nodes GeoDataFrame from graph\n",
      "2022-03-03 14:59:40 Created r-tree spatial index for 361936 geometries\n",
      "2022-03-03 14:59:45 Identified 353962 geometries inside polygon\n",
      "2022-03-03 14:59:56 Removed 7974 nodes outside polygon\n",
      "2022-03-03 14:59:56 Truncated graph by polygon\n",
      "2022-03-03 14:59:58 Begin topologically simplifying the graph...\n",
      "2022-03-03 15:00:11 Identified 151100 edge endpoints\n",
      "2022-03-03 15:00:49 Simplified graph: 353962 to 151100 nodes, 899828 to 494104 edges\n",
      "2022-03-03 15:00:49 Identifying all nodes that lie outside the polygon...\n",
      "2022-03-03 15:00:55 Created nodes GeoDataFrame from graph\n",
      "2022-03-03 15:01:00 Created r-tree spatial index for 151100 geometries\n",
      "2022-03-03 15:01:01 Identified 141278 geometries inside polygon\n",
      "2022-03-03 15:01:07 Removed 9822 nodes outside polygon\n",
      "2022-03-03 15:01:13 Removed 33 isolated nodes\n",
      "2022-03-03 15:01:23 Got largest weakly connected component (126365 of 141245 total nodes)\n",
      "2022-03-03 15:01:23 Truncated graph by polygon\n",
      "2022-03-03 15:01:26 Counted undirected street segments incident on each node\n",
      "2022-03-03 15:01:27 graph_from_polygon returned graph with 126365 nodes and 421238 edges\n",
      "2022-03-03 15:01:27 graph_from_bbox returned graph with 126365 nodes and 421238 edges\n",
      "2022-03-03 15:01:27 graph_from_point returned graph with 126365 nodes and 421238 edges\n",
      "2022-03-03 15:01:33 Created nodes GeoDataFrame from graph\n"
     ]
    },
    {
     "name": "stderr",
     "output_type": "stream",
     "text": [
      "/Users/zachary/opt/anaconda3/envs/final_ML_LR/lib/python3.8/site-packages/osmnx/distance.py:356: UserWarning: The `get_nearest_node` function has been deprecated and will be removed in a future release. Use the more efficient `distance.nearest_nodes` instead.\n",
      "  warnings.warn(msg)\n"
     ]
    },
    {
     "name": "stdout",
     "output_type": "stream",
     "text": [
      "2022-03-03 15:01:35 Created nodes GeoDataFrame from graph\n",
      "2022-03-03 15:01:41 Created nodes GeoDataFrame from graph\n",
      "2022-03-03 15:01:57 Projected GeoDataFrame to +proj=utm +zone=17 +ellps=WGS84 +datum=WGS84 +units=m +no_defs +type=crs\n",
      "2022-03-03 15:02:40 Created edges GeoDataFrame from graph\n",
      "2022-03-03 15:03:03 Projected GeoDataFrame to +proj=utm +zone=17 +ellps=WGS84 +datum=WGS84 +units=m +no_defs +type=crs\n",
      "2022-03-03 15:03:19 Created graph from node/edge GeoDataFrames\n",
      "2022-03-03 15:03:19 Projected graph with 126365 nodes and 421238 edges\n"
     ]
    },
    {
     "name": "stderr",
     "output_type": "stream",
     "text": [
      "/var/folders/8v/6dq3dnld7rx4qv5wr7vx0w5m0000gn/T/ipykernel_30197/3347265067.py:5: FutureWarning: The frame.append method is deprecated and will be removed from pandas in a future version. Use pandas.concat instead.\n",
      "  detroit_polygons = detroit_polygons.append(gdf_iso_poly)\n"
     ]
    },
    {
     "name": "stdout",
     "output_type": "stream",
     "text": [
      "2022-03-03 15:09:44 Created bbox 12075.0 m from (42.3429241999854, -83.2346241001659): 42.451517130496164,42.23433126947463,-83.08770350816044,-83.38154469217136\n",
      "2022-03-03 15:09:44 Projected GeoDataFrame to +proj=utm +zone=17 +ellps=WGS84 +datum=WGS84 +units=m +no_defs +type=crs\n",
      "2022-03-03 15:09:44 Projected GeoDataFrame to epsg:4326\n",
      "2022-03-03 15:09:44 Projected GeoDataFrame to +proj=utm +zone=17 +ellps=WGS84 +datum=WGS84 +units=m +no_defs +type=crs\n",
      "2022-03-03 15:09:44 Projected GeoDataFrame to epsg:4326\n",
      "2022-03-03 15:09:44 Requesting data within polygon from API in 1 request(s)\n",
      "2022-03-03 15:09:44 Resolved overpass-api.de to 178.63.11.215\n",
      "2022-03-03 15:09:45 Pausing 0 seconds before making HTTP POST request\n",
      "2022-03-03 15:09:45 Post https://overpass-api.de/api/interpreter?data=%5Bout%3Ajson%5D%5Btimeout%3A180%5D%3B%28way%5B%22highway%22%5D%5B%22area%22%21~%22yes%22%5D%5B%22access%22%21~%22private%22%5D%5B%22highway%22%21~%22abandoned%7Cbus_guideway%7Cconstruction%7Ccycleway%7Cmotor%7Cplanned%7Cplatform%7Cproposed%7Craceway%22%5D%5B%22foot%22%21~%22no%22%5D%5B%22service%22%21~%22private%22%5D%28poly%3A%2742.234331+-83.387601+42.451517+-83.387622+42.451957+-83.387593+42.452394+-83.387506+42.452822+-83.387361+42.453237+-83.387161+42.453636+-83.386907+42.454015+-83.386601+42.454370+-83.386246+42.454697+-83.385846+42.454993+-83.385405+42.455257+-83.384927+42.455484+-83.384416+42.455673+-83.383878+42.455822+-83.383317+42.455930+-83.382740+42.455996+-83.382150+42.456018+-83.381555+42.456018+-83.087693+42.455996+-83.087098+42.455931+-83.086509+42.455823+-83.085931+42.455674+-83.085370+42.455484+-83.084832+42.455257+-83.084321+42.454994+-83.083843+42.454697+-83.083402+42.454370+-83.083002+42.454016+-83.082647+42.453637+-83.082341+42.453238+-83.082087+42.452822+-83.081886+42.452394+-83.081742+42.451958+-83.081654+42.451517+-83.081625+42.234331+-83.081646+42.233889+-83.081675+42.233452+-83.081763+42.233023+-83.081908+42.232607+-83.082108+42.232207+-83.082363+42.231828+-83.082669+42.231473+-83.083024+42.231145+-83.083424+42.230849+-83.083866+42.230586+-83.084344+42.230359+-83.084855+42.230170+-83.085393+42.230022+-83.085953+42.229915+-83.086531+42.229851+-83.087120+42.229830+-83.087714+42.229830+-83.381534+42.229851+-83.382129+42.229915+-83.382717+42.230022+-83.383295+42.230171+-83.383855+42.230359+-83.384393+42.230586+-83.384904+42.230849+-83.385382+42.231146+-83.385824+42.231473+-83.386224+42.231828+-83.386578+42.232207+-83.386885+42.232607+-83.387139+42.233023+-83.387340+42.233452+-83.387485+42.233890+-83.387572+42.234331+-83.387601%27%29%3B%3E%3B%29%3Bout%3B with timeout=180\n",
      "2022-03-03 15:09:45 Resolved overpass-api.de to 178.63.11.215\n",
      "2022-03-03 15:09:53 Downloaded 68,189.8kB from overpass-api.de\n",
      "2022-03-03 15:09:57 Saved response to cache file \"cache/32a28cafec8d21f1f7d8b1d8e901a8bdbed20ce7.json\"\n",
      "2022-03-03 15:09:57 Got all network data within polygon from API in 1 request(s)\n",
      "2022-03-03 15:09:57 Creating graph from downloaded OSM data...\n",
      "2022-03-03 15:10:10 Created graph with 429774 nodes and 1072140 edges\n",
      "2022-03-03 15:10:17 Added length attributes to graph edges\n",
      "2022-03-03 15:10:18 Identifying all nodes that lie outside the polygon...\n",
      "2022-03-03 15:10:40 Created nodes GeoDataFrame from graph\n",
      "2022-03-03 15:10:56 Created r-tree spatial index for 429774 geometries\n",
      "2022-03-03 15:11:02 Identified 422618 geometries inside polygon\n",
      "2022-03-03 15:11:15 Removed 7156 nodes outside polygon\n",
      "2022-03-03 15:11:15 Truncated graph by polygon\n",
      "2022-03-03 15:11:18 Begin topologically simplifying the graph...\n",
      "2022-03-03 15:11:33 Identified 166743 edge endpoints\n",
      "2022-03-03 15:12:19 Simplified graph: 422618 to 166743 nodes, 1056934 to 545184 edges\n",
      "2022-03-03 15:12:20 Identifying all nodes that lie outside the polygon...\n",
      "2022-03-03 15:12:28 Created nodes GeoDataFrame from graph\n",
      "2022-03-03 15:12:34 Created r-tree spatial index for 166743 geometries\n",
      "2022-03-03 15:12:35 Identified 156380 geometries inside polygon\n",
      "2022-03-03 15:12:42 Removed 10363 nodes outside polygon\n",
      "2022-03-03 15:12:49 Removed 48 isolated nodes\n",
      "2022-03-03 15:13:01 Got largest weakly connected component (153420 of 156332 total nodes)\n",
      "2022-03-03 15:13:01 Truncated graph by polygon\n",
      "2022-03-03 15:13:05 Counted undirected street segments incident on each node\n",
      "2022-03-03 15:13:05 graph_from_polygon returned graph with 153420 nodes and 508064 edges\n",
      "2022-03-03 15:13:06 graph_from_bbox returned graph with 153420 nodes and 508064 edges\n",
      "2022-03-03 15:13:06 graph_from_point returned graph with 153420 nodes and 508064 edges\n",
      "2022-03-03 15:13:12 Created nodes GeoDataFrame from graph\n"
     ]
    },
    {
     "name": "stderr",
     "output_type": "stream",
     "text": [
      "/Users/zachary/opt/anaconda3/envs/final_ML_LR/lib/python3.8/site-packages/osmnx/distance.py:356: UserWarning: The `get_nearest_node` function has been deprecated and will be removed in a future release. Use the more efficient `distance.nearest_nodes` instead.\n",
      "  warnings.warn(msg)\n"
     ]
    },
    {
     "name": "stdout",
     "output_type": "stream",
     "text": [
      "2022-03-03 15:13:14 Created nodes GeoDataFrame from graph\n",
      "2022-03-03 15:13:21 Created nodes GeoDataFrame from graph\n",
      "2022-03-03 15:13:41 Projected GeoDataFrame to +proj=utm +zone=17 +ellps=WGS84 +datum=WGS84 +units=m +no_defs +type=crs\n",
      "2022-03-03 15:14:33 Created edges GeoDataFrame from graph\n",
      "2022-03-03 15:15:00 Projected GeoDataFrame to +proj=utm +zone=17 +ellps=WGS84 +datum=WGS84 +units=m +no_defs +type=crs\n",
      "2022-03-03 15:15:20 Created graph from node/edge GeoDataFrames\n",
      "2022-03-03 15:15:20 Projected graph with 153420 nodes and 508064 edges\n"
     ]
    },
    {
     "name": "stderr",
     "output_type": "stream",
     "text": [
      "/var/folders/8v/6dq3dnld7rx4qv5wr7vx0w5m0000gn/T/ipykernel_30197/3347265067.py:5: FutureWarning: The frame.append method is deprecated and will be removed from pandas in a future version. Use pandas.concat instead.\n",
      "  detroit_polygons = detroit_polygons.append(gdf_iso_poly)\n"
     ]
    },
    {
     "name": "stdout",
     "output_type": "stream",
     "text": [
      "2022-03-03 15:21:58 Created bbox 12075.0 m from (42.4251514997512, -83.2771082003562): 42.53374443026197,42.316558569240435,-83.12999505631656,-83.42422134439583\n",
      "2022-03-03 15:21:58 Projected GeoDataFrame to +proj=utm +zone=17 +ellps=WGS84 +datum=WGS84 +units=m +no_defs +type=crs\n",
      "2022-03-03 15:21:58 Projected GeoDataFrame to epsg:4326\n",
      "2022-03-03 15:21:58 Projected GeoDataFrame to +proj=utm +zone=17 +ellps=WGS84 +datum=WGS84 +units=m +no_defs +type=crs\n",
      "2022-03-03 15:21:58 Projected GeoDataFrame to epsg:4326\n",
      "2022-03-03 15:21:58 Requesting data within polygon from API in 1 request(s)\n",
      "2022-03-03 15:21:58 Resolved overpass-api.de to 178.63.11.215\n",
      "2022-03-03 15:21:59 Pausing 0 seconds before making HTTP POST request\n",
      "2022-03-03 15:21:59 Post https://overpass-api.de/api/interpreter?data=%5Bout%3Ajson%5D%5Btimeout%3A180%5D%3B%28way%5B%22highway%22%5D%5B%22area%22%21~%22yes%22%5D%5B%22access%22%21~%22private%22%5D%5B%22highway%22%21~%22abandoned%7Cbus_guideway%7Cconstruction%7Ccycleway%7Cmotor%7Cplanned%7Cplatform%7Cproposed%7Craceway%22%5D%5B%22foot%22%21~%22no%22%5D%5B%22service%22%21~%22private%22%5D%28poly%3A%2742.316559+-83.430286+42.533744+-83.430307+42.534185+-83.430278+42.534621+-83.430190+42.535049+-83.430046+42.535465+-83.429845+42.535864+-83.429590+42.536242+-83.429284+42.536597+-83.428929+42.536924+-83.428529+42.537221+-83.428087+42.537484+-83.427608+42.537711+-83.427097+42.537900+-83.426558+42.538049+-83.425996+42.538157+-83.425418+42.538223+-83.424828+42.538245+-83.424232+42.538246+-83.129984+42.538223+-83.129389+42.538158+-83.128799+42.538050+-83.128220+42.537901+-83.127659+42.537712+-83.127120+42.537484+-83.126608+42.537221+-83.126129+42.536925+-83.125688+42.536597+-83.125287+42.536243+-83.124932+42.535864+-83.124626+42.535465+-83.124371+42.535050+-83.124170+42.534622+-83.124025+42.534185+-83.123938+42.533745+-83.123909+42.316558+-83.123930+42.316116+-83.123959+42.315679+-83.124047+42.315250+-83.124192+42.314834+-83.124393+42.314434+-83.124648+42.314055+-83.124954+42.313700+-83.125310+42.313373+-83.125710+42.313076+-83.126152+42.312813+-83.126631+42.312586+-83.127143+42.312398+-83.127681+42.312249+-83.128243+42.312142+-83.128821+42.312078+-83.129410+42.312057+-83.130006+42.312058+-83.424211+42.312079+-83.424806+42.312143+-83.425395+42.312250+-83.425974+42.312398+-83.426535+42.312587+-83.427074+42.312814+-83.427585+42.313077+-83.428064+42.313373+-83.428506+42.313701+-83.428906+42.314056+-83.429262+42.314435+-83.429568+42.314834+-83.429823+42.315251+-83.430024+42.315680+-83.430169+42.316117+-83.430257+42.316559+-83.430286%27%29%3B%3E%3B%29%3Bout%3B with timeout=180\n",
      "2022-03-03 15:21:59 Resolved overpass-api.de to 178.63.11.215\n",
      "2022-03-03 15:22:11 Downloaded 72,568.1kB from overpass-api.de\n",
      "2022-03-03 15:22:14 Saved response to cache file \"cache/1f1685f1d9f8722b06483d2c77b7d7f438343e52.json\"\n",
      "2022-03-03 15:22:15 Got all network data within polygon from API in 1 request(s)\n",
      "2022-03-03 15:22:15 Creating graph from downloaded OSM data...\n",
      "2022-03-03 15:22:29 Created graph with 473882 nodes and 1142318 edges\n",
      "2022-03-03 15:22:36 Added length attributes to graph edges\n",
      "2022-03-03 15:22:36 Identifying all nodes that lie outside the polygon...\n",
      "2022-03-03 15:22:58 Created nodes GeoDataFrame from graph\n",
      "2022-03-03 15:23:16 Created r-tree spatial index for 473882 geometries\n",
      "2022-03-03 15:23:23 Identified 466166 geometries inside polygon\n",
      "2022-03-03 15:23:36 Removed 7716 nodes outside polygon\n",
      "2022-03-03 15:23:36 Truncated graph by polygon\n",
      "2022-03-03 15:23:39 Begin topologically simplifying the graph...\n",
      "2022-03-03 15:23:54 Identified 165476 edge endpoints\n",
      "2022-03-03 15:24:48 Simplified graph: 466166 to 165476 nodes, 1125946 to 524566 edges\n",
      "2022-03-03 15:24:48 Identifying all nodes that lie outside the polygon...\n",
      "2022-03-03 15:24:56 Created nodes GeoDataFrame from graph\n",
      "2022-03-03 15:25:03 Created r-tree spatial index for 165476 geometries\n",
      "2022-03-03 15:25:04 Identified 153657 geometries inside polygon\n",
      "2022-03-03 15:25:09 Removed 11819 nodes outside polygon\n",
      "2022-03-03 15:25:15 Removed 40 isolated nodes\n",
      "2022-03-03 15:25:27 Got largest weakly connected component (150997 of 153617 total nodes)\n",
      "2022-03-03 15:25:27 Truncated graph by polygon\n",
      "2022-03-03 15:25:30 Counted undirected street segments incident on each node\n",
      "2022-03-03 15:25:30 graph_from_polygon returned graph with 150997 nodes and 484262 edges\n",
      "2022-03-03 15:25:31 graph_from_bbox returned graph with 150997 nodes and 484262 edges\n",
      "2022-03-03 15:25:31 graph_from_point returned graph with 150997 nodes and 484262 edges\n",
      "2022-03-03 15:25:39 Created nodes GeoDataFrame from graph\n"
     ]
    },
    {
     "name": "stderr",
     "output_type": "stream",
     "text": [
      "/Users/zachary/opt/anaconda3/envs/final_ML_LR/lib/python3.8/site-packages/osmnx/distance.py:356: UserWarning: The `get_nearest_node` function has been deprecated and will be removed in a future release. Use the more efficient `distance.nearest_nodes` instead.\n",
      "  warnings.warn(msg)\n"
     ]
    },
    {
     "name": "stdout",
     "output_type": "stream",
     "text": [
      "2022-03-03 15:25:40 Created nodes GeoDataFrame from graph\n",
      "2022-03-03 15:25:47 Created nodes GeoDataFrame from graph\n",
      "2022-03-03 15:26:06 Projected GeoDataFrame to +proj=utm +zone=17 +ellps=WGS84 +datum=WGS84 +units=m +no_defs +type=crs\n",
      "2022-03-03 15:26:53 Created edges GeoDataFrame from graph\n",
      "2022-03-03 15:27:18 Projected GeoDataFrame to +proj=utm +zone=17 +ellps=WGS84 +datum=WGS84 +units=m +no_defs +type=crs\n",
      "2022-03-03 15:27:35 Created graph from node/edge GeoDataFrames\n",
      "2022-03-03 15:27:35 Projected graph with 150997 nodes and 484262 edges\n"
     ]
    },
    {
     "name": "stderr",
     "output_type": "stream",
     "text": [
      "/var/folders/8v/6dq3dnld7rx4qv5wr7vx0w5m0000gn/T/ipykernel_30197/3347265067.py:5: FutureWarning: The frame.append method is deprecated and will be removed from pandas in a future version. Use pandas.concat instead.\n",
      "  detroit_polygons = detroit_polygons.append(gdf_iso_poly)\n"
     ]
    },
    {
     "name": "stdout",
     "output_type": "stream",
     "text": [
      "2022-03-03 15:32:56 Created bbox 12075.0 m from (42.4491287003041, -82.969029399819): 42.55772163081487,42.340535769793334,-82.82185995606258,-83.1161988435754\n",
      "2022-03-03 15:32:56 Projected GeoDataFrame to +proj=utm +zone=17 +ellps=WGS84 +datum=WGS84 +units=m +no_defs +type=crs\n",
      "2022-03-03 15:32:56 Projected GeoDataFrame to epsg:4326\n",
      "2022-03-03 15:32:56 Projected GeoDataFrame to +proj=utm +zone=17 +ellps=WGS84 +datum=WGS84 +units=m +no_defs +type=crs\n",
      "2022-03-03 15:32:56 Projected GeoDataFrame to epsg:4326\n",
      "2022-03-03 15:32:56 Requesting data within polygon from API in 1 request(s)\n",
      "2022-03-03 15:32:56 Resolved overpass-api.de to 178.63.11.215\n",
      "2022-03-03 15:32:57 Pausing 0 seconds before making HTTP POST request\n",
      "2022-03-03 15:32:57 Post https://overpass-api.de/api/interpreter?data=%5Bout%3Ajson%5D%5Btimeout%3A180%5D%3B%28way%5B%22highway%22%5D%5B%22area%22%21~%22yes%22%5D%5B%22access%22%21~%22private%22%5D%5B%22highway%22%21~%22abandoned%7Cbus_guideway%7Cconstruction%7Ccycleway%7Cmotor%7Cplanned%7Cplatform%7Cproposed%7Craceway%22%5D%5B%22foot%22%21~%22no%22%5D%5B%22service%22%21~%22private%22%5D%28poly%3A%2742.340536+-83.122266+42.557721+-83.122287+42.558162+-83.122258+42.558598+-83.122171+42.559027+-83.122026+42.559442+-83.121825+42.559841+-83.121570+42.560220+-83.121264+42.560574+-83.120909+42.560902+-83.120508+42.561198+-83.120066+42.561461+-83.119587+42.561689+-83.119076+42.561878+-83.118536+42.562027+-83.117975+42.562135+-83.117396+42.562200+-83.116806+42.562223+-83.116209+42.562223+-82.821849+42.562201+-82.821253+42.562135+-82.820663+42.562028+-82.820084+42.561878+-82.819522+42.561689+-82.818983+42.561462+-82.818471+42.561199+-82.817992+42.560902+-82.817550+42.560575+-82.817150+42.560220+-82.816795+42.559842+-82.816488+42.559443+-82.816233+42.559027+-82.816032+42.558599+-82.815887+42.558162+-82.815800+42.557722+-82.815771+42.340535+-82.815792+42.340094+-82.815821+42.339656+-82.815909+42.339227+-82.816054+42.338811+-82.816255+42.338411+-82.816510+42.338032+-82.816817+42.337677+-82.817172+42.337350+-82.817573+42.337053+-82.818015+42.336790+-82.818494+42.336563+-82.819006+42.336374+-82.819545+42.336226+-82.820107+42.336119+-82.820685+42.336055+-82.821275+42.336034+-82.821870+42.336034+-83.116188+42.336055+-83.116784+42.336120+-83.117374+42.336226+-83.117952+42.336375+-83.118513+42.336563+-83.119053+42.336790+-83.119564+42.337053+-83.120043+42.337350+-83.120485+42.337677+-83.120886+42.338033+-83.121242+42.338412+-83.121548+42.338811+-83.121803+42.339228+-83.122005+42.339657+-83.122150+42.340094+-83.122237+42.340536+-83.122266%27%29%3B%3E%3B%29%3Bout%3B with timeout=180\n",
      "2022-03-03 15:32:57 Resolved overpass-api.de to 178.63.11.215\n",
      "2022-03-03 15:33:15 Downloaded 44,823.9kB from overpass-api.de\n",
      "2022-03-03 15:33:17 Saved response to cache file \"cache/91b9ed2efc252a13deeb3ab1b8d668e29caf1528.json\"\n",
      "2022-03-03 15:33:17 Got all network data within polygon from API in 1 request(s)\n",
      "2022-03-03 15:33:17 Creating graph from downloaded OSM data...\n",
      "2022-03-03 15:33:23 Created graph with 274533 nodes and 677244 edges\n",
      "2022-03-03 15:33:27 Added length attributes to graph edges\n",
      "2022-03-03 15:33:27 Identifying all nodes that lie outside the polygon...\n",
      "2022-03-03 15:33:40 Created nodes GeoDataFrame from graph\n",
      "2022-03-03 15:33:50 Created r-tree spatial index for 274533 geometries\n",
      "2022-03-03 15:33:54 Identified 269951 geometries inside polygon\n",
      "2022-03-03 15:34:01 Removed 4582 nodes outside polygon\n",
      "2022-03-03 15:34:01 Truncated graph by polygon\n",
      "2022-03-03 15:34:02 Begin topologically simplifying the graph...\n",
      "2022-03-03 15:34:11 Identified 110885 edge endpoints\n",
      "2022-03-03 15:34:38 Simplified graph: 269951 to 110885 nodes, 667186 to 349054 edges\n",
      "2022-03-03 15:34:38 Identifying all nodes that lie outside the polygon...\n",
      "2022-03-03 15:34:43 Created nodes GeoDataFrame from graph\n",
      "2022-03-03 15:34:47 Created r-tree spatial index for 110885 geometries\n",
      "2022-03-03 15:34:48 Identified 101573 geometries inside polygon\n",
      "2022-03-03 15:34:52 Removed 9312 nodes outside polygon\n",
      "2022-03-03 15:34:56 Removed 41 isolated nodes\n",
      "2022-03-03 15:35:03 Got largest weakly connected component (99481 of 101532 total nodes)\n",
      "2022-03-03 15:35:03 Truncated graph by polygon\n",
      "2022-03-03 15:35:05 Counted undirected street segments incident on each node\n",
      "2022-03-03 15:35:05 graph_from_polygon returned graph with 99481 nodes and 316336 edges\n",
      "2022-03-03 15:35:05 graph_from_bbox returned graph with 99481 nodes and 316336 edges\n",
      "2022-03-03 15:35:06 graph_from_point returned graph with 99481 nodes and 316336 edges\n",
      "2022-03-03 15:35:11 Created nodes GeoDataFrame from graph\n"
     ]
    },
    {
     "name": "stderr",
     "output_type": "stream",
     "text": [
      "/Users/zachary/opt/anaconda3/envs/final_ML_LR/lib/python3.8/site-packages/osmnx/distance.py:356: UserWarning: The `get_nearest_node` function has been deprecated and will be removed in a future release. Use the more efficient `distance.nearest_nodes` instead.\n",
      "  warnings.warn(msg)\n"
     ]
    },
    {
     "name": "stdout",
     "output_type": "stream",
     "text": [
      "2022-03-03 15:35:12 Created nodes GeoDataFrame from graph\n",
      "2022-03-03 15:35:17 Created nodes GeoDataFrame from graph\n",
      "2022-03-03 15:35:29 Projected GeoDataFrame to +proj=utm +zone=17 +ellps=WGS84 +datum=WGS84 +units=m +no_defs +type=crs\n",
      "2022-03-03 15:36:02 Created edges GeoDataFrame from graph\n",
      "2022-03-03 15:36:18 Projected GeoDataFrame to +proj=utm +zone=17 +ellps=WGS84 +datum=WGS84 +units=m +no_defs +type=crs\n",
      "2022-03-03 15:36:29 Created graph from node/edge GeoDataFrames\n",
      "2022-03-03 15:36:29 Projected graph with 99481 nodes and 316336 edges\n"
     ]
    },
    {
     "name": "stderr",
     "output_type": "stream",
     "text": [
      "/var/folders/8v/6dq3dnld7rx4qv5wr7vx0w5m0000gn/T/ipykernel_30197/3347265067.py:5: FutureWarning: The frame.append method is deprecated and will be removed from pandas in a future version. Use pandas.concat instead.\n",
      "  detroit_polygons = detroit_polygons.append(gdf_iso_poly)\n"
     ]
    },
    {
     "name": "stdout",
     "output_type": "stream",
     "text": [
      "2022-03-03 15:40:51 Created bbox 12075.0 m from (42.2872855999412, -83.4078964998377): 42.39587853045197,42.17869266943043,-83.26110574000097,-83.55468725967444\n",
      "2022-03-03 15:40:51 Projected GeoDataFrame to +proj=utm +zone=17 +ellps=WGS84 +datum=WGS84 +units=m +no_defs +type=crs\n",
      "2022-03-03 15:40:51 Projected GeoDataFrame to epsg:4326\n",
      "2022-03-03 15:40:51 Projected GeoDataFrame to +proj=utm +zone=17 +ellps=WGS84 +datum=WGS84 +units=m +no_defs +type=crs\n",
      "2022-03-03 15:40:51 Projected GeoDataFrame to epsg:4326\n",
      "2022-03-03 15:40:51 Requesting data within polygon from API in 1 request(s)\n",
      "2022-03-03 15:40:51 Resolved overpass-api.de to 178.63.11.215\n",
      "2022-03-03 15:40:52 Pausing 0 seconds before making HTTP POST request\n",
      "2022-03-03 15:40:52 Post https://overpass-api.de/api/interpreter?data=%5Bout%3Ajson%5D%5Btimeout%3A180%5D%3B%28way%5B%22highway%22%5D%5B%22area%22%21~%22yes%22%5D%5B%22access%22%21~%22private%22%5D%5B%22highway%22%21~%22abandoned%7Cbus_guideway%7Cconstruction%7Ccycleway%7Cmotor%7Cplanned%7Cplatform%7Cproposed%7Craceway%22%5D%5B%22foot%22%21~%22no%22%5D%5B%22service%22%21~%22private%22%5D%28poly%3A%2742.178693+-83.560738+42.395878+-83.560759+42.396319+-83.560730+42.396755+-83.560643+42.397183+-83.560498+42.397599+-83.560298+42.397998+-83.560044+42.398376+-83.559738+42.398731+-83.559384+42.399058+-83.558985+42.399355+-83.558544+42.399618+-83.558066+42.399845+-83.557556+42.400034+-83.557018+42.400183+-83.556458+42.400291+-83.555881+42.400357+-83.555292+42.400379+-83.554698+42.400380+-83.261095+42.400357+-83.260501+42.400292+-83.259912+42.400184+-83.259335+42.400035+-83.258775+42.399846+-83.258237+42.399618+-83.257726+42.399355+-83.257249+42.399059+-83.256808+42.398731+-83.256409+42.398377+-83.256054+42.397998+-83.255749+42.397599+-83.255494+42.397184+-83.255294+42.396756+-83.255150+42.396319+-83.255062+42.395879+-83.255033+42.178692+-83.255054+42.178251+-83.255083+42.177813+-83.255171+42.177384+-83.255315+42.176968+-83.255516+42.176568+-83.255770+42.176189+-83.256076+42.175834+-83.256431+42.175507+-83.256831+42.175210+-83.257271+42.174947+-83.257749+42.174720+-83.258260+42.174532+-83.258797+42.174383+-83.259357+42.174277+-83.259934+42.174212+-83.260522+42.174191+-83.261116+42.174192+-83.554677+42.174213+-83.555271+42.174277+-83.555859+42.174384+-83.556436+42.174532+-83.556996+42.174721+-83.557533+42.174948+-83.558044+42.175211+-83.558521+42.175507+-83.558962+42.175835+-83.559362+42.176190+-83.559716+42.176569+-83.560022+42.176969+-83.560277+42.177385+-83.560477+42.177814+-83.560622+42.178251+-83.560709+42.178693+-83.560738%27%29%3B%3E%3B%29%3Bout%3B with timeout=180\n",
      "2022-03-03 15:40:52 Resolved overpass-api.de to 178.63.11.215\n",
      "2022-03-03 15:40:58 Downloaded 49,175.0kB from overpass-api.de\n",
      "2022-03-03 15:41:00 Saved response to cache file \"cache/77019c2fdbe4042718c74953308fd2141b5b59cd.json\"\n",
      "2022-03-03 15:41:00 Got all network data within polygon from API in 1 request(s)\n",
      "2022-03-03 15:41:00 Creating graph from downloaded OSM data...\n",
      "2022-03-03 15:41:09 Created graph with 343468 nodes and 785692 edges\n",
      "2022-03-03 15:41:14 Added length attributes to graph edges\n",
      "2022-03-03 15:41:14 Identifying all nodes that lie outside the polygon...\n",
      "2022-03-03 15:41:30 Created nodes GeoDataFrame from graph\n",
      "2022-03-03 15:41:42 Created r-tree spatial index for 343468 geometries\n",
      "2022-03-03 15:41:46 Identified 336739 geometries inside polygon\n",
      "2022-03-03 15:41:55 Removed 6729 nodes outside polygon\n",
      "2022-03-03 15:41:55 Truncated graph by polygon\n",
      "2022-03-03 15:41:57 Begin topologically simplifying the graph...\n",
      "2022-03-03 15:42:08 Identified 100448 edge endpoints\n",
      "2022-03-03 15:42:42 Simplified graph: 336739 to 100448 nodes, 771804 to 299222 edges\n",
      "2022-03-03 15:42:42 Identifying all nodes that lie outside the polygon...\n",
      "2022-03-03 15:42:46 Created nodes GeoDataFrame from graph\n",
      "2022-03-03 15:42:50 Created r-tree spatial index for 100448 geometries\n",
      "2022-03-03 15:42:50 Identified 92725 geometries inside polygon\n",
      "2022-03-03 15:42:53 Removed 7723 nodes outside polygon\n",
      "2022-03-03 15:42:57 Removed 36 isolated nodes\n",
      "2022-03-03 15:43:03 Got largest weakly connected component (89837 of 92689 total nodes)\n",
      "2022-03-03 15:43:04 Truncated graph by polygon\n",
      "2022-03-03 15:43:05 Counted undirected street segments incident on each node\n",
      "2022-03-03 15:43:06 graph_from_polygon returned graph with 89837 nodes and 271378 edges\n",
      "2022-03-03 15:43:06 graph_from_bbox returned graph with 89837 nodes and 271378 edges\n",
      "2022-03-03 15:43:06 graph_from_point returned graph with 89837 nodes and 271378 edges\n",
      "2022-03-03 15:43:10 Created nodes GeoDataFrame from graph\n"
     ]
    },
    {
     "name": "stderr",
     "output_type": "stream",
     "text": [
      "/Users/zachary/opt/anaconda3/envs/final_ML_LR/lib/python3.8/site-packages/osmnx/distance.py:356: UserWarning: The `get_nearest_node` function has been deprecated and will be removed in a future release. Use the more efficient `distance.nearest_nodes` instead.\n",
      "  warnings.warn(msg)\n"
     ]
    },
    {
     "name": "stdout",
     "output_type": "stream",
     "text": [
      "2022-03-03 15:43:11 Created nodes GeoDataFrame from graph\n",
      "2022-03-03 15:43:15 Created nodes GeoDataFrame from graph\n",
      "2022-03-03 15:43:26 Projected GeoDataFrame to +proj=utm +zone=17 +ellps=WGS84 +datum=WGS84 +units=m +no_defs +type=crs\n",
      "2022-03-03 15:43:52 Created edges GeoDataFrame from graph\n",
      "2022-03-03 15:44:07 Projected GeoDataFrame to +proj=utm +zone=17 +ellps=WGS84 +datum=WGS84 +units=m +no_defs +type=crs\n",
      "2022-03-03 15:44:17 Created graph from node/edge GeoDataFrames\n",
      "2022-03-03 15:44:17 Projected graph with 89837 nodes and 271378 edges\n"
     ]
    },
    {
     "name": "stderr",
     "output_type": "stream",
     "text": [
      "/var/folders/8v/6dq3dnld7rx4qv5wr7vx0w5m0000gn/T/ipykernel_30197/3347265067.py:5: FutureWarning: The frame.append method is deprecated and will be removed from pandas in a future version. Use pandas.concat instead.\n",
      "  detroit_polygons = detroit_polygons.append(gdf_iso_poly)\n"
     ]
    },
    {
     "name": "stdout",
     "output_type": "stream",
     "text": [
      "2022-03-03 15:47:44 Created bbox 12075.0 m from (42.1988440000572, -83.1890985002562): 42.30743693056797,42.09025106954643,-83.04251336233743,-83.33568363817496\n",
      "2022-03-03 15:47:44 Projected GeoDataFrame to +proj=utm +zone=17 +ellps=WGS84 +datum=WGS84 +units=m +no_defs +type=crs\n",
      "2022-03-03 15:47:44 Projected GeoDataFrame to epsg:4326\n",
      "2022-03-03 15:47:44 Projected GeoDataFrame to +proj=utm +zone=17 +ellps=WGS84 +datum=WGS84 +units=m +no_defs +type=crs\n",
      "2022-03-03 15:47:44 Projected GeoDataFrame to epsg:4326\n",
      "2022-03-03 15:47:44 Requesting data within polygon from API in 1 request(s)\n",
      "2022-03-03 15:47:44 Resolved overpass-api.de to 178.63.11.215\n",
      "2022-03-03 15:47:45 Pausing 0 seconds before making HTTP POST request\n",
      "2022-03-03 15:47:45 Post https://overpass-api.de/api/interpreter?data=%5Bout%3Ajson%5D%5Btimeout%3A180%5D%3B%28way%5B%22highway%22%5D%5B%22area%22%21~%22yes%22%5D%5B%22access%22%21~%22private%22%5D%5B%22highway%22%21~%22abandoned%7Cbus_guideway%7Cconstruction%7Ccycleway%7Cmotor%7Cplanned%7Cplatform%7Cproposed%7Craceway%22%5D%5B%22foot%22%21~%22no%22%5D%5B%22service%22%21~%22private%22%5D%28poly%3A%2742.090251+-83.341727+42.307437+-83.341748+42.307877+-83.341718+42.308314+-83.341631+42.308742+-83.341487+42.309157+-83.341287+42.309556+-83.341033+42.309935+-83.340728+42.310290+-83.340374+42.310617+-83.339975+42.310913+-83.339535+42.311177+-83.339058+42.311404+-83.338549+42.311593+-83.338012+42.311742+-83.337452+42.311850+-83.336876+42.311916+-83.336288+42.311938+-83.335694+42.311938+-83.042503+42.311916+-83.041909+42.311851+-83.041321+42.311743+-83.040745+42.311594+-83.040185+42.311404+-83.039648+42.311177+-83.039139+42.310914+-83.038661+42.310617+-83.038221+42.310290+-83.037822+42.309935+-83.037469+42.309557+-83.037163+42.309158+-83.036909+42.308742+-83.036709+42.308314+-83.036565+42.307878+-83.036478+42.307437+-83.036449+42.090251+-83.036470+42.089809+-83.036499+42.089372+-83.036586+42.088943+-83.036731+42.088526+-83.036931+42.088127+-83.037185+42.087747+-83.037491+42.087392+-83.037845+42.087065+-83.038244+42.086768+-83.038684+42.086505+-83.039161+42.086278+-83.039671+42.086090+-83.040208+42.085941+-83.040767+42.085835+-83.041343+42.085770+-83.041931+42.085749+-83.042524+42.085750+-83.335673+42.085771+-83.336266+42.085835+-83.336854+42.085942+-83.337430+42.086090+-83.337989+42.086279+-83.338526+42.086506+-83.339036+42.086769+-83.339513+42.087066+-83.339953+42.087393+-83.340352+42.087748+-83.340706+42.088127+-83.341012+42.088527+-83.341266+42.088943+-83.341466+42.089372+-83.341610+42.089809+-83.341698+42.090251+-83.341727%27%29%3B%3E%3B%29%3Bout%3B with timeout=180\n",
      "2022-03-03 15:47:45 Resolved overpass-api.de to 178.63.11.215\n",
      "2022-03-03 15:47:52 Downloaded 40,557.2kB from overpass-api.de\n",
      "2022-03-03 15:47:53 Saved response to cache file \"cache/86f6b9ca46a2d7471883383b6a35bde478c51bc6.json\"\n",
      "2022-03-03 15:47:53 Got all network data within polygon from API in 1 request(s)\n",
      "2022-03-03 15:47:53 Creating graph from downloaded OSM data...\n",
      "2022-03-03 15:48:00 Created graph with 272662 nodes and 649790 edges\n",
      "2022-03-03 15:48:04 Added length attributes to graph edges\n",
      "2022-03-03 15:48:04 Identifying all nodes that lie outside the polygon...\n",
      "2022-03-03 15:48:17 Created nodes GeoDataFrame from graph\n",
      "2022-03-03 15:48:27 Created r-tree spatial index for 272662 geometries\n",
      "2022-03-03 15:48:30 Identified 268528 geometries inside polygon\n",
      "2022-03-03 15:48:37 Removed 4134 nodes outside polygon\n",
      "2022-03-03 15:48:37 Truncated graph by polygon\n",
      "2022-03-03 15:48:38 Begin topologically simplifying the graph...\n",
      "2022-03-03 15:48:47 Identified 96264 edge endpoints\n",
      "2022-03-03 15:49:13 Simplified graph: 268528 to 96264 nodes, 640910 to 296382 edges\n",
      "2022-03-03 15:49:13 Identifying all nodes that lie outside the polygon...\n",
      "2022-03-03 15:49:17 Created nodes GeoDataFrame from graph\n",
      "2022-03-03 15:49:21 Created r-tree spatial index for 96264 geometries\n",
      "2022-03-03 15:49:21 Identified 90964 geometries inside polygon\n",
      "2022-03-03 15:49:25 Removed 5300 nodes outside polygon\n",
      "2022-03-03 15:49:29 Removed 31 isolated nodes\n",
      "2022-03-03 15:49:36 Got largest weakly connected component (84544 of 90933 total nodes)\n",
      "2022-03-03 15:49:36 Truncated graph by polygon\n",
      "2022-03-03 15:49:38 Counted undirected street segments incident on each node\n",
      "2022-03-03 15:49:38 graph_from_polygon returned graph with 84544 nodes and 265114 edges\n",
      "2022-03-03 15:49:38 graph_from_bbox returned graph with 84544 nodes and 265114 edges\n",
      "2022-03-03 15:49:38 graph_from_point returned graph with 84544 nodes and 265114 edges\n",
      "2022-03-03 15:49:42 Created nodes GeoDataFrame from graph\n"
     ]
    },
    {
     "name": "stderr",
     "output_type": "stream",
     "text": [
      "/Users/zachary/opt/anaconda3/envs/final_ML_LR/lib/python3.8/site-packages/osmnx/distance.py:356: UserWarning: The `get_nearest_node` function has been deprecated and will be removed in a future release. Use the more efficient `distance.nearest_nodes` instead.\n",
      "  warnings.warn(msg)\n"
     ]
    },
    {
     "name": "stdout",
     "output_type": "stream",
     "text": [
      "2022-03-03 15:49:42 Created nodes GeoDataFrame from graph\n",
      "2022-03-03 15:49:47 Created nodes GeoDataFrame from graph\n",
      "2022-03-03 15:49:57 Projected GeoDataFrame to +proj=utm +zone=17 +ellps=WGS84 +datum=WGS84 +units=m +no_defs +type=crs\n",
      "2022-03-03 15:50:23 Created edges GeoDataFrame from graph\n",
      "2022-03-03 15:50:37 Projected GeoDataFrame to +proj=utm +zone=17 +ellps=WGS84 +datum=WGS84 +units=m +no_defs +type=crs\n",
      "2022-03-03 15:50:46 Created graph from node/edge GeoDataFrames\n",
      "2022-03-03 15:50:47 Projected graph with 84544 nodes and 265114 edges\n"
     ]
    },
    {
     "name": "stderr",
     "output_type": "stream",
     "text": [
      "/var/folders/8v/6dq3dnld7rx4qv5wr7vx0w5m0000gn/T/ipykernel_30197/3347265067.py:5: FutureWarning: The frame.append method is deprecated and will be removed from pandas in a future version. Use pandas.concat instead.\n",
      "  detroit_polygons = detroit_polygons.append(gdf_iso_poly)\n"
     ]
    },
    {
     "name": "stdout",
     "output_type": "stream",
     "text": [
      "2022-03-03 15:55:01 Created bbox 12075.0 m from (42.442816999911, -83.2594658999288): 42.55140993042177,42.334224069400236,-83.11231128305134,-83.40662051680626\n",
      "2022-03-03 15:55:01 Projected GeoDataFrame to +proj=utm +zone=17 +ellps=WGS84 +datum=WGS84 +units=m +no_defs +type=crs\n",
      "2022-03-03 15:55:01 Projected GeoDataFrame to epsg:4326\n",
      "2022-03-03 15:55:01 Projected GeoDataFrame to +proj=utm +zone=17 +ellps=WGS84 +datum=WGS84 +units=m +no_defs +type=crs\n",
      "2022-03-03 15:55:01 Projected GeoDataFrame to epsg:4326\n",
      "2022-03-03 15:55:01 Requesting data within polygon from API in 1 request(s)\n",
      "2022-03-03 15:55:01 Resolved overpass-api.de to 178.63.11.215\n",
      "2022-03-03 15:55:02 Pausing 0 seconds before making HTTP POST request\n",
      "2022-03-03 15:55:02 Post https://overpass-api.de/api/interpreter?data=%5Bout%3Ajson%5D%5Btimeout%3A180%5D%3B%28way%5B%22highway%22%5D%5B%22area%22%21~%22yes%22%5D%5B%22access%22%21~%22private%22%5D%5B%22highway%22%21~%22abandoned%7Cbus_guideway%7Cconstruction%7Ccycleway%7Cmotor%7Cplanned%7Cplatform%7Cproposed%7Craceway%22%5D%5B%22foot%22%21~%22no%22%5D%5B%22service%22%21~%22private%22%5D%28poly%3A%2742.334224+-83.412687+42.551410+-83.412708+42.551850+-83.412679+42.552287+-83.412591+42.552715+-83.412446+42.553130+-83.412246+42.553529+-83.411991+42.553908+-83.411684+42.554262+-83.411329+42.554589+-83.410929+42.554886+-83.410487+42.555149+-83.410008+42.555377+-83.409497+42.555566+-83.408958+42.555715+-83.408396+42.555823+-83.407817+42.555888+-83.407227+42.555911+-83.406631+42.555911+-83.112301+42.555889+-83.111705+42.555823+-83.111114+42.555715+-83.110536+42.555566+-83.109974+42.555377+-83.109435+42.555150+-83.108923+42.554887+-83.108444+42.554590+-83.108003+42.554263+-83.107602+42.553908+-83.107247+42.553530+-83.106941+42.553131+-83.106686+42.552715+-83.106485+42.552287+-83.106340+42.551851+-83.106253+42.551410+-83.106223+42.334224+-83.106244+42.333782+-83.106274+42.333345+-83.106361+42.332916+-83.106506+42.332499+-83.106707+42.332100+-83.106963+42.331721+-83.107269+42.331366+-83.107625+42.331038+-83.108025+42.330742+-83.108467+42.330478+-83.108946+42.330252+-83.109458+42.330063+-83.109997+42.329915+-83.110558+42.329808+-83.111137+42.329744+-83.111726+42.329723+-83.112322+42.329723+-83.406610+42.329744+-83.407205+42.329808+-83.407795+42.329915+-83.408373+42.330064+-83.408935+42.330252+-83.409474+42.330479+-83.409985+42.330742+-83.410464+42.331039+-83.410906+42.331366+-83.411307+42.331721+-83.411662+42.332100+-83.411969+42.332500+-83.412224+42.332916+-83.412425+42.333345+-83.412570+42.333783+-83.412658+42.334224+-83.412687%27%29%3B%3E%3B%29%3Bout%3B with timeout=180\n",
      "2022-03-03 15:55:02 Resolved overpass-api.de to 178.63.11.215\n",
      "2022-03-03 15:55:16 Downloaded 71,687.3kB from overpass-api.de\n",
      "2022-03-03 15:55:19 Saved response to cache file \"cache/b99252a5956e0246d282c203217ffb368e2d031b.json\"\n",
      "2022-03-03 15:55:19 Got all network data within polygon from API in 1 request(s)\n",
      "2022-03-03 15:55:19 Creating graph from downloaded OSM data...\n",
      "2022-03-03 15:55:34 Created graph with 462683 nodes and 1121234 edges\n",
      "2022-03-03 15:55:42 Added length attributes to graph edges\n",
      "2022-03-03 15:55:42 Identifying all nodes that lie outside the polygon...\n",
      "2022-03-03 15:56:04 Created nodes GeoDataFrame from graph\n",
      "2022-03-03 15:56:20 Created r-tree spatial index for 462683 geometries\n",
      "2022-03-03 15:56:27 Identified 455549 geometries inside polygon\n",
      "2022-03-03 15:56:40 Removed 7134 nodes outside polygon\n",
      "2022-03-03 15:56:40 Truncated graph by polygon\n",
      "2022-03-03 15:56:43 Begin topologically simplifying the graph...\n",
      "2022-03-03 15:56:58 Identified 164769 edge endpoints\n",
      "2022-03-03 15:57:47 Simplified graph: 455549 to 164769 nodes, 1105846 to 524286 edges\n",
      "2022-03-03 15:57:48 Identifying all nodes that lie outside the polygon...\n",
      "2022-03-03 15:57:55 Created nodes GeoDataFrame from graph\n",
      "2022-03-03 15:58:01 Created r-tree spatial index for 164769 geometries\n",
      "2022-03-03 15:58:02 Identified 152181 geometries inside polygon\n",
      "2022-03-03 15:58:08 Removed 12588 nodes outside polygon\n",
      "2022-03-03 15:58:14 Removed 47 isolated nodes\n",
      "2022-03-03 15:58:26 Got largest weakly connected component (149953 of 152134 total nodes)\n",
      "2022-03-03 15:58:26 Truncated graph by polygon\n",
      "2022-03-03 15:58:29 Counted undirected street segments incident on each node\n",
      "2022-03-03 15:58:30 graph_from_polygon returned graph with 149953 nodes and 481824 edges\n",
      "2022-03-03 15:58:30 graph_from_bbox returned graph with 149953 nodes and 481824 edges\n",
      "2022-03-03 15:58:31 graph_from_point returned graph with 149953 nodes and 481824 edges\n",
      "2022-03-03 15:58:38 Created nodes GeoDataFrame from graph\n"
     ]
    },
    {
     "name": "stderr",
     "output_type": "stream",
     "text": [
      "/Users/zachary/opt/anaconda3/envs/final_ML_LR/lib/python3.8/site-packages/osmnx/distance.py:356: UserWarning: The `get_nearest_node` function has been deprecated and will be removed in a future release. Use the more efficient `distance.nearest_nodes` instead.\n",
      "  warnings.warn(msg)\n"
     ]
    },
    {
     "name": "stdout",
     "output_type": "stream",
     "text": [
      "2022-03-03 15:58:39 Created nodes GeoDataFrame from graph\n",
      "2022-03-03 15:58:46 Created nodes GeoDataFrame from graph\n",
      "2022-03-03 15:59:05 Projected GeoDataFrame to +proj=utm +zone=17 +ellps=WGS84 +datum=WGS84 +units=m +no_defs +type=crs\n",
      "2022-03-03 15:59:52 Created edges GeoDataFrame from graph\n",
      "2022-03-03 16:00:17 Projected GeoDataFrame to +proj=utm +zone=17 +ellps=WGS84 +datum=WGS84 +units=m +no_defs +type=crs\n",
      "2022-03-03 16:00:35 Created graph from node/edge GeoDataFrames\n",
      "2022-03-03 16:00:35 Projected graph with 149953 nodes and 481824 edges\n"
     ]
    },
    {
     "name": "stderr",
     "output_type": "stream",
     "text": [
      "/var/folders/8v/6dq3dnld7rx4qv5wr7vx0w5m0000gn/T/ipykernel_30197/3347265067.py:5: FutureWarning: The frame.append method is deprecated and will be removed from pandas in a future version. Use pandas.concat instead.\n",
      "  detroit_polygons = detroit_polygons.append(gdf_iso_poly)\n"
     ]
    },
    {
     "name": "stdout",
     "output_type": "stream",
     "text": [
      "2022-03-03 16:06:25 Created bbox 12075.0 m from (42.3708483999127, -82.9539365999147): 42.47944133042347,42.262255469401936,-82.80695070817566,-83.10092249165373\n",
      "2022-03-03 16:06:25 Projected GeoDataFrame to +proj=utm +zone=17 +ellps=WGS84 +datum=WGS84 +units=m +no_defs +type=crs\n",
      "2022-03-03 16:06:25 Projected GeoDataFrame to epsg:4326\n",
      "2022-03-03 16:06:25 Projected GeoDataFrame to +proj=utm +zone=17 +ellps=WGS84 +datum=WGS84 +units=m +no_defs +type=crs\n",
      "2022-03-03 16:06:25 Projected GeoDataFrame to epsg:4326\n",
      "2022-03-03 16:06:25 Requesting data within polygon from API in 1 request(s)\n",
      "2022-03-03 16:06:25 Resolved overpass-api.de to 178.63.11.215\n",
      "2022-03-03 16:06:26 Pausing 0 seconds before making HTTP POST request\n",
      "2022-03-03 16:06:26 Post https://overpass-api.de/api/interpreter?data=%5Bout%3Ajson%5D%5Btimeout%3A180%5D%3B%28way%5B%22highway%22%5D%5B%22area%22%21~%22yes%22%5D%5B%22access%22%21~%22private%22%5D%5B%22highway%22%21~%22abandoned%7Cbus_guideway%7Cconstruction%7Ccycleway%7Cmotor%7Cplanned%7Cplatform%7Cproposed%7Craceway%22%5D%5B%22foot%22%21~%22no%22%5D%5B%22service%22%21~%22private%22%5D%28poly%3A%2742.262256+-83.106983+42.479441+-83.107003+42.479882+-83.106974+42.480318+-83.106887+42.480746+-83.106742+42.481162+-83.106542+42.481561+-83.106287+42.481939+-83.105981+42.482294+-83.105626+42.482621+-83.105226+42.482918+-83.104785+42.483181+-83.104307+42.483409+-83.103796+42.483598+-83.103257+42.483747+-83.102696+42.483855+-83.102118+42.483920+-83.101528+42.483943+-83.100933+42.483943+-82.806940+42.483921+-82.806345+42.483855+-82.805755+42.483747+-82.805177+42.483598+-82.804616+42.483409+-82.804077+42.483182+-82.803566+42.482918+-82.803088+42.482622+-82.802647+42.482295+-82.802247+42.481940+-82.801892+42.481561+-82.801586+42.481162+-82.801331+42.480747+-82.801130+42.480319+-82.800986+42.479882+-82.800898+42.479441+-82.800869+42.262255+-82.800890+42.261813+-82.800919+42.261376+-82.801007+42.260947+-82.801152+42.260531+-82.801353+42.260131+-82.801607+42.259752+-82.801914+42.259397+-82.802269+42.259069+-82.802669+42.258773+-82.803111+42.258509+-82.803589+42.258283+-82.804100+42.258094+-82.804639+42.257946+-82.805200+42.257839+-82.805777+42.257775+-82.806366+42.257754+-82.806961+42.257754+-83.100912+42.257775+-83.101507+42.257839+-83.102096+42.257946+-83.102673+42.258094+-83.103234+42.258283+-83.103773+42.258510+-83.104284+42.258773+-83.104762+42.259070+-83.105204+42.259397+-83.105604+42.259752+-83.105959+42.260131+-83.106265+42.260531+-83.106520+42.260947+-83.106721+42.261376+-83.106866+42.261814+-83.106953+42.262256+-83.106983%27%29%3B%3E%3B%29%3Bout%3B with timeout=180\n",
      "2022-03-03 16:06:26 Resolved overpass-api.de to 178.63.11.215\n",
      "2022-03-03 16:06:31 Downloaded 33,655.0kB from overpass-api.de\n",
      "2022-03-03 16:06:32 Saved response to cache file \"cache/0ccd1138c302a055212878fd1e5076dc931876df.json\"\n",
      "2022-03-03 16:06:32 Got all network data within polygon from API in 1 request(s)\n",
      "2022-03-03 16:06:32 Creating graph from downloaded OSM data...\n",
      "2022-03-03 16:06:36 Created graph with 204566 nodes and 512874 edges\n",
      "2022-03-03 16:06:40 Added length attributes to graph edges\n",
      "2022-03-03 16:06:40 Identifying all nodes that lie outside the polygon...\n",
      "2022-03-03 16:06:49 Created nodes GeoDataFrame from graph\n",
      "2022-03-03 16:06:57 Created r-tree spatial index for 204566 geometries\n",
      "2022-03-03 16:06:59 Identified 201113 geometries inside polygon\n",
      "2022-03-03 16:07:05 Removed 3453 nodes outside polygon\n",
      "2022-03-03 16:07:05 Truncated graph by polygon\n",
      "2022-03-03 16:07:07 Begin topologically simplifying the graph...\n",
      "2022-03-03 16:07:13 Identified 87395 edge endpoints\n",
      "2022-03-03 16:07:32 Simplified graph: 201113 to 87395 nodes, 505136 to 277700 edges\n",
      "2022-03-03 16:07:33 Identifying all nodes that lie outside the polygon...\n",
      "2022-03-03 16:07:36 Created nodes GeoDataFrame from graph\n",
      "2022-03-03 16:07:39 Created r-tree spatial index for 87395 geometries\n",
      "2022-03-03 16:07:40 Identified 81354 geometries inside polygon\n",
      "2022-03-03 16:07:44 Removed 6041 nodes outside polygon\n",
      "2022-03-03 16:07:48 Removed 39 isolated nodes\n",
      "2022-03-03 16:07:53 Got largest weakly connected component (66620 of 81315 total nodes)\n",
      "2022-03-03 16:07:53 Truncated graph by polygon\n",
      "2022-03-03 16:07:55 Counted undirected street segments incident on each node\n",
      "2022-03-03 16:07:55 graph_from_polygon returned graph with 66620 nodes and 217140 edges\n",
      "2022-03-03 16:07:55 graph_from_bbox returned graph with 66620 nodes and 217140 edges\n",
      "2022-03-03 16:07:55 graph_from_point returned graph with 66620 nodes and 217140 edges\n",
      "2022-03-03 16:07:58 Created nodes GeoDataFrame from graph\n"
     ]
    },
    {
     "name": "stderr",
     "output_type": "stream",
     "text": [
      "/Users/zachary/opt/anaconda3/envs/final_ML_LR/lib/python3.8/site-packages/osmnx/distance.py:356: UserWarning: The `get_nearest_node` function has been deprecated and will be removed in a future release. Use the more efficient `distance.nearest_nodes` instead.\n",
      "  warnings.warn(msg)\n"
     ]
    },
    {
     "name": "stdout",
     "output_type": "stream",
     "text": [
      "2022-03-03 16:07:59 Created nodes GeoDataFrame from graph\n",
      "2022-03-03 16:08:02 Created nodes GeoDataFrame from graph\n",
      "2022-03-03 16:08:10 Projected GeoDataFrame to +proj=utm +zone=17 +ellps=WGS84 +datum=WGS84 +units=m +no_defs +type=crs\n",
      "2022-03-03 16:08:33 Created edges GeoDataFrame from graph\n",
      "2022-03-03 16:08:45 Projected GeoDataFrame to +proj=utm +zone=17 +ellps=WGS84 +datum=WGS84 +units=m +no_defs +type=crs\n",
      "2022-03-03 16:08:53 Created graph from node/edge GeoDataFrames\n",
      "2022-03-03 16:08:53 Projected graph with 66620 nodes and 217140 edges\n"
     ]
    },
    {
     "name": "stderr",
     "output_type": "stream",
     "text": [
      "/var/folders/8v/6dq3dnld7rx4qv5wr7vx0w5m0000gn/T/ipykernel_30197/3347265067.py:5: FutureWarning: The frame.append method is deprecated and will be removed from pandas in a future version. Use pandas.concat instead.\n",
      "  detroit_polygons = detroit_polygons.append(gdf_iso_poly)\n"
     ]
    },
    {
     "name": "stdout",
     "output_type": "stream",
     "text": [
      "2022-03-03 16:12:49 Created bbox 12075.0 m from (42.2786190185131, -83.3852639903246): 42.387211949023865,42.17002608800233,-83.23849342077153,-83.53203455987767\n",
      "2022-03-03 16:12:49 Projected GeoDataFrame to +proj=utm +zone=17 +ellps=WGS84 +datum=WGS84 +units=m +no_defs +type=crs\n",
      "2022-03-03 16:12:49 Projected GeoDataFrame to epsg:4326\n",
      "2022-03-03 16:12:49 Projected GeoDataFrame to +proj=utm +zone=17 +ellps=WGS84 +datum=WGS84 +units=m +no_defs +type=crs\n",
      "2022-03-03 16:12:49 Projected GeoDataFrame to epsg:4326\n",
      "2022-03-03 16:12:49 Requesting data within polygon from API in 1 request(s)\n",
      "2022-03-03 16:12:49 Resolved overpass-api.de to 178.63.11.215\n",
      "2022-03-03 16:12:50 Pausing 0 seconds before making HTTP POST request\n",
      "2022-03-03 16:12:50 Post https://overpass-api.de/api/interpreter?data=%5Bout%3Ajson%5D%5Btimeout%3A180%5D%3B%28way%5B%22highway%22%5D%5B%22area%22%21~%22yes%22%5D%5B%22access%22%21~%22private%22%5D%5B%22highway%22%21~%22abandoned%7Cbus_guideway%7Cconstruction%7Ccycleway%7Cmotor%7Cplanned%7Cplatform%7Cproposed%7Craceway%22%5D%5B%22foot%22%21~%22no%22%5D%5B%22service%22%21~%22private%22%5D%28poly%3A%2742.170026+-83.538085+42.387212+-83.538106+42.387652+-83.538077+42.388089+-83.537989+42.388517+-83.537845+42.388932+-83.537645+42.389331+-83.537391+42.389710+-83.537085+42.390064+-83.536731+42.390391+-83.536332+42.390688+-83.535891+42.390951+-83.535413+42.391179+-83.534903+42.391368+-83.534365+42.391517+-83.533805+42.391625+-83.533228+42.391690+-83.532639+42.391713+-83.532045+42.391713+-83.238483+42.391691+-83.237888+42.391625+-83.237300+42.391517+-83.236723+42.391368+-83.236163+42.391179+-83.235625+42.390952+-83.235115+42.390689+-83.234637+42.390392+-83.234196+42.390065+-83.233797+42.389710+-83.233443+42.389332+-83.233137+42.388933+-83.232883+42.388517+-83.232682+42.388089+-83.232538+42.387653+-83.232451+42.387212+-83.232422+42.170026+-83.232442+42.169584+-83.232472+42.169147+-83.232559+42.168718+-83.232704+42.168301+-83.232904+42.167902+-83.233159+42.167523+-83.233465+42.167168+-83.233819+42.166840+-83.234219+42.166544+-83.234660+42.166281+-83.235137+42.166054+-83.235648+42.165865+-83.236185+42.165717+-83.236745+42.165610+-83.237322+42.165546+-83.237910+42.165525+-83.238504+42.165525+-83.532024+42.165546+-83.532618+42.165610+-83.533206+42.165717+-83.533783+42.165866+-83.534343+42.166054+-83.534880+42.166281+-83.535390+42.166544+-83.535868+42.166841+-83.536309+42.167168+-83.536708+42.167523+-83.537063+42.167902+-83.537369+42.168302+-83.537623+42.168718+-83.537824+42.169147+-83.537968+42.169585+-83.538056+42.170026+-83.538085%27%29%3B%3E%3B%29%3Bout%3B with timeout=180\n",
      "2022-03-03 16:12:50 Resolved overpass-api.de to 178.63.11.215\n",
      "2022-03-03 16:12:57 Downloaded 51,856.5kB from overpass-api.de\n",
      "2022-03-03 16:12:59 Saved response to cache file \"cache/de41416f23a04a1f44462785a1118dd5d3046b7b.json\"\n",
      "2022-03-03 16:12:59 Got all network data within polygon from API in 1 request(s)\n",
      "2022-03-03 16:12:59 Creating graph from downloaded OSM data...\n",
      "2022-03-03 16:13:08 Created graph with 358444 nodes and 825832 edges\n",
      "2022-03-03 16:13:13 Added length attributes to graph edges\n",
      "2022-03-03 16:13:13 Identifying all nodes that lie outside the polygon...\n",
      "2022-03-03 16:13:30 Created nodes GeoDataFrame from graph\n",
      "2022-03-03 16:13:43 Created r-tree spatial index for 358444 geometries\n",
      "2022-03-03 16:13:47 Identified 352432 geometries inside polygon\n",
      "2022-03-03 16:13:55 Removed 6012 nodes outside polygon\n",
      "2022-03-03 16:13:55 Truncated graph by polygon\n",
      "2022-03-03 16:13:57 Begin topologically simplifying the graph...\n",
      "2022-03-03 16:14:10 Identified 107754 edge endpoints\n",
      "2022-03-03 16:14:45 Simplified graph: 352432 to 107754 nodes, 813256 to 323900 edges\n",
      "2022-03-03 16:14:45 Identifying all nodes that lie outside the polygon...\n",
      "2022-03-03 16:14:50 Created nodes GeoDataFrame from graph\n",
      "2022-03-03 16:14:53 Created r-tree spatial index for 107754 geometries\n",
      "2022-03-03 16:14:54 Identified 99640 geometries inside polygon\n",
      "2022-03-03 16:14:57 Removed 8114 nodes outside polygon\n",
      "2022-03-03 16:15:01 Removed 42 isolated nodes\n",
      "2022-03-03 16:15:08 Got largest weakly connected component (96521 of 99598 total nodes)\n",
      "2022-03-03 16:15:08 Truncated graph by polygon\n",
      "2022-03-03 16:15:10 Counted undirected street segments incident on each node\n",
      "2022-03-03 16:15:11 graph_from_polygon returned graph with 96521 nodes and 294650 edges\n",
      "2022-03-03 16:15:11 graph_from_bbox returned graph with 96521 nodes and 294650 edges\n",
      "2022-03-03 16:15:11 graph_from_point returned graph with 96521 nodes and 294650 edges\n",
      "2022-03-03 16:15:16 Created nodes GeoDataFrame from graph\n"
     ]
    },
    {
     "name": "stderr",
     "output_type": "stream",
     "text": [
      "/Users/zachary/opt/anaconda3/envs/final_ML_LR/lib/python3.8/site-packages/osmnx/distance.py:356: UserWarning: The `get_nearest_node` function has been deprecated and will be removed in a future release. Use the more efficient `distance.nearest_nodes` instead.\n",
      "  warnings.warn(msg)\n"
     ]
    },
    {
     "name": "stdout",
     "output_type": "stream",
     "text": [
      "2022-03-03 16:15:16 Created nodes GeoDataFrame from graph\n",
      "2022-03-03 16:15:21 Created nodes GeoDataFrame from graph\n",
      "2022-03-03 16:15:34 Projected GeoDataFrame to +proj=utm +zone=17 +ellps=WGS84 +datum=WGS84 +units=m +no_defs +type=crs\n",
      "2022-03-03 16:16:02 Created edges GeoDataFrame from graph\n",
      "2022-03-03 16:16:18 Projected GeoDataFrame to +proj=utm +zone=17 +ellps=WGS84 +datum=WGS84 +units=m +no_defs +type=crs\n",
      "2022-03-03 16:16:29 Created graph from node/edge GeoDataFrames\n",
      "2022-03-03 16:16:30 Projected graph with 96521 nodes and 294650 edges\n"
     ]
    },
    {
     "name": "stderr",
     "output_type": "stream",
     "text": [
      "/var/folders/8v/6dq3dnld7rx4qv5wr7vx0w5m0000gn/T/ipykernel_30197/3347265067.py:5: FutureWarning: The frame.append method is deprecated and will be removed from pandas in a future version. Use pandas.concat instead.\n",
      "  detroit_polygons = detroit_polygons.append(gdf_iso_poly)\n"
     ]
    },
    {
     "name": "stdout",
     "output_type": "stream",
     "text": [
      "2022-03-03 16:20:03 Created bbox 12075.0 m from (42.3118790106757, -83.1259102052358): 42.42047194118647,42.203286080164936,-82.97906210228251,-83.27275830818908\n",
      "2022-03-03 16:20:03 Projected GeoDataFrame to +proj=utm +zone=17 +ellps=WGS84 +datum=WGS84 +units=m +no_defs +type=crs\n",
      "2022-03-03 16:20:03 Projected GeoDataFrame to epsg:4326\n",
      "2022-03-03 16:20:03 Projected GeoDataFrame to +proj=utm +zone=17 +ellps=WGS84 +datum=WGS84 +units=m +no_defs +type=crs\n",
      "2022-03-03 16:20:03 Projected GeoDataFrame to epsg:4326\n",
      "2022-03-03 16:20:03 Requesting data within polygon from API in 1 request(s)\n",
      "2022-03-03 16:20:03 Resolved overpass-api.de to 178.63.11.215\n",
      "2022-03-03 16:20:04 Pausing 0 seconds before making HTTP POST request\n",
      "2022-03-03 16:20:04 Post https://overpass-api.de/api/interpreter?data=%5Bout%3Ajson%5D%5Btimeout%3A180%5D%3B%28way%5B%22highway%22%5D%5B%22area%22%21~%22yes%22%5D%5B%22access%22%21~%22private%22%5D%5B%22highway%22%21~%22abandoned%7Cbus_guideway%7Cconstruction%7Ccycleway%7Cmotor%7Cplanned%7Cplatform%7Cproposed%7Craceway%22%5D%5B%22foot%22%21~%22no%22%5D%5B%22service%22%21~%22private%22%5D%28poly%3A%2742.203286+-83.278812+42.420472+-83.278833+42.420912+-83.278804+42.421349+-83.278717+42.421777+-83.278572+42.422192+-83.278372+42.422591+-83.278118+42.422970+-83.277812+42.423325+-83.277458+42.423652+-83.277058+42.423948+-83.276617+42.424212+-83.276139+42.424439+-83.275629+42.424628+-83.275091+42.424777+-83.274530+42.424885+-83.273953+42.424951+-83.273364+42.424973+-83.272769+42.424973+-82.979052+42.424951+-82.978457+42.424886+-82.977868+42.424778+-82.977290+42.424629+-82.976730+42.424439+-82.976192+42.424212+-82.975681+42.423949+-82.975203+42.423652+-82.974762+42.423325+-82.974363+42.422970+-82.974008+42.422592+-82.973702+42.422193+-82.973448+42.421777+-82.973248+42.421349+-82.973103+42.420913+-82.973016+42.420472+-82.972987+42.203286+-82.973007+42.202844+-82.973037+42.202407+-82.973124+42.201978+-82.973269+42.201561+-82.973470+42.201162+-82.973724+42.200782+-82.974030+42.200427+-82.974385+42.200100+-82.974785+42.199803+-82.975226+42.199540+-82.975704+42.199313+-82.976215+42.199125+-82.976753+42.198976+-82.977313+42.198870+-82.977890+42.198805+-82.978478+42.198784+-82.979073+42.198785+-83.272748+42.198806+-83.273342+42.198870+-83.273930+42.198977+-83.274508+42.199125+-83.275068+42.199314+-83.275606+42.199541+-83.276116+42.199804+-83.276594+42.200101+-83.277035+42.200428+-83.277435+42.200783+-83.277790+42.201162+-83.278096+42.201562+-83.278350+42.201978+-83.278551+42.202407+-83.278696+42.202844+-83.278783+42.203286+-83.278812%27%29%3B%3E%3B%29%3Bout%3B with timeout=180\n",
      "2022-03-03 16:20:04 Resolved overpass-api.de to 178.63.11.215\n",
      "2022-03-03 16:20:16 Downloaded 63,778.1kB from overpass-api.de\n",
      "2022-03-03 16:20:19 Saved response to cache file \"cache/052b987e6aa19a574712c69ebd82b6d3e6e9e105.json\"\n",
      "2022-03-03 16:20:19 Got all network data within polygon from API in 1 request(s)\n",
      "2022-03-03 16:20:19 Creating graph from downloaded OSM data...\n",
      "2022-03-03 16:20:31 Created graph with 390691 nodes and 987426 edges\n",
      "2022-03-03 16:20:38 Added length attributes to graph edges\n",
      "2022-03-03 16:20:38 Identifying all nodes that lie outside the polygon...\n",
      "2022-03-03 16:20:57 Created nodes GeoDataFrame from graph\n",
      "2022-03-03 16:21:11 Created r-tree spatial index for 390691 geometries\n",
      "2022-03-03 16:21:16 Identified 381266 geometries inside polygon\n",
      "2022-03-03 16:21:26 Removed 9425 nodes outside polygon\n",
      "2022-03-03 16:21:26 Truncated graph by polygon\n",
      "2022-03-03 16:21:28 Begin topologically simplifying the graph...\n",
      "2022-03-03 16:21:43 Identified 160969 edge endpoints\n",
      "2022-03-03 16:22:23 Simplified graph: 381266 to 160969 nodes, 967696 to 527102 edges\n",
      "2022-03-03 16:22:23 Identifying all nodes that lie outside the polygon...\n",
      "2022-03-03 16:22:30 Created nodes GeoDataFrame from graph\n",
      "2022-03-03 16:22:36 Created r-tree spatial index for 160969 geometries\n",
      "2022-03-03 16:22:37 Identified 150916 geometries inside polygon\n",
      "2022-03-03 16:22:43 Removed 10053 nodes outside polygon\n",
      "2022-03-03 16:22:49 Removed 37 isolated nodes\n",
      "2022-03-03 16:23:01 Got largest weakly connected component (138057 of 150879 total nodes)\n",
      "2022-03-03 16:23:01 Truncated graph by polygon\n",
      "2022-03-03 16:23:05 Counted undirected street segments incident on each node\n",
      "2022-03-03 16:23:05 graph_from_polygon returned graph with 138057 nodes and 460112 edges\n",
      "2022-03-03 16:23:06 graph_from_bbox returned graph with 138057 nodes and 460112 edges\n",
      "2022-03-03 16:23:06 graph_from_point returned graph with 138057 nodes and 460112 edges\n",
      "2022-03-03 16:23:11 Created nodes GeoDataFrame from graph\n"
     ]
    },
    {
     "name": "stderr",
     "output_type": "stream",
     "text": [
      "/Users/zachary/opt/anaconda3/envs/final_ML_LR/lib/python3.8/site-packages/osmnx/distance.py:356: UserWarning: The `get_nearest_node` function has been deprecated and will be removed in a future release. Use the more efficient `distance.nearest_nodes` instead.\n",
      "  warnings.warn(msg)\n"
     ]
    },
    {
     "name": "stdout",
     "output_type": "stream",
     "text": [
      "2022-03-03 16:23:12 Created nodes GeoDataFrame from graph\n",
      "2022-03-03 16:23:19 Created nodes GeoDataFrame from graph\n",
      "2022-03-03 16:23:37 Projected GeoDataFrame to +proj=utm +zone=17 +ellps=WGS84 +datum=WGS84 +units=m +no_defs +type=crs\n",
      "2022-03-03 16:24:22 Created edges GeoDataFrame from graph\n",
      "2022-03-03 16:24:49 Projected GeoDataFrame to +proj=utm +zone=17 +ellps=WGS84 +datum=WGS84 +units=m +no_defs +type=crs\n",
      "2022-03-03 16:25:06 Created graph from node/edge GeoDataFrames\n",
      "2022-03-03 16:25:06 Projected graph with 138057 nodes and 460112 edges\n"
     ]
    },
    {
     "name": "stderr",
     "output_type": "stream",
     "text": [
      "/var/folders/8v/6dq3dnld7rx4qv5wr7vx0w5m0000gn/T/ipykernel_30197/3347265067.py:5: FutureWarning: The frame.append method is deprecated and will be removed from pandas in a future version. Use pandas.concat instead.\n",
      "  detroit_polygons = detroit_polygons.append(gdf_iso_poly)\n"
     ]
    },
    {
     "name": "stdout",
     "output_type": "stream",
     "text": [
      "2022-03-03 16:31:52 Created bbox 12075.0 m from (42.4459169863006, -83.0809119730633): 42.55450991681137,42.337324055789836,-82.9337500745731,-83.22807387155349\n",
      "2022-03-03 16:31:52 Projected GeoDataFrame to +proj=utm +zone=17 +ellps=WGS84 +datum=WGS84 +units=m +no_defs +type=crs\n",
      "2022-03-03 16:31:52 Projected GeoDataFrame to epsg:4326\n",
      "2022-03-03 16:31:52 Projected GeoDataFrame to +proj=utm +zone=17 +ellps=WGS84 +datum=WGS84 +units=m +no_defs +type=crs\n",
      "2022-03-03 16:31:52 Projected GeoDataFrame to epsg:4326\n",
      "2022-03-03 16:31:52 Requesting data within polygon from API in 1 request(s)\n",
      "2022-03-03 16:31:52 Resolved overpass-api.de to 178.63.11.215\n",
      "2022-03-03 16:31:53 Pausing 0 seconds before making HTTP POST request\n",
      "2022-03-03 16:31:53 Post https://overpass-api.de/api/interpreter?data=%5Bout%3Ajson%5D%5Btimeout%3A180%5D%3B%28way%5B%22highway%22%5D%5B%22area%22%21~%22yes%22%5D%5B%22access%22%21~%22private%22%5D%5B%22highway%22%21~%22abandoned%7Cbus_guideway%7Cconstruction%7Ccycleway%7Cmotor%7Cplanned%7Cplatform%7Cproposed%7Craceway%22%5D%5B%22foot%22%21~%22no%22%5D%5B%22service%22%21~%22private%22%5D%28poly%3A%2742.337324+-83.234141+42.554510+-83.234162+42.554950+-83.234133+42.555387+-83.234045+42.555815+-83.233901+42.556230+-83.233700+42.556629+-83.233445+42.557008+-83.233138+42.557362+-83.232783+42.557690+-83.232383+42.557986+-83.231941+42.558250+-83.231462+42.558477+-83.230950+42.558666+-83.230411+42.558815+-83.229850+42.558923+-83.229271+42.558989+-83.228681+42.559011+-83.228084+42.559011+-82.933739+42.558989+-82.933143+42.558924+-82.932553+42.558816+-82.931974+42.558667+-82.931413+42.558477+-82.930873+42.558250+-82.930362+42.557987+-82.929883+42.557690+-82.929441+42.557363+-82.929040+42.557008+-82.928685+42.556630+-82.928379+42.556231+-82.928124+42.555815+-82.927923+42.555387+-82.927778+42.554951+-82.927691+42.554510+-82.927661+42.337324+-82.927682+42.336882+-82.927712+42.336445+-82.927799+42.336016+-82.927944+42.335599+-82.928146+42.335200+-82.928401+42.334820+-82.928708+42.334465+-82.929063+42.334138+-82.929464+42.333841+-82.929906+42.333578+-82.930385+42.333351+-82.930896+42.333163+-82.931436+42.333014+-82.931997+42.332908+-82.932575+42.332843+-82.933165+42.332822+-82.933761+42.332823+-83.228063+42.332844+-83.228659+42.332908+-83.229248+42.333015+-83.229827+42.333163+-83.230388+42.333352+-83.230927+42.333579+-83.231439+42.333842+-83.231918+42.334138+-83.232360+42.334466+-83.232761+42.334821+-83.233116+42.335200+-83.233423+42.335600+-83.233678+42.336016+-83.233879+42.336445+-83.234024+42.336882+-83.234112+42.337324+-83.234141%27%29%3B%3E%3B%29%3Bout%3B with timeout=180\n",
      "2022-03-03 16:31:53 Resolved overpass-api.de to 178.63.11.215\n",
      "2022-03-03 16:32:00 Downloaded 70,362.7kB from overpass-api.de\n",
      "2022-03-03 16:32:03 Saved response to cache file \"cache/4514d16bff26fc86ed6689bd834437b7511470b6.json\"\n",
      "2022-03-03 16:32:03 Got all network data within polygon from API in 1 request(s)\n",
      "2022-03-03 16:32:03 Creating graph from downloaded OSM data...\n",
      "2022-03-03 16:32:14 Created graph with 426011 nodes and 1071992 edges\n",
      "2022-03-03 16:32:21 Added length attributes to graph edges\n",
      "2022-03-03 16:32:22 Identifying all nodes that lie outside the polygon...\n",
      "2022-03-03 16:32:42 Created nodes GeoDataFrame from graph\n",
      "2022-03-03 16:32:57 Created r-tree spatial index for 426011 geometries\n",
      "2022-03-03 16:33:03 Identified 419816 geometries inside polygon\n",
      "2022-03-03 16:33:16 Removed 6195 nodes outside polygon\n",
      "2022-03-03 16:33:16 Truncated graph by polygon\n",
      "2022-03-03 16:33:18 Begin topologically simplifying the graph...\n",
      "2022-03-03 16:33:32 Identified 177983 edge endpoints\n",
      "2022-03-03 16:34:15 Simplified graph: 419816 to 177983 nodes, 1058586 to 574920 edges\n",
      "2022-03-03 16:34:15 Identifying all nodes that lie outside the polygon...\n",
      "2022-03-03 16:34:23 Created nodes GeoDataFrame from graph\n",
      "2022-03-03 16:34:30 Created r-tree spatial index for 177983 geometries\n",
      "2022-03-03 16:34:31 Identified 166201 geometries inside polygon\n",
      "2022-03-03 16:34:38 Removed 11782 nodes outside polygon\n",
      "2022-03-03 16:34:44 Removed 43 isolated nodes\n",
      "2022-03-03 16:34:57 Got largest weakly connected component (163665 of 166158 total nodes)\n",
      "2022-03-03 16:34:57 Truncated graph by polygon\n",
      "2022-03-03 16:35:01 Counted undirected street segments incident on each node\n",
      "2022-03-03 16:35:01 graph_from_polygon returned graph with 163665 nodes and 532756 edges\n",
      "2022-03-03 16:35:02 graph_from_bbox returned graph with 163665 nodes and 532756 edges\n",
      "2022-03-03 16:35:02 graph_from_point returned graph with 163665 nodes and 532756 edges\n",
      "2022-03-03 16:35:09 Created nodes GeoDataFrame from graph\n"
     ]
    },
    {
     "name": "stderr",
     "output_type": "stream",
     "text": [
      "/Users/zachary/opt/anaconda3/envs/final_ML_LR/lib/python3.8/site-packages/osmnx/distance.py:356: UserWarning: The `get_nearest_node` function has been deprecated and will be removed in a future release. Use the more efficient `distance.nearest_nodes` instead.\n",
      "  warnings.warn(msg)\n"
     ]
    },
    {
     "name": "stdout",
     "output_type": "stream",
     "text": [
      "2022-03-03 16:35:11 Created nodes GeoDataFrame from graph\n",
      "2022-03-03 16:35:19 Created nodes GeoDataFrame from graph\n",
      "2022-03-03 16:35:39 Projected GeoDataFrame to +proj=utm +zone=17 +ellps=WGS84 +datum=WGS84 +units=m +no_defs +type=crs\n",
      "2022-03-03 16:36:33 Created edges GeoDataFrame from graph\n",
      "2022-03-03 16:37:00 Projected GeoDataFrame to +proj=utm +zone=17 +ellps=WGS84 +datum=WGS84 +units=m +no_defs +type=crs\n",
      "2022-03-03 16:37:20 Created graph from node/edge GeoDataFrames\n",
      "2022-03-03 16:37:20 Projected graph with 163665 nodes and 532756 edges\n"
     ]
    },
    {
     "name": "stderr",
     "output_type": "stream",
     "text": [
      "/var/folders/8v/6dq3dnld7rx4qv5wr7vx0w5m0000gn/T/ipykernel_30197/3347265067.py:5: FutureWarning: The frame.append method is deprecated and will be removed from pandas in a future version. Use pandas.concat instead.\n",
      "  detroit_polygons = detroit_polygons.append(gdf_iso_poly)\n"
     ]
    },
    {
     "name": "stdout",
     "output_type": "stream",
     "text": [
      "2022-03-03 16:43:59 Created bbox 12075.0 m from (42.355574999849, -83.0590739996332): 42.464167930359764,42.24698206933823,-82.91212383570343,-83.20602416356297\n",
      "2022-03-03 16:43:59 Projected GeoDataFrame to +proj=utm +zone=17 +ellps=WGS84 +datum=WGS84 +units=m +no_defs +type=crs\n",
      "2022-03-03 16:43:59 Projected GeoDataFrame to epsg:4326\n",
      "2022-03-03 16:43:59 Projected GeoDataFrame to +proj=utm +zone=17 +ellps=WGS84 +datum=WGS84 +units=m +no_defs +type=crs\n",
      "2022-03-03 16:43:59 Projected GeoDataFrame to epsg:4326\n",
      "2022-03-03 16:43:59 Requesting data within polygon from API in 1 request(s)\n",
      "2022-03-03 16:43:59 Resolved overpass-api.de to 178.63.11.215\n",
      "2022-03-03 16:44:00 Pausing 0 seconds before making HTTP POST request\n",
      "2022-03-03 16:44:00 Post https://overpass-api.de/api/interpreter?data=%5Bout%3Ajson%5D%5Btimeout%3A180%5D%3B%28way%5B%22highway%22%5D%5B%22area%22%21~%22yes%22%5D%5B%22access%22%21~%22private%22%5D%5B%22highway%22%21~%22abandoned%7Cbus_guideway%7Cconstruction%7Ccycleway%7Cmotor%7Cplanned%7Cplatform%7Cproposed%7Craceway%22%5D%5B%22foot%22%21~%22no%22%5D%5B%22service%22%21~%22private%22%5D%28poly%3A%2742.246982+-83.212083+42.464168+-83.212103+42.464608+-83.212074+42.465045+-83.211987+42.465473+-83.211842+42.465888+-83.211642+42.466287+-83.211387+42.466666+-83.211081+42.467021+-83.210727+42.467348+-83.210327+42.467644+-83.209886+42.467908+-83.209407+42.468135+-83.208897+42.468324+-83.208358+42.468473+-83.207797+42.468581+-83.207219+42.468647+-83.206630+42.468669+-83.206035+42.468670+-82.912113+42.468647+-82.911518+42.468582+-82.910929+42.468474+-82.910351+42.468325+-82.909790+42.468135+-82.909251+42.467908+-82.908740+42.467645+-82.908262+42.467348+-82.907821+42.467021+-82.907421+42.466666+-82.907066+42.466288+-82.906760+42.465889+-82.906506+42.465473+-82.906305+42.465045+-82.906160+42.464609+-82.906073+42.464168+-82.906044+42.246982+-82.906065+42.246540+-82.906094+42.246103+-82.906182+42.245674+-82.906326+42.245257+-82.906527+42.244858+-82.906782+42.244478+-82.907088+42.244123+-82.907443+42.243796+-82.907843+42.243499+-82.908285+42.243236+-82.908763+42.243009+-82.909274+42.242821+-82.909813+42.242672+-82.910373+42.242565+-82.910951+42.242501+-82.911540+42.242480+-82.912134+42.242481+-83.206014+42.242502+-83.206608+42.242566+-83.207197+42.242673+-83.207775+42.242821+-83.208335+42.243010+-83.208874+42.243237+-83.209384+42.243500+-83.209863+42.243796+-83.210304+42.244124+-83.210704+42.244479+-83.211059+42.244858+-83.211366+42.245258+-83.211620+42.245674+-83.211821+42.246103+-83.211966+42.246540+-83.212053+42.246982+-83.212083%27%29%3B%3E%3B%29%3Bout%3B with timeout=180\n",
      "2022-03-03 16:44:00 Resolved overpass-api.de to 178.63.11.215\n",
      "2022-03-03 16:44:10 Downloaded 53,392.1kB from overpass-api.de\n",
      "2022-03-03 16:44:12 Saved response to cache file \"cache/e2a24c47102b82bb2547651dfbce99f09901a051.json\"\n",
      "2022-03-03 16:44:12 Got all network data within polygon from API in 1 request(s)\n",
      "2022-03-03 16:44:12 Creating graph from downloaded OSM data...\n",
      "2022-03-03 16:44:20 Created graph with 322424 nodes and 820426 edges\n",
      "2022-03-03 16:44:25 Added length attributes to graph edges\n",
      "2022-03-03 16:44:25 Identifying all nodes that lie outside the polygon...\n",
      "2022-03-03 16:44:43 Created nodes GeoDataFrame from graph\n",
      "2022-03-03 16:44:55 Created r-tree spatial index for 322424 geometries\n",
      "2022-03-03 16:44:59 Identified 315742 geometries inside polygon\n",
      "2022-03-03 16:45:07 Removed 6682 nodes outside polygon\n",
      "2022-03-03 16:45:07 Truncated graph by polygon\n",
      "2022-03-03 16:45:09 Begin topologically simplifying the graph...\n",
      "2022-03-03 16:45:22 Identified 139623 edge endpoints\n",
      "2022-03-03 16:45:52 Simplified graph: 315742 to 139623 nodes, 806040 to 453802 edges\n",
      "2022-03-03 16:45:52 Identifying all nodes that lie outside the polygon...\n",
      "2022-03-03 16:45:59 Created nodes GeoDataFrame from graph\n",
      "2022-03-03 16:46:04 Created r-tree spatial index for 139623 geometries\n",
      "2022-03-03 16:46:05 Identified 128704 geometries inside polygon\n",
      "2022-03-03 16:46:09 Removed 10919 nodes outside polygon\n",
      "2022-03-03 16:46:14 Removed 28 isolated nodes\n",
      "2022-03-03 16:46:23 Got largest weakly connected component (113742 of 128676 total nodes)\n",
      "2022-03-03 16:46:23 Truncated graph by polygon\n",
      "2022-03-03 16:46:26 Counted undirected street segments incident on each node\n",
      "2022-03-03 16:46:26 graph_from_polygon returned graph with 113742 nodes and 376824 edges\n",
      "2022-03-03 16:46:27 graph_from_bbox returned graph with 113742 nodes and 376824 edges\n",
      "2022-03-03 16:46:27 graph_from_point returned graph with 113742 nodes and 376824 edges\n",
      "2022-03-03 16:46:33 Created nodes GeoDataFrame from graph\n"
     ]
    },
    {
     "name": "stderr",
     "output_type": "stream",
     "text": [
      "/Users/zachary/opt/anaconda3/envs/final_ML_LR/lib/python3.8/site-packages/osmnx/distance.py:356: UserWarning: The `get_nearest_node` function has been deprecated and will be removed in a future release. Use the more efficient `distance.nearest_nodes` instead.\n",
      "  warnings.warn(msg)\n"
     ]
    },
    {
     "name": "stdout",
     "output_type": "stream",
     "text": [
      "2022-03-03 16:46:34 Created nodes GeoDataFrame from graph\n",
      "2022-03-03 16:46:40 Created nodes GeoDataFrame from graph\n",
      "2022-03-03 16:46:54 Projected GeoDataFrame to +proj=utm +zone=17 +ellps=WGS84 +datum=WGS84 +units=m +no_defs +type=crs\n",
      "2022-03-03 16:47:32 Created edges GeoDataFrame from graph\n",
      "2022-03-03 16:47:52 Projected GeoDataFrame to +proj=utm +zone=17 +ellps=WGS84 +datum=WGS84 +units=m +no_defs +type=crs\n",
      "2022-03-03 16:48:06 Created graph from node/edge GeoDataFrames\n",
      "2022-03-03 16:48:06 Projected graph with 113742 nodes and 376824 edges\n"
     ]
    },
    {
     "name": "stderr",
     "output_type": "stream",
     "text": [
      "/var/folders/8v/6dq3dnld7rx4qv5wr7vx0w5m0000gn/T/ipykernel_30197/3347265067.py:5: FutureWarning: The frame.append method is deprecated and will be removed from pandas in a future version. Use pandas.concat instead.\n",
      "  detroit_polygons = detroit_polygons.append(gdf_iso_poly)\n"
     ]
    },
    {
     "name": "stdout",
     "output_type": "stream",
     "text": [
      "2022-03-03 16:53:25 Created bbox 12075.0 m from (42.2957267111645, -83.4924907605743): 42.404319641675265,42.18713378065373,-83.34568032715512,-83.63930119399348\n",
      "2022-03-03 16:53:25 Projected GeoDataFrame to +proj=utm +zone=17 +ellps=WGS84 +datum=WGS84 +units=m +no_defs +type=crs\n",
      "2022-03-03 16:53:25 Projected GeoDataFrame to epsg:4326\n",
      "2022-03-03 16:53:25 Projected GeoDataFrame to +proj=utm +zone=17 +ellps=WGS84 +datum=WGS84 +units=m +no_defs +type=crs\n",
      "2022-03-03 16:53:25 Projected GeoDataFrame to epsg:4326\n",
      "2022-03-03 16:53:25 Requesting data within polygon from API in 1 request(s)\n",
      "2022-03-03 16:53:25 Resolved overpass-api.de to 178.63.11.215\n",
      "2022-03-03 16:53:26 Pausing 0 seconds before making HTTP POST request\n",
      "2022-03-03 16:53:26 Post https://overpass-api.de/api/interpreter?data=%5Bout%3Ajson%5D%5Btimeout%3A180%5D%3B%28way%5B%22highway%22%5D%5B%22area%22%21~%22yes%22%5D%5B%22access%22%21~%22private%22%5D%5B%22highway%22%21~%22abandoned%7Cbus_guideway%7Cconstruction%7Ccycleway%7Cmotor%7Cplanned%7Cplatform%7Cproposed%7Craceway%22%5D%5B%22foot%22%21~%22no%22%5D%5B%22service%22%21~%22private%22%5D%28poly%3A%2742.187134+-83.645353+42.404319+-83.645374+42.404760+-83.645345+42.405196+-83.645257+42.405624+-83.645113+42.406040+-83.644913+42.406439+-83.644658+42.406817+-83.644353+42.407172+-83.643999+42.407499+-83.643599+42.407796+-83.643158+42.408059+-83.642681+42.408286+-83.642170+42.408475+-83.641633+42.408624+-83.641072+42.408732+-83.640495+42.408798+-83.639906+42.408820+-83.639312+42.408821+-83.345670+42.408798+-83.345075+42.408733+-83.344486+42.408625+-83.343909+42.408476+-83.343349+42.408287+-83.342811+42.408059+-83.342301+42.407796+-83.341823+42.407500+-83.341382+42.407172+-83.340983+42.406818+-83.340628+42.406439+-83.340323+42.406040+-83.340068+42.405625+-83.339868+42.405197+-83.339724+42.404760+-83.339636+42.404320+-83.339607+42.187133+-83.339628+42.186692+-83.339657+42.186254+-83.339745+42.185825+-83.339889+42.185409+-83.340090+42.185010+-83.340344+42.184630+-83.340650+42.184275+-83.341005+42.183948+-83.341405+42.183651+-83.341846+42.183388+-83.342324+42.183162+-83.342834+42.182973+-83.343372+42.182825+-83.343932+42.182718+-83.344509+42.182654+-83.345097+42.182633+-83.345691+42.182633+-83.639291+42.182654+-83.639885+42.182718+-83.640473+42.182825+-83.641050+42.182974+-83.641610+42.183162+-83.642148+42.183389+-83.642658+42.183652+-83.643136+42.183949+-83.643577+42.184276+-83.643976+42.184631+-83.644331+42.185010+-83.644637+42.185410+-83.644891+42.185826+-83.645092+42.186255+-83.645236+42.186692+-83.645324+42.187134+-83.645353%27%29%3B%3E%3B%29%3Bout%3B with timeout=180\n",
      "2022-03-03 16:53:26 Resolved overpass-api.de to 178.63.11.215\n",
      "2022-03-03 16:53:41 Downloaded 40,110.8kB from overpass-api.de\n",
      "2022-03-03 16:53:43 Saved response to cache file \"cache/bcb9a2b9eb52ca63d46faf091acf7bc6b72d4b6e.json\"\n",
      "2022-03-03 16:53:43 Got all network data within polygon from API in 1 request(s)\n",
      "2022-03-03 16:53:43 Creating graph from downloaded OSM data...\n",
      "2022-03-03 16:53:50 Created graph with 289769 nodes and 644992 edges\n",
      "2022-03-03 16:53:53 Added length attributes to graph edges\n",
      "2022-03-03 16:53:54 Identifying all nodes that lie outside the polygon...\n",
      "2022-03-03 16:54:07 Created nodes GeoDataFrame from graph\n",
      "2022-03-03 16:54:17 Created r-tree spatial index for 289769 geometries\n",
      "2022-03-03 16:54:21 Identified 284292 geometries inside polygon\n",
      "2022-03-03 16:54:27 Removed 5477 nodes outside polygon\n",
      "2022-03-03 16:54:27 Truncated graph by polygon\n",
      "2022-03-03 16:54:29 Begin topologically simplifying the graph...\n",
      "2022-03-03 16:54:41 Identified 76147 edge endpoints\n",
      "2022-03-03 16:55:10 Simplified graph: 284292 to 76147 nodes, 633578 to 217288 edges\n",
      "2022-03-03 16:55:10 Identifying all nodes that lie outside the polygon...\n",
      "2022-03-03 16:55:13 Created nodes GeoDataFrame from graph\n",
      "2022-03-03 16:55:16 Created r-tree spatial index for 76147 geometries\n",
      "2022-03-03 16:55:16 Identified 71985 geometries inside polygon\n",
      "2022-03-03 16:55:19 Removed 4162 nodes outside polygon\n",
      "2022-03-03 16:55:21 Removed 39 isolated nodes\n",
      "2022-03-03 16:55:26 Got largest weakly connected component (69170 of 71946 total nodes)\n",
      "2022-03-03 16:55:26 Truncated graph by polygon\n",
      "2022-03-03 16:55:27 Counted undirected street segments incident on each node\n",
      "2022-03-03 16:55:27 graph_from_polygon returned graph with 69170 nodes and 201696 edges\n",
      "2022-03-03 16:55:27 graph_from_bbox returned graph with 69170 nodes and 201696 edges\n",
      "2022-03-03 16:55:28 graph_from_point returned graph with 69170 nodes and 201696 edges\n",
      "2022-03-03 16:55:31 Created nodes GeoDataFrame from graph\n"
     ]
    },
    {
     "name": "stderr",
     "output_type": "stream",
     "text": [
      "/Users/zachary/opt/anaconda3/envs/final_ML_LR/lib/python3.8/site-packages/osmnx/distance.py:356: UserWarning: The `get_nearest_node` function has been deprecated and will be removed in a future release. Use the more efficient `distance.nearest_nodes` instead.\n",
      "  warnings.warn(msg)\n"
     ]
    },
    {
     "name": "stdout",
     "output_type": "stream",
     "text": [
      "2022-03-03 16:55:32 Created nodes GeoDataFrame from graph\n",
      "2022-03-03 16:55:35 Created nodes GeoDataFrame from graph\n",
      "2022-03-03 16:55:44 Projected GeoDataFrame to +proj=utm +zone=17 +ellps=WGS84 +datum=WGS84 +units=m +no_defs +type=crs\n",
      "2022-03-03 16:56:02 Created edges GeoDataFrame from graph\n",
      "2022-03-03 16:56:13 Projected GeoDataFrame to +proj=utm +zone=17 +ellps=WGS84 +datum=WGS84 +units=m +no_defs +type=crs\n",
      "2022-03-03 16:56:21 Created graph from node/edge GeoDataFrames\n",
      "2022-03-03 16:56:21 Projected graph with 69170 nodes and 201696 edges\n"
     ]
    },
    {
     "name": "stderr",
     "output_type": "stream",
     "text": [
      "/var/folders/8v/6dq3dnld7rx4qv5wr7vx0w5m0000gn/T/ipykernel_30197/3347265067.py:5: FutureWarning: The frame.append method is deprecated and will be removed from pandas in a future version. Use pandas.concat instead.\n",
      "  detroit_polygons = detroit_polygons.append(gdf_iso_poly)\n"
     ]
    },
    {
     "name": "stdout",
     "output_type": "stream",
     "text": [
      "2022-03-03 16:58:43 Created bbox 12075.0 m from (42.4088495948174, -83.1072918696973): 42.517442525328164,42.30025666430663,-82.96021696408319,-83.25436677531142\n",
      "2022-03-03 16:58:43 Projected GeoDataFrame to +proj=utm +zone=17 +ellps=WGS84 +datum=WGS84 +units=m +no_defs +type=crs\n",
      "2022-03-03 16:58:43 Projected GeoDataFrame to epsg:4326\n",
      "2022-03-03 16:58:44 Projected GeoDataFrame to +proj=utm +zone=17 +ellps=WGS84 +datum=WGS84 +units=m +no_defs +type=crs\n",
      "2022-03-03 16:58:44 Projected GeoDataFrame to epsg:4326\n",
      "2022-03-03 16:58:44 Requesting data within polygon from API in 1 request(s)\n",
      "2022-03-03 16:58:44 Resolved overpass-api.de to 178.63.11.215\n",
      "2022-03-03 16:58:45 Pausing 0 seconds before making HTTP POST request\n",
      "2022-03-03 16:58:45 Post https://overpass-api.de/api/interpreter?data=%5Bout%3Ajson%5D%5Btimeout%3A180%5D%3B%28way%5B%22highway%22%5D%5B%22area%22%21~%22yes%22%5D%5B%22access%22%21~%22private%22%5D%5B%22highway%22%21~%22abandoned%7Cbus_guideway%7Cconstruction%7Ccycleway%7Cmotor%7Cplanned%7Cplatform%7Cproposed%7Craceway%22%5D%5B%22foot%22%21~%22no%22%5D%5B%22service%22%21~%22private%22%5D%28poly%3A%2742.300257+-83.260430+42.517442+-83.260451+42.517883+-83.260422+42.518319+-83.260335+42.518747+-83.260190+42.519163+-83.259989+42.519562+-83.259735+42.519940+-83.259428+42.520295+-83.259073+42.520622+-83.258673+42.520919+-83.258232+42.521182+-83.257753+42.521409+-83.257242+42.521599+-83.256703+42.521748+-83.256141+42.521856+-83.255563+42.521921+-83.254973+42.521944+-83.254377+42.521944+-82.960206+42.521922+-82.959611+42.521856+-82.959021+42.521748+-82.958442+42.521599+-82.957881+42.521410+-82.957342+42.521183+-82.956831+42.520919+-82.956352+42.520623+-82.955910+42.520296+-82.955510+42.519941+-82.955155+42.519562+-82.954849+42.519163+-82.954594+42.518748+-82.954393+42.518320+-82.954249+42.517883+-82.954161+42.517443+-82.954132+42.300256+-82.954153+42.299815+-82.954182+42.299377+-82.954270+42.298948+-82.954415+42.298532+-82.954616+42.298132+-82.954871+42.297753+-82.955177+42.297398+-82.955533+42.297071+-82.955933+42.296774+-82.956375+42.296511+-82.956854+42.296284+-82.957365+42.296095+-82.957904+42.295947+-82.958465+42.295840+-82.959043+42.295776+-82.959632+42.295755+-82.960227+42.295755+-83.254356+42.295776+-83.254951+42.295841+-83.255541+42.295947+-83.256119+42.296096+-83.256680+42.296284+-83.257219+42.296511+-83.257730+42.296774+-83.258209+42.297071+-83.258650+42.297399+-83.259051+42.297754+-83.259406+42.298133+-83.259713+42.298532+-83.259968+42.298949+-83.260168+42.299378+-83.260313+42.299815+-83.260401+42.300257+-83.260430%27%29%3B%3E%3B%29%3Bout%3B with timeout=180\n",
      "2022-03-03 16:58:45 Resolved overpass-api.de to 178.63.11.215\n",
      "2022-03-03 16:58:53 Downloaded 74,692.6kB from overpass-api.de\n",
      "2022-03-03 16:58:56 Saved response to cache file \"cache/ab6f75888a05aa7e21106418954c7c248250a3e8.json\"\n",
      "2022-03-03 16:58:56 Got all network data within polygon from API in 1 request(s)\n",
      "2022-03-03 16:58:56 Creating graph from downloaded OSM data...\n",
      "2022-03-03 16:59:10 Created graph with 452383 nodes and 1140520 edges\n",
      "2022-03-03 16:59:17 Added length attributes to graph edges\n",
      "2022-03-03 16:59:17 Identifying all nodes that lie outside the polygon...\n",
      "2022-03-03 16:59:40 Created nodes GeoDataFrame from graph\n",
      "2022-03-03 16:59:56 Created r-tree spatial index for 452383 geometries\n",
      "2022-03-03 17:00:02 Identified 445289 geometries inside polygon\n",
      "2022-03-03 17:00:16 Removed 7094 nodes outside polygon\n",
      "2022-03-03 17:00:16 Truncated graph by polygon\n",
      "2022-03-03 17:00:19 Begin topologically simplifying the graph...\n",
      "2022-03-03 17:00:36 Identified 187121 edge endpoints\n",
      "2022-03-03 17:01:27 Simplified graph: 445289 to 187121 nodes, 1125144 to 608808 edges\n",
      "2022-03-03 17:01:27 Identifying all nodes that lie outside the polygon...\n",
      "2022-03-03 17:01:35 Created nodes GeoDataFrame from graph\n",
      "2022-03-03 17:01:42 Created r-tree spatial index for 187121 geometries\n",
      "2022-03-03 17:01:43 Identified 175638 geometries inside polygon\n",
      "2022-03-03 17:01:51 Removed 11483 nodes outside polygon\n",
      "2022-03-03 17:01:58 Removed 46 isolated nodes\n",
      "2022-03-03 17:02:11 Got largest weakly connected component (168395 of 175592 total nodes)\n",
      "2022-03-03 17:02:11 Truncated graph by polygon\n",
      "2022-03-03 17:02:15 Counted undirected street segments incident on each node\n",
      "2022-03-03 17:02:15 graph_from_polygon returned graph with 168395 nodes and 554728 edges\n",
      "2022-03-03 17:02:16 graph_from_bbox returned graph with 168395 nodes and 554728 edges\n",
      "2022-03-03 17:02:16 graph_from_point returned graph with 168395 nodes and 554728 edges\n",
      "2022-03-03 17:02:23 Created nodes GeoDataFrame from graph\n"
     ]
    },
    {
     "name": "stderr",
     "output_type": "stream",
     "text": [
      "/Users/zachary/opt/anaconda3/envs/final_ML_LR/lib/python3.8/site-packages/osmnx/distance.py:356: UserWarning: The `get_nearest_node` function has been deprecated and will be removed in a future release. Use the more efficient `distance.nearest_nodes` instead.\n",
      "  warnings.warn(msg)\n"
     ]
    },
    {
     "name": "stdout",
     "output_type": "stream",
     "text": [
      "2022-03-03 17:02:24 Created nodes GeoDataFrame from graph\n",
      "2022-03-03 17:02:33 Created nodes GeoDataFrame from graph\n",
      "2022-03-03 17:02:54 Projected GeoDataFrame to +proj=utm +zone=17 +ellps=WGS84 +datum=WGS84 +units=m +no_defs +type=crs\n",
      "2022-03-03 17:03:49 Created edges GeoDataFrame from graph\n",
      "2022-03-03 17:04:18 Projected GeoDataFrame to +proj=utm +zone=17 +ellps=WGS84 +datum=WGS84 +units=m +no_defs +type=crs\n",
      "2022-03-03 17:04:42 Created graph from node/edge GeoDataFrames\n",
      "2022-03-03 17:04:42 Projected graph with 168395 nodes and 554728 edges\n"
     ]
    },
    {
     "name": "stderr",
     "output_type": "stream",
     "text": [
      "/var/folders/8v/6dq3dnld7rx4qv5wr7vx0w5m0000gn/T/ipykernel_30197/3347265067.py:5: FutureWarning: The frame.append method is deprecated and will be removed from pandas in a future version. Use pandas.concat instead.\n",
      "  detroit_polygons = detroit_polygons.append(gdf_iso_poly)\n"
     ]
    },
    {
     "name": "stdout",
     "output_type": "stream",
     "text": [
      "2022-03-03 17:11:59 Created bbox 12075.0 m from (42.2961920217361, -83.3280176871121): 42.404784952246864,42.18759909122533,-83.18120616895389,-83.4748292052703\n",
      "2022-03-03 17:11:59 Projected GeoDataFrame to +proj=utm +zone=17 +ellps=WGS84 +datum=WGS84 +units=m +no_defs +type=crs\n",
      "2022-03-03 17:11:59 Projected GeoDataFrame to epsg:4326\n",
      "2022-03-03 17:11:59 Projected GeoDataFrame to +proj=utm +zone=17 +ellps=WGS84 +datum=WGS84 +units=m +no_defs +type=crs\n",
      "2022-03-03 17:11:59 Projected GeoDataFrame to epsg:4326\n",
      "2022-03-03 17:11:59 Requesting data within polygon from API in 1 request(s)\n",
      "2022-03-03 17:11:59 Resolved overpass-api.de to 178.63.11.215\n",
      "2022-03-03 17:12:00 Pausing 0 seconds before making HTTP POST request\n",
      "2022-03-03 17:12:00 Post https://overpass-api.de/api/interpreter?data=%5Bout%3Ajson%5D%5Btimeout%3A180%5D%3B%28way%5B%22highway%22%5D%5B%22area%22%21~%22yes%22%5D%5B%22access%22%21~%22private%22%5D%5B%22highway%22%21~%22abandoned%7Cbus_guideway%7Cconstruction%7Ccycleway%7Cmotor%7Cplanned%7Cplatform%7Cproposed%7Craceway%22%5D%5B%22foot%22%21~%22no%22%5D%5B%22service%22%21~%22private%22%5D%28poly%3A%2742.187599+-83.480881+42.404785+-83.480902+42.405225+-83.480873+42.405662+-83.480786+42.406090+-83.480641+42.406505+-83.480441+42.406904+-83.480187+42.407283+-83.479881+42.407637+-83.479527+42.407965+-83.479127+42.408261+-83.478687+42.408524+-83.478209+42.408752+-83.477699+42.408941+-83.477161+42.409090+-83.476600+42.409198+-83.476023+42.409263+-83.475434+42.409286+-83.474840+42.409286+-83.181196+42.409264+-83.180601+42.409198+-83.180012+42.409091+-83.179435+42.408941+-83.178875+42.408752+-83.178337+42.408525+-83.177826+42.408262+-83.177348+42.407965+-83.176908+42.407638+-83.176508+42.407283+-83.176154+42.406905+-83.175848+42.406506+-83.175594+42.406090+-83.175393+42.405662+-83.175249+42.405226+-83.175162+42.404785+-83.175133+42.187599+-83.175153+42.187157+-83.175183+42.186720+-83.175270+42.186291+-83.175415+42.185874+-83.175615+42.185475+-83.175870+42.185096+-83.176176+42.184741+-83.176531+42.184413+-83.176930+42.184117+-83.177371+42.183854+-83.177849+42.183627+-83.178360+42.183438+-83.178897+42.183290+-83.179457+42.183183+-83.180034+42.183119+-83.180623+42.183098+-83.181217+42.183098+-83.474819+42.183119+-83.475413+42.183183+-83.476001+42.183290+-83.476578+42.183439+-83.477138+42.183627+-83.477676+42.183854+-83.478186+42.184117+-83.478664+42.184414+-83.479105+42.184741+-83.479505+42.185096+-83.479859+42.185475+-83.480165+42.185875+-83.480420+42.186291+-83.480620+42.186720+-83.480765+42.187158+-83.480852+42.187599+-83.480881%27%29%3B%3E%3B%29%3Bout%3B with timeout=180\n",
      "2022-03-03 17:12:00 Resolved overpass-api.de to 178.63.11.215\n",
      "2022-03-03 17:12:12 Downloaded 62,831.3kB from overpass-api.de\n",
      "2022-03-03 17:12:15 Saved response to cache file \"cache/8284433bb283b5103969ad5108118c41e94ab4b7.json\"\n",
      "2022-03-03 17:12:15 Got all network data within polygon from API in 1 request(s)\n",
      "2022-03-03 17:12:15 Creating graph from downloaded OSM data...\n",
      "2022-03-03 17:12:25 Created graph with 419604 nodes and 999866 edges\n",
      "2022-03-03 17:12:31 Added length attributes to graph edges\n",
      "2022-03-03 17:12:31 Identifying all nodes that lie outside the polygon...\n",
      "2022-03-03 17:12:50 Created nodes GeoDataFrame from graph\n",
      "2022-03-03 17:13:05 Created r-tree spatial index for 419604 geometries\n",
      "2022-03-03 17:13:11 Identified 410728 geometries inside polygon\n",
      "2022-03-03 17:13:22 Removed 8876 nodes outside polygon\n",
      "2022-03-03 17:13:22 Truncated graph by polygon\n",
      "2022-03-03 17:13:24 Begin topologically simplifying the graph...\n",
      "2022-03-03 17:13:38 Identified 141703 edge endpoints\n",
      "2022-03-03 17:14:21 Simplified graph: 410728 to 141703 nodes, 981342 to 443292 edges\n",
      "2022-03-03 17:14:22 Identifying all nodes that lie outside the polygon...\n",
      "2022-03-03 17:14:28 Created nodes GeoDataFrame from graph\n",
      "2022-03-03 17:14:33 Created r-tree spatial index for 141703 geometries\n",
      "2022-03-03 17:14:34 Identified 130604 geometries inside polygon\n",
      "2022-03-03 17:14:39 Removed 11099 nodes outside polygon\n",
      "2022-03-03 17:14:44 Removed 48 isolated nodes\n",
      "2022-03-03 17:14:53 Got largest weakly connected component (126939 of 130556 total nodes)\n",
      "2022-03-03 17:14:53 Truncated graph by polygon\n",
      "2022-03-03 17:14:56 Counted undirected street segments incident on each node\n",
      "2022-03-03 17:14:56 graph_from_polygon returned graph with 126939 nodes and 402490 edges\n",
      "2022-03-03 17:14:57 graph_from_bbox returned graph with 126939 nodes and 402490 edges\n",
      "2022-03-03 17:14:57 graph_from_point returned graph with 126939 nodes and 402490 edges\n",
      "2022-03-03 17:15:04 Created nodes GeoDataFrame from graph\n"
     ]
    },
    {
     "name": "stderr",
     "output_type": "stream",
     "text": [
      "/Users/zachary/opt/anaconda3/envs/final_ML_LR/lib/python3.8/site-packages/osmnx/distance.py:356: UserWarning: The `get_nearest_node` function has been deprecated and will be removed in a future release. Use the more efficient `distance.nearest_nodes` instead.\n",
      "  warnings.warn(msg)\n"
     ]
    },
    {
     "name": "stdout",
     "output_type": "stream",
     "text": [
      "2022-03-03 17:15:04 Created nodes GeoDataFrame from graph\n",
      "2022-03-03 17:15:12 Created nodes GeoDataFrame from graph\n",
      "2022-03-03 17:15:28 Projected GeoDataFrame to +proj=utm +zone=17 +ellps=WGS84 +datum=WGS84 +units=m +no_defs +type=crs\n",
      "2022-03-03 17:16:08 Created edges GeoDataFrame from graph\n",
      "2022-03-03 17:16:29 Projected GeoDataFrame to +proj=utm +zone=17 +ellps=WGS84 +datum=WGS84 +units=m +no_defs +type=crs\n",
      "2022-03-03 17:16:43 Created graph from node/edge GeoDataFrames\n",
      "2022-03-03 17:16:43 Projected graph with 126939 nodes and 402490 edges\n"
     ]
    },
    {
     "name": "stderr",
     "output_type": "stream",
     "text": [
      "/var/folders/8v/6dq3dnld7rx4qv5wr7vx0w5m0000gn/T/ipykernel_30197/3347265067.py:5: FutureWarning: The frame.append method is deprecated and will be removed from pandas in a future version. Use pandas.concat instead.\n",
      "  detroit_polygons = detroit_polygons.append(gdf_iso_poly)\n"
     ]
    },
    {
     "name": "stdout",
     "output_type": "stream",
     "text": [
      "2022-03-03 17:21:34 Created bbox 12075.0 m from (42.3961567152827, -83.3728973303795): 42.50474964579347,42.28756378477193,-83.22585217570892,-83.51994248505008\n",
      "2022-03-03 17:21:34 Projected GeoDataFrame to +proj=utm +zone=17 +ellps=WGS84 +datum=WGS84 +units=m +no_defs +type=crs\n",
      "2022-03-03 17:21:34 Projected GeoDataFrame to epsg:4326\n",
      "2022-03-03 17:21:34 Projected GeoDataFrame to +proj=utm +zone=17 +ellps=WGS84 +datum=WGS84 +units=m +no_defs +type=crs\n",
      "2022-03-03 17:21:34 Projected GeoDataFrame to epsg:4326\n",
      "2022-03-03 17:21:34 Requesting data within polygon from API in 1 request(s)\n",
      "2022-03-03 17:21:34 Resolved overpass-api.de to 178.63.11.215\n",
      "2022-03-03 17:21:35 Pausing 0 seconds before making HTTP POST request\n",
      "2022-03-03 17:21:35 Post https://overpass-api.de/api/interpreter?data=%5Bout%3Ajson%5D%5Btimeout%3A180%5D%3B%28way%5B%22highway%22%5D%5B%22area%22%21~%22yes%22%5D%5B%22access%22%21~%22private%22%5D%5B%22highway%22%21~%22abandoned%7Cbus_guideway%7Cconstruction%7Ccycleway%7Cmotor%7Cplanned%7Cplatform%7Cproposed%7Craceway%22%5D%5B%22foot%22%21~%22no%22%5D%5B%22service%22%21~%22private%22%5D%28poly%3A%2742.287564+-83.526004+42.504749+-83.526025+42.505190+-83.525996+42.505626+-83.525908+42.506054+-83.525764+42.506470+-83.525563+42.506869+-83.525309+42.507247+-83.525002+42.507602+-83.524648+42.507929+-83.524248+42.508226+-83.523806+42.508489+-83.523328+42.508716+-83.522816+42.508905+-83.522278+42.509055+-83.521717+42.509162+-83.521138+42.509228+-83.520549+42.509250+-83.519953+42.509251+-83.225842+42.509228+-83.225246+42.509163+-83.224656+42.509055+-83.224078+42.508906+-83.223517+42.508717+-83.222978+42.508489+-83.222467+42.508226+-83.221988+42.507930+-83.221547+42.507602+-83.221147+42.507248+-83.220792+42.506869+-83.220486+42.506470+-83.220231+42.506055+-83.220030+42.505627+-83.219886+42.505190+-83.219798+42.504750+-83.219769+42.287563+-83.219790+42.287122+-83.219819+42.286684+-83.219907+42.286255+-83.220052+42.285839+-83.220253+42.285439+-83.220508+42.285060+-83.220814+42.284705+-83.221169+42.284378+-83.221570+42.284081+-83.222011+42.283818+-83.222490+42.283591+-83.223001+42.283403+-83.223540+42.283255+-83.224101+42.283148+-83.224679+42.283084+-83.225268+42.283063+-83.225863+42.283063+-83.519932+42.283084+-83.520527+42.283148+-83.521116+42.283255+-83.521694+42.283403+-83.522255+42.283592+-83.522793+42.283819+-83.523305+42.284082+-83.523783+42.284379+-83.524225+42.284706+-83.524625+42.285061+-83.524980+42.285440+-83.525287+42.285840+-83.525542+42.286256+-83.525742+42.286685+-83.525887+42.287122+-83.525975+42.287564+-83.526004%27%29%3B%3E%3B%29%3Bout%3B with timeout=180\n",
      "2022-03-03 17:21:35 Resolved overpass-api.de to 178.63.11.215\n",
      "2022-03-03 17:21:42 Downloaded 69,075.4kB from overpass-api.de\n",
      "2022-03-03 17:21:45 Saved response to cache file \"cache/e8a6ccb698c054dbedc4cd97e33b884d978fb5a9.json\"\n",
      "2022-03-03 17:21:45 Got all network data within polygon from API in 1 request(s)\n",
      "2022-03-03 17:21:45 Creating graph from downloaded OSM data...\n",
      "2022-03-03 17:21:57 Created graph with 478381 nodes and 1101070 edges\n",
      "2022-03-03 17:22:05 Added length attributes to graph edges\n",
      "2022-03-03 17:22:05 Identifying all nodes that lie outside the polygon...\n",
      "2022-03-03 17:22:27 Created nodes GeoDataFrame from graph\n",
      "2022-03-03 17:22:45 Created r-tree spatial index for 478381 geometries\n",
      "2022-03-03 17:22:52 Identified 470603 geometries inside polygon\n",
      "2022-03-03 17:23:04 Removed 7778 nodes outside polygon\n",
      "2022-03-03 17:23:04 Truncated graph by polygon\n",
      "2022-03-03 17:23:07 Begin topologically simplifying the graph...\n",
      "2022-03-03 17:23:24 Identified 140004 edge endpoints\n",
      "2022-03-03 17:24:10 Simplified graph: 470603 to 140004 nodes, 1084796 to 423598 edges\n",
      "2022-03-03 17:24:10 Identifying all nodes that lie outside the polygon...\n",
      "2022-03-03 17:24:17 Created nodes GeoDataFrame from graph\n",
      "2022-03-03 17:24:22 Created r-tree spatial index for 140004 geometries\n",
      "2022-03-03 17:24:23 Identified 129217 geometries inside polygon\n",
      "2022-03-03 17:24:28 Removed 10787 nodes outside polygon\n",
      "2022-03-03 17:24:33 Removed 52 isolated nodes\n",
      "2022-03-03 17:24:45 Got largest weakly connected component (125315 of 129165 total nodes)\n",
      "2022-03-03 17:24:45 Truncated graph by polygon\n",
      "2022-03-03 17:24:48 Counted undirected street segments incident on each node\n",
      "2022-03-03 17:24:48 graph_from_polygon returned graph with 125315 nodes and 384092 edges\n",
      "2022-03-03 17:24:49 graph_from_bbox returned graph with 125315 nodes and 384092 edges\n",
      "2022-03-03 17:24:49 graph_from_point returned graph with 125315 nodes and 384092 edges\n",
      "2022-03-03 17:24:54 Created nodes GeoDataFrame from graph\n"
     ]
    },
    {
     "name": "stderr",
     "output_type": "stream",
     "text": [
      "/Users/zachary/opt/anaconda3/envs/final_ML_LR/lib/python3.8/site-packages/osmnx/distance.py:356: UserWarning: The `get_nearest_node` function has been deprecated and will be removed in a future release. Use the more efficient `distance.nearest_nodes` instead.\n",
      "  warnings.warn(msg)\n"
     ]
    },
    {
     "name": "stdout",
     "output_type": "stream",
     "text": [
      "2022-03-03 17:24:55 Created nodes GeoDataFrame from graph\n",
      "2022-03-03 17:25:02 Created nodes GeoDataFrame from graph\n",
      "2022-03-03 17:25:17 Projected GeoDataFrame to +proj=utm +zone=17 +ellps=WGS84 +datum=WGS84 +units=m +no_defs +type=crs\n",
      "2022-03-03 17:25:56 Created edges GeoDataFrame from graph\n",
      "2022-03-03 17:26:16 Projected GeoDataFrame to +proj=utm +zone=17 +ellps=WGS84 +datum=WGS84 +units=m +no_defs +type=crs\n",
      "2022-03-03 17:26:31 Created graph from node/edge GeoDataFrames\n",
      "2022-03-03 17:26:31 Projected graph with 125315 nodes and 384092 edges\n"
     ]
    },
    {
     "name": "stderr",
     "output_type": "stream",
     "text": [
      "/var/folders/8v/6dq3dnld7rx4qv5wr7vx0w5m0000gn/T/ipykernel_30197/3347265067.py:5: FutureWarning: The frame.append method is deprecated and will be removed from pandas in a future version. Use pandas.concat instead.\n",
      "  detroit_polygons = detroit_polygons.append(gdf_iso_poly)\n"
     ]
    },
    {
     "name": "stdout",
     "output_type": "stream",
     "text": [
      "2022-03-03 17:30:30 Created bbox 12075.0 m from (42.2938430486058, -83.1821405529892): 42.40243597911657,42.185250118095034,-83.03533451052985,-83.32894659544854\n",
      "2022-03-03 17:30:30 Projected GeoDataFrame to +proj=utm +zone=17 +ellps=WGS84 +datum=WGS84 +units=m +no_defs +type=crs\n",
      "2022-03-03 17:30:30 Projected GeoDataFrame to epsg:4326\n",
      "2022-03-03 17:30:30 Projected GeoDataFrame to +proj=utm +zone=17 +ellps=WGS84 +datum=WGS84 +units=m +no_defs +type=crs\n",
      "2022-03-03 17:30:30 Projected GeoDataFrame to epsg:4326\n",
      "2022-03-03 17:30:30 Requesting data within polygon from API in 1 request(s)\n",
      "2022-03-03 17:30:30 Resolved overpass-api.de to 178.63.11.215\n",
      "2022-03-03 17:30:31 Pausing 0 seconds before making HTTP POST request\n",
      "2022-03-03 17:30:31 Post https://overpass-api.de/api/interpreter?data=%5Bout%3Ajson%5D%5Btimeout%3A180%5D%3B%28way%5B%22highway%22%5D%5B%22area%22%21~%22yes%22%5D%5B%22access%22%21~%22private%22%5D%5B%22highway%22%21~%22abandoned%7Cbus_guideway%7Cconstruction%7Ccycleway%7Cmotor%7Cplanned%7Cplatform%7Cproposed%7Craceway%22%5D%5B%22foot%22%21~%22no%22%5D%5B%22service%22%21~%22private%22%5D%28poly%3A%2742.185250+-83.334999+42.402436+-83.335020+42.402876+-83.334991+42.403313+-83.334903+42.403741+-83.334759+42.404156+-83.334559+42.404555+-83.334304+42.404934+-83.333999+42.405289+-83.333644+42.405616+-83.333245+42.405912+-83.332804+42.406176+-83.332326+42.406403+-83.331816+42.406592+-83.331278+42.406741+-83.330718+42.406849+-83.330141+42.406915+-83.329552+42.406937+-83.328957+42.406937+-83.035324+42.406915+-83.034729+42.406850+-83.034141+42.406742+-83.033563+42.406593+-83.033003+42.406403+-83.032465+42.406176+-83.031955+42.405913+-83.031477+42.405616+-83.031036+42.405289+-83.030636+42.404934+-83.030282+42.404556+-83.029976+42.404157+-83.029722+42.403741+-83.029522+42.403313+-83.029377+42.402877+-83.029290+42.402436+-83.029261+42.185250+-83.029282+42.184808+-83.029311+42.184371+-83.029398+42.183942+-83.029543+42.183525+-83.029744+42.183126+-83.029998+42.182747+-83.030304+42.182392+-83.030659+42.182064+-83.031059+42.181767+-83.031499+42.181504+-83.031977+42.181277+-83.032488+42.181089+-83.033026+42.180940+-83.033586+42.180834+-83.034163+42.180769+-83.034751+42.180749+-83.035345+42.180749+-83.328936+42.180770+-83.329530+42.180834+-83.330118+42.180941+-83.330695+42.181089+-83.331255+42.181278+-83.331793+42.181505+-83.332304+42.181768+-83.332781+42.182065+-83.333222+42.182392+-83.333622+42.182747+-83.333977+42.183126+-83.334283+42.183526+-83.334537+42.183942+-83.334738+42.184371+-83.334882+42.184809+-83.334970+42.185250+-83.334999%27%29%3B%3E%3B%29%3Bout%3B with timeout=180\n",
      "2022-03-03 17:30:31 Resolved overpass-api.de to 178.63.11.215\n",
      "2022-03-03 17:30:52 Downloaded 63,989.9kB from overpass-api.de\n",
      "2022-03-03 17:30:55 Saved response to cache file \"cache/15383498f89a401552dcd19c46193980eb4f10b2.json\"\n",
      "2022-03-03 17:30:55 Got all network data within polygon from API in 1 request(s)\n",
      "2022-03-03 17:30:55 Creating graph from downloaded OSM data...\n",
      "2022-03-03 17:31:07 Created graph with 396383 nodes and 996352 edges\n",
      "2022-03-03 17:31:14 Added length attributes to graph edges\n",
      "2022-03-03 17:31:14 Identifying all nodes that lie outside the polygon...\n",
      "2022-03-03 17:31:33 Created nodes GeoDataFrame from graph\n",
      "2022-03-03 17:31:47 Created r-tree spatial index for 396383 geometries\n",
      "2022-03-03 17:31:53 Identified 389627 geometries inside polygon\n",
      "2022-03-03 17:32:08 Removed 6756 nodes outside polygon\n",
      "2022-03-03 17:32:08 Truncated graph by polygon\n",
      "2022-03-03 17:32:11 Begin topologically simplifying the graph...\n",
      "2022-03-03 17:32:23 Identified 160609 edge endpoints\n",
      "2022-03-03 17:33:03 Simplified graph: 389627 to 160609 nodes, 981974 to 523938 edges\n",
      "2022-03-03 17:33:04 Identifying all nodes that lie outside the polygon...\n",
      "2022-03-03 17:33:11 Created nodes GeoDataFrame from graph\n",
      "2022-03-03 17:33:16 Created r-tree spatial index for 160609 geometries\n",
      "2022-03-03 17:33:17 Identified 151391 geometries inside polygon\n",
      "2022-03-03 17:33:24 Removed 9218 nodes outside polygon\n",
      "2022-03-03 17:33:29 Removed 34 isolated nodes\n",
      "2022-03-03 17:33:41 Got largest weakly connected component (144184 of 151357 total nodes)\n",
      "2022-03-03 17:33:41 Truncated graph by polygon\n",
      "2022-03-03 17:33:44 Counted undirected street segments incident on each node\n",
      "2022-03-03 17:33:44 graph_from_polygon returned graph with 144184 nodes and 477124 edges\n",
      "2022-03-03 17:33:45 graph_from_bbox returned graph with 144184 nodes and 477124 edges\n",
      "2022-03-03 17:33:45 graph_from_point returned graph with 144184 nodes and 477124 edges\n",
      "2022-03-03 17:33:52 Created nodes GeoDataFrame from graph\n"
     ]
    },
    {
     "name": "stderr",
     "output_type": "stream",
     "text": [
      "/Users/zachary/opt/anaconda3/envs/final_ML_LR/lib/python3.8/site-packages/osmnx/distance.py:356: UserWarning: The `get_nearest_node` function has been deprecated and will be removed in a future release. Use the more efficient `distance.nearest_nodes` instead.\n",
      "  warnings.warn(msg)\n"
     ]
    },
    {
     "name": "stdout",
     "output_type": "stream",
     "text": [
      "2022-03-03 17:33:54 Created nodes GeoDataFrame from graph\n",
      "2022-03-03 17:34:01 Created nodes GeoDataFrame from graph\n",
      "2022-03-03 17:34:19 Projected GeoDataFrame to +proj=utm +zone=17 +ellps=WGS84 +datum=WGS84 +units=m +no_defs +type=crs\n",
      "2022-03-03 17:35:07 Created edges GeoDataFrame from graph\n",
      "2022-03-03 17:35:32 Projected GeoDataFrame to +proj=utm +zone=17 +ellps=WGS84 +datum=WGS84 +units=m +no_defs +type=crs\n",
      "2022-03-03 17:35:49 Created graph from node/edge GeoDataFrames\n",
      "2022-03-03 17:35:49 Projected graph with 144184 nodes and 477124 edges\n"
     ]
    },
    {
     "name": "stderr",
     "output_type": "stream",
     "text": [
      "/var/folders/8v/6dq3dnld7rx4qv5wr7vx0w5m0000gn/T/ipykernel_30197/3347265067.py:5: FutureWarning: The frame.append method is deprecated and will be removed from pandas in a future version. Use pandas.concat instead.\n",
      "  detroit_polygons = detroit_polygons.append(gdf_iso_poly)\n"
     ]
    },
    {
     "name": "stdout",
     "output_type": "stream",
     "text": [
      "2022-03-03 17:41:51 Created bbox 12075.0 m from (42.2198280056609, -83.3962650706036): 42.32842093617167,42.111235075150134,-83.24963122975959,-83.54289891144762\n",
      "2022-03-03 17:41:51 Projected GeoDataFrame to +proj=utm +zone=17 +ellps=WGS84 +datum=WGS84 +units=m +no_defs +type=crs\n",
      "2022-03-03 17:41:51 Projected GeoDataFrame to epsg:4326\n",
      "2022-03-03 17:41:51 Projected GeoDataFrame to +proj=utm +zone=17 +ellps=WGS84 +datum=WGS84 +units=m +no_defs +type=crs\n",
      "2022-03-03 17:41:51 Projected GeoDataFrame to epsg:4326\n",
      "2022-03-03 17:41:51 Requesting data within polygon from API in 1 request(s)\n",
      "2022-03-03 17:41:51 Resolved overpass-api.de to 178.63.11.215\n",
      "2022-03-03 17:41:52 Pausing 0 seconds before making HTTP POST request\n",
      "2022-03-03 17:41:52 Post https://overpass-api.de/api/interpreter?data=%5Bout%3Ajson%5D%5Btimeout%3A180%5D%3B%28way%5B%22highway%22%5D%5B%22area%22%21~%22yes%22%5D%5B%22access%22%21~%22private%22%5D%5B%22highway%22%21~%22abandoned%7Cbus_guideway%7Cconstruction%7Ccycleway%7Cmotor%7Cplanned%7Cplatform%7Cproposed%7Craceway%22%5D%5B%22foot%22%21~%22no%22%5D%5B%22service%22%21~%22private%22%5D%28poly%3A%2742.111235+-83.548944+42.328420+-83.548964+42.328861+-83.548935+42.329298+-83.548848+42.329726+-83.548704+42.330141+-83.548504+42.330540+-83.548250+42.330919+-83.547945+42.331273+-83.547591+42.331600+-83.547192+42.331897+-83.546752+42.332160+-83.546274+42.332388+-83.545765+42.332577+-83.545228+42.332726+-83.544668+42.332834+-83.544091+42.332899+-83.543503+42.332922+-83.542909+42.332922+-83.249621+42.332900+-83.249027+42.332834+-83.248439+42.332726+-83.247862+42.332577+-83.247303+42.332388+-83.246765+42.332161+-83.246256+42.331898+-83.245778+42.331601+-83.245338+42.331274+-83.244939+42.330919+-83.244585+42.330541+-83.244280+42.330142+-83.244026+42.329726+-83.243826+42.329298+-83.243681+42.328862+-83.243594+42.328421+-83.243565+42.111235+-83.243586+42.110793+-83.243615+42.110356+-83.243702+42.109927+-83.243847+42.109510+-83.244047+42.109111+-83.244302+42.108732+-83.244607+42.108377+-83.244961+42.108049+-83.245361+42.107753+-83.245801+42.107490+-83.246278+42.107263+-83.246788+42.107074+-83.247325+42.106926+-83.247885+42.106819+-83.248461+42.106755+-83.249048+42.106734+-83.249642+42.106734+-83.542889+42.106755+-83.543482+42.106819+-83.544069+42.106926+-83.544645+42.107075+-83.545205+42.107263+-83.545742+42.107490+-83.546252+42.107753+-83.546729+42.108050+-83.547169+42.108377+-83.547569+42.108732+-83.547923+42.109111+-83.548228+42.109511+-83.548482+42.109927+-83.548683+42.110356+-83.548827+42.110794+-83.548914+42.111235+-83.548944%27%29%3B%3E%3B%29%3Bout%3B with timeout=180\n",
      "2022-03-03 17:41:52 Resolved overpass-api.de to 178.63.11.215\n",
      "2022-03-03 17:42:01 Downloaded 39,754.1kB from overpass-api.de\n",
      "2022-03-03 17:42:03 Saved response to cache file \"cache/a01fdb6a941bd244464d5d178f65ebc3e4c8b117.json\"\n",
      "2022-03-03 17:42:03 Got all network data within polygon from API in 1 request(s)\n",
      "2022-03-03 17:42:03 Creating graph from downloaded OSM data...\n",
      "2022-03-03 17:42:10 Created graph with 281165 nodes and 639844 edges\n",
      "2022-03-03 17:42:14 Added length attributes to graph edges\n",
      "2022-03-03 17:42:14 Identifying all nodes that lie outside the polygon...\n",
      "2022-03-03 17:42:27 Created nodes GeoDataFrame from graph\n",
      "2022-03-03 17:42:38 Created r-tree spatial index for 281165 geometries\n",
      "2022-03-03 17:42:43 Identified 275206 geometries inside polygon\n",
      "2022-03-03 17:42:51 Removed 5959 nodes outside polygon\n",
      "2022-03-03 17:42:51 Truncated graph by polygon\n",
      "2022-03-03 17:42:53 Begin topologically simplifying the graph...\n",
      "2022-03-03 17:43:02 Identified 83497 edge endpoints\n",
      "2022-03-03 17:43:29 Simplified graph: 275206 to 83497 nodes, 627394 to 243976 edges\n",
      "2022-03-03 17:43:29 Identifying all nodes that lie outside the polygon...\n",
      "2022-03-03 17:43:32 Created nodes GeoDataFrame from graph\n",
      "2022-03-03 17:43:35 Created r-tree spatial index for 83497 geometries\n",
      "2022-03-03 17:43:36 Identified 76041 geometries inside polygon\n",
      "2022-03-03 17:43:38 Removed 7456 nodes outside polygon\n",
      "2022-03-03 17:43:41 Removed 45 isolated nodes\n",
      "2022-03-03 17:43:46 Got largest weakly connected component (73438 of 75996 total nodes)\n",
      "2022-03-03 17:43:47 Truncated graph by polygon\n",
      "2022-03-03 17:43:48 Counted undirected street segments incident on each node\n",
      "2022-03-03 17:43:48 graph_from_polygon returned graph with 73438 nodes and 217148 edges\n",
      "2022-03-03 17:43:49 graph_from_bbox returned graph with 73438 nodes and 217148 edges\n",
      "2022-03-03 17:43:49 graph_from_point returned graph with 73438 nodes and 217148 edges\n",
      "2022-03-03 17:43:52 Created nodes GeoDataFrame from graph\n"
     ]
    },
    {
     "name": "stderr",
     "output_type": "stream",
     "text": [
      "/Users/zachary/opt/anaconda3/envs/final_ML_LR/lib/python3.8/site-packages/osmnx/distance.py:356: UserWarning: The `get_nearest_node` function has been deprecated and will be removed in a future release. Use the more efficient `distance.nearest_nodes` instead.\n",
      "  warnings.warn(msg)\n"
     ]
    },
    {
     "name": "stdout",
     "output_type": "stream",
     "text": [
      "2022-03-03 17:43:53 Created nodes GeoDataFrame from graph\n",
      "2022-03-03 17:43:56 Created nodes GeoDataFrame from graph\n",
      "2022-03-03 17:44:05 Projected GeoDataFrame to +proj=utm +zone=17 +ellps=WGS84 +datum=WGS84 +units=m +no_defs +type=crs\n",
      "2022-03-03 17:44:25 Created edges GeoDataFrame from graph\n",
      "2022-03-03 17:44:36 Projected GeoDataFrame to +proj=utm +zone=17 +ellps=WGS84 +datum=WGS84 +units=m +no_defs +type=crs\n",
      "2022-03-03 17:44:45 Created graph from node/edge GeoDataFrames\n",
      "2022-03-03 17:44:45 Projected graph with 73438 nodes and 217148 edges\n"
     ]
    },
    {
     "name": "stderr",
     "output_type": "stream",
     "text": [
      "/var/folders/8v/6dq3dnld7rx4qv5wr7vx0w5m0000gn/T/ipykernel_30197/3347265067.py:5: FutureWarning: The frame.append method is deprecated and will be removed from pandas in a future version. Use pandas.concat instead.\n",
      "  detroit_polygons = detroit_polygons.append(gdf_iso_poly)\n"
     ]
    },
    {
     "name": "stdout",
     "output_type": "stream",
     "text": [
      "2022-03-03 17:47:09 Created bbox 12075.0 m from (42.2735938853508, -83.3709639533729): 42.382186815861566,42.16500095484003,-83.22420508664551,-83.51772282010027\n",
      "2022-03-03 17:47:09 Projected GeoDataFrame to +proj=utm +zone=17 +ellps=WGS84 +datum=WGS84 +units=m +no_defs +type=crs\n",
      "2022-03-03 17:47:09 Projected GeoDataFrame to epsg:4326\n",
      "2022-03-03 17:47:09 Projected GeoDataFrame to +proj=utm +zone=17 +ellps=WGS84 +datum=WGS84 +units=m +no_defs +type=crs\n",
      "2022-03-03 17:47:09 Projected GeoDataFrame to epsg:4326\n",
      "2022-03-03 17:47:09 Requesting data within polygon from API in 1 request(s)\n",
      "2022-03-03 17:47:09 Resolved overpass-api.de to 178.63.11.215\n",
      "2022-03-03 17:47:10 Pausing 0 seconds before making HTTP POST request\n",
      "2022-03-03 17:47:10 Post https://overpass-api.de/api/interpreter?data=%5Bout%3Ajson%5D%5Btimeout%3A180%5D%3B%28way%5B%22highway%22%5D%5B%22area%22%21~%22yes%22%5D%5B%22access%22%21~%22private%22%5D%5B%22highway%22%21~%22abandoned%7Cbus_guideway%7Cconstruction%7Ccycleway%7Cmotor%7Cplanned%7Cplatform%7Cproposed%7Craceway%22%5D%5B%22foot%22%21~%22no%22%5D%5B%22service%22%21~%22private%22%5D%28poly%3A%2742.165001+-83.523773+42.382186+-83.523793+42.382627+-83.523764+42.383064+-83.523677+42.383492+-83.523533+42.383907+-83.523333+42.384306+-83.523078+42.384685+-83.522773+42.385039+-83.522419+42.385366+-83.522019+42.385663+-83.521579+42.385926+-83.521101+42.386153+-83.520591+42.386343+-83.520053+42.386492+-83.519493+42.386600+-83.518916+42.386665+-83.518328+42.386687+-83.517733+42.386688+-83.224195+42.386666+-83.223600+42.386600+-83.223012+42.386492+-83.222434+42.386343+-83.221874+42.386154+-83.221337+42.385927+-83.220826+42.385664+-83.220349+42.385367+-83.219908+42.385040+-83.219509+42.384685+-83.219155+42.384307+-83.218849+42.383908+-83.218595+42.383492+-83.218395+42.383064+-83.218250+42.382628+-83.218163+42.382187+-83.218134+42.165001+-83.218155+42.164559+-83.218184+42.164121+-83.218271+42.163693+-83.218416+42.163276+-83.218616+42.162877+-83.218871+42.162497+-83.219177+42.162143+-83.219531+42.161815+-83.219931+42.161518+-83.220372+42.161255+-83.220849+42.161029+-83.221359+42.160840+-83.221897+42.160692+-83.222457+42.160585+-83.223034+42.160521+-83.223622+42.160500+-83.224216+42.160500+-83.517712+42.160521+-83.518306+42.160585+-83.518894+42.160692+-83.519471+42.160841+-83.520031+42.161029+-83.520568+42.161256+-83.521078+42.161519+-83.521556+42.161816+-83.521997+42.162143+-83.522396+42.162498+-83.522751+42.162877+-83.523057+42.163277+-83.523311+42.163693+-83.523512+42.164122+-83.523656+42.164559+-83.523743+42.165001+-83.523773%27%29%3B%3E%3B%29%3Bout%3B with timeout=180\n",
      "2022-03-03 17:47:10 Resolved overpass-api.de to 178.63.11.215\n",
      "2022-03-03 17:47:19 Downloaded 53,273.3kB from overpass-api.de\n",
      "2022-03-03 17:47:21 Saved response to cache file \"cache/b7c16efff50737ea2d3dfc170fbfb3cafc5a7485.json\"\n",
      "2022-03-03 17:47:21 Got all network data within polygon from API in 1 request(s)\n",
      "2022-03-03 17:47:21 Creating graph from downloaded OSM data...\n",
      "2022-03-03 17:47:30 Created graph with 364806 nodes and 845008 edges\n",
      "2022-03-03 17:47:35 Added length attributes to graph edges\n",
      "2022-03-03 17:47:35 Identifying all nodes that lie outside the polygon...\n",
      "2022-03-03 17:47:52 Created nodes GeoDataFrame from graph\n",
      "2022-03-03 17:48:06 Created r-tree spatial index for 364806 geometries\n",
      "2022-03-03 17:48:11 Identified 357817 geometries inside polygon\n",
      "2022-03-03 17:48:20 Removed 6989 nodes outside polygon\n",
      "2022-03-03 17:48:20 Truncated graph by polygon\n",
      "2022-03-03 17:48:23 Begin topologically simplifying the graph...\n",
      "2022-03-03 17:48:34 Identified 112767 edge endpoints\n",
      "2022-03-03 17:49:10 Simplified graph: 357817 to 112767 nodes, 830326 to 340226 edges\n",
      "2022-03-03 17:49:10 Identifying all nodes that lie outside the polygon...\n",
      "2022-03-03 17:49:15 Created nodes GeoDataFrame from graph\n",
      "2022-03-03 17:49:19 Created r-tree spatial index for 112767 geometries\n",
      "2022-03-03 17:49:20 Identified 104048 geometries inside polygon\n",
      "2022-03-03 17:49:24 Removed 8719 nodes outside polygon\n",
      "2022-03-03 17:49:28 Removed 53 isolated nodes\n",
      "2022-03-03 17:49:36 Got largest weakly connected component (100815 of 103995 total nodes)\n",
      "2022-03-03 17:49:36 Truncated graph by polygon\n",
      "2022-03-03 17:49:38 Counted undirected street segments incident on each node\n",
      "2022-03-03 17:49:39 graph_from_polygon returned graph with 100815 nodes and 309334 edges\n",
      "2022-03-03 17:49:39 graph_from_bbox returned graph with 100815 nodes and 309334 edges\n",
      "2022-03-03 17:49:39 graph_from_point returned graph with 100815 nodes and 309334 edges\n",
      "2022-03-03 17:49:43 Created nodes GeoDataFrame from graph\n"
     ]
    },
    {
     "name": "stderr",
     "output_type": "stream",
     "text": [
      "/Users/zachary/opt/anaconda3/envs/final_ML_LR/lib/python3.8/site-packages/osmnx/distance.py:356: UserWarning: The `get_nearest_node` function has been deprecated and will be removed in a future release. Use the more efficient `distance.nearest_nodes` instead.\n",
      "  warnings.warn(msg)\n"
     ]
    },
    {
     "name": "stdout",
     "output_type": "stream",
     "text": [
      "2022-03-03 17:49:44 Created nodes GeoDataFrame from graph\n",
      "2022-03-03 17:49:49 Created nodes GeoDataFrame from graph\n",
      "2022-03-03 17:50:02 Projected GeoDataFrame to +proj=utm +zone=17 +ellps=WGS84 +datum=WGS84 +units=m +no_defs +type=crs\n",
      "2022-03-03 17:50:31 Created edges GeoDataFrame from graph\n",
      "2022-03-03 17:50:46 Projected GeoDataFrame to +proj=utm +zone=17 +ellps=WGS84 +datum=WGS84 +units=m +no_defs +type=crs\n",
      "2022-03-03 17:50:58 Created graph from node/edge GeoDataFrames\n",
      "2022-03-03 17:50:58 Projected graph with 100815 nodes and 309334 edges\n"
     ]
    },
    {
     "name": "stderr",
     "output_type": "stream",
     "text": [
      "/var/folders/8v/6dq3dnld7rx4qv5wr7vx0w5m0000gn/T/ipykernel_30197/3347265067.py:5: FutureWarning: The frame.append method is deprecated and will be removed from pandas in a future version. Use pandas.concat instead.\n",
      "  detroit_polygons = detroit_polygons.append(gdf_iso_poly)\n"
     ]
    },
    {
     "name": "stdout",
     "output_type": "stream",
     "text": [
      "2022-03-03 17:54:39 Created bbox 12075.0 m from (42.2130999998531, -83.1802000001558): 42.32169293036387,42.10450706934233,-83.03358178037446,-83.32681821993715\n",
      "2022-03-03 17:54:39 Projected GeoDataFrame to +proj=utm +zone=17 +ellps=WGS84 +datum=WGS84 +units=m +no_defs +type=crs\n",
      "2022-03-03 17:54:39 Projected GeoDataFrame to epsg:4326\n",
      "2022-03-03 17:54:39 Projected GeoDataFrame to +proj=utm +zone=17 +ellps=WGS84 +datum=WGS84 +units=m +no_defs +type=crs\n",
      "2022-03-03 17:54:39 Projected GeoDataFrame to epsg:4326\n",
      "2022-03-03 17:54:39 Requesting data within polygon from API in 1 request(s)\n",
      "2022-03-03 17:54:39 Resolved overpass-api.de to 178.63.11.215\n",
      "2022-03-03 17:54:40 Pausing 0 seconds before making HTTP POST request\n",
      "2022-03-03 17:54:40 Post https://overpass-api.de/api/interpreter?data=%5Bout%3Ajson%5D%5Btimeout%3A180%5D%3B%28way%5B%22highway%22%5D%5B%22area%22%21~%22yes%22%5D%5B%22access%22%21~%22private%22%5D%5B%22highway%22%21~%22abandoned%7Cbus_guideway%7Cconstruction%7Ccycleway%7Cmotor%7Cplanned%7Cplatform%7Cproposed%7Craceway%22%5D%5B%22foot%22%21~%22no%22%5D%5B%22service%22%21~%22private%22%5D%28poly%3A%2742.104507+-83.332863+42.321693+-83.332883+42.322133+-83.332854+42.322570+-83.332767+42.322998+-83.332623+42.323413+-83.332423+42.323812+-83.332169+42.324191+-83.331864+42.324546+-83.331510+42.324873+-83.331111+42.325169+-83.330671+42.325433+-83.330194+42.325660+-83.329684+42.325849+-83.329147+42.325998+-83.328587+42.326106+-83.328011+42.326172+-83.327423+42.326194+-83.326829+42.326194+-83.033571+42.326172+-83.032977+42.326107+-83.032389+42.325999+-83.031813+42.325850+-83.031253+42.325660+-83.030716+42.325433+-83.030206+42.325170+-83.029729+42.324873+-83.029289+42.324546+-83.028890+42.324191+-83.028536+42.323813+-83.028230+42.323414+-83.027977+42.322998+-83.027776+42.322570+-83.027632+42.322134+-83.027545+42.321693+-83.027516+42.104507+-83.027537+42.104065+-83.027566+42.103628+-83.027653+42.103199+-83.027798+42.102782+-83.027998+42.102383+-83.028252+42.102003+-83.028558+42.101648+-83.028912+42.101321+-83.029311+42.101024+-83.029752+42.100761+-83.030229+42.100534+-83.030739+42.100346+-83.031276+42.100197+-83.031835+42.100091+-83.032411+42.100026+-83.032999+42.100005+-83.033592+42.100006+-83.326808+42.100027+-83.327401+42.100091+-83.327989+42.100198+-83.328565+42.100346+-83.329124+42.100535+-83.329661+42.100762+-83.330171+42.101025+-83.330648+42.101322+-83.331089+42.101649+-83.331488+42.102004+-83.331842+42.102383+-83.332147+42.102783+-83.332402+42.103199+-83.332602+42.103628+-83.332746+42.104065+-83.332834+42.104507+-83.332863%27%29%3B%3E%3B%29%3Bout%3B with timeout=180\n",
      "2022-03-03 17:54:40 Resolved overpass-api.de to 178.63.11.215\n",
      "2022-03-03 17:54:48 Downloaded 44,580.6kB from overpass-api.de\n",
      "2022-03-03 17:54:50 Saved response to cache file \"cache/905d7437556955f0987ee0a9d6514b6d0e1ac27b.json\"\n",
      "2022-03-03 17:54:50 Got all network data within polygon from API in 1 request(s)\n",
      "2022-03-03 17:54:50 Creating graph from downloaded OSM data...\n",
      "2022-03-03 17:54:58 Created graph with 295694 nodes and 710086 edges\n",
      "2022-03-03 17:55:02 Added length attributes to graph edges\n",
      "2022-03-03 17:55:02 Identifying all nodes that lie outside the polygon...\n",
      "2022-03-03 17:55:15 Created nodes GeoDataFrame from graph\n",
      "2022-03-03 17:55:26 Created r-tree spatial index for 295694 geometries\n",
      "2022-03-03 17:55:30 Identified 290263 geometries inside polygon\n",
      "2022-03-03 17:55:37 Removed 5431 nodes outside polygon\n",
      "2022-03-03 17:55:37 Truncated graph by polygon\n",
      "2022-03-03 17:55:40 Begin topologically simplifying the graph...\n",
      "2022-03-03 17:55:49 Identified 106231 edge endpoints\n",
      "2022-03-03 17:56:18 Simplified graph: 290263 to 106231 nodes, 698566 to 330502 edges\n",
      "2022-03-03 17:56:18 Identifying all nodes that lie outside the polygon...\n",
      "2022-03-03 17:56:22 Created nodes GeoDataFrame from graph\n",
      "2022-03-03 17:56:26 Created r-tree spatial index for 106231 geometries\n",
      "2022-03-03 17:56:27 Identified 98274 geometries inside polygon\n",
      "2022-03-03 17:56:31 Removed 7957 nodes outside polygon\n",
      "2022-03-03 17:56:35 Removed 50 isolated nodes\n",
      "2022-03-03 17:56:42 Got largest weakly connected component (90759 of 98224 total nodes)\n",
      "2022-03-03 17:56:42 Truncated graph by polygon\n",
      "2022-03-03 17:56:44 Counted undirected street segments incident on each node\n",
      "2022-03-03 17:56:44 graph_from_polygon returned graph with 90759 nodes and 287650 edges\n",
      "2022-03-03 17:56:45 graph_from_bbox returned graph with 90759 nodes and 287650 edges\n",
      "2022-03-03 17:56:45 graph_from_point returned graph with 90759 nodes and 287650 edges\n",
      "2022-03-03 17:56:48 Created nodes GeoDataFrame from graph\n"
     ]
    },
    {
     "name": "stderr",
     "output_type": "stream",
     "text": [
      "/Users/zachary/opt/anaconda3/envs/final_ML_LR/lib/python3.8/site-packages/osmnx/distance.py:356: UserWarning: The `get_nearest_node` function has been deprecated and will be removed in a future release. Use the more efficient `distance.nearest_nodes` instead.\n",
      "  warnings.warn(msg)\n"
     ]
    },
    {
     "name": "stdout",
     "output_type": "stream",
     "text": [
      "2022-03-03 17:56:49 Created nodes GeoDataFrame from graph\n",
      "2022-03-03 17:56:54 Created nodes GeoDataFrame from graph\n",
      "2022-03-03 17:57:05 Projected GeoDataFrame to +proj=utm +zone=17 +ellps=WGS84 +datum=WGS84 +units=m +no_defs +type=crs\n",
      "2022-03-03 17:57:34 Created edges GeoDataFrame from graph\n",
      "2022-03-03 17:57:48 Projected GeoDataFrame to +proj=utm +zone=17 +ellps=WGS84 +datum=WGS84 +units=m +no_defs +type=crs\n",
      "2022-03-03 17:57:59 Created graph from node/edge GeoDataFrames\n",
      "2022-03-03 17:57:59 Projected graph with 90759 nodes and 287650 edges\n"
     ]
    },
    {
     "name": "stderr",
     "output_type": "stream",
     "text": [
      "/var/folders/8v/6dq3dnld7rx4qv5wr7vx0w5m0000gn/T/ipykernel_30197/3347265067.py:5: FutureWarning: The frame.append method is deprecated and will be removed from pandas in a future version. Use pandas.concat instead.\n",
      "  detroit_polygons = detroit_polygons.append(gdf_iso_poly)\n"
     ]
    },
    {
     "name": "stdout",
     "output_type": "stream",
     "text": [
      "2022-03-03 18:02:16 Created bbox 12075.0 m from (42.2943999998156, -83.4469000002046): 42.40299293032637,42.185807069304836,-83.30009265949374,-83.59370734091544\n",
      "2022-03-03 18:02:16 Projected GeoDataFrame to +proj=utm +zone=17 +ellps=WGS84 +datum=WGS84 +units=m +no_defs +type=crs\n",
      "2022-03-03 18:02:16 Projected GeoDataFrame to epsg:4326\n",
      "2022-03-03 18:02:16 Projected GeoDataFrame to +proj=utm +zone=17 +ellps=WGS84 +datum=WGS84 +units=m +no_defs +type=crs\n",
      "2022-03-03 18:02:16 Projected GeoDataFrame to epsg:4326\n",
      "2022-03-03 18:02:16 Requesting data within polygon from API in 1 request(s)\n",
      "2022-03-03 18:02:16 Resolved overpass-api.de to 178.63.11.215\n",
      "2022-03-03 18:02:17 Pausing 0 seconds before making HTTP POST request\n",
      "2022-03-03 18:02:17 Post https://overpass-api.de/api/interpreter?data=%5Bout%3Ajson%5D%5Btimeout%3A180%5D%3B%28way%5B%22highway%22%5D%5B%22area%22%21~%22yes%22%5D%5B%22access%22%21~%22private%22%5D%5B%22highway%22%21~%22abandoned%7Cbus_guideway%7Cconstruction%7Ccycleway%7Cmotor%7Cplanned%7Cplatform%7Cproposed%7Craceway%22%5D%5B%22foot%22%21~%22no%22%5D%5B%22service%22%21~%22private%22%5D%28poly%3A%2742.185807+-83.599759+42.402992+-83.599780+42.403433+-83.599751+42.403870+-83.599664+42.404298+-83.599519+42.404713+-83.599319+42.405112+-83.599065+42.405491+-83.598759+42.405845+-83.598405+42.406172+-83.598005+42.406469+-83.597565+42.406732+-83.597087+42.406959+-83.596577+42.407149+-83.596039+42.407298+-83.595478+42.407406+-83.594901+42.407471+-83.594312+42.407493+-83.593718+42.407494+-83.300082+42.407472+-83.299488+42.407406+-83.298899+42.407298+-83.298321+42.407149+-83.297761+42.406960+-83.297223+42.406733+-83.296713+42.406470+-83.296235+42.406173+-83.295794+42.405846+-83.295395+42.405491+-83.295041+42.405113+-83.294735+42.404714+-83.294481+42.404298+-83.294280+42.403870+-83.294136+42.403434+-83.294049+42.402993+-83.294019+42.185807+-83.294040+42.185365+-83.294070+42.184928+-83.294157+42.184499+-83.294302+42.184082+-83.294502+42.183683+-83.294757+42.183304+-83.295063+42.182949+-83.295417+42.182621+-83.295817+42.182325+-83.296258+42.182062+-83.296736+42.181835+-83.297246+42.181646+-83.297784+42.181498+-83.298344+42.181391+-83.298921+42.181327+-83.299509+42.181306+-83.300103+42.181306+-83.593697+42.181327+-83.594291+42.181392+-83.594879+42.181498+-83.595456+42.181647+-83.596016+42.181835+-83.596554+42.182062+-83.597064+42.182325+-83.597542+42.182622+-83.597983+42.182949+-83.598382+42.183304+-83.598737+42.183683+-83.599043+42.184083+-83.599297+42.184499+-83.599498+42.184928+-83.599642+42.185366+-83.599730+42.185807+-83.599759%27%29%3B%3E%3B%29%3Bout%3B with timeout=180\n",
      "2022-03-03 18:02:17 Resolved overpass-api.de to 178.63.11.215\n",
      "2022-03-03 18:02:29 Downloaded 43,335.5kB from overpass-api.de\n",
      "2022-03-03 18:02:31 Saved response to cache file \"cache/dfa4801a0bd3b169af2ee67c39492b5914ca7eb9.json\"\n",
      "2022-03-03 18:02:31 Got all network data within polygon from API in 1 request(s)\n",
      "2022-03-03 18:02:31 Creating graph from downloaded OSM data...\n",
      "2022-03-03 18:02:38 Created graph with 310838 nodes and 698742 edges\n",
      "2022-03-03 18:02:42 Added length attributes to graph edges\n",
      "2022-03-03 18:02:42 Identifying all nodes that lie outside the polygon...\n",
      "2022-03-03 18:02:56 Created nodes GeoDataFrame from graph\n",
      "2022-03-03 18:03:07 Created r-tree spatial index for 310838 geometries\n",
      "2022-03-03 18:03:11 Identified 305710 geometries inside polygon\n",
      "2022-03-03 18:03:18 Removed 5128 nodes outside polygon\n",
      "2022-03-03 18:03:18 Truncated graph by polygon\n",
      "2022-03-03 18:03:20 Begin topologically simplifying the graph...\n",
      "2022-03-03 18:03:29 Identified 84899 edge endpoints\n",
      "2022-03-03 18:03:58 Simplified graph: 305710 to 84899 nodes, 688138 to 246516 edges\n",
      "2022-03-03 18:03:58 Identifying all nodes that lie outside the polygon...\n",
      "2022-03-03 18:04:02 Created nodes GeoDataFrame from graph\n",
      "2022-03-03 18:04:05 Created r-tree spatial index for 84899 geometries\n",
      "2022-03-03 18:04:06 Identified 79699 geometries inside polygon\n",
      "2022-03-03 18:04:09 Removed 5200 nodes outside polygon\n",
      "2022-03-03 18:04:12 Removed 36 isolated nodes\n",
      "2022-03-03 18:04:17 Got largest weakly connected component (76571 of 79663 total nodes)\n",
      "2022-03-03 18:04:17 Truncated graph by polygon\n",
      "2022-03-03 18:04:19 Counted undirected street segments incident on each node\n",
      "2022-03-03 18:04:19 graph_from_polygon returned graph with 76571 nodes and 226472 edges\n",
      "2022-03-03 18:04:19 graph_from_bbox returned graph with 76571 nodes and 226472 edges\n",
      "2022-03-03 18:04:19 graph_from_point returned graph with 76571 nodes and 226472 edges\n",
      "2022-03-03 18:04:23 Created nodes GeoDataFrame from graph\n"
     ]
    },
    {
     "name": "stderr",
     "output_type": "stream",
     "text": [
      "/Users/zachary/opt/anaconda3/envs/final_ML_LR/lib/python3.8/site-packages/osmnx/distance.py:356: UserWarning: The `get_nearest_node` function has been deprecated and will be removed in a future release. Use the more efficient `distance.nearest_nodes` instead.\n",
      "  warnings.warn(msg)\n"
     ]
    },
    {
     "name": "stdout",
     "output_type": "stream",
     "text": [
      "2022-03-03 18:04:24 Created nodes GeoDataFrame from graph\n",
      "2022-03-03 18:04:28 Created nodes GeoDataFrame from graph\n",
      "2022-03-03 18:04:39 Projected GeoDataFrame to +proj=utm +zone=17 +ellps=WGS84 +datum=WGS84 +units=m +no_defs +type=crs\n",
      "2022-03-03 18:05:00 Created edges GeoDataFrame from graph\n",
      "2022-03-03 18:05:12 Projected GeoDataFrame to +proj=utm +zone=17 +ellps=WGS84 +datum=WGS84 +units=m +no_defs +type=crs\n",
      "2022-03-03 18:05:20 Created graph from node/edge GeoDataFrames\n",
      "2022-03-03 18:05:20 Projected graph with 76571 nodes and 226472 edges\n"
     ]
    },
    {
     "name": "stderr",
     "output_type": "stream",
     "text": [
      "/var/folders/8v/6dq3dnld7rx4qv5wr7vx0w5m0000gn/T/ipykernel_30197/3347265067.py:5: FutureWarning: The frame.append method is deprecated and will be removed from pandas in a future version. Use pandas.concat instead.\n",
      "  detroit_polygons = detroit_polygons.append(gdf_iso_poly)\n"
     ]
    },
    {
     "name": "stdout",
     "output_type": "stream",
     "text": [
      "2022-03-03 18:08:25 Created bbox 12075.0 m from (42.4142000000327, -83.17880000004): 42.52279293054347,42.30560706952193,-83.0317125477974,-83.3258874522826\n",
      "2022-03-03 18:08:25 Projected GeoDataFrame to +proj=utm +zone=17 +ellps=WGS84 +datum=WGS84 +units=m +no_defs +type=crs\n",
      "2022-03-03 18:08:25 Projected GeoDataFrame to epsg:4326\n",
      "2022-03-03 18:08:25 Projected GeoDataFrame to +proj=utm +zone=17 +ellps=WGS84 +datum=WGS84 +units=m +no_defs +type=crs\n",
      "2022-03-03 18:08:25 Projected GeoDataFrame to epsg:4326\n",
      "2022-03-03 18:08:25 Requesting data within polygon from API in 1 request(s)\n",
      "2022-03-03 18:08:25 Resolved overpass-api.de to 178.63.11.215\n",
      "2022-03-03 18:08:26 Pausing 0 seconds before making HTTP POST request\n",
      "2022-03-03 18:08:26 Post https://overpass-api.de/api/interpreter?data=%5Bout%3Ajson%5D%5Btimeout%3A180%5D%3B%28way%5B%22highway%22%5D%5B%22area%22%21~%22yes%22%5D%5B%22access%22%21~%22private%22%5D%5B%22highway%22%21~%22abandoned%7Cbus_guideway%7Cconstruction%7Ccycleway%7Cmotor%7Cplanned%7Cplatform%7Cproposed%7Craceway%22%5D%5B%22foot%22%21~%22no%22%5D%5B%22service%22%21~%22private%22%5D%28poly%3A%2742.305607+-83.331951+42.522793+-83.331972+42.523233+-83.331943+42.523670+-83.331856+42.524098+-83.331711+42.524513+-83.331510+42.524912+-83.331256+42.525291+-83.330949+42.525645+-83.330594+42.525973+-83.330194+42.526269+-83.329752+42.526532+-83.329274+42.526760+-83.328762+42.526949+-83.328224+42.527098+-83.327662+42.527206+-83.327084+42.527271+-83.326494+42.527294+-83.325898+42.527294+-83.031702+42.527272+-83.031106+42.527206+-83.030516+42.527099+-83.029938+42.526949+-83.029376+42.526760+-83.028837+42.526533+-83.028326+42.526270+-83.027847+42.525973+-83.027406+42.525646+-83.027005+42.525291+-83.026650+42.524913+-83.026344+42.524514+-83.026089+42.524098+-83.025889+42.523670+-83.025744+42.523234+-83.025656+42.522793+-83.025627+42.305607+-83.025648+42.305165+-83.025677+42.304728+-83.025765+42.304299+-83.025910+42.303882+-83.026111+42.303483+-83.026366+42.303103+-83.026673+42.302748+-83.027028+42.302421+-83.027428+42.302124+-83.027870+42.301861+-83.028349+42.301634+-83.028860+42.301446+-83.029399+42.301298+-83.029960+42.301191+-83.030539+42.301126+-83.031128+42.301106+-83.031723+42.301106+-83.325877+42.301127+-83.326472+42.301191+-83.327061+42.301298+-83.327639+42.301446+-83.328201+42.301635+-83.328739+42.301862+-83.329251+42.302125+-83.329730+42.302422+-83.330171+42.302749+-83.330572+42.303104+-83.330927+42.303483+-83.331234+42.303883+-83.331489+42.304299+-83.331689+42.304728+-83.331834+42.305165+-83.331922+42.305607+-83.331951%27%29%3B%3E%3B%29%3Bout%3B with timeout=180\n",
      "2022-03-03 18:08:26 Resolved overpass-api.de to 178.63.11.215\n",
      "2022-03-03 18:08:38 Downloaded 79,595.8kB from overpass-api.de\n",
      "2022-03-03 18:08:42 Saved response to cache file \"cache/902a52b895b28f1b37c51a62eac9d882eee71cd1.json\"\n",
      "2022-03-03 18:08:42 Got all network data within polygon from API in 1 request(s)\n",
      "2022-03-03 18:08:42 Creating graph from downloaded OSM data...\n",
      "2022-03-03 18:08:56 Created graph with 487382 nodes and 1218580 edges\n",
      "2022-03-03 18:09:04 Added length attributes to graph edges\n",
      "2022-03-03 18:09:04 Identifying all nodes that lie outside the polygon...\n",
      "2022-03-03 18:09:28 Created nodes GeoDataFrame from graph\n",
      "2022-03-03 18:09:46 Created r-tree spatial index for 487382 geometries\n",
      "2022-03-03 18:09:53 Identified 479465 geometries inside polygon\n",
      "2022-03-03 18:10:07 Removed 7917 nodes outside polygon\n",
      "2022-03-03 18:10:07 Truncated graph by polygon\n",
      "2022-03-03 18:10:10 Begin topologically simplifying the graph...\n",
      "2022-03-03 18:10:29 Identified 194444 edge endpoints\n",
      "2022-03-03 18:11:22 Simplified graph: 479465 to 194444 nodes, 1201472 to 631430 edges\n",
      "2022-03-03 18:11:23 Identifying all nodes that lie outside the polygon...\n",
      "2022-03-03 18:11:31 Created nodes GeoDataFrame from graph\n",
      "2022-03-03 18:11:38 Created r-tree spatial index for 194444 geometries\n",
      "2022-03-03 18:11:39 Identified 181471 geometries inside polygon\n",
      "2022-03-03 18:11:47 Removed 12973 nodes outside polygon\n",
      "2022-03-03 18:11:53 Removed 52 isolated nodes\n",
      "2022-03-03 18:12:07 Got largest weakly connected component (177389 of 181419 total nodes)\n",
      "2022-03-03 18:12:07 Truncated graph by polygon\n",
      "2022-03-03 18:12:11 Counted undirected street segments incident on each node\n",
      "2022-03-03 18:12:11 graph_from_polygon returned graph with 177389 nodes and 583844 edges\n",
      "2022-03-03 18:12:12 graph_from_bbox returned graph with 177389 nodes and 583844 edges\n",
      "2022-03-03 18:12:12 graph_from_point returned graph with 177389 nodes and 583844 edges\n",
      "2022-03-03 18:12:20 Created nodes GeoDataFrame from graph\n"
     ]
    },
    {
     "name": "stderr",
     "output_type": "stream",
     "text": [
      "/Users/zachary/opt/anaconda3/envs/final_ML_LR/lib/python3.8/site-packages/osmnx/distance.py:356: UserWarning: The `get_nearest_node` function has been deprecated and will be removed in a future release. Use the more efficient `distance.nearest_nodes` instead.\n",
      "  warnings.warn(msg)\n"
     ]
    },
    {
     "name": "stdout",
     "output_type": "stream",
     "text": [
      "2022-03-03 18:12:22 Created nodes GeoDataFrame from graph\n",
      "2022-03-03 18:12:31 Created nodes GeoDataFrame from graph\n",
      "2022-03-03 18:12:53 Projected GeoDataFrame to +proj=utm +zone=17 +ellps=WGS84 +datum=WGS84 +units=m +no_defs +type=crs\n",
      "2022-03-03 18:13:51 Created edges GeoDataFrame from graph\n",
      "2022-03-03 18:14:20 Projected GeoDataFrame to +proj=utm +zone=17 +ellps=WGS84 +datum=WGS84 +units=m +no_defs +type=crs\n",
      "2022-03-03 18:14:43 Created graph from node/edge GeoDataFrames\n",
      "2022-03-03 18:14:43 Projected graph with 177389 nodes and 583844 edges\n"
     ]
    },
    {
     "name": "stderr",
     "output_type": "stream",
     "text": [
      "/var/folders/8v/6dq3dnld7rx4qv5wr7vx0w5m0000gn/T/ipykernel_30197/3347265067.py:5: FutureWarning: The frame.append method is deprecated and will be removed from pandas in a future version. Use pandas.concat instead.\n",
      "  detroit_polygons = detroit_polygons.append(gdf_iso_poly)\n"
     ]
    },
    {
     "name": "stdout",
     "output_type": "stream",
     "text": [
      "2022-03-03 18:21:43 Created bbox 12075.0 m from (42.3849000002689, -83.1777999999573): 42.49349293077967,42.27630706975813,-83.03078121388816,-83.32481878602644\n",
      "2022-03-03 18:21:43 Projected GeoDataFrame to +proj=utm +zone=17 +ellps=WGS84 +datum=WGS84 +units=m +no_defs +type=crs\n",
      "2022-03-03 18:21:43 Projected GeoDataFrame to epsg:4326\n",
      "2022-03-03 18:21:43 Projected GeoDataFrame to +proj=utm +zone=17 +ellps=WGS84 +datum=WGS84 +units=m +no_defs +type=crs\n",
      "2022-03-03 18:21:43 Projected GeoDataFrame to epsg:4326\n",
      "2022-03-03 18:21:43 Requesting data within polygon from API in 1 request(s)\n",
      "2022-03-03 18:21:43 Resolved overpass-api.de to 178.63.11.215\n",
      "2022-03-03 18:21:44 Pausing 0 seconds before making HTTP POST request\n",
      "2022-03-03 18:21:44 Post https://overpass-api.de/api/interpreter?data=%5Bout%3Ajson%5D%5Btimeout%3A180%5D%3B%28way%5B%22highway%22%5D%5B%22area%22%21~%22yes%22%5D%5B%22access%22%21~%22private%22%5D%5B%22highway%22%21~%22abandoned%7Cbus_guideway%7Cconstruction%7Ccycleway%7Cmotor%7Cplanned%7Cplatform%7Cproposed%7Craceway%22%5D%5B%22foot%22%21~%22no%22%5D%5B%22service%22%21~%22private%22%5D%28poly%3A%2742.276307+-83.330880+42.493493+-83.330901+42.493933+-83.330872+42.494370+-83.330784+42.494798+-83.330640+42.495213+-83.330439+42.495612+-83.330184+42.495991+-83.329878+42.496345+-83.329523+42.496673+-83.329123+42.496969+-83.328682+42.497232+-83.328203+42.497460+-83.327692+42.497649+-83.327154+42.497798+-83.326593+42.497906+-83.326014+42.497971+-83.325425+42.497994+-83.324829+42.497994+-83.030771+42.497972+-83.030175+42.497907+-83.029585+42.497799+-83.029007+42.497649+-83.028446+42.497460+-83.027907+42.497233+-83.027396+42.496970+-83.026918+42.496673+-83.026476+42.496346+-83.026076+42.495991+-83.025721+42.495613+-83.025415+42.495214+-83.025161+42.494798+-83.024960+42.494370+-83.024815+42.493934+-83.024728+42.493493+-83.024699+42.276307+-83.024720+42.275865+-83.024749+42.275428+-83.024836+42.274999+-83.024981+42.274582+-83.025182+42.274183+-83.025437+42.273803+-83.025744+42.273448+-83.026099+42.273121+-83.026499+42.272824+-83.026941+42.272561+-83.027419+42.272334+-83.027930+42.272146+-83.028469+42.271997+-83.029030+42.271891+-83.029608+42.271826+-83.030197+42.271806+-83.030792+42.271806+-83.324808+42.271827+-83.325403+42.271891+-83.325992+42.271998+-83.326570+42.272146+-83.327131+42.272335+-83.327669+42.272562+-83.328181+42.272825+-83.328659+42.273122+-83.329101+42.273449+-83.329501+42.273804+-83.329856+42.274183+-83.330162+42.274583+-83.330417+42.274999+-83.330618+42.275428+-83.330763+42.275865+-83.330850+42.276307+-83.330880%27%29%3B%3E%3B%29%3Bout%3B with timeout=180\n",
      "2022-03-03 18:21:44 Resolved overpass-api.de to 178.63.11.215\n",
      "2022-03-03 18:21:53 Downloaded 76,792.7kB from overpass-api.de\n",
      "2022-03-03 18:21:56 Saved response to cache file \"cache/4e7e07f4944d83fae0008cf70bccb7744f53ea00.json\"\n",
      "2022-03-03 18:21:56 Got all network data within polygon from API in 1 request(s)\n",
      "2022-03-03 18:21:56 Creating graph from downloaded OSM data...\n",
      "2022-03-03 18:22:10 Created graph with 467433 nodes and 1177626 edges\n",
      "2022-03-03 18:22:18 Added length attributes to graph edges\n",
      "2022-03-03 18:22:18 Identifying all nodes that lie outside the polygon...\n",
      "2022-03-03 18:22:39 Created nodes GeoDataFrame from graph\n",
      "2022-03-03 18:22:56 Created r-tree spatial index for 467433 geometries\n",
      "2022-03-03 18:23:02 Identified 459074 geometries inside polygon\n",
      "2022-03-03 18:23:15 Removed 8359 nodes outside polygon\n",
      "2022-03-03 18:23:15 Truncated graph by polygon\n",
      "2022-03-03 18:23:19 Begin topologically simplifying the graph...\n",
      "2022-03-03 18:23:35 Identified 189980 edge endpoints\n",
      "2022-03-03 18:24:23 Simplified graph: 459074 to 189980 nodes, 1159732 to 621544 edges\n",
      "2022-03-03 18:24:24 Identifying all nodes that lie outside the polygon...\n",
      "2022-03-03 18:24:33 Created nodes GeoDataFrame from graph\n",
      "2022-03-03 18:24:41 Created r-tree spatial index for 189980 geometries\n",
      "2022-03-03 18:24:42 Identified 177630 geometries inside polygon\n",
      "2022-03-03 18:24:49 Removed 12350 nodes outside polygon\n",
      "2022-03-03 18:24:56 Removed 56 isolated nodes\n",
      "2022-03-03 18:25:09 Got largest weakly connected component (171843 of 177574 total nodes)\n",
      "2022-03-03 18:25:09 Truncated graph by polygon\n",
      "2022-03-03 18:25:13 Counted undirected street segments incident on each node\n",
      "2022-03-03 18:25:13 graph_from_polygon returned graph with 171843 nodes and 569046 edges\n",
      "2022-03-03 18:25:14 graph_from_bbox returned graph with 171843 nodes and 569046 edges\n",
      "2022-03-03 18:25:14 graph_from_point returned graph with 171843 nodes and 569046 edges\n",
      "2022-03-03 18:25:22 Created nodes GeoDataFrame from graph\n"
     ]
    },
    {
     "name": "stderr",
     "output_type": "stream",
     "text": [
      "/Users/zachary/opt/anaconda3/envs/final_ML_LR/lib/python3.8/site-packages/osmnx/distance.py:356: UserWarning: The `get_nearest_node` function has been deprecated and will be removed in a future release. Use the more efficient `distance.nearest_nodes` instead.\n",
      "  warnings.warn(msg)\n"
     ]
    },
    {
     "name": "stdout",
     "output_type": "stream",
     "text": [
      "2022-03-03 18:25:24 Created nodes GeoDataFrame from graph\n",
      "2022-03-03 18:25:32 Created nodes GeoDataFrame from graph\n",
      "2022-03-03 18:25:53 Projected GeoDataFrame to +proj=utm +zone=17 +ellps=WGS84 +datum=WGS84 +units=m +no_defs +type=crs\n",
      "2022-03-03 18:26:54 Created edges GeoDataFrame from graph\n",
      "2022-03-03 18:27:23 Projected GeoDataFrame to +proj=utm +zone=17 +ellps=WGS84 +datum=WGS84 +units=m +no_defs +type=crs\n",
      "2022-03-03 18:27:44 Created graph from node/edge GeoDataFrames\n",
      "2022-03-03 18:27:44 Projected graph with 171843 nodes and 569046 edges\n"
     ]
    },
    {
     "name": "stderr",
     "output_type": "stream",
     "text": [
      "/var/folders/8v/6dq3dnld7rx4qv5wr7vx0w5m0000gn/T/ipykernel_30197/3347265067.py:5: FutureWarning: The frame.append method is deprecated and will be removed from pandas in a future version. Use pandas.concat instead.\n",
      "  detroit_polygons = detroit_polygons.append(gdf_iso_poly)\n"
     ]
    },
    {
     "name": "stdout",
     "output_type": "stream",
     "text": [
      "2022-03-03 18:35:04 Created bbox 12075.0 m from (42.4039000001281, -82.9972999998512): 42.512492930638864,42.29530706961733,-82.85023669792261,-83.14436330177978\n",
      "2022-03-03 18:35:04 Projected GeoDataFrame to +proj=utm +zone=17 +ellps=WGS84 +datum=WGS84 +units=m +no_defs +type=crs\n",
      "2022-03-03 18:35:04 Projected GeoDataFrame to epsg:4326\n",
      "2022-03-03 18:35:04 Projected GeoDataFrame to +proj=utm +zone=17 +ellps=WGS84 +datum=WGS84 +units=m +no_defs +type=crs\n",
      "2022-03-03 18:35:04 Projected GeoDataFrame to epsg:4326\n",
      "2022-03-03 18:35:04 Requesting data within polygon from API in 1 request(s)\n",
      "2022-03-03 18:35:04 Resolved overpass-api.de to 178.63.11.215\n",
      "2022-03-03 18:35:05 Pausing 0 seconds before making HTTP POST request\n",
      "2022-03-03 18:35:05 Post https://overpass-api.de/api/interpreter?data=%5Bout%3Ajson%5D%5Btimeout%3A180%5D%3B%28way%5B%22highway%22%5D%5B%22area%22%21~%22yes%22%5D%5B%22access%22%21~%22private%22%5D%5B%22highway%22%21~%22abandoned%7Cbus_guideway%7Cconstruction%7Ccycleway%7Cmotor%7Cplanned%7Cplatform%7Cproposed%7Craceway%22%5D%5B%22foot%22%21~%22no%22%5D%5B%22service%22%21~%22private%22%5D%28poly%3A%2742.295307+-83.150426+42.512493+-83.150447+42.512933+-83.150418+42.513370+-83.150331+42.513798+-83.150186+42.514213+-83.149986+42.514612+-83.149731+42.514991+-83.149425+42.515346+-83.149070+42.515673+-83.148669+42.515969+-83.148228+42.516233+-83.147749+42.516460+-83.147238+42.516649+-83.146699+42.516798+-83.146138+42.516906+-83.145559+42.516972+-83.144970+42.516994+-83.144374+42.516995+-82.850226+42.516972+-82.849630+42.516907+-82.849041+42.516799+-82.848462+42.516650+-82.847901+42.516460+-82.847362+42.516233+-82.846851+42.515970+-82.846372+42.515673+-82.845930+42.515346+-82.845530+42.514991+-82.845175+42.514613+-82.844869+42.514214+-82.844614+42.513798+-82.844413+42.513370+-82.844269+42.512934+-82.844181+42.512493+-82.844152+42.295307+-82.844173+42.294865+-82.844202+42.294428+-82.844290+42.293999+-82.844435+42.293582+-82.844636+42.293183+-82.844891+42.292803+-82.845197+42.292448+-82.845553+42.292121+-82.845953+42.291824+-82.846395+42.291561+-82.846874+42.291334+-82.847385+42.291146+-82.847924+42.290997+-82.848485+42.290890+-82.849063+42.290826+-82.849652+42.290805+-82.850247+42.290806+-83.144353+42.290827+-83.144948+42.290891+-83.145537+42.290998+-83.146115+42.291146+-83.146676+42.291335+-83.147215+42.291562+-83.147726+42.291825+-83.148205+42.292121+-83.148647+42.292449+-83.149047+42.292804+-83.149402+42.293183+-83.149709+42.293583+-83.149964+42.293999+-83.150165+42.294428+-83.150310+42.294865+-83.150397+42.295307+-83.150426%27%29%3B%3E%3B%29%3Bout%3B with timeout=180\n",
      "2022-03-03 18:35:05 Resolved overpass-api.de to 178.63.11.215\n",
      "2022-03-03 18:35:15 Downloaded 50,171.9kB from overpass-api.de\n",
      "2022-03-03 18:35:17 Saved response to cache file \"cache/3f6b2421a6f27db356a39d0affea8bd2ae3763f9.json\"\n",
      "2022-03-03 18:35:17 Got all network data within polygon from API in 1 request(s)\n",
      "2022-03-03 18:35:17 Creating graph from downloaded OSM data...\n",
      "2022-03-03 18:35:25 Created graph with 300562 nodes and 757822 edges\n",
      "2022-03-03 18:35:30 Added length attributes to graph edges\n",
      "2022-03-03 18:35:30 Identifying all nodes that lie outside the polygon...\n",
      "2022-03-03 18:35:44 Created nodes GeoDataFrame from graph\n",
      "2022-03-03 18:35:55 Created r-tree spatial index for 300562 geometries\n",
      "2022-03-03 18:35:59 Identified 295302 geometries inside polygon\n",
      "2022-03-03 18:36:07 Removed 5260 nodes outside polygon\n",
      "2022-03-03 18:36:07 Truncated graph by polygon\n",
      "2022-03-03 18:36:09 Begin topologically simplifying the graph...\n",
      "2022-03-03 18:36:18 Identified 128991 edge endpoints\n",
      "2022-03-03 18:36:47 Simplified graph: 295302 to 128991 nodes, 746800 to 414178 edges\n",
      "2022-03-03 18:36:47 Identifying all nodes that lie outside the polygon...\n",
      "2022-03-03 18:36:53 Created nodes GeoDataFrame from graph\n",
      "2022-03-03 18:36:58 Created r-tree spatial index for 128991 geometries\n",
      "2022-03-03 18:36:58 Identified 120981 geometries inside polygon\n",
      "2022-03-03 18:37:03 Removed 8010 nodes outside polygon\n",
      "2022-03-03 18:37:07 Removed 27 isolated nodes\n",
      "2022-03-03 18:37:15 Got largest weakly connected component (110323 of 120954 total nodes)\n",
      "2022-03-03 18:37:16 Truncated graph by polygon\n",
      "2022-03-03 18:37:18 Counted undirected street segments incident on each node\n",
      "2022-03-03 18:37:18 graph_from_polygon returned graph with 110323 nodes and 360634 edges\n",
      "2022-03-03 18:37:19 graph_from_bbox returned graph with 110323 nodes and 360634 edges\n",
      "2022-03-03 18:37:19 graph_from_point returned graph with 110323 nodes and 360634 edges\n",
      "2022-03-03 18:37:24 Created nodes GeoDataFrame from graph\n"
     ]
    },
    {
     "name": "stderr",
     "output_type": "stream",
     "text": [
      "/Users/zachary/opt/anaconda3/envs/final_ML_LR/lib/python3.8/site-packages/osmnx/distance.py:356: UserWarning: The `get_nearest_node` function has been deprecated and will be removed in a future release. Use the more efficient `distance.nearest_nodes` instead.\n",
      "  warnings.warn(msg)\n"
     ]
    },
    {
     "name": "stdout",
     "output_type": "stream",
     "text": [
      "2022-03-03 18:37:25 Created nodes GeoDataFrame from graph\n",
      "2022-03-03 18:37:30 Created nodes GeoDataFrame from graph\n",
      "2022-03-03 18:37:44 Projected GeoDataFrame to +proj=utm +zone=17 +ellps=WGS84 +datum=WGS84 +units=m +no_defs +type=crs\n",
      "2022-03-03 18:38:22 Created edges GeoDataFrame from graph\n",
      "2022-03-03 18:38:40 Projected GeoDataFrame to +proj=utm +zone=17 +ellps=WGS84 +datum=WGS84 +units=m +no_defs +type=crs\n",
      "2022-03-03 18:38:53 Created graph from node/edge GeoDataFrames\n",
      "2022-03-03 18:38:53 Projected graph with 110323 nodes and 360634 edges\n"
     ]
    },
    {
     "name": "stderr",
     "output_type": "stream",
     "text": [
      "/var/folders/8v/6dq3dnld7rx4qv5wr7vx0w5m0000gn/T/ipykernel_30197/3347265067.py:5: FutureWarning: The frame.append method is deprecated and will be removed from pandas in a future version. Use pandas.concat instead.\n",
      "  detroit_polygons = detroit_polygons.append(gdf_iso_poly)\n"
     ]
    },
    {
     "name": "stdout",
     "output_type": "stream",
     "text": [
      "2022-03-03 18:44:08 Created bbox 12075.0 m from (42.3397200000001, -83.04372): 42.448312930510866,42.23112706948933,-82.89680689495854,-83.19063310504144\n",
      "2022-03-03 18:44:08 Projected GeoDataFrame to +proj=utm +zone=17 +ellps=WGS84 +datum=WGS84 +units=m +no_defs +type=crs\n",
      "2022-03-03 18:44:08 Projected GeoDataFrame to epsg:4326\n",
      "2022-03-03 18:44:08 Projected GeoDataFrame to +proj=utm +zone=17 +ellps=WGS84 +datum=WGS84 +units=m +no_defs +type=crs\n",
      "2022-03-03 18:44:08 Projected GeoDataFrame to epsg:4326\n",
      "2022-03-03 18:44:08 Requesting data within polygon from API in 1 request(s)\n",
      "2022-03-03 18:44:08 Resolved overpass-api.de to 178.63.11.215\n",
      "2022-03-03 18:44:09 Pausing 0 seconds before making HTTP POST request\n",
      "2022-03-03 18:44:09 Post https://overpass-api.de/api/interpreter?data=%5Bout%3Ajson%5D%5Btimeout%3A180%5D%3B%28way%5B%22highway%22%5D%5B%22area%22%21~%22yes%22%5D%5B%22access%22%21~%22private%22%5D%5B%22highway%22%21~%22abandoned%7Cbus_guideway%7Cconstruction%7Ccycleway%7Cmotor%7Cplanned%7Cplatform%7Cproposed%7Craceway%22%5D%5B%22foot%22%21~%22no%22%5D%5B%22service%22%21~%22private%22%5D%28poly%3A%2742.231127+-83.196690+42.448313+-83.196711+42.448753+-83.196682+42.449190+-83.196595+42.449618+-83.196450+42.450033+-83.196250+42.450432+-83.195995+42.450811+-83.195689+42.451166+-83.195335+42.451493+-83.194935+42.451789+-83.194494+42.452053+-83.194016+42.452280+-83.193505+42.452469+-83.192967+42.452618+-83.192406+42.452726+-83.191828+42.452792+-83.191239+42.452814+-83.190644+42.452815+-82.896796+42.452792+-82.896201+42.452727+-82.895612+42.452619+-82.895034+42.452470+-82.894473+42.452280+-82.893935+42.452053+-82.893424+42.451790+-82.892946+42.451493+-82.892505+42.451166+-82.892105+42.450811+-82.891751+42.450433+-82.891445+42.450034+-82.891190+42.449618+-82.890990+42.449190+-82.890845+42.448754+-82.890758+42.448313+-82.890728+42.231127+-82.890749+42.230685+-82.890779+42.230248+-82.890866+42.229819+-82.891011+42.229402+-82.891212+42.229003+-82.891466+42.228623+-82.891773+42.228268+-82.892128+42.227941+-82.892528+42.227644+-82.892969+42.227381+-82.893447+42.227154+-82.893958+42.226966+-82.894496+42.226817+-82.895057+42.226710+-82.895634+42.226646+-82.896223+42.226625+-82.896817+42.226626+-83.190623+42.226647+-83.191217+42.226711+-83.191806+42.226818+-83.192383+42.226966+-83.192944+42.227155+-83.193482+42.227382+-83.193993+42.227645+-83.194471+42.227941+-83.194912+42.228269+-83.195312+42.228624+-83.195667+42.229003+-83.195973+42.229403+-83.196228+42.229819+-83.196429+42.230248+-83.196573+42.230685+-83.196661+42.231127+-83.196690%27%29%3B%3E%3B%29%3Bout%3B with timeout=180\n",
      "2022-03-03 18:44:09 Resolved overpass-api.de to 178.63.11.215\n",
      "2022-03-03 18:44:18 Downloaded 46,428.7kB from overpass-api.de\n",
      "2022-03-03 18:44:20 Saved response to cache file \"cache/3d97fd12af62825ab04644770747bea75d6fafbb.json\"\n",
      "2022-03-03 18:44:20 Got all network data within polygon from API in 1 request(s)\n",
      "2022-03-03 18:44:20 Creating graph from downloaded OSM data...\n",
      "2022-03-03 18:44:27 Created graph with 281273 nodes and 712214 edges\n",
      "2022-03-03 18:44:33 Added length attributes to graph edges\n",
      "2022-03-03 18:44:33 Identifying all nodes that lie outside the polygon...\n",
      "2022-03-03 18:44:47 Created nodes GeoDataFrame from graph\n",
      "2022-03-03 18:44:57 Created r-tree spatial index for 281273 geometries\n",
      "2022-03-03 18:45:00 Identified 275188 geometries inside polygon\n",
      "2022-03-03 18:45:08 Removed 6085 nodes outside polygon\n",
      "2022-03-03 18:45:08 Truncated graph by polygon\n",
      "2022-03-03 18:45:09 Begin topologically simplifying the graph...\n",
      "2022-03-03 18:45:18 Identified 120485 edge endpoints\n",
      "2022-03-03 18:45:45 Simplified graph: 275188 to 120485 nodes, 699208 to 389802 edges\n",
      "2022-03-03 18:45:45 Identifying all nodes that lie outside the polygon...\n",
      "2022-03-03 18:45:51 Created nodes GeoDataFrame from graph\n",
      "2022-03-03 18:45:56 Created r-tree spatial index for 120485 geometries\n",
      "2022-03-03 18:45:56 Identified 112060 geometries inside polygon\n",
      "2022-03-03 18:46:00 Removed 8425 nodes outside polygon\n",
      "2022-03-03 18:46:04 Removed 40 isolated nodes\n",
      "2022-03-03 18:46:12 Got largest weakly connected component (95548 of 112020 total nodes)\n",
      "2022-03-03 18:46:12 Truncated graph by polygon\n",
      "2022-03-03 18:46:15 Counted undirected street segments incident on each node\n",
      "2022-03-03 18:46:15 graph_from_polygon returned graph with 95548 nodes and 317056 edges\n",
      "2022-03-03 18:46:15 graph_from_bbox returned graph with 95548 nodes and 317056 edges\n",
      "2022-03-03 18:46:16 graph_from_point returned graph with 95548 nodes and 317056 edges\n",
      "2022-03-03 18:46:20 Created nodes GeoDataFrame from graph\n"
     ]
    },
    {
     "name": "stderr",
     "output_type": "stream",
     "text": [
      "/Users/zachary/opt/anaconda3/envs/final_ML_LR/lib/python3.8/site-packages/osmnx/distance.py:356: UserWarning: The `get_nearest_node` function has been deprecated and will be removed in a future release. Use the more efficient `distance.nearest_nodes` instead.\n",
      "  warnings.warn(msg)\n"
     ]
    },
    {
     "name": "stdout",
     "output_type": "stream",
     "text": [
      "2022-03-03 18:46:21 Created nodes GeoDataFrame from graph\n",
      "2022-03-03 18:46:26 Created nodes GeoDataFrame from graph\n",
      "2022-03-03 18:46:37 Projected GeoDataFrame to +proj=utm +zone=17 +ellps=WGS84 +datum=WGS84 +units=m +no_defs +type=crs\n",
      "2022-03-03 18:47:11 Created edges GeoDataFrame from graph\n",
      "2022-03-03 18:47:27 Projected GeoDataFrame to +proj=utm +zone=17 +ellps=WGS84 +datum=WGS84 +units=m +no_defs +type=crs\n",
      "2022-03-03 18:47:38 Created graph from node/edge GeoDataFrames\n",
      "2022-03-03 18:47:38 Projected graph with 95548 nodes and 317056 edges\n"
     ]
    },
    {
     "name": "stderr",
     "output_type": "stream",
     "text": [
      "/var/folders/8v/6dq3dnld7rx4qv5wr7vx0w5m0000gn/T/ipykernel_30197/3347265067.py:5: FutureWarning: The frame.append method is deprecated and will be removed from pandas in a future version. Use pandas.concat instead.\n",
      "  detroit_polygons = detroit_polygons.append(gdf_iso_poly)\n"
     ]
    },
    {
     "name": "stdout",
     "output_type": "stream",
     "text": [
      "2022-03-03 18:52:21 Created bbox 12075.0 m from (42.196399999714, -83.2906999998625): 42.30499293022476,42.08780706920323,-83.14412053097617,-83.43727946874883\n",
      "2022-03-03 18:52:21 Projected GeoDataFrame to +proj=utm +zone=17 +ellps=WGS84 +datum=WGS84 +units=m +no_defs +type=crs\n",
      "2022-03-03 18:52:21 Projected GeoDataFrame to epsg:4326\n",
      "2022-03-03 18:52:21 Projected GeoDataFrame to +proj=utm +zone=17 +ellps=WGS84 +datum=WGS84 +units=m +no_defs +type=crs\n",
      "2022-03-03 18:52:21 Projected GeoDataFrame to epsg:4326\n",
      "2022-03-03 18:52:21 Requesting data within polygon from API in 1 request(s)\n",
      "2022-03-03 18:52:21 Resolved overpass-api.de to 178.63.11.215\n",
      "2022-03-03 18:52:22 Pausing 0 seconds before making HTTP POST request\n",
      "2022-03-03 18:52:22 Post https://overpass-api.de/api/interpreter?data=%5Bout%3Ajson%5D%5Btimeout%3A180%5D%3B%28way%5B%22highway%22%5D%5B%22area%22%21~%22yes%22%5D%5B%22access%22%21~%22private%22%5D%5B%22highway%22%21~%22abandoned%7Cbus_guideway%7Cconstruction%7Ccycleway%7Cmotor%7Cplanned%7Cplatform%7Cproposed%7Craceway%22%5D%5B%22foot%22%21~%22no%22%5D%5B%22service%22%21~%22private%22%5D%28poly%3A%2742.087807+-83.443322+42.304993+-83.443343+42.305433+-83.443314+42.305870+-83.443227+42.306298+-83.443083+42.306713+-83.442883+42.307112+-83.442629+42.307491+-83.442324+42.307845+-83.441970+42.308173+-83.441571+42.308469+-83.441131+42.308732+-83.440654+42.308960+-83.440144+42.309149+-83.439607+42.309298+-83.439048+42.309406+-83.438471+42.309471+-83.437884+42.309494+-83.437290+42.309494+-83.144110+42.309472+-83.143516+42.309406+-83.142928+42.309299+-83.142352+42.309149+-83.141793+42.308960+-83.141256+42.308733+-83.140746+42.308470+-83.140269+42.308173+-83.139829+42.307846+-83.139430+42.307491+-83.139076+42.307113+-83.138771+42.306714+-83.138517+42.306298+-83.138317+42.305870+-83.138173+42.305434+-83.138086+42.304993+-83.138056+42.087807+-83.138077+42.087365+-83.138106+42.086928+-83.138194+42.086499+-83.138338+42.086082+-83.138538+42.085683+-83.138793+42.085304+-83.139098+42.084949+-83.139452+42.084621+-83.139851+42.084324+-83.140292+42.084061+-83.140769+42.083835+-83.141278+42.083646+-83.141815+42.083498+-83.142374+42.083391+-83.142951+42.083327+-83.143538+42.083306+-83.144131+42.083306+-83.437269+42.083327+-83.437862+42.083391+-83.438449+42.083498+-83.439025+42.083646+-83.439585+42.083835+-83.440122+42.084062+-83.440631+42.084325+-83.441108+42.084622+-83.441549+42.084949+-83.441948+42.085304+-83.442302+42.085683+-83.442607+42.086083+-83.442861+42.086499+-83.443061+42.086928+-83.443206+42.087366+-83.443293+42.087807+-83.443322%27%29%3B%3E%3B%29%3Bout%3B with timeout=180\n",
      "2022-03-03 18:52:22 Resolved overpass-api.de to 178.63.11.215\n",
      "2022-03-03 18:52:28 Downloaded 44,443.7kB from overpass-api.de\n",
      "2022-03-03 18:52:30 Saved response to cache file \"cache/52b16e5d32353751c02e6efec8910f78a92a61be.json\"\n",
      "2022-03-03 18:52:30 Got all network data within polygon from API in 1 request(s)\n",
      "2022-03-03 18:52:30 Creating graph from downloaded OSM data...\n",
      "2022-03-03 18:52:38 Created graph with 303243 nodes and 714616 edges\n",
      "2022-03-03 18:52:42 Added length attributes to graph edges\n",
      "2022-03-03 18:52:42 Identifying all nodes that lie outside the polygon...\n",
      "2022-03-03 18:52:56 Created nodes GeoDataFrame from graph\n",
      "2022-03-03 18:53:07 Created r-tree spatial index for 303243 geometries\n",
      "2022-03-03 18:53:11 Identified 299004 geometries inside polygon\n",
      "2022-03-03 18:53:19 Removed 4239 nodes outside polygon\n",
      "2022-03-03 18:53:19 Truncated graph by polygon\n",
      "2022-03-03 18:53:20 Begin topologically simplifying the graph...\n",
      "2022-03-03 18:53:31 Identified 103497 edge endpoints\n",
      "2022-03-03 18:53:59 Simplified graph: 299004 to 103497 nodes, 705746 to 314732 edges\n",
      "2022-03-03 18:53:59 Identifying all nodes that lie outside the polygon...\n",
      "2022-03-03 18:54:04 Created nodes GeoDataFrame from graph\n",
      "2022-03-03 18:54:08 Created r-tree spatial index for 103497 geometries\n",
      "2022-03-03 18:54:08 Identified 97825 geometries inside polygon\n",
      "2022-03-03 18:54:12 Removed 5672 nodes outside polygon\n",
      "2022-03-03 18:54:16 Removed 35 isolated nodes\n",
      "2022-03-03 18:54:23 Got largest weakly connected component (94991 of 97790 total nodes)\n",
      "2022-03-03 18:54:23 Truncated graph by polygon\n",
      "2022-03-03 18:54:25 Counted undirected street segments incident on each node\n",
      "2022-03-03 18:54:25 graph_from_polygon returned graph with 94991 nodes and 293756 edges\n",
      "2022-03-03 18:54:26 graph_from_bbox returned graph with 94991 nodes and 293756 edges\n",
      "2022-03-03 18:54:26 graph_from_point returned graph with 94991 nodes and 293756 edges\n",
      "2022-03-03 18:54:31 Created nodes GeoDataFrame from graph\n"
     ]
    },
    {
     "name": "stderr",
     "output_type": "stream",
     "text": [
      "/Users/zachary/opt/anaconda3/envs/final_ML_LR/lib/python3.8/site-packages/osmnx/distance.py:356: UserWarning: The `get_nearest_node` function has been deprecated and will be removed in a future release. Use the more efficient `distance.nearest_nodes` instead.\n",
      "  warnings.warn(msg)\n"
     ]
    },
    {
     "name": "stdout",
     "output_type": "stream",
     "text": [
      "2022-03-03 18:54:32 Created nodes GeoDataFrame from graph\n",
      "2022-03-03 18:54:36 Created nodes GeoDataFrame from graph\n",
      "2022-03-03 18:54:48 Projected GeoDataFrame to +proj=utm +zone=17 +ellps=WGS84 +datum=WGS84 +units=m +no_defs +type=crs\n",
      "2022-03-03 18:55:16 Created edges GeoDataFrame from graph\n",
      "2022-03-03 18:55:32 Projected GeoDataFrame to +proj=utm +zone=17 +ellps=WGS84 +datum=WGS84 +units=m +no_defs +type=crs\n",
      "2022-03-03 18:55:43 Created graph from node/edge GeoDataFrames\n",
      "2022-03-03 18:55:43 Projected graph with 94991 nodes and 293756 edges\n"
     ]
    },
    {
     "name": "stderr",
     "output_type": "stream",
     "text": [
      "/var/folders/8v/6dq3dnld7rx4qv5wr7vx0w5m0000gn/T/ipykernel_30197/3347265067.py:5: FutureWarning: The frame.append method is deprecated and will be removed from pandas in a future version. Use pandas.concat instead.\n",
      "  detroit_polygons = detroit_polygons.append(gdf_iso_poly)\n"
     ]
    },
    {
     "name": "stdout",
     "output_type": "stream",
     "text": [
      "2022-03-03 18:59:48 Created bbox 12075.0 m from (42.4289999999756, -83.1409000000496): 42.53759293048637,42.320407069464835,-82.99377782416873,-83.28802217593046\n",
      "2022-03-03 18:59:48 Projected GeoDataFrame to +proj=utm +zone=17 +ellps=WGS84 +datum=WGS84 +units=m +no_defs +type=crs\n",
      "2022-03-03 18:59:48 Projected GeoDataFrame to epsg:4326\n",
      "2022-03-03 18:59:48 Projected GeoDataFrame to +proj=utm +zone=17 +ellps=WGS84 +datum=WGS84 +units=m +no_defs +type=crs\n",
      "2022-03-03 18:59:48 Projected GeoDataFrame to epsg:4326\n",
      "2022-03-03 18:59:48 Requesting data within polygon from API in 1 request(s)\n",
      "2022-03-03 18:59:48 Resolved overpass-api.de to 178.63.11.215\n",
      "2022-03-03 18:59:49 Pausing 0 seconds before making HTTP POST request\n",
      "2022-03-03 18:59:49 Post https://overpass-api.de/api/interpreter?data=%5Bout%3Ajson%5D%5Btimeout%3A180%5D%3B%28way%5B%22highway%22%5D%5B%22area%22%21~%22yes%22%5D%5B%22access%22%21~%22private%22%5D%5B%22highway%22%21~%22abandoned%7Cbus_guideway%7Cconstruction%7Ccycleway%7Cmotor%7Cplanned%7Cplatform%7Cproposed%7Craceway%22%5D%5B%22foot%22%21~%22no%22%5D%5B%22service%22%21~%22private%22%5D%28poly%3A%2742.320407+-83.294087+42.537593+-83.294108+42.538033+-83.294079+42.538470+-83.293992+42.538898+-83.293847+42.539313+-83.293646+42.539712+-83.293392+42.540091+-83.293085+42.540445+-83.292730+42.540773+-83.292330+42.541069+-83.291888+42.541333+-83.291409+42.541560+-83.290898+42.541749+-83.290359+42.541898+-83.289797+42.542006+-83.289219+42.542071+-83.288629+42.542094+-83.288033+42.542094+-82.993767+42.542072+-82.993171+42.542007+-82.992581+42.541899+-82.992003+42.541749+-82.991441+42.541560+-82.990902+42.541333+-82.990391+42.541070+-82.989912+42.540773+-82.989470+42.540446+-82.989070+42.540091+-82.988714+42.539713+-82.988408+42.539314+-82.988153+42.538898+-82.987952+42.538470+-82.987808+42.538034+-82.987720+42.537593+-82.987691+42.320407+-82.987712+42.319965+-82.987741+42.319528+-82.987829+42.319099+-82.987974+42.318682+-82.988175+42.318283+-82.988430+42.317903+-82.988737+42.317548+-82.989092+42.317221+-82.989493+42.316924+-82.989935+42.316661+-82.990414+42.316434+-82.990925+42.316246+-82.991464+42.316097+-82.992025+42.315991+-82.992604+42.315926+-82.993193+42.315905+-82.993788+42.315906+-83.288012+42.315927+-83.288607+42.315991+-83.289196+42.316098+-83.289775+42.316246+-83.290336+42.316435+-83.290875+42.316662+-83.291386+42.316925+-83.291865+42.317222+-83.292307+42.317549+-83.292708+42.317904+-83.293063+42.318283+-83.293370+42.318683+-83.293625+42.319099+-83.293826+42.319528+-83.293971+42.319965+-83.294058+42.320407+-83.294087%27%29%3B%3E%3B%29%3Bout%3B with timeout=180\n",
      "2022-03-03 18:59:49 Resolved overpass-api.de to 178.63.11.215\n",
      "2022-03-03 18:59:59 Downloaded 78,295.7kB from overpass-api.de\n",
      "2022-03-03 19:00:02 Saved response to cache file \"cache/a3c3507d57b4a7dea19e952220896e05539b1729.json\"\n",
      "2022-03-03 19:00:02 Got all network data within polygon from API in 1 request(s)\n",
      "2022-03-03 19:00:02 Creating graph from downloaded OSM data...\n",
      "2022-03-03 19:00:17 Created graph with 474768 nodes and 1192442 edges\n",
      "2022-03-03 19:00:25 Added length attributes to graph edges\n",
      "2022-03-03 19:00:25 Identifying all nodes that lie outside the polygon...\n",
      "2022-03-03 19:00:46 Created nodes GeoDataFrame from graph\n",
      "2022-03-03 19:01:03 Created r-tree spatial index for 474768 geometries\n",
      "2022-03-03 19:01:10 Identified 466655 geometries inside polygon\n",
      "2022-03-03 19:01:23 Removed 8113 nodes outside polygon\n",
      "2022-03-03 19:01:23 Truncated graph by polygon\n",
      "2022-03-03 19:01:26 Begin topologically simplifying the graph...\n",
      "2022-03-03 19:01:45 Identified 193008 edge endpoints\n",
      "2022-03-03 19:02:34 Simplified graph: 466655 to 193008 nodes, 1175018 to 627724 edges\n",
      "2022-03-03 19:02:35 Identifying all nodes that lie outside the polygon...\n",
      "2022-03-03 19:02:42 Created nodes GeoDataFrame from graph\n",
      "2022-03-03 19:02:49 Created r-tree spatial index for 193008 geometries\n",
      "2022-03-03 19:02:50 Identified 181546 geometries inside polygon\n",
      "2022-03-03 19:02:56 Removed 11462 nodes outside polygon\n",
      "2022-03-03 19:03:05 Removed 40 isolated nodes\n",
      "2022-03-03 19:03:18 Got largest weakly connected component (178873 of 181506 total nodes)\n",
      "2022-03-03 19:03:18 Truncated graph by polygon\n",
      "2022-03-03 19:03:22 Counted undirected street segments incident on each node\n",
      "2022-03-03 19:03:22 graph_from_polygon returned graph with 178873 nodes and 587660 edges\n",
      "2022-03-03 19:03:23 graph_from_bbox returned graph with 178873 nodes and 587660 edges\n",
      "2022-03-03 19:03:23 graph_from_point returned graph with 178873 nodes and 587660 edges\n",
      "2022-03-03 19:03:32 Created nodes GeoDataFrame from graph\n"
     ]
    },
    {
     "name": "stderr",
     "output_type": "stream",
     "text": [
      "/Users/zachary/opt/anaconda3/envs/final_ML_LR/lib/python3.8/site-packages/osmnx/distance.py:356: UserWarning: The `get_nearest_node` function has been deprecated and will be removed in a future release. Use the more efficient `distance.nearest_nodes` instead.\n",
      "  warnings.warn(msg)\n"
     ]
    },
    {
     "name": "stdout",
     "output_type": "stream",
     "text": [
      "2022-03-03 19:03:34 Created nodes GeoDataFrame from graph\n",
      "2022-03-03 19:03:43 Created nodes GeoDataFrame from graph\n",
      "2022-03-03 19:04:05 Projected GeoDataFrame to +proj=utm +zone=17 +ellps=WGS84 +datum=WGS84 +units=m +no_defs +type=crs\n",
      "2022-03-03 19:05:06 Created edges GeoDataFrame from graph\n",
      "2022-03-03 19:05:37 Projected GeoDataFrame to +proj=utm +zone=17 +ellps=WGS84 +datum=WGS84 +units=m +no_defs +type=crs\n",
      "2022-03-03 19:05:58 Created graph from node/edge GeoDataFrames\n",
      "2022-03-03 19:05:58 Projected graph with 178873 nodes and 587660 edges\n"
     ]
    },
    {
     "name": "stderr",
     "output_type": "stream",
     "text": [
      "/var/folders/8v/6dq3dnld7rx4qv5wr7vx0w5m0000gn/T/ipykernel_30197/3347265067.py:5: FutureWarning: The frame.append method is deprecated and will be removed from pandas in a future version. Use pandas.concat instead.\n",
      "  detroit_polygons = detroit_polygons.append(gdf_iso_poly)\n"
     ]
    },
    {
     "name": "stdout",
     "output_type": "stream",
     "text": [
      "2022-03-03 19:13:06 Created bbox 12075.0 m from (42.3407999997644, -83.0154000000007): 42.44939293027517,42.23220706925363,-82.86848437155817,-83.16231562844322\n",
      "2022-03-03 19:13:06 Projected GeoDataFrame to +proj=utm +zone=17 +ellps=WGS84 +datum=WGS84 +units=m +no_defs +type=crs\n",
      "2022-03-03 19:13:06 Projected GeoDataFrame to epsg:4326\n",
      "2022-03-03 19:13:06 Projected GeoDataFrame to +proj=utm +zone=17 +ellps=WGS84 +datum=WGS84 +units=m +no_defs +type=crs\n",
      "2022-03-03 19:13:06 Projected GeoDataFrame to epsg:4326\n",
      "2022-03-03 19:13:06 Requesting data within polygon from API in 1 request(s)\n",
      "2022-03-03 19:13:07 Resolved overpass-api.de to 178.63.11.215\n",
      "2022-03-03 19:13:07 Pausing 0 seconds before making HTTP POST request\n",
      "2022-03-03 19:13:07 Post https://overpass-api.de/api/interpreter?data=%5Bout%3Ajson%5D%5Btimeout%3A180%5D%3B%28way%5B%22highway%22%5D%5B%22area%22%21~%22yes%22%5D%5B%22access%22%21~%22private%22%5D%5B%22highway%22%21~%22abandoned%7Cbus_guideway%7Cconstruction%7Ccycleway%7Cmotor%7Cplanned%7Cplatform%7Cproposed%7Craceway%22%5D%5B%22foot%22%21~%22no%22%5D%5B%22service%22%21~%22private%22%5D%28poly%3A%2742.232207+-83.168373+42.449393+-83.168394+42.449833+-83.168364+42.450270+-83.168277+42.450698+-83.168133+42.451113+-83.167932+42.451512+-83.167678+42.451891+-83.167372+42.452246+-83.167017+42.452573+-83.166617+42.452870+-83.166176+42.453133+-83.165698+42.453360+-83.165187+42.453549+-83.164649+42.453698+-83.164088+42.453806+-83.163511+42.453872+-83.162921+42.453894+-83.162326+42.453895+-82.868474+42.453872+-82.867879+42.453807+-82.867289+42.453699+-82.866712+42.453550+-82.866151+42.453361+-82.865612+42.453133+-82.865102+42.452870+-82.864623+42.452573+-82.864182+42.452246+-82.863783+42.451891+-82.863428+42.451513+-82.863122+42.451114+-82.862867+42.450698+-82.862667+42.450270+-82.862522+42.449834+-82.862435+42.449393+-82.862406+42.232207+-82.862427+42.231765+-82.862456+42.231328+-82.862543+42.230899+-82.862688+42.230482+-82.862889+42.230083+-82.863144+42.229703+-82.863450+42.229348+-82.863805+42.229021+-82.864205+42.228724+-82.864646+42.228461+-82.865125+42.228234+-82.865635+42.228046+-82.866174+42.227897+-82.866734+42.227790+-82.867312+42.227726+-82.867900+42.227705+-82.868495+42.227706+-83.162305+42.227727+-83.162900+42.227791+-83.163488+42.227898+-83.164066+42.228046+-83.164626+42.228235+-83.165164+42.228462+-83.165675+42.228725+-83.166154+42.229021+-83.166595+42.229349+-83.166995+42.229704+-83.167350+42.230083+-83.167656+42.230483+-83.167911+42.230899+-83.168111+42.231328+-83.168256+42.231765+-83.168343+42.232207+-83.168373%27%29%3B%3E%3B%29%3Bout%3B with timeout=180\n",
      "2022-03-03 19:13:07 Resolved overpass-api.de to 178.63.11.215\n",
      "2022-03-03 19:13:22 Downloaded 40,411.3kB from overpass-api.de\n",
      "2022-03-03 19:13:23 Saved response to cache file \"cache/aded7cd150e1b089ff4a00233fa0ebc3028cbef4.json\"\n",
      "2022-03-03 19:13:23 Got all network data within polygon from API in 1 request(s)\n",
      "2022-03-03 19:13:23 Creating graph from downloaded OSM data...\n",
      "2022-03-03 19:13:30 Created graph with 244362 nodes and 615684 edges\n",
      "2022-03-03 19:13:34 Added length attributes to graph edges\n",
      "2022-03-03 19:13:34 Identifying all nodes that lie outside the polygon...\n",
      "2022-03-03 19:13:45 Created nodes GeoDataFrame from graph\n",
      "2022-03-03 19:13:54 Created r-tree spatial index for 244362 geometries\n",
      "2022-03-03 19:13:57 Identified 239388 geometries inside polygon\n",
      "2022-03-03 19:14:03 Removed 4974 nodes outside polygon\n",
      "2022-03-03 19:14:03 Truncated graph by polygon\n",
      "2022-03-03 19:14:05 Begin topologically simplifying the graph...\n",
      "2022-03-03 19:14:13 Identified 104182 edge endpoints\n",
      "2022-03-03 19:14:50 Simplified graph: 239388 to 104182 nodes, 604880 to 334468 edges\n",
      "2022-03-03 19:14:51 Identifying all nodes that lie outside the polygon...\n",
      "2022-03-03 19:14:56 Created nodes GeoDataFrame from graph\n",
      "2022-03-03 19:15:00 Created r-tree spatial index for 104182 geometries\n",
      "2022-03-03 19:15:01 Identified 97757 geometries inside polygon\n",
      "2022-03-03 19:15:04 Removed 6425 nodes outside polygon\n",
      "2022-03-03 19:15:09 Removed 17 isolated nodes\n",
      "2022-03-03 19:15:26 Got largest weakly connected component (80646 of 97740 total nodes)\n",
      "2022-03-03 19:15:26 Truncated graph by polygon\n",
      "2022-03-03 19:15:30 Counted undirected street segments incident on each node\n",
      "2022-03-03 19:15:30 graph_from_polygon returned graph with 80646 nodes and 266372 edges\n",
      "2022-03-03 19:15:31 graph_from_bbox returned graph with 80646 nodes and 266372 edges\n",
      "2022-03-03 19:15:31 graph_from_point returned graph with 80646 nodes and 266372 edges\n",
      "2022-03-03 19:15:36 Created nodes GeoDataFrame from graph\n"
     ]
    },
    {
     "name": "stderr",
     "output_type": "stream",
     "text": [
      "/Users/zachary/opt/anaconda3/envs/final_ML_LR/lib/python3.8/site-packages/osmnx/distance.py:356: UserWarning: The `get_nearest_node` function has been deprecated and will be removed in a future release. Use the more efficient `distance.nearest_nodes` instead.\n",
      "  warnings.warn(msg)\n"
     ]
    },
    {
     "name": "stdout",
     "output_type": "stream",
     "text": [
      "2022-03-03 19:15:36 Created nodes GeoDataFrame from graph\n",
      "2022-03-03 19:15:41 Created nodes GeoDataFrame from graph\n",
      "2022-03-03 19:15:51 Projected GeoDataFrame to +proj=utm +zone=17 +ellps=WGS84 +datum=WGS84 +units=m +no_defs +type=crs\n",
      "2022-03-03 19:16:21 Created edges GeoDataFrame from graph\n",
      "2022-03-03 19:16:34 Projected GeoDataFrame to +proj=utm +zone=17 +ellps=WGS84 +datum=WGS84 +units=m +no_defs +type=crs\n",
      "2022-03-03 19:16:44 Created graph from node/edge GeoDataFrames\n",
      "2022-03-03 19:16:44 Projected graph with 80646 nodes and 266372 edges\n"
     ]
    },
    {
     "name": "stderr",
     "output_type": "stream",
     "text": [
      "/var/folders/8v/6dq3dnld7rx4qv5wr7vx0w5m0000gn/T/ipykernel_30197/3347265067.py:5: FutureWarning: The frame.append method is deprecated and will be removed from pandas in a future version. Use pandas.concat instead.\n",
      "  detroit_polygons = detroit_polygons.append(gdf_iso_poly)\n"
     ]
    },
    {
     "name": "stdout",
     "output_type": "stream",
     "text": [
      "2022-03-03 19:22:14 Created bbox 12075.0 m from (42.4165000000824, -83.160800000348): 42.52509293059317,42.307907069571634,-83.01370715358398,-83.30789284711203\n",
      "2022-03-03 19:22:14 Projected GeoDataFrame to +proj=utm +zone=17 +ellps=WGS84 +datum=WGS84 +units=m +no_defs +type=crs\n",
      "2022-03-03 19:22:14 Projected GeoDataFrame to epsg:4326\n",
      "2022-03-03 19:22:14 Projected GeoDataFrame to +proj=utm +zone=17 +ellps=WGS84 +datum=WGS84 +units=m +no_defs +type=crs\n",
      "2022-03-03 19:22:14 Projected GeoDataFrame to epsg:4326\n",
      "2022-03-03 19:22:14 Requesting data within polygon from API in 1 request(s)\n",
      "2022-03-03 19:22:14 Resolved overpass-api.de to 178.63.11.215\n",
      "2022-03-03 19:22:15 Pausing 0 seconds before making HTTP POST request\n",
      "2022-03-03 19:22:15 Post https://overpass-api.de/api/interpreter?data=%5Bout%3Ajson%5D%5Btimeout%3A180%5D%3B%28way%5B%22highway%22%5D%5B%22area%22%21~%22yes%22%5D%5B%22access%22%21~%22private%22%5D%5B%22highway%22%21~%22abandoned%7Cbus_guideway%7Cconstruction%7Ccycleway%7Cmotor%7Cplanned%7Cplatform%7Cproposed%7Craceway%22%5D%5B%22foot%22%21~%22no%22%5D%5B%22service%22%21~%22private%22%5D%28poly%3A%2742.307907+-83.313957+42.525093+-83.313978+42.525533+-83.313949+42.525970+-83.313861+42.526398+-83.313717+42.526813+-83.313516+42.527212+-83.313261+42.527591+-83.312955+42.527945+-83.312600+42.528273+-83.312200+42.528569+-83.311758+42.528832+-83.311279+42.529060+-83.310768+42.529249+-83.310229+42.529398+-83.309668+42.529506+-83.309089+42.529571+-83.308499+42.529594+-83.307903+42.529594+-83.013697+42.529572+-83.013101+42.529507+-83.012511+42.529399+-83.011932+42.529249+-83.011371+42.529060+-83.010832+42.528833+-83.010321+42.528570+-83.009842+42.528273+-83.009400+42.527946+-83.009000+42.527591+-83.008645+42.527213+-83.008338+42.526814+-83.008084+42.526398+-83.007883+42.525970+-83.007738+42.525534+-83.007651+42.525093+-83.007622+42.307907+-83.007643+42.307465+-83.007672+42.307028+-83.007759+42.306599+-83.007904+42.306182+-83.008105+42.305783+-83.008360+42.305403+-83.008667+42.305048+-83.009022+42.304721+-83.009423+42.304424+-83.009865+42.304161+-83.010344+42.303934+-83.010855+42.303746+-83.011394+42.303597+-83.011955+42.303491+-83.012533+42.303426+-83.013123+42.303406+-83.013718+42.303406+-83.307882+42.303427+-83.308477+42.303491+-83.309067+42.303598+-83.309645+42.303746+-83.310206+42.303935+-83.310745+42.304162+-83.311256+42.304425+-83.311735+42.304722+-83.312177+42.305049+-83.312577+42.305404+-83.312933+42.305783+-83.313239+42.306183+-83.313494+42.306599+-83.313695+42.307028+-83.313840+42.307465+-83.313928+42.307907+-83.313957%27%29%3B%3E%3B%29%3Bout%3B with timeout=180\n",
      "2022-03-03 19:22:15 Resolved overpass-api.de to 178.63.11.215\n",
      "2022-03-03 19:22:25 Downloaded 79,849.1kB from overpass-api.de\n",
      "2022-03-03 19:22:29 Saved response to cache file \"cache/c7a9f6ec06bae55134454e8075b84ba3af113fde.json\"\n",
      "2022-03-03 19:22:29 Got all network data within polygon from API in 1 request(s)\n",
      "2022-03-03 19:22:29 Creating graph from downloaded OSM data...\n",
      "2022-03-03 19:22:46 Created graph with 486177 nodes and 1219110 edges\n",
      "2022-03-03 19:22:56 Added length attributes to graph edges\n",
      "2022-03-03 19:22:56 Identifying all nodes that lie outside the polygon...\n",
      "2022-03-03 19:23:25 Created nodes GeoDataFrame from graph\n",
      "2022-03-03 19:23:46 Created r-tree spatial index for 486177 geometries\n",
      "2022-03-03 19:23:54 Identified 479803 geometries inside polygon\n",
      "2022-03-03 19:24:12 Removed 6374 nodes outside polygon\n",
      "2022-03-03 19:24:12 Truncated graph by polygon\n",
      "2022-03-03 19:24:17 Begin topologically simplifying the graph...\n",
      "2022-03-03 19:24:42 Identified 196301 edge endpoints\n",
      "2022-03-03 19:25:45 Simplified graph: 479803 to 196301 nodes, 1205406 to 638402 edges\n",
      "2022-03-03 19:25:46 Identifying all nodes that lie outside the polygon...\n",
      "2022-03-03 19:25:57 Created nodes GeoDataFrame from graph\n",
      "2022-03-03 19:26:05 Created r-tree spatial index for 196301 geometries\n",
      "2022-03-03 19:26:06 Identified 184734 geometries inside polygon\n",
      "2022-03-03 19:26:16 Removed 11567 nodes outside polygon\n",
      "2022-03-03 19:26:25 Removed 46 isolated nodes\n",
      "2022-03-03 19:26:42 Got largest weakly connected component (180600 of 184688 total nodes)\n",
      "2022-03-03 19:26:42 Truncated graph by polygon\n",
      "2022-03-03 19:26:47 Counted undirected street segments incident on each node\n",
      "2022-03-03 19:26:47 graph_from_polygon returned graph with 180600 nodes and 594044 edges\n",
      "2022-03-03 19:26:48 graph_from_bbox returned graph with 180600 nodes and 594044 edges\n",
      "2022-03-03 19:26:49 graph_from_point returned graph with 180600 nodes and 594044 edges\n",
      "2022-03-03 19:27:01 Created nodes GeoDataFrame from graph\n"
     ]
    },
    {
     "name": "stderr",
     "output_type": "stream",
     "text": [
      "/Users/zachary/opt/anaconda3/envs/final_ML_LR/lib/python3.8/site-packages/osmnx/distance.py:356: UserWarning: The `get_nearest_node` function has been deprecated and will be removed in a future release. Use the more efficient `distance.nearest_nodes` instead.\n",
      "  warnings.warn(msg)\n"
     ]
    },
    {
     "name": "stdout",
     "output_type": "stream",
     "text": [
      "2022-03-03 19:27:10 Created nodes GeoDataFrame from graph\n",
      "2022-03-03 19:27:23 Created nodes GeoDataFrame from graph\n",
      "2022-03-03 19:27:50 Projected GeoDataFrame to +proj=utm +zone=17 +ellps=WGS84 +datum=WGS84 +units=m +no_defs +type=crs\n",
      "2022-03-03 19:29:03 Created edges GeoDataFrame from graph\n",
      "2022-03-03 19:29:41 Projected GeoDataFrame to +proj=utm +zone=17 +ellps=WGS84 +datum=WGS84 +units=m +no_defs +type=crs\n",
      "2022-03-03 19:30:10 Created graph from node/edge GeoDataFrames\n",
      "2022-03-03 19:30:11 Projected graph with 180600 nodes and 594044 edges\n"
     ]
    },
    {
     "name": "stderr",
     "output_type": "stream",
     "text": [
      "/var/folders/8v/6dq3dnld7rx4qv5wr7vx0w5m0000gn/T/ipykernel_30197/3347265067.py:5: FutureWarning: The frame.append method is deprecated and will be removed from pandas in a future version. Use pandas.concat instead.\n",
      "  detroit_polygons = detroit_polygons.append(gdf_iso_poly)\n"
     ]
    },
    {
     "name": "stdout",
     "output_type": "stream",
     "text": [
      "2022-03-03 19:39:38 Created bbox 12075.0 m from (42.4133797999471, -83.435729199915): 42.52197273045787,42.304786869436334,-83.28864367125276,-83.58281472857725\n",
      "2022-03-03 19:39:39 Projected GeoDataFrame to +proj=utm +zone=17 +ellps=WGS84 +datum=WGS84 +units=m +no_defs +type=crs\n",
      "2022-03-03 19:39:39 Projected GeoDataFrame to epsg:4326\n",
      "2022-03-03 19:39:39 Projected GeoDataFrame to +proj=utm +zone=17 +ellps=WGS84 +datum=WGS84 +units=m +no_defs +type=crs\n",
      "2022-03-03 19:39:39 Projected GeoDataFrame to epsg:4326\n",
      "2022-03-03 19:39:39 Requesting data within polygon from API in 1 request(s)\n",
      "2022-03-03 19:39:39 Resolved overpass-api.de to 178.63.48.217\n",
      "2022-03-03 19:39:39 Pausing 0 seconds before making HTTP POST request\n",
      "2022-03-03 19:39:39 Post https://overpass-api.de/api/interpreter?data=%5Bout%3Ajson%5D%5Btimeout%3A180%5D%3B%28way%5B%22highway%22%5D%5B%22area%22%21~%22yes%22%5D%5B%22access%22%21~%22private%22%5D%5B%22highway%22%21~%22abandoned%7Cbus_guideway%7Cconstruction%7Ccycleway%7Cmotor%7Cplanned%7Cplatform%7Cproposed%7Craceway%22%5D%5B%22foot%22%21~%22no%22%5D%5B%22service%22%21~%22private%22%5D%28poly%3A%2742.304787+-83.588878+42.521972+-83.588899+42.522413+-83.588870+42.522849+-83.588782+42.523277+-83.588638+42.523693+-83.588437+42.524092+-83.588182+42.524470+-83.587876+42.524825+-83.587521+42.525152+-83.587121+42.525449+-83.586679+42.525712+-83.586201+42.525939+-83.585689+42.526128+-83.585151+42.526277+-83.584589+42.526385+-83.584011+42.526451+-83.583421+42.526473+-83.582825+42.526474+-83.288633+42.526451+-83.288037+42.526386+-83.287447+42.526278+-83.286869+42.526129+-83.286308+42.525940+-83.285769+42.525712+-83.285258+42.525449+-83.284779+42.525153+-83.284337+42.524825+-83.283937+42.524471+-83.283582+42.524092+-83.283276+42.523693+-83.283021+42.523278+-83.282820+42.522850+-83.282676+42.522413+-83.282588+42.521973+-83.282559+42.304786+-83.282580+42.304345+-83.282609+42.303907+-83.282697+42.303479+-83.282842+42.303062+-83.283043+42.302663+-83.283298+42.302284+-83.283604+42.301929+-83.283960+42.301601+-83.284360+42.301305+-83.284802+42.301042+-83.285281+42.300815+-83.285792+42.300626+-83.286331+42.300478+-83.286892+42.300371+-83.287470+42.300307+-83.288059+42.300286+-83.288654+42.300286+-83.582804+42.300307+-83.583399+42.300371+-83.583989+42.300478+-83.584567+42.300627+-83.585128+42.300815+-83.585666+42.301042+-83.586178+42.301305+-83.586656+42.301602+-83.587098+42.301929+-83.587499+42.302284+-83.587854+42.302663+-83.588160+42.303063+-83.588415+42.303479+-83.588616+42.303908+-83.588761+42.304345+-83.588848+42.304787+-83.588878%27%29%3B%3E%3B%29%3Bout%3B with timeout=180\n",
      "2022-03-03 19:39:39 Resolved overpass-api.de to 178.63.48.217\n",
      "2022-03-03 19:39:53 Downloaded 54,880.0kB from overpass-api.de\n",
      "2022-03-03 19:39:56 Saved response to cache file \"cache/011c44b54ec3cc9ee7993ad9c320c6694f7c76fc.json\"\n",
      "2022-03-03 19:39:56 Got all network data within polygon from API in 1 request(s)\n",
      "2022-03-03 19:39:56 Creating graph from downloaded OSM data...\n",
      "2022-03-03 19:40:06 Created graph with 396092 nodes and 886342 edges\n",
      "2022-03-03 19:40:12 Added length attributes to graph edges\n",
      "2022-03-03 19:40:12 Identifying all nodes that lie outside the polygon...\n",
      "2022-03-03 19:40:34 Created nodes GeoDataFrame from graph\n",
      "2022-03-03 19:40:51 Created r-tree spatial index for 396092 geometries\n",
      "2022-03-03 19:40:57 Identified 389994 geometries inside polygon\n",
      "2022-03-03 19:41:09 Removed 6098 nodes outside polygon\n",
      "2022-03-03 19:41:09 Truncated graph by polygon\n",
      "2022-03-03 19:41:13 Begin topologically simplifying the graph...\n",
      "2022-03-03 19:41:26 Identified 105326 edge endpoints\n",
      "2022-03-03 19:42:12 Simplified graph: 389994 to 105326 nodes, 873554 to 304218 edges\n",
      "2022-03-03 19:42:12 Identifying all nodes that lie outside the polygon...\n",
      "2022-03-03 19:42:17 Created nodes GeoDataFrame from graph\n",
      "2022-03-03 19:42:22 Created r-tree spatial index for 105326 geometries\n",
      "2022-03-03 19:42:22 Identified 96560 geometries inside polygon\n",
      "2022-03-03 19:42:26 Removed 8766 nodes outside polygon\n",
      "2022-03-03 19:42:30 Removed 49 isolated nodes\n",
      "2022-03-03 19:42:38 Got largest weakly connected component (92242 of 96511 total nodes)\n",
      "2022-03-03 19:42:39 Truncated graph by polygon\n",
      "2022-03-03 19:42:41 Counted undirected street segments incident on each node\n",
      "2022-03-03 19:42:41 graph_from_polygon returned graph with 92242 nodes and 271388 edges\n",
      "2022-03-03 19:42:42 graph_from_bbox returned graph with 92242 nodes and 271388 edges\n",
      "2022-03-03 19:42:42 graph_from_point returned graph with 92242 nodes and 271388 edges\n",
      "2022-03-03 19:42:47 Created nodes GeoDataFrame from graph\n"
     ]
    },
    {
     "name": "stderr",
     "output_type": "stream",
     "text": [
      "/Users/zachary/opt/anaconda3/envs/final_ML_LR/lib/python3.8/site-packages/osmnx/distance.py:356: UserWarning: The `get_nearest_node` function has been deprecated and will be removed in a future release. Use the more efficient `distance.nearest_nodes` instead.\n",
      "  warnings.warn(msg)\n"
     ]
    },
    {
     "name": "stdout",
     "output_type": "stream",
     "text": [
      "2022-03-03 19:42:47 Created nodes GeoDataFrame from graph\n",
      "2022-03-03 19:42:53 Created nodes GeoDataFrame from graph\n",
      "2022-03-03 19:43:06 Projected GeoDataFrame to +proj=utm +zone=17 +ellps=WGS84 +datum=WGS84 +units=m +no_defs +type=crs\n",
      "2022-03-03 19:43:35 Created edges GeoDataFrame from graph\n",
      "2022-03-03 19:43:52 Projected GeoDataFrame to +proj=utm +zone=17 +ellps=WGS84 +datum=WGS84 +units=m +no_defs +type=crs\n",
      "2022-03-03 19:44:04 Created graph from node/edge GeoDataFrames\n",
      "2022-03-03 19:44:04 Projected graph with 92242 nodes and 271388 edges\n"
     ]
    },
    {
     "name": "stderr",
     "output_type": "stream",
     "text": [
      "/var/folders/8v/6dq3dnld7rx4qv5wr7vx0w5m0000gn/T/ipykernel_30197/3347265067.py:5: FutureWarning: The frame.append method is deprecated and will be removed from pandas in a future version. Use pandas.concat instead.\n",
      "  detroit_polygons = detroit_polygons.append(gdf_iso_poly)\n"
     ]
    },
    {
     "name": "stdout",
     "output_type": "stream",
     "text": [
      "2022-03-03 19:47:51 Created bbox 12075.0 m from (42.4392128000691, -83.3820272995793): 42.54780573057987,42.33061986955833,-83.23488114722308,-83.52917345193553\n",
      "2022-03-03 19:47:51 Projected GeoDataFrame to +proj=utm +zone=17 +ellps=WGS84 +datum=WGS84 +units=m +no_defs +type=crs\n",
      "2022-03-03 19:47:51 Projected GeoDataFrame to epsg:4326\n",
      "2022-03-03 19:47:51 Projected GeoDataFrame to +proj=utm +zone=17 +ellps=WGS84 +datum=WGS84 +units=m +no_defs +type=crs\n",
      "2022-03-03 19:47:51 Projected GeoDataFrame to epsg:4326\n",
      "2022-03-03 19:47:51 Requesting data within polygon from API in 1 request(s)\n",
      "2022-03-03 19:47:51 Resolved overpass-api.de to 178.63.48.217\n",
      "2022-03-03 19:47:52 Pausing 0 seconds before making HTTP POST request\n",
      "2022-03-03 19:47:52 Post https://overpass-api.de/api/interpreter?data=%5Bout%3Ajson%5D%5Btimeout%3A180%5D%3B%28way%5B%22highway%22%5D%5B%22area%22%21~%22yes%22%5D%5B%22access%22%21~%22private%22%5D%5B%22highway%22%21~%22abandoned%7Cbus_guideway%7Cconstruction%7Ccycleway%7Cmotor%7Cplanned%7Cplatform%7Cproposed%7Craceway%22%5D%5B%22foot%22%21~%22no%22%5D%5B%22service%22%21~%22private%22%5D%28poly%3A%2742.330620+-83.535239+42.547805+-83.535260+42.548246+-83.535231+42.548682+-83.535144+42.549110+-83.534999+42.549526+-83.534798+42.549925+-83.534543+42.550303+-83.534237+42.550658+-83.533882+42.550985+-83.533481+42.551282+-83.533040+42.551545+-83.532561+42.551772+-83.532049+42.551961+-83.531510+42.552111+-83.530949+42.552218+-83.530370+42.552284+-83.529780+42.552306+-83.529184+42.552307+-83.234871+42.552284+-83.234275+42.552219+-83.233684+42.552111+-83.233106+42.551962+-83.232544+42.551773+-83.232005+42.551545+-83.231494+42.551282+-83.231015+42.550986+-83.230573+42.550659+-83.230173+42.550304+-83.229817+42.549925+-83.229511+42.549526+-83.229256+42.549111+-83.229055+42.548683+-83.228910+42.548246+-83.228823+42.547806+-83.228794+42.330619+-83.228815+42.330178+-83.228844+42.329740+-83.228932+42.329312+-83.229077+42.328895+-83.229278+42.328496+-83.229533+42.328116+-83.229840+42.327761+-83.230195+42.327434+-83.230596+42.327137+-83.231038+42.326874+-83.231517+42.326648+-83.232028+42.326459+-83.232567+42.326311+-83.233129+42.326204+-83.233707+42.326140+-83.234296+42.326119+-83.234892+42.326119+-83.529163+42.326140+-83.529758+42.326204+-83.530348+42.326311+-83.530926+42.326460+-83.531487+42.326648+-83.532026+42.326875+-83.532538+42.327138+-83.533017+42.327435+-83.533459+42.327762+-83.533859+42.328117+-83.534215+42.328496+-83.534521+42.328896+-83.534776+42.329312+-83.534977+42.329741+-83.535122+42.330178+-83.535210+42.330620+-83.535239%27%29%3B%3E%3B%29%3Bout%3B with timeout=180\n",
      "2022-03-03 19:47:52 Resolved overpass-api.de to 178.63.48.217\n",
      "2022-03-03 19:48:12 Downloaded 61,543.3kB from overpass-api.de\n",
      "2022-03-03 19:48:15 Saved response to cache file \"cache/14e52115f3dbabf087136df84b4dae12bd1f5bdb.json\"\n",
      "2022-03-03 19:48:15 Got all network data within polygon from API in 1 request(s)\n",
      "2022-03-03 19:48:15 Creating graph from downloaded OSM data...\n",
      "2022-03-03 19:48:27 Created graph with 434418 nodes and 983028 edges\n",
      "2022-03-03 19:48:33 Added length attributes to graph edges\n",
      "2022-03-03 19:48:33 Identifying all nodes that lie outside the polygon...\n",
      "2022-03-03 19:48:55 Created nodes GeoDataFrame from graph\n",
      "2022-03-03 19:49:10 Created r-tree spatial index for 434418 geometries\n",
      "2022-03-03 19:49:16 Identified 427262 geometries inside polygon\n",
      "2022-03-03 19:49:26 Removed 7156 nodes outside polygon\n",
      "2022-03-03 19:49:26 Truncated graph by polygon\n",
      "2022-03-03 19:49:30 Begin topologically simplifying the graph...\n",
      "2022-03-03 19:49:46 Identified 120457 edge endpoints\n",
      "2022-03-03 19:50:27 Simplified graph: 427262 to 120457 nodes, 968008 to 354398 edges\n",
      "2022-03-03 19:50:28 Identifying all nodes that lie outside the polygon...\n",
      "2022-03-03 19:50:35 Created nodes GeoDataFrame from graph\n",
      "2022-03-03 19:50:39 Created r-tree spatial index for 120457 geometries\n",
      "2022-03-03 19:50:40 Identified 111770 geometries inside polygon\n",
      "2022-03-03 19:50:44 Removed 8687 nodes outside polygon\n",
      "2022-03-03 19:50:48 Removed 40 isolated nodes\n",
      "2022-03-03 19:50:56 Got largest weakly connected component (107200 of 111730 total nodes)\n",
      "2022-03-03 19:50:56 Truncated graph by polygon\n",
      "2022-03-03 19:50:58 Counted undirected street segments incident on each node\n",
      "2022-03-03 19:50:58 graph_from_polygon returned graph with 107200 nodes and 320134 edges\n",
      "2022-03-03 19:50:59 graph_from_bbox returned graph with 107200 nodes and 320134 edges\n",
      "2022-03-03 19:50:59 graph_from_point returned graph with 107200 nodes and 320134 edges\n",
      "2022-03-03 19:51:04 Created nodes GeoDataFrame from graph\n"
     ]
    },
    {
     "name": "stderr",
     "output_type": "stream",
     "text": [
      "/Users/zachary/opt/anaconda3/envs/final_ML_LR/lib/python3.8/site-packages/osmnx/distance.py:356: UserWarning: The `get_nearest_node` function has been deprecated and will be removed in a future release. Use the more efficient `distance.nearest_nodes` instead.\n",
      "  warnings.warn(msg)\n"
     ]
    },
    {
     "name": "stdout",
     "output_type": "stream",
     "text": [
      "2022-03-03 19:51:05 Created nodes GeoDataFrame from graph\n",
      "2022-03-03 19:51:11 Created nodes GeoDataFrame from graph\n",
      "2022-03-03 19:51:24 Projected GeoDataFrame to +proj=utm +zone=17 +ellps=WGS84 +datum=WGS84 +units=m +no_defs +type=crs\n",
      "2022-03-03 19:51:55 Created edges GeoDataFrame from graph\n",
      "2022-03-03 19:52:11 Projected GeoDataFrame to +proj=utm +zone=17 +ellps=WGS84 +datum=WGS84 +units=m +no_defs +type=crs\n",
      "2022-03-03 19:52:24 Created graph from node/edge GeoDataFrames\n",
      "2022-03-03 19:52:24 Projected graph with 107200 nodes and 320134 edges\n"
     ]
    },
    {
     "name": "stderr",
     "output_type": "stream",
     "text": [
      "/var/folders/8v/6dq3dnld7rx4qv5wr7vx0w5m0000gn/T/ipykernel_30197/3347265067.py:5: FutureWarning: The frame.append method is deprecated and will be removed from pandas in a future version. Use pandas.concat instead.\n",
      "  detroit_polygons = detroit_polygons.append(gdf_iso_poly)\n"
     ]
    },
    {
     "name": "stdout",
     "output_type": "stream",
     "text": [
      "2022-03-03 19:56:10 Created bbox 12075.0 m from (42.3969158997418, -83.350218799785): 42.505508830252566,42.28832296923103,-83.20317186619712,-83.49726573337287\n",
      "2022-03-03 19:56:10 Projected GeoDataFrame to +proj=utm +zone=17 +ellps=WGS84 +datum=WGS84 +units=m +no_defs +type=crs\n",
      "2022-03-03 19:56:10 Projected GeoDataFrame to epsg:4326\n",
      "2022-03-03 19:56:10 Projected GeoDataFrame to +proj=utm +zone=17 +ellps=WGS84 +datum=WGS84 +units=m +no_defs +type=crs\n",
      "2022-03-03 19:56:10 Projected GeoDataFrame to epsg:4326\n",
      "2022-03-03 19:56:10 Requesting data within polygon from API in 1 request(s)\n",
      "2022-03-03 19:56:10 Resolved overpass-api.de to 178.63.48.217\n",
      "2022-03-03 19:56:11 Pausing 0 seconds before making HTTP POST request\n",
      "2022-03-03 19:56:11 Post https://overpass-api.de/api/interpreter?data=%5Bout%3Ajson%5D%5Btimeout%3A180%5D%3B%28way%5B%22highway%22%5D%5B%22area%22%21~%22yes%22%5D%5B%22access%22%21~%22private%22%5D%5B%22highway%22%21~%22abandoned%7Cbus_guideway%7Cconstruction%7Ccycleway%7Cmotor%7Cplanned%7Cplatform%7Cproposed%7Craceway%22%5D%5B%22foot%22%21~%22no%22%5D%5B%22service%22%21~%22private%22%5D%28poly%3A%2742.288323+-83.503327+42.505508+-83.503348+42.505949+-83.503319+42.506386+-83.503232+42.506814+-83.503087+42.507229+-83.502887+42.507628+-83.502632+42.508007+-83.502326+42.508361+-83.501971+42.508688+-83.501571+42.508985+-83.501129+42.509248+-83.500651+42.509475+-83.500140+42.509665+-83.499601+42.509814+-83.499040+42.509922+-83.498462+42.509987+-83.497872+42.510009+-83.497276+42.510010+-83.203161+42.509988+-83.202566+42.509922+-83.201976+42.509814+-83.201398+42.509665+-83.200836+42.509476+-83.200298+42.509249+-83.199787+42.508985+-83.199308+42.508689+-83.198866+42.508362+-83.198466+42.508007+-83.198111+42.507629+-83.197805+42.507230+-83.197551+42.506814+-83.197350+42.506386+-83.197205+42.505950+-83.197118+42.505509+-83.197089+42.288323+-83.197110+42.287881+-83.197139+42.287443+-83.197226+42.287015+-83.197371+42.286598+-83.197572+42.286199+-83.197827+42.285820+-83.198134+42.285465+-83.198489+42.285137+-83.198889+42.284841+-83.199331+42.284577+-83.199810+42.284351+-83.200321+42.284162+-83.200859+42.284014+-83.201420+42.283907+-83.201998+42.283843+-83.202587+42.283822+-83.203182+42.283822+-83.497255+42.283843+-83.497850+42.283907+-83.498439+42.284014+-83.499017+42.284163+-83.499578+42.284351+-83.500117+42.284578+-83.500628+42.284841+-83.501107+42.285138+-83.501548+42.285465+-83.501948+42.285820+-83.502304+42.286199+-83.502610+42.286599+-83.502865+42.287015+-83.503066+42.287444+-83.503211+42.287881+-83.503298+42.288323+-83.503327%27%29%3B%3E%3B%29%3Bout%3B with timeout=180\n",
      "2022-03-03 19:56:11 Resolved overpass-api.de to 178.63.48.217\n",
      "2022-03-03 19:56:29 Downloaded 72,609.5kB from overpass-api.de\n",
      "2022-03-03 19:56:33 Saved response to cache file \"cache/48b7728f94de6c5832e8086b3b188576a16d15a5.json\"\n",
      "2022-03-03 19:56:33 Got all network data within polygon from API in 1 request(s)\n",
      "2022-03-03 19:56:33 Creating graph from downloaded OSM data...\n",
      "2022-03-03 19:56:50 Created graph with 496095 nodes and 1156028 edges\n",
      "2022-03-03 19:56:59 Added length attributes to graph edges\n",
      "2022-03-03 19:56:59 Identifying all nodes that lie outside the polygon...\n",
      "2022-03-03 19:57:26 Created nodes GeoDataFrame from graph\n",
      "2022-03-03 19:57:47 Created r-tree spatial index for 496095 geometries\n",
      "2022-03-03 19:57:57 Identified 487661 geometries inside polygon\n",
      "2022-03-03 19:58:14 Removed 8434 nodes outside polygon\n",
      "2022-03-03 19:58:14 Truncated graph by polygon\n",
      "2022-03-03 19:58:17 Begin topologically simplifying the graph...\n",
      "2022-03-03 19:58:35 Identified 153051 edge endpoints\n",
      "2022-03-03 19:59:41 Simplified graph: 487661 to 153051 nodes, 1138398 to 469178 edges\n",
      "2022-03-03 19:59:43 Identifying all nodes that lie outside the polygon...\n",
      "2022-03-03 19:59:53 Created nodes GeoDataFrame from graph\n",
      "2022-03-03 19:59:59 Created r-tree spatial index for 153051 geometries\n",
      "2022-03-03 20:00:01 Identified 141278 geometries inside polygon\n",
      "2022-03-03 20:00:07 Removed 11773 nodes outside polygon\n",
      "2022-03-03 20:00:13 Removed 36 isolated nodes\n",
      "2022-03-03 20:00:26 Got largest weakly connected component (137226 of 141242 total nodes)\n",
      "2022-03-03 20:00:26 Truncated graph by polygon\n",
      "2022-03-03 20:00:29 Counted undirected street segments incident on each node\n",
      "2022-03-03 20:00:30 graph_from_polygon returned graph with 137226 nodes and 425884 edges\n",
      "2022-03-03 20:00:31 graph_from_bbox returned graph with 137226 nodes and 425884 edges\n",
      "2022-03-03 20:00:31 graph_from_point returned graph with 137226 nodes and 425884 edges\n",
      "2022-03-03 20:00:38 Created nodes GeoDataFrame from graph\n"
     ]
    },
    {
     "name": "stderr",
     "output_type": "stream",
     "text": [
      "/Users/zachary/opt/anaconda3/envs/final_ML_LR/lib/python3.8/site-packages/osmnx/distance.py:356: UserWarning: The `get_nearest_node` function has been deprecated and will be removed in a future release. Use the more efficient `distance.nearest_nodes` instead.\n",
      "  warnings.warn(msg)\n"
     ]
    },
    {
     "name": "stdout",
     "output_type": "stream",
     "text": [
      "2022-03-03 20:00:40 Created nodes GeoDataFrame from graph\n",
      "2022-03-03 20:00:48 Created nodes GeoDataFrame from graph\n",
      "2022-03-03 20:01:07 Projected GeoDataFrame to +proj=utm +zone=17 +ellps=WGS84 +datum=WGS84 +units=m +no_defs +type=crs\n",
      "2022-03-03 20:01:54 Created edges GeoDataFrame from graph\n",
      "2022-03-03 20:02:23 Projected GeoDataFrame to +proj=utm +zone=17 +ellps=WGS84 +datum=WGS84 +units=m +no_defs +type=crs\n",
      "2022-03-03 20:02:47 Created graph from node/edge GeoDataFrames\n",
      "2022-03-03 20:02:47 Projected graph with 137226 nodes and 425884 edges\n"
     ]
    },
    {
     "name": "stderr",
     "output_type": "stream",
     "text": [
      "/var/folders/8v/6dq3dnld7rx4qv5wr7vx0w5m0000gn/T/ipykernel_30197/3347265067.py:5: FutureWarning: The frame.append method is deprecated and will be removed from pandas in a future version. Use pandas.concat instead.\n",
      "  detroit_polygons = detroit_polygons.append(gdf_iso_poly)\n"
     ]
    },
    {
     "name": "stdout",
     "output_type": "stream",
     "text": [
      "2022-03-03 20:08:33 Created bbox 12075.0 m from (42.3574719001756, -83.4819354003148): 42.46606483068636,42.24887896966483,-83.33498080063455,-83.62888999999504\n",
      "2022-03-03 20:08:33 Projected GeoDataFrame to +proj=utm +zone=17 +ellps=WGS84 +datum=WGS84 +units=m +no_defs +type=crs\n",
      "2022-03-03 20:08:33 Projected GeoDataFrame to epsg:4326\n",
      "2022-03-03 20:08:33 Projected GeoDataFrame to +proj=utm +zone=17 +ellps=WGS84 +datum=WGS84 +units=m +no_defs +type=crs\n",
      "2022-03-03 20:08:33 Projected GeoDataFrame to epsg:4326\n",
      "2022-03-03 20:08:33 Requesting data within polygon from API in 1 request(s)\n",
      "2022-03-03 20:08:34 Resolved overpass-api.de to 178.63.48.217\n",
      "2022-03-03 20:08:34 Pausing 0 seconds before making HTTP POST request\n",
      "2022-03-03 20:08:34 Post https://overpass-api.de/api/interpreter?data=%5Bout%3Ajson%5D%5Btimeout%3A180%5D%3B%28way%5B%22highway%22%5D%5B%22area%22%21~%22yes%22%5D%5B%22access%22%21~%22private%22%5D%5B%22highway%22%21~%22abandoned%7Cbus_guideway%7Cconstruction%7Ccycleway%7Cmotor%7Cplanned%7Cplatform%7Cproposed%7Craceway%22%5D%5B%22foot%22%21~%22no%22%5D%5B%22service%22%21~%22private%22%5D%28poly%3A%2742.248879+-83.634948+42.466064+-83.634968+42.466505+-83.634939+42.466941+-83.634852+42.467369+-83.634707+42.467785+-83.634507+42.468184+-83.634253+42.468562+-83.633947+42.468917+-83.633592+42.469244+-83.633192+42.469541+-83.632751+42.469804+-83.632273+42.470031+-83.631762+42.470220+-83.631224+42.470370+-83.630663+42.470477+-83.630085+42.470543+-83.629496+42.470565+-83.628901+42.470566+-83.334970+42.470543+-83.334375+42.470478+-83.333786+42.470370+-83.333208+42.470221+-83.332647+42.470032+-83.332109+42.469805+-83.331598+42.469541+-83.331120+42.469245+-83.330678+42.468918+-83.330279+42.468563+-83.329924+42.468184+-83.329618+42.467786+-83.329363+42.467370+-83.329163+42.466942+-83.329018+42.466506+-83.328931+42.466065+-83.328902+42.248879+-83.328923+42.248437+-83.328952+42.248000+-83.329039+42.247571+-83.329184+42.247154+-83.329385+42.246755+-83.329640+42.246376+-83.329946+42.246021+-83.330301+42.245693+-83.330701+42.245397+-83.331142+42.245134+-83.331621+42.244907+-83.332132+42.244718+-83.332670+42.244570+-83.333230+42.244463+-83.333808+42.244399+-83.334397+42.244378+-83.334991+42.244378+-83.628880+42.244399+-83.629474+42.244464+-83.630063+42.244570+-83.630640+42.244719+-83.631201+42.244907+-83.631739+42.245134+-83.632250+42.245397+-83.632728+42.245694+-83.633170+42.246021+-83.633570+42.246376+-83.633924+42.246755+-83.634231+42.247155+-83.634485+42.247571+-83.634686+42.248000+-83.634831+42.248437+-83.634918+42.248879+-83.634948%27%29%3B%3E%3B%29%3Bout%3B with timeout=180\n",
      "2022-03-03 20:08:34 Resolved overpass-api.de to 178.63.48.217\n",
      "2022-03-03 20:08:45 Downloaded 47,184.5kB from overpass-api.de\n",
      "2022-03-03 20:08:47 Saved response to cache file \"cache/7f15732f03b018fda6c495aaac9f403db8ae2d29.json\"\n",
      "2022-03-03 20:08:47 Got all network data within polygon from API in 1 request(s)\n",
      "2022-03-03 20:08:47 Creating graph from downloaded OSM data...\n",
      "2022-03-03 20:08:55 Created graph with 342907 nodes and 761948 edges\n",
      "2022-03-03 20:09:00 Added length attributes to graph edges\n",
      "2022-03-03 20:09:00 Identifying all nodes that lie outside the polygon...\n",
      "2022-03-03 20:09:16 Created nodes GeoDataFrame from graph\n",
      "2022-03-03 20:09:29 Created r-tree spatial index for 342907 geometries\n",
      "2022-03-03 20:09:34 Identified 336827 geometries inside polygon\n",
      "2022-03-03 20:09:43 Removed 6080 nodes outside polygon\n",
      "2022-03-03 20:09:43 Truncated graph by polygon\n",
      "2022-03-03 20:09:45 Begin topologically simplifying the graph...\n",
      "2022-03-03 20:09:56 Identified 87396 edge endpoints\n",
      "2022-03-03 20:10:30 Simplified graph: 336827 to 87396 nodes, 749288 to 250426 edges\n",
      "2022-03-03 20:10:30 Identifying all nodes that lie outside the polygon...\n",
      "2022-03-03 20:10:34 Created nodes GeoDataFrame from graph\n",
      "2022-03-03 20:10:37 Created r-tree spatial index for 87396 geometries\n",
      "2022-03-03 20:10:38 Identified 79572 geometries inside polygon\n",
      "2022-03-03 20:10:40 Removed 7824 nodes outside polygon\n",
      "2022-03-03 20:10:43 Removed 57 isolated nodes\n",
      "2022-03-03 20:10:49 Got largest weakly connected component (76294 of 79515 total nodes)\n",
      "2022-03-03 20:10:49 Truncated graph by polygon\n",
      "2022-03-03 20:10:51 Counted undirected street segments incident on each node\n",
      "2022-03-03 20:10:51 graph_from_polygon returned graph with 76294 nodes and 221872 edges\n",
      "2022-03-03 20:10:51 graph_from_bbox returned graph with 76294 nodes and 221872 edges\n",
      "2022-03-03 20:10:52 graph_from_point returned graph with 76294 nodes and 221872 edges\n",
      "2022-03-03 20:10:55 Created nodes GeoDataFrame from graph\n"
     ]
    },
    {
     "name": "stderr",
     "output_type": "stream",
     "text": [
      "/Users/zachary/opt/anaconda3/envs/final_ML_LR/lib/python3.8/site-packages/osmnx/distance.py:356: UserWarning: The `get_nearest_node` function has been deprecated and will be removed in a future release. Use the more efficient `distance.nearest_nodes` instead.\n",
      "  warnings.warn(msg)\n"
     ]
    },
    {
     "name": "stdout",
     "output_type": "stream",
     "text": [
      "2022-03-03 20:10:56 Created nodes GeoDataFrame from graph\n",
      "2022-03-03 20:10:59 Created nodes GeoDataFrame from graph\n",
      "2022-03-03 20:11:09 Projected GeoDataFrame to +proj=utm +zone=17 +ellps=WGS84 +datum=WGS84 +units=m +no_defs +type=crs\n",
      "2022-03-03 20:11:30 Created edges GeoDataFrame from graph\n",
      "2022-03-03 20:11:42 Projected GeoDataFrame to +proj=utm +zone=17 +ellps=WGS84 +datum=WGS84 +units=m +no_defs +type=crs\n",
      "2022-03-03 20:11:51 Created graph from node/edge GeoDataFrames\n",
      "2022-03-03 20:11:51 Projected graph with 76294 nodes and 221872 edges\n"
     ]
    },
    {
     "name": "stderr",
     "output_type": "stream",
     "text": [
      "/var/folders/8v/6dq3dnld7rx4qv5wr7vx0w5m0000gn/T/ipykernel_30197/3347265067.py:5: FutureWarning: The frame.append method is deprecated and will be removed from pandas in a future version. Use pandas.concat instead.\n",
      "  detroit_polygons = detroit_polygons.append(gdf_iso_poly)\n"
     ]
    },
    {
     "name": "stdout",
     "output_type": "stream",
     "text": [
      "2022-03-03 20:15:21 Created bbox 12075.0 m from (42.3008584000754, -83.2617235000868): 42.409451330586165,42.19226546956463,-83.11490110217505,-83.40854589799855\n",
      "2022-03-03 20:15:21 Projected GeoDataFrame to +proj=utm +zone=17 +ellps=WGS84 +datum=WGS84 +units=m +no_defs +type=crs\n",
      "2022-03-03 20:15:21 Projected GeoDataFrame to epsg:4326\n",
      "2022-03-03 20:15:21 Projected GeoDataFrame to +proj=utm +zone=17 +ellps=WGS84 +datum=WGS84 +units=m +no_defs +type=crs\n",
      "2022-03-03 20:15:21 Projected GeoDataFrame to epsg:4326\n",
      "2022-03-03 20:15:21 Requesting data within polygon from API in 1 request(s)\n",
      "2022-03-03 20:15:21 Resolved overpass-api.de to 178.63.48.217\n",
      "2022-03-03 20:15:22 Pausing 0 seconds before making HTTP POST request\n",
      "2022-03-03 20:15:22 Post https://overpass-api.de/api/interpreter?data=%5Bout%3Ajson%5D%5Btimeout%3A180%5D%3B%28way%5B%22highway%22%5D%5B%22area%22%21~%22yes%22%5D%5B%22access%22%21~%22private%22%5D%5B%22highway%22%21~%22abandoned%7Cbus_guideway%7Cconstruction%7Ccycleway%7Cmotor%7Cplanned%7Cplatform%7Cproposed%7Craceway%22%5D%5B%22foot%22%21~%22no%22%5D%5B%22service%22%21~%22private%22%5D%28poly%3A%2742.192266+-83.414599+42.409451+-83.414619+42.409892+-83.414590+42.410328+-83.414503+42.410756+-83.414359+42.411172+-83.414158+42.411571+-83.413904+42.411949+-83.413598+42.412304+-83.413244+42.412631+-83.412845+42.412928+-83.412404+42.413191+-83.411926+42.413418+-83.411416+42.413607+-83.410878+42.413756+-83.410317+42.413864+-83.409740+42.413930+-83.409151+42.413952+-83.408556+42.413953+-83.114891+42.413930+-83.114296+42.413865+-83.113707+42.413757+-83.113130+42.413608+-83.112569+42.413419+-83.112031+42.413191+-83.111521+42.412928+-83.111043+42.412632+-83.110602+42.412304+-83.110203+42.411950+-83.109848+42.411571+-83.109542+42.411172+-83.109288+42.410757+-83.109088+42.410329+-83.108943+42.409892+-83.108856+42.409451+-83.108827+42.192265+-83.108848+42.191823+-83.108877+42.191386+-83.108964+42.190957+-83.109109+42.190541+-83.109310+42.190141+-83.109564+42.189762+-83.109870+42.189407+-83.110225+42.189080+-83.110625+42.188783+-83.111066+42.188520+-83.111544+42.188293+-83.112054+42.188104+-83.112592+42.187956+-83.113152+42.187849+-83.113729+42.187785+-83.114318+42.187764+-83.114912+42.187764+-83.408535+42.187785+-83.409129+42.187850+-83.409718+42.187956+-83.410295+42.188105+-83.410855+42.188293+-83.411393+42.188520+-83.411903+42.188783+-83.412381+42.189080+-83.412822+42.189407+-83.413222+42.189762+-83.413576+42.190142+-83.413882+42.190541+-83.414137+42.190958+-83.414337+42.191386+-83.414482+42.191824+-83.414569+42.192266+-83.414599%27%29%3B%3E%3B%29%3Bout%3B with timeout=180\n",
      "2022-03-03 20:15:22 Resolved overpass-api.de to 178.63.48.217\n",
      "2022-03-03 20:15:37 Downloaded 63,683.9kB from overpass-api.de\n",
      "2022-03-03 20:15:40 Saved response to cache file \"cache/fd30535b7c7447369aa1dd56727945babec4e580.json\"\n",
      "2022-03-03 20:15:40 Got all network data within polygon from API in 1 request(s)\n",
      "2022-03-03 20:15:40 Creating graph from downloaded OSM data...\n",
      "2022-03-03 20:15:55 Created graph with 409043 nodes and 1007330 edges\n",
      "2022-03-03 20:16:03 Added length attributes to graph edges\n",
      "2022-03-03 20:16:03 Identifying all nodes that lie outside the polygon...\n",
      "2022-03-03 20:16:28 Created nodes GeoDataFrame from graph\n",
      "2022-03-03 20:16:47 Created r-tree spatial index for 409043 geometries\n",
      "2022-03-03 20:16:53 Identified 401452 geometries inside polygon\n",
      "2022-03-03 20:17:10 Removed 7591 nodes outside polygon\n",
      "2022-03-03 20:17:10 Truncated graph by polygon\n",
      "2022-03-03 20:17:14 Begin topologically simplifying the graph...\n",
      "2022-03-03 20:17:29 Identified 154595 edge endpoints\n",
      "2022-03-03 20:18:18 Simplified graph: 401452 to 154595 nodes, 991172 to 497458 edges\n",
      "2022-03-03 20:18:19 Identifying all nodes that lie outside the polygon...\n",
      "2022-03-03 20:18:27 Created nodes GeoDataFrame from graph\n",
      "2022-03-03 20:18:34 Created r-tree spatial index for 154595 geometries\n",
      "2022-03-03 20:18:35 Identified 145362 geometries inside polygon\n",
      "2022-03-03 20:18:45 Removed 9233 nodes outside polygon\n",
      "2022-03-03 20:18:54 Removed 28 isolated nodes\n",
      "2022-03-03 20:19:11 Got largest weakly connected component (141975 of 145334 total nodes)\n",
      "2022-03-03 20:19:11 Truncated graph by polygon\n",
      "2022-03-03 20:19:16 Counted undirected street segments incident on each node\n",
      "2022-03-03 20:19:16 graph_from_polygon returned graph with 141975 nodes and 463034 edges\n",
      "2022-03-03 20:19:17 graph_from_bbox returned graph with 141975 nodes and 463034 edges\n",
      "2022-03-03 20:19:17 graph_from_point returned graph with 141975 nodes and 463034 edges\n",
      "2022-03-03 20:19:25 Created nodes GeoDataFrame from graph\n"
     ]
    },
    {
     "name": "stderr",
     "output_type": "stream",
     "text": [
      "/Users/zachary/opt/anaconda3/envs/final_ML_LR/lib/python3.8/site-packages/osmnx/distance.py:356: UserWarning: The `get_nearest_node` function has been deprecated and will be removed in a future release. Use the more efficient `distance.nearest_nodes` instead.\n",
      "  warnings.warn(msg)\n"
     ]
    },
    {
     "name": "stdout",
     "output_type": "stream",
     "text": [
      "2022-03-03 20:19:26 Created nodes GeoDataFrame from graph\n",
      "2022-03-03 20:19:40 Created nodes GeoDataFrame from graph\n",
      "2022-03-03 20:20:02 Projected GeoDataFrame to +proj=utm +zone=17 +ellps=WGS84 +datum=WGS84 +units=m +no_defs +type=crs\n",
      "2022-03-03 20:20:57 Created edges GeoDataFrame from graph\n",
      "2022-03-03 20:21:29 Projected GeoDataFrame to +proj=utm +zone=17 +ellps=WGS84 +datum=WGS84 +units=m +no_defs +type=crs\n",
      "2022-03-03 20:21:51 Created graph from node/edge GeoDataFrames\n",
      "2022-03-03 20:21:51 Projected graph with 141975 nodes and 463034 edges\n"
     ]
    },
    {
     "name": "stderr",
     "output_type": "stream",
     "text": [
      "/var/folders/8v/6dq3dnld7rx4qv5wr7vx0w5m0000gn/T/ipykernel_30197/3347265067.py:5: FutureWarning: The frame.append method is deprecated and will be removed from pandas in a future version. Use pandas.concat instead.\n",
      "  detroit_polygons = detroit_polygons.append(gdf_iso_poly)\n"
     ]
    },
    {
     "name": "stdout",
     "output_type": "stream",
     "text": [
      "2022-03-03 20:29:07 Created bbox 12075.0 m from (42.3278948002217, -83.3007632995777): 42.436487730732466,42.21930186971093,-83.15387781483123,-83.44764878432416\n",
      "2022-03-03 20:29:07 Projected GeoDataFrame to +proj=utm +zone=17 +ellps=WGS84 +datum=WGS84 +units=m +no_defs +type=crs\n",
      "2022-03-03 20:29:07 Projected GeoDataFrame to epsg:4326\n",
      "2022-03-03 20:29:07 Projected GeoDataFrame to +proj=utm +zone=17 +ellps=WGS84 +datum=WGS84 +units=m +no_defs +type=crs\n",
      "2022-03-03 20:29:07 Projected GeoDataFrame to epsg:4326\n",
      "2022-03-03 20:29:07 Requesting data within polygon from API in 1 request(s)\n",
      "2022-03-03 20:29:07 Resolved overpass-api.de to 178.63.48.217\n",
      "2022-03-03 20:29:07 Pausing 0 seconds before making HTTP POST request\n",
      "2022-03-03 20:29:07 Post https://overpass-api.de/api/interpreter?data=%5Bout%3Ajson%5D%5Btimeout%3A180%5D%3B%28way%5B%22highway%22%5D%5B%22area%22%21~%22yes%22%5D%5B%22access%22%21~%22private%22%5D%5B%22highway%22%21~%22abandoned%7Cbus_guideway%7Cconstruction%7Ccycleway%7Cmotor%7Cplanned%7Cplatform%7Cproposed%7Craceway%22%5D%5B%22foot%22%21~%22no%22%5D%5B%22service%22%21~%22private%22%5D%28poly%3A%2742.219302+-83.453704+42.436487+-83.453725+42.436928+-83.453696+42.437364+-83.453608+42.437792+-83.453464+42.438208+-83.453264+42.438607+-83.453009+42.438986+-83.452703+42.439340+-83.452349+42.439667+-83.451949+42.439964+-83.451508+42.440227+-83.451030+42.440454+-83.450520+42.440644+-83.449982+42.440793+-83.449421+42.440901+-83.448843+42.440966+-83.448254+42.440988+-83.447659+42.440989+-83.153867+42.440967+-83.153272+42.440901+-83.152683+42.440793+-83.152106+42.440644+-83.151545+42.440455+-83.151007+42.440228+-83.150496+42.439964+-83.150018+42.439668+-83.149577+42.439341+-83.149177+42.438986+-83.148823+42.438607+-83.148517+42.438209+-83.148263+42.437793+-83.148062+42.437365+-83.147918+42.436929+-83.147830+42.436488+-83.147801+42.219301+-83.147822+42.218860+-83.147851+42.218422+-83.147939+42.217993+-83.148083+42.217577+-83.148284+42.217178+-83.148539+42.216798+-83.148845+42.216443+-83.149200+42.216116+-83.149600+42.215819+-83.150041+42.215556+-83.150519+42.215329+-83.151030+42.215141+-83.151568+42.214992+-83.152128+42.214886+-83.152705+42.214821+-83.153294+42.214800+-83.153888+42.214801+-83.447638+42.214822+-83.448233+42.214886+-83.448821+42.214993+-83.449398+42.215141+-83.449959+42.215330+-83.450497+42.215557+-83.451007+42.215820+-83.451486+42.216117+-83.451927+42.216444+-83.452327+42.216799+-83.452681+42.217178+-83.452987+42.217578+-83.453242+42.217994+-83.453443+42.218423+-83.453587+42.218860+-83.453675+42.219302+-83.453704%27%29%3B%3E%3B%29%3Bout%3B with timeout=180\n",
      "2022-03-03 20:29:07 Resolved overpass-api.de to 178.63.48.217\n",
      "2022-03-03 20:29:22 Downloaded 68,258.0kB from overpass-api.de\n",
      "2022-03-03 20:29:25 Saved response to cache file \"cache/29672a66658c8e034b7e1c2de23b1b9bab2855f9.json\"\n",
      "2022-03-03 20:29:25 Got all network data within polygon from API in 1 request(s)\n",
      "2022-03-03 20:29:25 Creating graph from downloaded OSM data...\n",
      "2022-03-03 20:29:40 Created graph with 448629 nodes and 1089228 edges\n",
      "2022-03-03 20:29:48 Added length attributes to graph edges\n",
      "2022-03-03 20:29:49 Identifying all nodes that lie outside the polygon...\n",
      "2022-03-03 20:30:13 Created nodes GeoDataFrame from graph\n",
      "2022-03-03 20:30:34 Created r-tree spatial index for 448629 geometries\n",
      "2022-03-03 20:30:42 Identified 441797 geometries inside polygon\n",
      "2022-03-03 20:31:00 Removed 6832 nodes outside polygon\n",
      "2022-03-03 20:31:00 Truncated graph by polygon\n",
      "2022-03-03 20:31:04 Begin topologically simplifying the graph...\n",
      "2022-03-03 20:31:20 Identified 159932 edge endpoints\n",
      "2022-03-03 20:32:33 Simplified graph: 441797 to 159932 nodes, 1074764 to 511034 edges\n",
      "2022-03-03 20:32:34 Identifying all nodes that lie outside the polygon...\n",
      "2022-03-03 20:32:43 Created nodes GeoDataFrame from graph\n",
      "2022-03-03 20:32:50 Created r-tree spatial index for 159932 geometries\n",
      "2022-03-03 20:32:51 Identified 149931 geometries inside polygon\n",
      "2022-03-03 20:32:59 Removed 10001 nodes outside polygon\n",
      "2022-03-03 20:33:06 Removed 47 isolated nodes\n",
      "2022-03-03 20:33:19 Got largest weakly connected component (146483 of 149884 total nodes)\n",
      "2022-03-03 20:33:19 Truncated graph by polygon\n",
      "2022-03-03 20:33:23 Counted undirected street segments incident on each node\n",
      "2022-03-03 20:33:23 graph_from_polygon returned graph with 146483 nodes and 473654 edges\n",
      "2022-03-03 20:33:24 graph_from_bbox returned graph with 146483 nodes and 473654 edges\n",
      "2022-03-03 20:33:24 graph_from_point returned graph with 146483 nodes and 473654 edges\n",
      "2022-03-03 20:33:32 Created nodes GeoDataFrame from graph\n"
     ]
    },
    {
     "name": "stderr",
     "output_type": "stream",
     "text": [
      "/Users/zachary/opt/anaconda3/envs/final_ML_LR/lib/python3.8/site-packages/osmnx/distance.py:356: UserWarning: The `get_nearest_node` function has been deprecated and will be removed in a future release. Use the more efficient `distance.nearest_nodes` instead.\n",
      "  warnings.warn(msg)\n"
     ]
    },
    {
     "name": "stdout",
     "output_type": "stream",
     "text": [
      "2022-03-03 20:33:35 Created nodes GeoDataFrame from graph\n",
      "2022-03-03 20:33:43 Created nodes GeoDataFrame from graph\n",
      "2022-03-03 20:34:05 Projected GeoDataFrame to +proj=utm +zone=17 +ellps=WGS84 +datum=WGS84 +units=m +no_defs +type=crs\n",
      "2022-03-03 20:34:59 Created edges GeoDataFrame from graph\n",
      "2022-03-03 20:35:30 Projected GeoDataFrame to +proj=utm +zone=17 +ellps=WGS84 +datum=WGS84 +units=m +no_defs +type=crs\n",
      "2022-03-03 20:35:50 Created graph from node/edge GeoDataFrames\n",
      "2022-03-03 20:35:50 Projected graph with 146483 nodes and 473654 edges\n"
     ]
    },
    {
     "name": "stderr",
     "output_type": "stream",
     "text": [
      "/var/folders/8v/6dq3dnld7rx4qv5wr7vx0w5m0000gn/T/ipykernel_30197/3347265067.py:5: FutureWarning: The frame.append method is deprecated and will be removed from pandas in a future version. Use pandas.concat instead.\n",
      "  detroit_polygons = detroit_polygons.append(gdf_iso_poly)\n"
     ]
    },
    {
     "name": "stdout",
     "output_type": "stream",
     "text": [
      "2022-03-03 20:42:46 Created bbox 12075.0 m from (42.2575409999851, -83.2512697997356): 42.36613393049587,42.148948069474336,-83.10454829785174,-83.39799130161946\n",
      "2022-03-03 20:42:46 Projected GeoDataFrame to +proj=utm +zone=17 +ellps=WGS84 +datum=WGS84 +units=m +no_defs +type=crs\n",
      "2022-03-03 20:42:46 Projected GeoDataFrame to epsg:4326\n",
      "2022-03-03 20:42:46 Projected GeoDataFrame to +proj=utm +zone=17 +ellps=WGS84 +datum=WGS84 +units=m +no_defs +type=crs\n",
      "2022-03-03 20:42:46 Projected GeoDataFrame to epsg:4326\n",
      "2022-03-03 20:42:46 Requesting data within polygon from API in 1 request(s)\n",
      "2022-03-03 20:42:46 Resolved overpass-api.de to 178.63.48.217\n",
      "2022-03-03 20:42:47 Pausing 0 seconds before making HTTP POST request\n",
      "2022-03-03 20:42:47 Post https://overpass-api.de/api/interpreter?data=%5Bout%3Ajson%5D%5Btimeout%3A180%5D%3B%28way%5B%22highway%22%5D%5B%22area%22%21~%22yes%22%5D%5B%22access%22%21~%22private%22%5D%5B%22highway%22%21~%22abandoned%7Cbus_guideway%7Cconstruction%7Ccycleway%7Cmotor%7Cplanned%7Cplatform%7Cproposed%7Craceway%22%5D%5B%22foot%22%21~%22no%22%5D%5B%22service%22%21~%22private%22%5D%28poly%3A%2742.148948+-83.404040+42.366134+-83.404061+42.366574+-83.404032+42.367011+-83.403944+42.367439+-83.403800+42.367854+-83.403600+42.368253+-83.403346+42.368632+-83.403040+42.368986+-83.402686+42.369314+-83.402287+42.369610+-83.401847+42.369873+-83.401369+42.370101+-83.400859+42.370290+-83.400321+42.370439+-83.399761+42.370547+-83.399185+42.370612+-83.398596+42.370635+-83.398002+42.370635+-83.104538+42.370613+-83.103944+42.370547+-83.103355+42.370440+-83.102778+42.370290+-83.102218+42.370101+-83.101680+42.369874+-83.101170+42.369611+-83.100693+42.369314+-83.100252+42.368987+-83.099853+42.368632+-83.099499+42.368254+-83.099193+42.367855+-83.098939+42.367439+-83.098739+42.367011+-83.098595+42.366575+-83.098507+42.366134+-83.098478+42.148948+-83.098499+42.148506+-83.098528+42.148069+-83.098616+42.147640+-83.098760+42.147223+-83.098961+42.146824+-83.099215+42.146444+-83.099521+42.146090+-83.099875+42.145762+-83.100275+42.145465+-83.100716+42.145202+-83.101193+42.144975+-83.101703+42.144787+-83.102241+42.144639+-83.102801+42.144532+-83.103377+42.144467+-83.103965+42.144447+-83.104559+42.144447+-83.397981+42.144468+-83.398574+42.144532+-83.399162+42.144639+-83.399739+42.144787+-83.400299+42.144976+-83.400836+42.145203+-83.401346+42.145466+-83.401824+42.145763+-83.402265+42.146090+-83.402664+42.146445+-83.403018+42.146824+-83.403324+42.147224+-83.403578+42.147640+-83.403779+42.148069+-83.403923+42.148506+-83.404011+42.148948+-83.404040%27%29%3B%3E%3B%29%3Bout%3B with timeout=180\n",
      "2022-03-03 20:42:47 Resolved overpass-api.de to 178.63.48.217\n",
      "2022-03-03 20:42:58 Downloaded 55,775.4kB from overpass-api.de\n",
      "2022-03-03 20:43:00 Saved response to cache file \"cache/0c86655d2400e6e289aa27dcb4d45c72973134e2.json\"\n",
      "2022-03-03 20:43:00 Got all network data within polygon from API in 1 request(s)\n",
      "2022-03-03 20:43:00 Creating graph from downloaded OSM data...\n",
      "2022-03-03 20:43:12 Created graph with 362854 nodes and 885978 edges\n",
      "2022-03-03 20:43:19 Added length attributes to graph edges\n",
      "2022-03-03 20:43:19 Identifying all nodes that lie outside the polygon...\n",
      "2022-03-03 20:43:38 Created nodes GeoDataFrame from graph\n",
      "2022-03-03 20:43:53 Created r-tree spatial index for 362854 geometries\n",
      "2022-03-03 20:43:58 Identified 356886 geometries inside polygon\n",
      "2022-03-03 20:44:10 Removed 5968 nodes outside polygon\n",
      "2022-03-03 20:44:10 Truncated graph by polygon\n",
      "2022-03-03 20:44:12 Begin topologically simplifying the graph...\n",
      "2022-03-03 20:44:26 Identified 134896 edge endpoints\n",
      "2022-03-03 20:45:09 Simplified graph: 356886 to 134896 nodes, 873198 to 429218 edges\n",
      "2022-03-03 20:45:10 Identifying all nodes that lie outside the polygon...\n",
      "2022-03-03 20:45:17 Created nodes GeoDataFrame from graph\n",
      "2022-03-03 20:45:23 Created r-tree spatial index for 134896 geometries\n",
      "2022-03-03 20:45:24 Identified 126471 geometries inside polygon\n",
      "2022-03-03 20:45:29 Removed 8425 nodes outside polygon\n",
      "2022-03-03 20:45:34 Removed 46 isolated nodes\n",
      "2022-03-03 20:45:45 Got largest weakly connected component (122795 of 126425 total nodes)\n",
      "2022-03-03 20:45:46 Truncated graph by polygon\n",
      "2022-03-03 20:45:49 Counted undirected street segments incident on each node\n",
      "2022-03-03 20:45:49 graph_from_polygon returned graph with 122795 nodes and 396820 edges\n",
      "2022-03-03 20:45:49 graph_from_bbox returned graph with 122795 nodes and 396820 edges\n",
      "2022-03-03 20:45:50 graph_from_point returned graph with 122795 nodes and 396820 edges\n",
      "2022-03-03 20:45:57 Created nodes GeoDataFrame from graph\n"
     ]
    },
    {
     "name": "stderr",
     "output_type": "stream",
     "text": [
      "/Users/zachary/opt/anaconda3/envs/final_ML_LR/lib/python3.8/site-packages/osmnx/distance.py:356: UserWarning: The `get_nearest_node` function has been deprecated and will be removed in a future release. Use the more efficient `distance.nearest_nodes` instead.\n",
      "  warnings.warn(msg)\n"
     ]
    },
    {
     "name": "stdout",
     "output_type": "stream",
     "text": [
      "2022-03-03 20:45:58 Created nodes GeoDataFrame from graph\n",
      "2022-03-03 20:46:05 Created nodes GeoDataFrame from graph\n",
      "2022-03-03 20:46:23 Projected GeoDataFrame to +proj=utm +zone=17 +ellps=WGS84 +datum=WGS84 +units=m +no_defs +type=crs\n",
      "2022-03-03 20:47:09 Created edges GeoDataFrame from graph\n",
      "2022-03-03 20:47:32 Projected GeoDataFrame to +proj=utm +zone=17 +ellps=WGS84 +datum=WGS84 +units=m +no_defs +type=crs\n",
      "2022-03-03 20:47:50 Created graph from node/edge GeoDataFrames\n",
      "2022-03-03 20:47:50 Projected graph with 122795 nodes and 396820 edges\n"
     ]
    },
    {
     "name": "stderr",
     "output_type": "stream",
     "text": [
      "/var/folders/8v/6dq3dnld7rx4qv5wr7vx0w5m0000gn/T/ipykernel_30197/3347265067.py:5: FutureWarning: The frame.append method is deprecated and will be removed from pandas in a future version. Use pandas.concat instead.\n",
      "  detroit_polygons = detroit_polygons.append(gdf_iso_poly)\n"
     ]
    },
    {
     "name": "stdout",
     "output_type": "stream",
     "text": [
      "2022-03-03 20:54:24 Created bbox 12075.0 m from (42.2550123000083, -83.195544400205): 42.36360523051907,42.146419369497536,-83.04882878136206,-83.34226001904793\n",
      "2022-03-03 20:54:24 Projected GeoDataFrame to +proj=utm +zone=17 +ellps=WGS84 +datum=WGS84 +units=m +no_defs +type=crs\n",
      "2022-03-03 20:54:24 Projected GeoDataFrame to epsg:4326\n",
      "2022-03-03 20:54:24 Projected GeoDataFrame to +proj=utm +zone=17 +ellps=WGS84 +datum=WGS84 +units=m +no_defs +type=crs\n",
      "2022-03-03 20:54:24 Projected GeoDataFrame to epsg:4326\n",
      "2022-03-03 20:54:24 Requesting data within polygon from API in 1 request(s)\n",
      "2022-03-03 20:54:24 Resolved overpass-api.de to 178.63.48.217\n",
      "2022-03-03 20:54:24 Pausing 0 seconds before making HTTP POST request\n",
      "2022-03-03 20:54:24 Post https://overpass-api.de/api/interpreter?data=%5Bout%3Ajson%5D%5Btimeout%3A180%5D%3B%28way%5B%22highway%22%5D%5B%22area%22%21~%22yes%22%5D%5B%22access%22%21~%22private%22%5D%5B%22highway%22%21~%22abandoned%7Cbus_guideway%7Cconstruction%7Ccycleway%7Cmotor%7Cplanned%7Cplatform%7Cproposed%7Craceway%22%5D%5B%22foot%22%21~%22no%22%5D%5B%22service%22%21~%22private%22%5D%28poly%3A%2742.146419+-83.348308+42.363605+-83.348329+42.364046+-83.348300+42.364482+-83.348213+42.364910+-83.348069+42.365326+-83.347869+42.365725+-83.347614+42.366103+-83.347309+42.366458+-83.346955+42.366785+-83.346556+42.367082+-83.346115+42.367345+-83.345638+42.367572+-83.345128+42.367761+-83.344590+42.367911+-83.344030+42.368018+-83.343453+42.368084+-83.342865+42.368106+-83.342271+42.368107+-83.048818+42.368084+-83.048224+42.368019+-83.047636+42.367911+-83.047059+42.367762+-83.046499+42.367573+-83.045961+42.367345+-83.045451+42.367082+-83.044973+42.366786+-83.044533+42.366458+-83.044134+42.366104+-83.043780+42.365725+-83.043474+42.365326+-83.043220+42.364911+-83.043020+42.364483+-83.042875+42.364046+-83.042788+42.363605+-83.042759+42.146419+-83.042780+42.145977+-83.042809+42.145540+-83.042896+42.145111+-83.043041+42.144695+-83.043241+42.144295+-83.043496+42.143916+-83.043802+42.143561+-83.044156+42.143233+-83.044555+42.142937+-83.044996+42.142674+-83.045474+42.142447+-83.045984+42.142258+-83.046521+42.142110+-83.047081+42.142003+-83.047658+42.141939+-83.048246+42.141918+-83.048839+42.141918+-83.342250+42.141939+-83.342843+42.142003+-83.343431+42.142110+-83.344008+42.142259+-83.344567+42.142447+-83.345105+42.142674+-83.345615+42.142937+-83.346093+42.143234+-83.346533+42.143561+-83.346933+42.143916+-83.347287+42.144295+-83.347593+42.144695+-83.347847+42.145111+-83.348047+42.145540+-83.348192+42.145978+-83.348279+42.146419+-83.348308%27%29%3B%3E%3B%29%3Bout%3B with timeout=180\n",
      "2022-03-03 20:54:24 Resolved overpass-api.de to 178.63.48.217\n",
      "2022-03-03 20:54:33 Downloaded 56,646.3kB from overpass-api.de\n",
      "2022-03-03 20:54:36 Saved response to cache file \"cache/06e7186609698dd0f8fadb14f8595e60c1261fe6.json\"\n",
      "2022-03-03 20:54:36 Got all network data within polygon from API in 1 request(s)\n",
      "2022-03-03 20:54:36 Creating graph from downloaded OSM data...\n",
      "2022-03-03 20:54:53 Created graph with 360786 nodes and 889922 edges\n",
      "2022-03-03 20:54:59 Added length attributes to graph edges\n",
      "2022-03-03 20:54:59 Identifying all nodes that lie outside the polygon...\n",
      "2022-03-03 20:55:23 Created nodes GeoDataFrame from graph\n",
      "2022-03-03 20:55:39 Created r-tree spatial index for 360786 geometries\n",
      "2022-03-03 20:55:45 Identified 354439 geometries inside polygon\n",
      "2022-03-03 20:55:58 Removed 6347 nodes outside polygon\n",
      "2022-03-03 20:55:58 Truncated graph by polygon\n",
      "2022-03-03 20:56:01 Begin topologically simplifying the graph...\n",
      "2022-03-03 20:56:17 Identified 138962 edge endpoints\n",
      "2022-03-03 20:57:02 Simplified graph: 354439 to 138962 nodes, 876392 to 445438 edges\n",
      "2022-03-03 20:57:03 Identifying all nodes that lie outside the polygon...\n",
      "2022-03-03 20:57:11 Created nodes GeoDataFrame from graph\n",
      "2022-03-03 20:57:17 Created r-tree spatial index for 138962 geometries\n",
      "2022-03-03 20:57:18 Identified 129584 geometries inside polygon\n",
      "2022-03-03 20:57:23 Removed 9378 nodes outside polygon\n",
      "2022-03-03 20:57:29 Removed 34 isolated nodes\n",
      "2022-03-03 20:57:40 Got largest weakly connected component (122819 of 129550 total nodes)\n",
      "2022-03-03 20:57:41 Truncated graph by polygon\n",
      "2022-03-03 20:57:44 Counted undirected street segments incident on each node\n",
      "2022-03-03 20:57:45 graph_from_polygon returned graph with 122819 nodes and 400126 edges\n",
      "2022-03-03 20:57:45 graph_from_bbox returned graph with 122819 nodes and 400126 edges\n",
      "2022-03-03 20:57:45 graph_from_point returned graph with 122819 nodes and 400126 edges\n",
      "2022-03-03 20:57:53 Created nodes GeoDataFrame from graph\n"
     ]
    },
    {
     "name": "stderr",
     "output_type": "stream",
     "text": [
      "/Users/zachary/opt/anaconda3/envs/final_ML_LR/lib/python3.8/site-packages/osmnx/distance.py:356: UserWarning: The `get_nearest_node` function has been deprecated and will be removed in a future release. Use the more efficient `distance.nearest_nodes` instead.\n",
      "  warnings.warn(msg)\n"
     ]
    },
    {
     "name": "stdout",
     "output_type": "stream",
     "text": [
      "2022-03-03 20:57:54 Created nodes GeoDataFrame from graph\n",
      "2022-03-03 20:58:01 Created nodes GeoDataFrame from graph\n",
      "2022-03-03 20:58:20 Projected GeoDataFrame to +proj=utm +zone=17 +ellps=WGS84 +datum=WGS84 +units=m +no_defs +type=crs\n",
      "2022-03-03 20:59:10 Created edges GeoDataFrame from graph\n",
      "2022-03-03 20:59:39 Projected GeoDataFrame to +proj=utm +zone=17 +ellps=WGS84 +datum=WGS84 +units=m +no_defs +type=crs\n",
      "2022-03-03 20:59:58 Created graph from node/edge GeoDataFrames\n",
      "2022-03-03 20:59:58 Projected graph with 122819 nodes and 400126 edges\n"
     ]
    },
    {
     "name": "stderr",
     "output_type": "stream",
     "text": [
      "/var/folders/8v/6dq3dnld7rx4qv5wr7vx0w5m0000gn/T/ipykernel_30197/3347265067.py:5: FutureWarning: The frame.append method is deprecated and will be removed from pandas in a future version. Use pandas.concat instead.\n",
      "  detroit_polygons = detroit_polygons.append(gdf_iso_poly)\n"
     ]
    },
    {
     "name": "stdout",
     "output_type": "stream",
     "text": [
      "2022-03-03 21:06:52 Created bbox 12075.0 m from (42.3414250999152, -83.3312212003086): 42.450018030425966,42.23283216940443,-83.18430411126674,-83.47813828935047\n",
      "2022-03-03 21:06:52 Projected GeoDataFrame to +proj=utm +zone=17 +ellps=WGS84 +datum=WGS84 +units=m +no_defs +type=crs\n",
      "2022-03-03 21:06:52 Projected GeoDataFrame to epsg:4326\n",
      "2022-03-03 21:06:52 Projected GeoDataFrame to +proj=utm +zone=17 +ellps=WGS84 +datum=WGS84 +units=m +no_defs +type=crs\n",
      "2022-03-03 21:06:52 Projected GeoDataFrame to epsg:4326\n",
      "2022-03-03 21:06:52 Requesting data within polygon from API in 1 request(s)\n",
      "2022-03-03 21:06:52 Resolved overpass-api.de to 178.63.11.215\n",
      "2022-03-03 21:06:54 Pausing 0 seconds before making HTTP POST request\n",
      "2022-03-03 21:06:54 Post https://overpass-api.de/api/interpreter?data=%5Bout%3Ajson%5D%5Btimeout%3A180%5D%3B%28way%5B%22highway%22%5D%5B%22area%22%21~%22yes%22%5D%5B%22access%22%21~%22private%22%5D%5B%22highway%22%21~%22abandoned%7Cbus_guideway%7Cconstruction%7Ccycleway%7Cmotor%7Cplanned%7Cplatform%7Cproposed%7Craceway%22%5D%5B%22foot%22%21~%22no%22%5D%5B%22service%22%21~%22private%22%5D%28poly%3A%2742.232832+-83.484195+42.450018+-83.484216+42.450458+-83.484186+42.450895+-83.484099+42.451323+-83.483955+42.451738+-83.483754+42.452137+-83.483500+42.452516+-83.483194+42.452870+-83.482839+42.453198+-83.482440+42.453494+-83.481999+42.453757+-83.481520+42.453985+-83.481010+42.454174+-83.480472+42.454323+-83.479911+42.454431+-83.479333+42.454496+-83.478744+42.454519+-83.478149+42.454519+-83.184294+42.454497+-83.183699+42.454431+-83.183109+42.454324+-83.182532+42.454174+-83.181971+42.453985+-83.181433+42.453758+-83.180922+42.453495+-83.180444+42.453198+-83.180003+42.452871+-83.179603+42.452516+-83.179248+42.452138+-83.178942+42.451739+-83.178688+42.451323+-83.178487+42.450895+-83.178343+42.450459+-83.178255+42.450018+-83.178226+42.232832+-83.178247+42.232390+-83.178276+42.231953+-83.178364+42.231524+-83.178509+42.231107+-83.178709+42.230708+-83.178964+42.230329+-83.179270+42.229974+-83.179625+42.229646+-83.180025+42.229350+-83.180466+42.229087+-83.180945+42.228860+-83.181455+42.228671+-83.181994+42.228523+-83.182554+42.228416+-83.183132+42.228352+-83.183720+42.228331+-83.184315+42.228331+-83.478128+42.228352+-83.478722+42.228416+-83.479311+42.228523+-83.479888+42.228672+-83.480449+42.228860+-83.480987+42.229087+-83.481498+42.229350+-83.481976+42.229647+-83.482417+42.229974+-83.482817+42.230329+-83.483172+42.230708+-83.483478+42.231108+-83.483733+42.231524+-83.483933+42.231953+-83.484078+42.232391+-83.484165+42.232832+-83.484195%27%29%3B%3E%3B%29%3Bout%3B with timeout=180\n",
      "2022-03-03 21:06:54 Resolved overpass-api.de to 178.63.11.215\n",
      "2022-03-03 21:07:07 Downloaded 70,342.2kB from overpass-api.de\n",
      "2022-03-03 21:07:10 Saved response to cache file \"cache/1cb7e443211ab9f9df275d24509c99c1946582d3.json\"\n",
      "2022-03-03 21:07:10 Got all network data within polygon from API in 1 request(s)\n",
      "2022-03-03 21:07:10 Creating graph from downloaded OSM data...\n",
      "2022-03-03 21:07:23 Created graph with 469607 nodes and 1120862 edges\n",
      "2022-03-03 21:07:31 Added length attributes to graph edges\n",
      "2022-03-03 21:07:31 Identifying all nodes that lie outside the polygon...\n",
      "2022-03-03 21:07:56 Created nodes GeoDataFrame from graph\n",
      "2022-03-03 21:08:13 Created r-tree spatial index for 469607 geometries\n",
      "2022-03-03 21:08:19 Identified 462078 geometries inside polygon\n",
      "2022-03-03 21:08:35 Removed 7529 nodes outside polygon\n",
      "2022-03-03 21:08:35 Truncated graph by polygon\n",
      "2022-03-03 21:08:39 Begin topologically simplifying the graph...\n",
      "2022-03-03 21:08:55 Identified 157325 edge endpoints\n",
      "2022-03-03 21:09:46 Simplified graph: 462078 to 157325 nodes, 1105082 to 495576 edges\n",
      "2022-03-03 21:09:47 Identifying all nodes that lie outside the polygon...\n",
      "2022-03-03 21:09:53 Created nodes GeoDataFrame from graph\n",
      "2022-03-03 21:09:59 Created r-tree spatial index for 157325 geometries\n",
      "2022-03-03 21:10:00 Identified 147251 geometries inside polygon\n",
      "2022-03-03 21:10:05 Removed 10074 nodes outside polygon\n",
      "2022-03-03 21:10:10 Removed 43 isolated nodes\n",
      "2022-03-03 21:10:23 Got largest weakly connected component (143533 of 147208 total nodes)\n",
      "2022-03-03 21:10:23 Truncated graph by polygon\n",
      "2022-03-03 21:10:26 Counted undirected street segments incident on each node\n",
      "2022-03-03 21:10:26 graph_from_polygon returned graph with 143533 nodes and 458924 edges\n",
      "2022-03-03 21:10:27 graph_from_bbox returned graph with 143533 nodes and 458924 edges\n",
      "2022-03-03 21:10:27 graph_from_point returned graph with 143533 nodes and 458924 edges\n",
      "2022-03-03 21:10:33 Created nodes GeoDataFrame from graph\n"
     ]
    },
    {
     "name": "stderr",
     "output_type": "stream",
     "text": [
      "/Users/zachary/opt/anaconda3/envs/final_ML_LR/lib/python3.8/site-packages/osmnx/distance.py:356: UserWarning: The `get_nearest_node` function has been deprecated and will be removed in a future release. Use the more efficient `distance.nearest_nodes` instead.\n",
      "  warnings.warn(msg)\n"
     ]
    },
    {
     "name": "stdout",
     "output_type": "stream",
     "text": [
      "2022-03-03 21:10:34 Created nodes GeoDataFrame from graph\n",
      "2022-03-03 21:10:42 Created nodes GeoDataFrame from graph\n",
      "2022-03-03 21:10:59 Projected GeoDataFrame to +proj=utm +zone=17 +ellps=WGS84 +datum=WGS84 +units=m +no_defs +type=crs\n",
      "2022-03-03 21:11:43 Created edges GeoDataFrame from graph\n",
      "2022-03-03 21:12:06 Projected GeoDataFrame to +proj=utm +zone=17 +ellps=WGS84 +datum=WGS84 +units=m +no_defs +type=crs\n",
      "2022-03-03 21:12:23 Created graph from node/edge GeoDataFrames\n",
      "2022-03-03 21:12:23 Projected graph with 143533 nodes and 458924 edges\n"
     ]
    },
    {
     "name": "stderr",
     "output_type": "stream",
     "text": [
      "/var/folders/8v/6dq3dnld7rx4qv5wr7vx0w5m0000gn/T/ipykernel_30197/3347265067.py:5: FutureWarning: The frame.append method is deprecated and will be removed from pandas in a future version. Use pandas.concat instead.\n",
      "  detroit_polygons = detroit_polygons.append(gdf_iso_poly)\n"
     ]
    },
    {
     "name": "stdout",
     "output_type": "stream",
     "text": [
      "2022-03-03 21:17:17 Created bbox 12075.0 m from (42.2739005003063, -83.4888198002931): 42.382493430817064,42.16530756979553,-83.34206021958857,-83.63557938099763\n",
      "2022-03-03 21:17:17 Projected GeoDataFrame to +proj=utm +zone=17 +ellps=WGS84 +datum=WGS84 +units=m +no_defs +type=crs\n",
      "2022-03-03 21:17:17 Projected GeoDataFrame to epsg:4326\n",
      "2022-03-03 21:17:17 Projected GeoDataFrame to +proj=utm +zone=17 +ellps=WGS84 +datum=WGS84 +units=m +no_defs +type=crs\n",
      "2022-03-03 21:17:17 Projected GeoDataFrame to epsg:4326\n",
      "2022-03-03 21:17:17 Requesting data within polygon from API in 1 request(s)\n",
      "2022-03-03 21:17:17 Resolved overpass-api.de to 178.63.11.215\n",
      "2022-03-03 21:17:18 Pausing 0 seconds before making HTTP POST request\n",
      "2022-03-03 21:17:18 Post https://overpass-api.de/api/interpreter?data=%5Bout%3Ajson%5D%5Btimeout%3A180%5D%3B%28way%5B%22highway%22%5D%5B%22area%22%21~%22yes%22%5D%5B%22access%22%21~%22private%22%5D%5B%22highway%22%21~%22abandoned%7Cbus_guideway%7Cconstruction%7Ccycleway%7Cmotor%7Cplanned%7Cplatform%7Cproposed%7Craceway%22%5D%5B%22foot%22%21~%22no%22%5D%5B%22service%22%21~%22private%22%5D%28poly%3A%2742.165308+-83.641629+42.382493+-83.641650+42.382934+-83.641621+42.383370+-83.641533+42.383798+-83.641389+42.384214+-83.641189+42.384612+-83.640935+42.384991+-83.640629+42.385346+-83.640275+42.385673+-83.639876+42.385969+-83.639435+42.386233+-83.638958+42.386460+-83.638448+42.386649+-83.637910+42.386798+-83.637350+42.386906+-83.636773+42.386971+-83.636184+42.386994+-83.635590+42.386994+-83.342050+42.386972+-83.341455+42.386907+-83.340867+42.386799+-83.340290+42.386650+-83.339730+42.386460+-83.339192+42.386233+-83.338682+42.385970+-83.338204+42.385673+-83.337764+42.385346+-83.337364+42.384992+-83.337010+42.384613+-83.336704+42.384214+-83.336450+42.383799+-83.336250+42.383371+-83.336105+42.382934+-83.336018+42.382494+-83.335989+42.165307+-83.336010+42.164866+-83.336039+42.164428+-83.336127+42.163999+-83.336271+42.163583+-83.336472+42.163183+-83.336726+42.162804+-83.337032+42.162449+-83.337387+42.162122+-83.337786+42.161825+-83.338227+42.161562+-83.338705+42.161335+-83.339215+42.161147+-83.339752+42.160998+-83.340312+42.160892+-83.340889+42.160827+-83.341477+42.160806+-83.342071+42.160807+-83.635569+42.160828+-83.636163+42.160892+-83.636751+42.160999+-83.637327+42.161147+-83.637887+42.161336+-83.638425+42.161563+-83.638935+42.161826+-83.639413+42.162122+-83.639853+42.162450+-83.640253+42.162805+-83.640607+42.163184+-83.640913+42.163584+-83.641167+42.164000+-83.641368+42.164429+-83.641512+42.164866+-83.641600+42.165308+-83.641629%27%29%3B%3E%3B%29%3Bout%3B with timeout=180\n",
      "2022-03-03 21:17:18 Resolved overpass-api.de to 178.63.11.215\n",
      "2022-03-03 21:17:22 Downloaded 37,639.6kB from overpass-api.de\n",
      "2022-03-03 21:17:24 Saved response to cache file \"cache/54a53a7a79c828a4f83ef6e31a9cf845498520bc.json\"\n",
      "2022-03-03 21:17:24 Got all network data within polygon from API in 1 request(s)\n",
      "2022-03-03 21:17:24 Creating graph from downloaded OSM data...\n",
      "2022-03-03 21:17:29 Created graph with 271451 nodes and 604814 edges\n",
      "2022-03-03 21:17:33 Added length attributes to graph edges\n",
      "2022-03-03 21:17:33 Identifying all nodes that lie outside the polygon...\n",
      "2022-03-03 21:17:45 Created nodes GeoDataFrame from graph\n",
      "2022-03-03 21:17:55 Created r-tree spatial index for 271451 geometries\n",
      "2022-03-03 21:17:58 Identified 267128 geometries inside polygon\n",
      "2022-03-03 21:18:05 Removed 4323 nodes outside polygon\n",
      "2022-03-03 21:18:05 Truncated graph by polygon\n",
      "2022-03-03 21:18:06 Begin topologically simplifying the graph...\n",
      "2022-03-03 21:18:15 Identified 72024 edge endpoints\n",
      "2022-03-03 21:18:40 Simplified graph: 267128 to 72024 nodes, 595838 to 205630 edges\n",
      "2022-03-03 21:18:40 Identifying all nodes that lie outside the polygon...\n",
      "2022-03-03 21:18:43 Created nodes GeoDataFrame from graph\n",
      "2022-03-03 21:18:46 Created r-tree spatial index for 72024 geometries\n",
      "2022-03-03 21:18:46 Identified 67829 geometries inside polygon\n",
      "2022-03-03 21:18:49 Removed 4195 nodes outside polygon\n",
      "2022-03-03 21:18:52 Removed 30 isolated nodes\n",
      "2022-03-03 21:18:56 Got largest weakly connected component (65176 of 67799 total nodes)\n",
      "2022-03-03 21:18:56 Truncated graph by polygon\n",
      "2022-03-03 21:18:57 Counted undirected street segments incident on each node\n",
      "2022-03-03 21:18:57 graph_from_polygon returned graph with 65176 nodes and 189764 edges\n",
      "2022-03-03 21:18:58 graph_from_bbox returned graph with 65176 nodes and 189764 edges\n",
      "2022-03-03 21:18:58 graph_from_point returned graph with 65176 nodes and 189764 edges\n",
      "2022-03-03 21:19:01 Created nodes GeoDataFrame from graph\n"
     ]
    },
    {
     "name": "stderr",
     "output_type": "stream",
     "text": [
      "/Users/zachary/opt/anaconda3/envs/final_ML_LR/lib/python3.8/site-packages/osmnx/distance.py:356: UserWarning: The `get_nearest_node` function has been deprecated and will be removed in a future release. Use the more efficient `distance.nearest_nodes` instead.\n",
      "  warnings.warn(msg)\n"
     ]
    },
    {
     "name": "stdout",
     "output_type": "stream",
     "text": [
      "2022-03-03 21:19:01 Created nodes GeoDataFrame from graph\n",
      "2022-03-03 21:19:05 Created nodes GeoDataFrame from graph\n",
      "2022-03-03 21:19:13 Projected GeoDataFrame to +proj=utm +zone=17 +ellps=WGS84 +datum=WGS84 +units=m +no_defs +type=crs\n",
      "2022-03-03 21:19:30 Created edges GeoDataFrame from graph\n",
      "2022-03-03 21:19:41 Projected GeoDataFrame to +proj=utm +zone=17 +ellps=WGS84 +datum=WGS84 +units=m +no_defs +type=crs\n",
      "2022-03-03 21:19:47 Created graph from node/edge GeoDataFrames\n",
      "2022-03-03 21:19:47 Projected graph with 65176 nodes and 189764 edges\n"
     ]
    }
   ],
   "source": [
    "for i in range(len(vax_detr_metro)):\n",
    "    place = vax_detr_metro['Y'].iloc[i],vax_detr_metro['X'].iloc[i]\n",
    "    isochrone_polys=isochrone_shape_generator(place, network_type, trip_time, travel_speed, meters_per_minute, dist)\n",
    "    gdf_iso_poly = gpd.GeoDataFrame(index=[i], crs='EPSG:32617', geometry=isochrone_polys)\n",
    "    detroit_polygons = detroit_polygons.append(gdf_iso_poly)\n",
    "detroit_polygons.to_file('/Users/zachary/Desktop/WINTER22/Geog490/COVID_VaccineClinics/Data/VaccineAccessShapefiles/15_min_drive_polys.shp')"
   ]
  },
  {
   "cell_type": "markdown",
   "id": "b51c0d4e",
   "metadata": {},
   "source": []
  },
  {
   "cell_type": "code",
   "execution_count": null,
   "id": "37fed945",
   "metadata": {},
   "outputs": [],
   "source": []
  }
 ],
 "metadata": {
  "kernelspec": {
   "display_name": "Python 3 (ipykernel)",
   "language": "python",
   "name": "python3"
  },
  "language_info": {
   "codemirror_mode": {
    "name": "ipython",
    "version": 3
   },
   "file_extension": ".py",
   "mimetype": "text/x-python",
   "name": "python",
   "nbconvert_exporter": "python",
   "pygments_lexer": "ipython3",
   "version": "3.8.12"
  }
 },
 "nbformat": 4,
 "nbformat_minor": 5
}
