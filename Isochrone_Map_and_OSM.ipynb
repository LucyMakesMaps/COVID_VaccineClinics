{
 "cells": [
  {
   "cell_type": "code",
   "execution_count": 25,
   "id": "74dfb691",
   "metadata": {},
   "outputs": [],
   "source": [
    "# Import modules\n",
    "import osmnx as ox \n",
    "\n",
    "import numpy as np\n",
    "import geopandas as gpd\n",
    "import pandas as pd\n",
    "\n",
    "from shapely.geometry.polygon import Polygon\n",
    "from shapely.geometry.multipolygon import MultiPolygon\n",
    "from shapely.geometry import LineString, MultiLineString\n",
    "# Import module\n",
    "import networkx as nx\n",
    "import matplotlib.pyplot as plt"
   ]
  },
  {
   "cell_type": "code",
   "execution_count": 3,
   "id": "a44c6142",
   "metadata": {},
   "outputs": [
    {
     "name": "stderr",
     "output_type": "stream",
     "text": [
      "/var/folders/8v/6dq3dnld7rx4qv5wr7vx0w5m0000gn/T/ipykernel_43921/191974032.py:1: DtypeWarning: Columns (41) have mixed types. Specify dtype option on import or set low_memory=False.\n",
      "  vax_df = pd.read_csv('/Users/zachary/Desktop/WINTER22/Geog490/COVID_VaccineClinics/Covid-19_Vaccination_Provider_Locations_in_the_United_States/Covid-19_Vaccination_Provider_Locations_in_the_United_States.csv')\n"
     ]
    }
   ],
   "source": [
    "vax_df = pd.read_csv('/Users/zachary/Desktop/WINTER22/Geog490/COVID_VaccineClinics/Covid-19_Vaccination_Provider_Locations_in_the_United_States/Covid-19_Vaccination_Provider_Locations_in_the_United_States.csv')"
   ]
  },
  {
   "cell_type": "code",
   "execution_count": 16,
   "id": "c6b254e4",
   "metadata": {},
   "outputs": [],
   "source": [
    "# Convert DataFrame to GeoDataFrame\n",
    "vax_gdf = gpd.GeoDataFrame(vax_df, geometry=gpd.points_from_xy(vax_df['X'], vax_df['Y']))"
   ]
  },
  {
   "cell_type": "code",
   "execution_count": 17,
   "id": "ad6ffb73",
   "metadata": {},
   "outputs": [],
   "source": [
    "#Reproject to UTM 17\n",
    "vax_gdf.crs = 'EPSG:32617'"
   ]
  },
  {
   "cell_type": "markdown",
   "id": "bcdf3b4e",
   "metadata": {},
   "source": [
    "I wonder what it would look like to adapt the following code to each vaccine clinic in Detroit and turn it into walk and driving from the lat lon with the set distance. "
   ]
  },
  {
   "cell_type": "code",
   "execution_count": 18,
   "id": "6af912d2",
   "metadata": {},
   "outputs": [],
   "source": [
    "#limit by state to Michigan\n",
    "vax_MI = vax_gdf[vax_gdf['State']== 'MI'] "
   ]
  },
  {
   "cell_type": "code",
   "execution_count": 19,
   "id": "f26fb8c1",
   "metadata": {},
   "outputs": [
    {
     "data": {
      "text/plain": [
       "array(['Alpena', 'Kalamazoo', 'Montmorency', 'Marquette', 'Alcona',\n",
       "       'Eaton', 'Genesee', 'Macomb', 'Oakland', 'Monroe', 'Saginaw',\n",
       "       'Wayne', 'Washtenaw', 'Livingston', 'Ingham', 'Kent',\n",
       "       'Grand Traverse', 'Berrien', 'Muskegon', 'Isabella', 'Emmet',\n",
       "       'Calhoun', 'Bay', 'Ottawa', 'St. Clair', 'Menominee', 'Van Buren',\n",
       "       'St. Joseph', 'Jackson', 'Ionia', 'Lenawee', 'Cheboygan',\n",
       "       'Dickinson', 'Ogemaw', 'Iosco', 'Oscoda', 'Presque Isle',\n",
       "       'Crawford', 'Kalkaska', 'Lake', 'Manistee', 'Mason', 'Mecosta',\n",
       "       'Missaukee', 'Newaygo', 'Oceana', 'Wexford', 'Midland', 'Benzie',\n",
       "       'Clinton', 'Gratiot', 'Montcalm', 'Otsego', 'Branch', 'Lapeer',\n",
       "       'Antrim', 'Charlevoix', 'Hillsdale', 'Shiawassee', 'Delta',\n",
       "       'Tuscola', 'Allegan', 'Cass', 'Sanilac', 'Gladwin', 'Osceola',\n",
       "       'Clare', 'Roscommon', 'Arenac', 'Barry', 'Huron', 'Leelanau', nan],\n",
       "      dtype=object)"
      ]
     },
     "execution_count": 19,
     "metadata": {},
     "output_type": "execute_result"
    }
   ],
   "source": [
    "vax_MI['county'].unique()"
   ]
  },
  {
   "cell_type": "code",
   "execution_count": 21,
   "id": "3a700023",
   "metadata": {},
   "outputs": [],
   "source": [
    "#Limit By County to Wayne, Oakland, and Macomb\n",
    "vax_wayne = vax_MI[vax_MI['county']== 'Wayne']\n",
    "vax_oakland = vax_MI[vax_MI['county']== 'Oakland'] \n",
    "vax_macomb = vax_MI[vax_MI['county']== 'Macomb']"
   ]
  },
  {
   "cell_type": "code",
   "execution_count": 24,
   "id": "9d1c6902",
   "metadata": {},
   "outputs": [
    {
     "name": "stderr",
     "output_type": "stream",
     "text": [
      "/var/folders/8v/6dq3dnld7rx4qv5wr7vx0w5m0000gn/T/ipykernel_43921/951935581.py:3: FutureWarning: The frame.append method is deprecated and will be removed from pandas in a future version. Use pandas.concat instead.\n",
      "  vax_detr_metro = vax_detr_metro.append(vax_oakland)\n",
      "/var/folders/8v/6dq3dnld7rx4qv5wr7vx0w5m0000gn/T/ipykernel_43921/951935581.py:4: FutureWarning: The frame.append method is deprecated and will be removed from pandas in a future version. Use pandas.concat instead.\n",
      "  vax_detr_metro = vax_detr_metro.append(vax_macomb)\n"
     ]
    }
   ],
   "source": [
    "#Agglomerate to one GDF of Detroit Metro\n",
    "vax_detr_metro = vax_wayne \n",
    "vax_detr_metro = vax_detr_metro.append(vax_oakland)\n",
    "vax_detr_metro = vax_detr_metro.append(vax_macomb)"
   ]
  },
  {
   "cell_type": "code",
   "execution_count": 27,
   "id": "e05de81b",
   "metadata": {},
   "outputs": [
    {
     "data": {
      "text/plain": [
       "X                          387\n",
       "Y                          387\n",
       "OBJECTID                   387\n",
       "facilityid                 313\n",
       "name                       387\n",
       "fulladdr                   387\n",
       "municipality               387\n",
       "agency                     379\n",
       "agencytype                 387\n",
       "phone                      246\n",
       "agencyurl                  383\n",
       "operhours                  349\n",
       "comments                    33\n",
       "Instructions               293\n",
       "numvehicles                  0\n",
       "testcapacity                 2\n",
       "status                     387\n",
       "CreationDate               387\n",
       "EditDate                   387\n",
       "drive_through              264\n",
       "appt_only                  387\n",
       "referral_required          349\n",
       "services_offered_onsite    387\n",
       "call_first                 275\n",
       "virtual_screening          233\n",
       "health_dept_url            373\n",
       "State                      387\n",
       "GlobalID                   387\n",
       "data_source                321\n",
       "county                     387\n",
       "red_flag                   337\n",
       "vol_note                    11\n",
       "public_form                339\n",
       "start_date                  53\n",
       "end_date                     7\n",
       "type_of_test               278\n",
       "test_processing            278\n",
       "fine_print                 338\n",
       "vehicle_required           228\n",
       "facility_type              387\n",
       "Outside_FID                207\n",
       "filter                       3\n",
       "bulk_upload                369\n",
       "Same_Day_Results           244\n",
       "take_home_test             343\n",
       "Wheelchair_Accessible       71\n",
       "Accessibility_Support      138\n",
       "offers_vaccine             387\n",
       "vaccine_url                379\n",
       "minimum_age_vaccine         92\n",
       "verified_date              338\n",
       "geometry                   387\n",
       "dtype: int64"
      ]
     },
     "execution_count": 27,
     "metadata": {},
     "output_type": "execute_result"
    }
   ],
   "source": [
    "vax_detr_metro.count()"
   ]
  },
  {
   "cell_type": "code",
   "execution_count": null,
   "id": "607c1d53",
   "metadata": {},
   "outputs": [],
   "source": [
    "# Define coordinates of Condon Hall\n",
    "lat_lon = (44.0451, -123.0781)\n",
    "\n",
    "# Import walkable street network data around Condon Hall\n",
    "g = ox.graph_from_point(lat_lon, dist=1600, network_type='walk')\n",
    "\n",
    "# Plot map\n",
    "fig, ax = ox.plot_graph(g, node_size=10)"
   ]
  }
 ],
 "metadata": {
  "kernelspec": {
   "display_name": "Python 3 (ipykernel)",
   "language": "python",
   "name": "python3"
  },
  "language_info": {
   "codemirror_mode": {
    "name": "ipython",
    "version": 3
   },
   "file_extension": ".py",
   "mimetype": "text/x-python",
   "name": "python",
   "nbconvert_exporter": "python",
   "pygments_lexer": "ipython3",
   "version": "3.8.12"
  }
 },
 "nbformat": 4,
 "nbformat_minor": 5
}
